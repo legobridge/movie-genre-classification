{
 "cells": [
  {
   "cell_type": "markdown",
   "metadata": {},
   "source": [
    "## Deprecated, use the preprocessing.py instead"
   ]
  },
  {
   "cell_type": "code",
   "execution_count": 2,
   "metadata": {
    "colab": {
     "base_uri": "https://localhost:8080/"
    },
    "id": "TDoBVc_bhYux",
    "outputId": "b6603670-77b5-4288-c358-d5a47d24345a"
   },
   "outputs": [
    {
     "name": "stderr",
     "output_type": "stream",
     "text": [
      "[nltk_data] Downloading package punkt to\n",
      "[nltk_data]     /Users/joshlevitas/nltk_data...\n",
      "[nltk_data]   Package punkt is already up-to-date!\n",
      "[nltk_data] Downloading package stopwords to\n",
      "[nltk_data]     /Users/joshlevitas/nltk_data...\n",
      "[nltk_data]   Package stopwords is already up-to-date!\n"
     ]
    },
    {
     "data": {
      "text/plain": [
       "True"
      ]
     },
     "execution_count": 2,
     "metadata": {},
     "output_type": "execute_result"
    }
   ],
   "source": [
    "# imports\n",
    "import pandas as pd\n",
    "import nltk\n",
    "from nltk.corpus import stopwords\n",
    "from nltk.tokenize import word_tokenize\n",
    "nltk.download('punkt')\n",
    "nltk.download(\"stopwords\")"
   ]
  },
  {
   "cell_type": "code",
   "execution_count": 2,
   "metadata": {
    "id": "8SPVhv3-h4zf"
   },
   "outputs": [],
   "source": [
    "# load data\n",
    "imdb_train = pd.read_table(\"../data/train_data.txt\", sep=\":::\", header=None, engine='python')"
   ]
  },
  {
   "cell_type": "code",
   "execution_count": 3,
   "metadata": {
    "id": "goVKQQRziYBy"
   },
   "outputs": [],
   "source": [
    "# format data frame\n",
    "imdb_train = imdb_train.rename(columns={0: \"id\", 1: \"title\", 2: \"genre\", 3: \"description\"})\n",
    "imdb_train = imdb_train.set_index('id')"
   ]
  },
  {
   "cell_type": "markdown",
   "metadata": {
    "id": "JB1uVywKj3nE"
   },
   "source": [
    "### Pre-Processing"
   ]
  },
  {
   "cell_type": "code",
   "execution_count": 4,
   "metadata": {
    "id": "zZNb5TzIjaPx"
   },
   "outputs": [],
   "source": [
    "# break up\n",
    "def get_year(row):\n",
    "   return row[\"title\"][-6:-2]\n",
    "\n",
    "\n",
    "def remove_year(row):\n",
    "  return row[\"title\"][:-7]"
   ]
  },
  {
   "cell_type": "code",
   "execution_count": 5,
   "metadata": {
    "id": "tqXwp1hVkKbS"
   },
   "outputs": [],
   "source": [
    "imdb_train[\"year\"] = imdb_train.apply(get_year, axis=1)"
   ]
  },
  {
   "cell_type": "code",
   "execution_count": 6,
   "metadata": {
    "id": "hKww_KCPkMgM"
   },
   "outputs": [],
   "source": [
    "imdb_train[\"title\"] = imdb_train.apply(remove_year, axis=1)"
   ]
  },
  {
   "cell_type": "code",
   "execution_count": 7,
   "metadata": {},
   "outputs": [],
   "source": [
    "imdb_train['genre'] = imdb_train['genre'].str.strip()"
   ]
  },
  {
   "cell_type": "markdown",
   "metadata": {
    "id": "bAVJW7TYmFB0"
   },
   "source": [
    "### NLP Pre-Processing"
   ]
  },
  {
   "cell_type": "code",
   "execution_count": 8,
   "metadata": {
    "id": "bdSaHQrkkf_Y",
    "tags": []
   },
   "outputs": [],
   "source": [
    "def remove_punctuation(row):\n",
    "  desc = row[\"description\"]\n",
    "  \n",
    "  desc = desc.replace(\".\", \"\")\n",
    "  desc = desc.replace(\",\", \"\")\n",
    "  desc = desc.replace(\"!\", \"\")\n",
    "  desc = desc.replace(\"?\", \"\")\n",
    "  desc = desc.replace(\"(\", \"\")\n",
    "  desc = desc.replace(\")\", \"\")\n",
    "  desc = desc.replace(\"$\", \"\")\n",
    "  desc = desc.replace(\"%\", \"\")\n",
    "  desc = desc.replace(\"&\", \"\")\n",
    "  desc = desc.replace(\"*\", \"\")\n",
    "  \n",
    "  return desc\n",
    "\n",
    "def to_lower(row):\n",
    "  return row[\"processed_description\"].lower()\n",
    "\n",
    "def tokenize(row):\n",
    "  return word_tokenize(row[\"processed_description\"])"
   ]
  },
  {
   "cell_type": "code",
   "execution_count": 9,
   "metadata": {
    "id": "PZDClHnZmnfd"
   },
   "outputs": [],
   "source": [
    "# remove punctuation, standardize case to lower, word tokenize description\n",
    "imdb_train[\"processed_description\"] = imdb_train.apply(remove_punctuation, axis=1)\n",
    "imdb_train[\"processed_description\"] = imdb_train.apply(to_lower, axis=1)\n",
    "imdb_train[\"processed_description\"] = imdb_train.apply(tokenize, axis=1)"
   ]
  },
  {
   "cell_type": "code",
   "execution_count": 10,
   "metadata": {
    "id": "mteVA8fym2wi"
   },
   "outputs": [],
   "source": [
    "stop_words = set(stopwords.words('english'))\n",
    "\n",
    "def remove_stop_words(row):\n",
    "  return [w for w in row[\"processed_description\"] if not w in stop_words]"
   ]
  },
  {
   "cell_type": "code",
   "execution_count": 11,
   "metadata": {
    "id": "GCRLJrlUpCDx"
   },
   "outputs": [],
   "source": [
    "imdb_train[\"processed_description\"] = imdb_train.apply(remove_stop_words, axis=1)"
   ]
  },
  {
   "cell_type": "markdown",
   "metadata": {
    "id": "MiL6WEf-pcf6"
   },
   "source": [
    "### Stemming\n",
    "\n",
    "Reduces words into stems of words (so that, for example, \"conversation\" and \"conversations\" will both be treated as the same word)."
   ]
  },
  {
   "cell_type": "code",
   "execution_count": 12,
   "metadata": {
    "id": "F9myVMkapIi3"
   },
   "outputs": [],
   "source": [
    "from nltk.stem.porter import PorterStemmer\n",
    "porter_stemmer = PorterStemmer()\n",
    "\n",
    "def stemming(text):\n",
    "  stem_text = [porter_stemmer.stem(word) for word in text]\n",
    "  return stem_text\n",
    "\n",
    "imdb_train['description_stemmed']=imdb_train['processed_description'].apply(lambda x: stemming(x))"
   ]
  },
  {
   "cell_type": "code",
   "execution_count": 13,
   "metadata": {
    "colab": {
     "base_uri": "https://localhost:8080/",
     "height": 673
    },
    "id": "4vyi3MmIqkSA",
    "outputId": "95960c37-ecb6-4193-8b49-4ee0dca76a9b"
   },
   "outputs": [
    {
     "data": {
      "text/html": [
       "<div>\n",
       "<style scoped>\n",
       "    .dataframe tbody tr th:only-of-type {\n",
       "        vertical-align: middle;\n",
       "    }\n",
       "\n",
       "    .dataframe tbody tr th {\n",
       "        vertical-align: top;\n",
       "    }\n",
       "\n",
       "    .dataframe thead th {\n",
       "        text-align: right;\n",
       "    }\n",
       "</style>\n",
       "<table border=\"1\" class=\"dataframe\">\n",
       "  <thead>\n",
       "    <tr style=\"text-align: right;\">\n",
       "      <th></th>\n",
       "      <th>title</th>\n",
       "      <th>genre</th>\n",
       "      <th>description</th>\n",
       "      <th>year</th>\n",
       "      <th>processed_description</th>\n",
       "      <th>description_stemmed</th>\n",
       "    </tr>\n",
       "    <tr>\n",
       "      <th>id</th>\n",
       "      <th></th>\n",
       "      <th></th>\n",
       "      <th></th>\n",
       "      <th></th>\n",
       "      <th></th>\n",
       "      <th></th>\n",
       "    </tr>\n",
       "  </thead>\n",
       "  <tbody>\n",
       "    <tr>\n",
       "      <th>1</th>\n",
       "      <td>Oscar et la dame rose</td>\n",
       "      <td>drama</td>\n",
       "      <td>Listening in to a conversation between his do...</td>\n",
       "      <td>2009</td>\n",
       "      <td>[listening, conversation, doctor, parents, 10-...</td>\n",
       "      <td>[listen, convers, doctor, parent, 10-year-old,...</td>\n",
       "    </tr>\n",
       "    <tr>\n",
       "      <th>2</th>\n",
       "      <td>Cupid</td>\n",
       "      <td>thriller</td>\n",
       "      <td>A brother and sister with a past incestuous r...</td>\n",
       "      <td>1997</td>\n",
       "      <td>[brother, sister, past, incestuous, relationsh...</td>\n",
       "      <td>[brother, sister, past, incestu, relationship,...</td>\n",
       "    </tr>\n",
       "    <tr>\n",
       "      <th>3</th>\n",
       "      <td>Young, Wild and Wonderful</td>\n",
       "      <td>adult</td>\n",
       "      <td>As the bus empties the students for their fie...</td>\n",
       "      <td>1980</td>\n",
       "      <td>[bus, empties, students, field, trip, museum, ...</td>\n",
       "      <td>[bu, empti, student, field, trip, museum, natu...</td>\n",
       "    </tr>\n",
       "    <tr>\n",
       "      <th>4</th>\n",
       "      <td>The Secret Sin</td>\n",
       "      <td>drama</td>\n",
       "      <td>To help their unemployed father make ends mee...</td>\n",
       "      <td>1915</td>\n",
       "      <td>[help, unemployed, father, make, ends, meet, e...</td>\n",
       "      <td>[help, unemploy, father, make, end, meet, edit...</td>\n",
       "    </tr>\n",
       "    <tr>\n",
       "      <th>5</th>\n",
       "      <td>The Unrecovered</td>\n",
       "      <td>drama</td>\n",
       "      <td>The film's title refers not only to the un-re...</td>\n",
       "      <td>2007</td>\n",
       "      <td>[film, 's, title, refers, un-recovered, bodies...</td>\n",
       "      <td>[film, 's, titl, refer, un-recov, bodi, ground...</td>\n",
       "    </tr>\n",
       "    <tr>\n",
       "      <th>...</th>\n",
       "      <td>...</td>\n",
       "      <td>...</td>\n",
       "      <td>...</td>\n",
       "      <td>...</td>\n",
       "      <td>...</td>\n",
       "      <td>...</td>\n",
       "    </tr>\n",
       "    <tr>\n",
       "      <th>54210</th>\n",
       "      <td>\"Bonino\"</td>\n",
       "      <td>comedy</td>\n",
       "      <td>This short-lived NBC live sitcom centered on ...</td>\n",
       "      <td>1953</td>\n",
       "      <td>[short-lived, nbc, live, sitcom, centered, bon...</td>\n",
       "      <td>[short-liv, nbc, live, sitcom, center, bonino,...</td>\n",
       "    </tr>\n",
       "    <tr>\n",
       "      <th>54211</th>\n",
       "      <td>Dead Girls Don't Cry</td>\n",
       "      <td>horror</td>\n",
       "      <td>The NEXT Generation of EXPLOITATION. The sist...</td>\n",
       "      <td>????</td>\n",
       "      <td>[next, generation, exploitation, sisters, kapa...</td>\n",
       "      <td>[next, gener, exploit, sister, kapa, -, bay, s...</td>\n",
       "    </tr>\n",
       "    <tr>\n",
       "      <th>54212</th>\n",
       "      <td>Ronald Goedemondt: Ze bestaan echt</td>\n",
       "      <td>documentary</td>\n",
       "      <td>Ze bestaan echt, is a stand-up comedy about g...</td>\n",
       "      <td>2008</td>\n",
       "      <td>[ze, bestaan, echt, stand-up, comedy, growing,...</td>\n",
       "      <td>[ze, bestaan, echt, stand-up, comedi, grow, fa...</td>\n",
       "    </tr>\n",
       "    <tr>\n",
       "      <th>54213</th>\n",
       "      <td>Make Your Own Bed</td>\n",
       "      <td>comedy</td>\n",
       "      <td>Walter and Vivian live in the country and hav...</td>\n",
       "      <td>1944</td>\n",
       "      <td>[walter, vivian, live, country, difficult, tim...</td>\n",
       "      <td>[walter, vivian, live, countri, difficult, tim...</td>\n",
       "    </tr>\n",
       "    <tr>\n",
       "      <th>54214</th>\n",
       "      <td>Nature's Fury: Storm of the Century</td>\n",
       "      <td>history</td>\n",
       "      <td>On Labor Day Weekend, 1935, the most intense ...</td>\n",
       "      <td>2006</td>\n",
       "      <td>[labor, day, weekend, 1935, intense, hurricane...</td>\n",
       "      <td>[labor, day, weekend, 1935, intens, hurrican, ...</td>\n",
       "    </tr>\n",
       "  </tbody>\n",
       "</table>\n",
       "<p>54214 rows × 6 columns</p>\n",
       "</div>"
      ],
      "text/plain": [
       "                                       title        genre  \\\n",
       "id                                                          \n",
       "1                     Oscar et la dame rose         drama   \n",
       "2                                     Cupid      thriller   \n",
       "3                 Young, Wild and Wonderful         adult   \n",
       "4                            The Secret Sin         drama   \n",
       "5                           The Unrecovered         drama   \n",
       "...                                      ...          ...   \n",
       "54210                              \"Bonino\"        comedy   \n",
       "54211                  Dead Girls Don't Cry        horror   \n",
       "54212    Ronald Goedemondt: Ze bestaan echt   documentary   \n",
       "54213                     Make Your Own Bed        comedy   \n",
       "54214   Nature's Fury: Storm of the Century       history   \n",
       "\n",
       "                                             description  year  \\\n",
       "id                                                               \n",
       "1       Listening in to a conversation between his do...  2009   \n",
       "2       A brother and sister with a past incestuous r...  1997   \n",
       "3       As the bus empties the students for their fie...  1980   \n",
       "4       To help their unemployed father make ends mee...  1915   \n",
       "5       The film's title refers not only to the un-re...  2007   \n",
       "...                                                  ...   ...   \n",
       "54210   This short-lived NBC live sitcom centered on ...  1953   \n",
       "54211   The NEXT Generation of EXPLOITATION. The sist...  ????   \n",
       "54212   Ze bestaan echt, is a stand-up comedy about g...  2008   \n",
       "54213   Walter and Vivian live in the country and hav...  1944   \n",
       "54214   On Labor Day Weekend, 1935, the most intense ...  2006   \n",
       "\n",
       "                                   processed_description  \\\n",
       "id                                                         \n",
       "1      [listening, conversation, doctor, parents, 10-...   \n",
       "2      [brother, sister, past, incestuous, relationsh...   \n",
       "3      [bus, empties, students, field, trip, museum, ...   \n",
       "4      [help, unemployed, father, make, ends, meet, e...   \n",
       "5      [film, 's, title, refers, un-recovered, bodies...   \n",
       "...                                                  ...   \n",
       "54210  [short-lived, nbc, live, sitcom, centered, bon...   \n",
       "54211  [next, generation, exploitation, sisters, kapa...   \n",
       "54212  [ze, bestaan, echt, stand-up, comedy, growing,...   \n",
       "54213  [walter, vivian, live, country, difficult, tim...   \n",
       "54214  [labor, day, weekend, 1935, intense, hurricane...   \n",
       "\n",
       "                                     description_stemmed  \n",
       "id                                                        \n",
       "1      [listen, convers, doctor, parent, 10-year-old,...  \n",
       "2      [brother, sister, past, incestu, relationship,...  \n",
       "3      [bu, empti, student, field, trip, museum, natu...  \n",
       "4      [help, unemploy, father, make, end, meet, edit...  \n",
       "5      [film, 's, titl, refer, un-recov, bodi, ground...  \n",
       "...                                                  ...  \n",
       "54210  [short-liv, nbc, live, sitcom, center, bonino,...  \n",
       "54211  [next, gener, exploit, sister, kapa, -, bay, s...  \n",
       "54212  [ze, bestaan, echt, stand-up, comedi, grow, fa...  \n",
       "54213  [walter, vivian, live, countri, difficult, tim...  \n",
       "54214  [labor, day, weekend, 1935, intens, hurrican, ...  \n",
       "\n",
       "[54214 rows x 6 columns]"
      ]
     },
     "execution_count": 13,
     "metadata": {},
     "output_type": "execute_result"
    }
   ],
   "source": [
    "imdb_train"
   ]
  },
  {
   "cell_type": "code",
   "execution_count": 14,
   "metadata": {},
   "outputs": [],
   "source": [
    "imdb_train['description_stemmed_string'] = imdb_train['description_stemmed'].str.join(' ')\n",
    "imdb_train.drop(columns='processed_description', inplace=True)"
   ]
  },
  {
   "cell_type": "code",
   "execution_count": 15,
   "metadata": {},
   "outputs": [
    {
     "data": {
      "text/html": [
       "<div>\n",
       "<style scoped>\n",
       "    .dataframe tbody tr th:only-of-type {\n",
       "        vertical-align: middle;\n",
       "    }\n",
       "\n",
       "    .dataframe tbody tr th {\n",
       "        vertical-align: top;\n",
       "    }\n",
       "\n",
       "    .dataframe thead th {\n",
       "        text-align: right;\n",
       "    }\n",
       "</style>\n",
       "<table border=\"1\" class=\"dataframe\">\n",
       "  <thead>\n",
       "    <tr style=\"text-align: right;\">\n",
       "      <th></th>\n",
       "      <th>title</th>\n",
       "      <th>genre</th>\n",
       "      <th>description</th>\n",
       "      <th>year</th>\n",
       "      <th>description_stemmed</th>\n",
       "      <th>description_stemmed_string</th>\n",
       "    </tr>\n",
       "    <tr>\n",
       "      <th>id</th>\n",
       "      <th></th>\n",
       "      <th></th>\n",
       "      <th></th>\n",
       "      <th></th>\n",
       "      <th></th>\n",
       "      <th></th>\n",
       "    </tr>\n",
       "  </thead>\n",
       "  <tbody>\n",
       "    <tr>\n",
       "      <th>1</th>\n",
       "      <td>Oscar et la dame rose</td>\n",
       "      <td>drama</td>\n",
       "      <td>Listening in to a conversation between his do...</td>\n",
       "      <td>2009</td>\n",
       "      <td>[listen, convers, doctor, parent, 10-year-old,...</td>\n",
       "      <td>listen convers doctor parent 10-year-old oscar...</td>\n",
       "    </tr>\n",
       "    <tr>\n",
       "      <th>2</th>\n",
       "      <td>Cupid</td>\n",
       "      <td>thriller</td>\n",
       "      <td>A brother and sister with a past incestuous r...</td>\n",
       "      <td>1997</td>\n",
       "      <td>[brother, sister, past, incestu, relationship,...</td>\n",
       "      <td>brother sister past incestu relationship curre...</td>\n",
       "    </tr>\n",
       "    <tr>\n",
       "      <th>3</th>\n",
       "      <td>Young, Wild and Wonderful</td>\n",
       "      <td>adult</td>\n",
       "      <td>As the bus empties the students for their fie...</td>\n",
       "      <td>1980</td>\n",
       "      <td>[bu, empti, student, field, trip, museum, natu...</td>\n",
       "      <td>bu empti student field trip museum natur histo...</td>\n",
       "    </tr>\n",
       "    <tr>\n",
       "      <th>4</th>\n",
       "      <td>The Secret Sin</td>\n",
       "      <td>drama</td>\n",
       "      <td>To help their unemployed father make ends mee...</td>\n",
       "      <td>1915</td>\n",
       "      <td>[help, unemploy, father, make, end, meet, edit...</td>\n",
       "      <td>help unemploy father make end meet edith twin ...</td>\n",
       "    </tr>\n",
       "    <tr>\n",
       "      <th>5</th>\n",
       "      <td>The Unrecovered</td>\n",
       "      <td>drama</td>\n",
       "      <td>The film's title refers not only to the un-re...</td>\n",
       "      <td>2007</td>\n",
       "      <td>[film, 's, titl, refer, un-recov, bodi, ground...</td>\n",
       "      <td>film 's titl refer un-recov bodi ground zero a...</td>\n",
       "    </tr>\n",
       "    <tr>\n",
       "      <th>...</th>\n",
       "      <td>...</td>\n",
       "      <td>...</td>\n",
       "      <td>...</td>\n",
       "      <td>...</td>\n",
       "      <td>...</td>\n",
       "      <td>...</td>\n",
       "    </tr>\n",
       "    <tr>\n",
       "      <th>54210</th>\n",
       "      <td>\"Bonino\"</td>\n",
       "      <td>comedy</td>\n",
       "      <td>This short-lived NBC live sitcom centered on ...</td>\n",
       "      <td>1953</td>\n",
       "      <td>[short-liv, nbc, live, sitcom, center, bonino,...</td>\n",
       "      <td>short-liv nbc live sitcom center bonino world-...</td>\n",
       "    </tr>\n",
       "    <tr>\n",
       "      <th>54211</th>\n",
       "      <td>Dead Girls Don't Cry</td>\n",
       "      <td>horror</td>\n",
       "      <td>The NEXT Generation of EXPLOITATION. The sist...</td>\n",
       "      <td>????</td>\n",
       "      <td>[next, gener, exploit, sister, kapa, -, bay, s...</td>\n",
       "      <td>next gener exploit sister kapa - bay soror hou...</td>\n",
       "    </tr>\n",
       "    <tr>\n",
       "      <th>54212</th>\n",
       "      <td>Ronald Goedemondt: Ze bestaan echt</td>\n",
       "      <td>documentary</td>\n",
       "      <td>Ze bestaan echt, is a stand-up comedy about g...</td>\n",
       "      <td>2008</td>\n",
       "      <td>[ze, bestaan, echt, stand-up, comedi, grow, fa...</td>\n",
       "      <td>ze bestaan echt stand-up comedi grow face fear...</td>\n",
       "    </tr>\n",
       "    <tr>\n",
       "      <th>54213</th>\n",
       "      <td>Make Your Own Bed</td>\n",
       "      <td>comedy</td>\n",
       "      <td>Walter and Vivian live in the country and hav...</td>\n",
       "      <td>1944</td>\n",
       "      <td>[walter, vivian, live, countri, difficult, tim...</td>\n",
       "      <td>walter vivian live countri difficult time keep...</td>\n",
       "    </tr>\n",
       "    <tr>\n",
       "      <th>54214</th>\n",
       "      <td>Nature's Fury: Storm of the Century</td>\n",
       "      <td>history</td>\n",
       "      <td>On Labor Day Weekend, 1935, the most intense ...</td>\n",
       "      <td>2006</td>\n",
       "      <td>[labor, day, weekend, 1935, intens, hurrican, ...</td>\n",
       "      <td>labor day weekend 1935 intens hurrican ever ma...</td>\n",
       "    </tr>\n",
       "  </tbody>\n",
       "</table>\n",
       "<p>54214 rows × 6 columns</p>\n",
       "</div>"
      ],
      "text/plain": [
       "                                       title        genre  \\\n",
       "id                                                          \n",
       "1                     Oscar et la dame rose         drama   \n",
       "2                                     Cupid      thriller   \n",
       "3                 Young, Wild and Wonderful         adult   \n",
       "4                            The Secret Sin         drama   \n",
       "5                           The Unrecovered         drama   \n",
       "...                                      ...          ...   \n",
       "54210                              \"Bonino\"        comedy   \n",
       "54211                  Dead Girls Don't Cry        horror   \n",
       "54212    Ronald Goedemondt: Ze bestaan echt   documentary   \n",
       "54213                     Make Your Own Bed        comedy   \n",
       "54214   Nature's Fury: Storm of the Century       history   \n",
       "\n",
       "                                             description  year  \\\n",
       "id                                                               \n",
       "1       Listening in to a conversation between his do...  2009   \n",
       "2       A brother and sister with a past incestuous r...  1997   \n",
       "3       As the bus empties the students for their fie...  1980   \n",
       "4       To help their unemployed father make ends mee...  1915   \n",
       "5       The film's title refers not only to the un-re...  2007   \n",
       "...                                                  ...   ...   \n",
       "54210   This short-lived NBC live sitcom centered on ...  1953   \n",
       "54211   The NEXT Generation of EXPLOITATION. The sist...  ????   \n",
       "54212   Ze bestaan echt, is a stand-up comedy about g...  2008   \n",
       "54213   Walter and Vivian live in the country and hav...  1944   \n",
       "54214   On Labor Day Weekend, 1935, the most intense ...  2006   \n",
       "\n",
       "                                     description_stemmed  \\\n",
       "id                                                         \n",
       "1      [listen, convers, doctor, parent, 10-year-old,...   \n",
       "2      [brother, sister, past, incestu, relationship,...   \n",
       "3      [bu, empti, student, field, trip, museum, natu...   \n",
       "4      [help, unemploy, father, make, end, meet, edit...   \n",
       "5      [film, 's, titl, refer, un-recov, bodi, ground...   \n",
       "...                                                  ...   \n",
       "54210  [short-liv, nbc, live, sitcom, center, bonino,...   \n",
       "54211  [next, gener, exploit, sister, kapa, -, bay, s...   \n",
       "54212  [ze, bestaan, echt, stand-up, comedi, grow, fa...   \n",
       "54213  [walter, vivian, live, countri, difficult, tim...   \n",
       "54214  [labor, day, weekend, 1935, intens, hurrican, ...   \n",
       "\n",
       "                              description_stemmed_string  \n",
       "id                                                        \n",
       "1      listen convers doctor parent 10-year-old oscar...  \n",
       "2      brother sister past incestu relationship curre...  \n",
       "3      bu empti student field trip museum natur histo...  \n",
       "4      help unemploy father make end meet edith twin ...  \n",
       "5      film 's titl refer un-recov bodi ground zero a...  \n",
       "...                                                  ...  \n",
       "54210  short-liv nbc live sitcom center bonino world-...  \n",
       "54211  next gener exploit sister kapa - bay soror hou...  \n",
       "54212  ze bestaan echt stand-up comedi grow face fear...  \n",
       "54213  walter vivian live countri difficult time keep...  \n",
       "54214  labor day weekend 1935 intens hurrican ever ma...  \n",
       "\n",
       "[54214 rows x 6 columns]"
      ]
     },
     "execution_count": 15,
     "metadata": {},
     "output_type": "execute_result"
    }
   ],
   "source": [
    "imdb_train"
   ]
  },
  {
   "cell_type": "code",
   "execution_count": 16,
   "metadata": {},
   "outputs": [],
   "source": [
    "imdb_train.to_csv('../data/processed/train_data_processed.csv')"
   ]
  },
  {
   "cell_type": "markdown",
   "metadata": {},
   "source": [
    "# Fewer Labels"
   ]
  },
  {
   "cell_type": "code",
   "execution_count": 4,
   "metadata": {},
   "outputs": [],
   "source": [
    "training_data = pd.read_csv(\"../data/processed/train_data_processed.csv\")"
   ]
  },
  {
   "cell_type": "code",
   "execution_count": 30,
   "metadata": {},
   "outputs": [],
   "source": [
    "top_genres = training_data.genre.value_counts().index\n",
    "num_classes = [3,4,5,6]"
   ]
  },
  {
   "cell_type": "code",
   "execution_count": 31,
   "metadata": {},
   "outputs": [
    {
     "ename": "KeyError",
     "evalue": "'genre'",
     "output_type": "error",
     "traceback": [
      "\u001b[0;31m---------------------------------------------------------------------------\u001b[0m",
      "\u001b[0;31mKeyError\u001b[0m                                  Traceback (most recent call last)",
      "\u001b[0;32m/opt/anaconda3/lib/python3.9/site-packages/pandas/core/indexes/base.py\u001b[0m in \u001b[0;36mget_loc\u001b[0;34m(self, key, method, tolerance)\u001b[0m\n\u001b[1;32m   3360\u001b[0m             \u001b[0;32mtry\u001b[0m\u001b[0;34m:\u001b[0m\u001b[0;34m\u001b[0m\u001b[0;34m\u001b[0m\u001b[0m\n\u001b[0;32m-> 3361\u001b[0;31m                 \u001b[0;32mreturn\u001b[0m \u001b[0mself\u001b[0m\u001b[0;34m.\u001b[0m\u001b[0m_engine\u001b[0m\u001b[0;34m.\u001b[0m\u001b[0mget_loc\u001b[0m\u001b[0;34m(\u001b[0m\u001b[0mcasted_key\u001b[0m\u001b[0;34m)\u001b[0m\u001b[0;34m\u001b[0m\u001b[0;34m\u001b[0m\u001b[0m\n\u001b[0m\u001b[1;32m   3362\u001b[0m             \u001b[0;32mexcept\u001b[0m \u001b[0mKeyError\u001b[0m \u001b[0;32mas\u001b[0m \u001b[0merr\u001b[0m\u001b[0;34m:\u001b[0m\u001b[0;34m\u001b[0m\u001b[0;34m\u001b[0m\u001b[0m\n",
      "\u001b[0;32m/opt/anaconda3/lib/python3.9/site-packages/pandas/_libs/index.pyx\u001b[0m in \u001b[0;36mpandas._libs.index.IndexEngine.get_loc\u001b[0;34m()\u001b[0m\n",
      "\u001b[0;32m/opt/anaconda3/lib/python3.9/site-packages/pandas/_libs/index.pyx\u001b[0m in \u001b[0;36mpandas._libs.index.IndexEngine.get_loc\u001b[0;34m()\u001b[0m\n",
      "\u001b[0;32mpandas/_libs/hashtable_class_helper.pxi\u001b[0m in \u001b[0;36mpandas._libs.hashtable.PyObjectHashTable.get_item\u001b[0;34m()\u001b[0m\n",
      "\u001b[0;32mpandas/_libs/hashtable_class_helper.pxi\u001b[0m in \u001b[0;36mpandas._libs.hashtable.PyObjectHashTable.get_item\u001b[0;34m()\u001b[0m\n",
      "\u001b[0;31mKeyError\u001b[0m: 'genre'",
      "\nThe above exception was the direct cause of the following exception:\n",
      "\u001b[0;31mKeyError\u001b[0m                                  Traceback (most recent call last)",
      "\u001b[0;32m/var/folders/sz/386ymr1n0xb_y6v0d8nrj98c0000gn/T/ipykernel_36190/2395340862.py\u001b[0m in \u001b[0;36m<module>\u001b[0;34m\u001b[0m\n\u001b[1;32m      3\u001b[0m     \u001b[0mgenres\u001b[0m \u001b[0;34m=\u001b[0m \u001b[0mtop_genres\u001b[0m\u001b[0;34m[\u001b[0m\u001b[0;34m:\u001b[0m\u001b[0mn\u001b[0m\u001b[0;34m]\u001b[0m\u001b[0;34m.\u001b[0m\u001b[0mto_list\u001b[0m\u001b[0;34m(\u001b[0m\u001b[0;34m)\u001b[0m\u001b[0;34m\u001b[0m\u001b[0;34m\u001b[0m\u001b[0m\n\u001b[1;32m      4\u001b[0m     \u001b[0;31m# print(genres)\u001b[0m\u001b[0;34m\u001b[0m\u001b[0;34m\u001b[0m\u001b[0m\n\u001b[0;32m----> 5\u001b[0;31m     \u001b[0mnew_data\u001b[0m \u001b[0;34m=\u001b[0m \u001b[0mdata\u001b[0m\u001b[0;34m[\u001b[0m\u001b[0mdata\u001b[0m\u001b[0;34m[\u001b[0m\u001b[0;34m\"genre\"\u001b[0m\u001b[0;34m]\u001b[0m\u001b[0;34m.\u001b[0m\u001b[0misin\u001b[0m\u001b[0;34m(\u001b[0m\u001b[0mgenres\u001b[0m\u001b[0;34m)\u001b[0m\u001b[0;34m]\u001b[0m\u001b[0;34m\u001b[0m\u001b[0;34m\u001b[0m\u001b[0m\n\u001b[0m\u001b[1;32m      6\u001b[0m     \u001b[0mnew_data\u001b[0m\u001b[0;34m.\u001b[0m\u001b[0mto_csv\u001b[0m\u001b[0;34m(\u001b[0m\u001b[0;34m'../data/processed/fewer_labels/test_'\u001b[0m \u001b[0;34m+\u001b[0m \u001b[0mstr\u001b[0m\u001b[0;34m(\u001b[0m\u001b[0mn\u001b[0m\u001b[0;34m)\u001b[0m \u001b[0;34m+\u001b[0m \u001b[0;34m'_classes.csv'\u001b[0m\u001b[0;34m)\u001b[0m\u001b[0;34m\u001b[0m\u001b[0;34m\u001b[0m\u001b[0m\n",
      "\u001b[0;32m/opt/anaconda3/lib/python3.9/site-packages/pandas/core/frame.py\u001b[0m in \u001b[0;36m__getitem__\u001b[0;34m(self, key)\u001b[0m\n\u001b[1;32m   3456\u001b[0m             \u001b[0;32mif\u001b[0m \u001b[0mself\u001b[0m\u001b[0;34m.\u001b[0m\u001b[0mcolumns\u001b[0m\u001b[0;34m.\u001b[0m\u001b[0mnlevels\u001b[0m \u001b[0;34m>\u001b[0m \u001b[0;36m1\u001b[0m\u001b[0;34m:\u001b[0m\u001b[0;34m\u001b[0m\u001b[0;34m\u001b[0m\u001b[0m\n\u001b[1;32m   3457\u001b[0m                 \u001b[0;32mreturn\u001b[0m \u001b[0mself\u001b[0m\u001b[0;34m.\u001b[0m\u001b[0m_getitem_multilevel\u001b[0m\u001b[0;34m(\u001b[0m\u001b[0mkey\u001b[0m\u001b[0;34m)\u001b[0m\u001b[0;34m\u001b[0m\u001b[0;34m\u001b[0m\u001b[0m\n\u001b[0;32m-> 3458\u001b[0;31m             \u001b[0mindexer\u001b[0m \u001b[0;34m=\u001b[0m \u001b[0mself\u001b[0m\u001b[0;34m.\u001b[0m\u001b[0mcolumns\u001b[0m\u001b[0;34m.\u001b[0m\u001b[0mget_loc\u001b[0m\u001b[0;34m(\u001b[0m\u001b[0mkey\u001b[0m\u001b[0;34m)\u001b[0m\u001b[0;34m\u001b[0m\u001b[0;34m\u001b[0m\u001b[0m\n\u001b[0m\u001b[1;32m   3459\u001b[0m             \u001b[0;32mif\u001b[0m \u001b[0mis_integer\u001b[0m\u001b[0;34m(\u001b[0m\u001b[0mindexer\u001b[0m\u001b[0;34m)\u001b[0m\u001b[0;34m:\u001b[0m\u001b[0;34m\u001b[0m\u001b[0;34m\u001b[0m\u001b[0m\n\u001b[1;32m   3460\u001b[0m                 \u001b[0mindexer\u001b[0m \u001b[0;34m=\u001b[0m \u001b[0;34m[\u001b[0m\u001b[0mindexer\u001b[0m\u001b[0;34m]\u001b[0m\u001b[0;34m\u001b[0m\u001b[0;34m\u001b[0m\u001b[0m\n",
      "\u001b[0;32m/opt/anaconda3/lib/python3.9/site-packages/pandas/core/indexes/base.py\u001b[0m in \u001b[0;36mget_loc\u001b[0;34m(self, key, method, tolerance)\u001b[0m\n\u001b[1;32m   3361\u001b[0m                 \u001b[0;32mreturn\u001b[0m \u001b[0mself\u001b[0m\u001b[0;34m.\u001b[0m\u001b[0m_engine\u001b[0m\u001b[0;34m.\u001b[0m\u001b[0mget_loc\u001b[0m\u001b[0;34m(\u001b[0m\u001b[0mcasted_key\u001b[0m\u001b[0;34m)\u001b[0m\u001b[0;34m\u001b[0m\u001b[0;34m\u001b[0m\u001b[0m\n\u001b[1;32m   3362\u001b[0m             \u001b[0;32mexcept\u001b[0m \u001b[0mKeyError\u001b[0m \u001b[0;32mas\u001b[0m \u001b[0merr\u001b[0m\u001b[0;34m:\u001b[0m\u001b[0;34m\u001b[0m\u001b[0;34m\u001b[0m\u001b[0m\n\u001b[0;32m-> 3363\u001b[0;31m                 \u001b[0;32mraise\u001b[0m \u001b[0mKeyError\u001b[0m\u001b[0;34m(\u001b[0m\u001b[0mkey\u001b[0m\u001b[0;34m)\u001b[0m \u001b[0;32mfrom\u001b[0m \u001b[0merr\u001b[0m\u001b[0;34m\u001b[0m\u001b[0;34m\u001b[0m\u001b[0m\n\u001b[0m\u001b[1;32m   3364\u001b[0m \u001b[0;34m\u001b[0m\u001b[0m\n\u001b[1;32m   3365\u001b[0m         \u001b[0;32mif\u001b[0m \u001b[0mis_scalar\u001b[0m\u001b[0;34m(\u001b[0m\u001b[0mkey\u001b[0m\u001b[0;34m)\u001b[0m \u001b[0;32mand\u001b[0m \u001b[0misna\u001b[0m\u001b[0;34m(\u001b[0m\u001b[0mkey\u001b[0m\u001b[0;34m)\u001b[0m \u001b[0;32mand\u001b[0m \u001b[0;32mnot\u001b[0m \u001b[0mself\u001b[0m\u001b[0;34m.\u001b[0m\u001b[0mhasnans\u001b[0m\u001b[0;34m:\u001b[0m\u001b[0;34m\u001b[0m\u001b[0;34m\u001b[0m\u001b[0m\n",
      "\u001b[0;31mKeyError\u001b[0m: 'genre'"
     ]
    }
   ],
   "source": [
    "data = training_data\n",
    "for n in num_classes:\n",
    "    genres = top_genres[:n].to_list()\n",
    "    # print(genres)\n",
    "    new_data = data[data[\"genre\"].isin(genres)]\n",
    "    new_data.to_csv('../data/processed/fewer_labels/test_' + str(n) + '_classes.csv')\n"
   ]
  },
  {
   "cell_type": "code",
   "execution_count": 29,
   "metadata": {},
   "outputs": [
    {
     "data": {
      "text/plain": [
       "drama          13613\n",
       "documentary    13096\n",
       "comedy          7447\n",
       "short           5073\n",
       "Name: genre, dtype: int64"
      ]
     },
     "execution_count": 29,
     "metadata": {},
     "output_type": "execute_result"
    }
   ],
   "source": []
  }
 ],
 "metadata": {
  "colab": {
   "provenance": []
  },
  "kernelspec": {
   "display_name": "Python 3 (ipykernel)",
   "language": "python",
   "name": "python3"
  },
  "language_info": {
   "codemirror_mode": {
    "name": "ipython",
    "version": 3
   },
   "file_extension": ".py",
   "mimetype": "text/x-python",
   "name": "python",
   "nbconvert_exporter": "python",
   "pygments_lexer": "ipython3",
   "version": "3.9.7"
  },
  "vscode": {
   "interpreter": {
    "hash": "40d3a090f54c6569ab1632332b64b2c03c39dcf918b08424e98f38b5ae0af88f"
   }
  }
 },
 "nbformat": 4,
 "nbformat_minor": 4
}
