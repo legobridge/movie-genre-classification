{
  "nbformat": 4,
  "nbformat_minor": 0,
  "metadata": {
    "colab": {
      "provenance": []
    },
    "kernelspec": {
      "name": "python3",
      "display_name": "Python 3"
    },
    "language_info": {
      "name": "python"
    }
  },
  "cells": [
    {
      "cell_type": "code",
      "execution_count": null,
      "metadata": {
        "colab": {
          "base_uri": "https://localhost:8080/"
        },
        "id": "TDoBVc_bhYux",
        "outputId": "b6603670-77b5-4288-c358-d5a47d24345a"
      },
      "outputs": [
        {
          "output_type": "stream",
          "name": "stderr",
          "text": [
            "[nltk_data] Downloading package punkt to /root/nltk_data...\n",
            "[nltk_data]   Package punkt is already up-to-date!\n",
            "[nltk_data] Downloading package stopwords to /root/nltk_data...\n",
            "[nltk_data]   Unzipping corpora/stopwords.zip.\n"
          ]
        },
        {
          "output_type": "execute_result",
          "data": {
            "text/plain": [
              "True"
            ]
          },
          "metadata": {},
          "execution_count": 70
        }
      ],
      "source": [
        "# imports\n",
        "import pandas as pd\n",
        "import nltk\n",
        "from nltk.corpus import stopwords\n",
        "from nltk.tokenize import word_tokenize\n",
        "nltk.download('punkt')\n",
        "nltk.download(\"stopwords\")\n",
        "\n"
      ]
    },
    {
      "cell_type": "code",
      "source": [
        "# load data\n",
        "imdb_train = pd.read_table(\"train_data.txt\", sep=\":::\", header=None, engine='python')"
      ],
      "metadata": {
        "id": "8SPVhv3-h4zf"
      },
      "execution_count": null,
      "outputs": []
    },
    {
      "cell_type": "code",
      "source": [
        "# format data frame\n",
        "imdb_train = imdb_train.rename(columns={0: \"id\", 1: \"title\", 2: \"genre\", 3: \"description\"})\n",
        "imdb_train = imdb_train.set_index('id')"
      ],
      "metadata": {
        "id": "goVKQQRziYBy"
      },
      "execution_count": null,
      "outputs": []
    },
    {
      "cell_type": "markdown",
      "source": [
        "Pre-Processing"
      ],
      "metadata": {
        "id": "JB1uVywKj3nE"
      }
    },
    {
      "cell_type": "code",
      "source": [
        "# break up\n",
        "def get_year(row):\n",
        "   return row[\"title\"][-6:-2]\n",
        "\n",
        "\n",
        "def remove_year(row):\n",
        "  return row[\"title\"][:-7]"
      ],
      "metadata": {
        "id": "zZNb5TzIjaPx"
      },
      "execution_count": null,
      "outputs": []
    },
    {
      "cell_type": "code",
      "source": [
        "imdb_train[\"year\"] = imdb_train.apply(get_year, axis=1)"
      ],
      "metadata": {
        "id": "tqXwp1hVkKbS"
      },
      "execution_count": null,
      "outputs": []
    },
    {
      "cell_type": "code",
      "source": [
        "imdb_train[\"title\"] = imdb_train.apply(remove_year, axis=1)"
      ],
      "metadata": {
        "id": "hKww_KCPkMgM"
      },
      "execution_count": null,
      "outputs": []
    },
    {
      "cell_type": "markdown",
      "source": [
        "NLP Pre-Processing"
      ],
      "metadata": {
        "id": "bAVJW7TYmFB0"
      }
    },
    {
      "cell_type": "code",
      "source": [
        "def remove_punctuation(row):\n",
        "  desc = row[\"description\"]\n",
        "  \n",
        "  desc = desc.replace(\".\", \"\")\n",
        "  desc = desc.replace(\",\", \"\")\n",
        "  desc = desc.replace(\"!\", \"\")\n",
        "  desc = desc.replace(\"?\", \"\")\n",
        "  desc = desc.replace(\"(\", \"\")\n",
        "  desc = desc.replace(\")\", \"\")\n",
        "  desc = desc.replace(\"$\", \"\")\n",
        "  desc = desc.replace(\"%\", \"\")\n",
        "  desc = desc.replace(\"&\", \"\")\n",
        "  desc = desc.replace(\"*\", \"\")\n",
        "  \n",
        "  return desc\n",
        "\n",
        "def to_lower(row):\n",
        "  return row[\"processed_description\"].lower()\n",
        "\n",
        "def tokenize(row):\n",
        "  return word_tokenize(row[\"processed_description\"])"
      ],
      "metadata": {
        "id": "bdSaHQrkkf_Y"
      },
      "execution_count": null,
      "outputs": []
    },
    {
      "cell_type": "code",
      "source": [
        "# remove punctuation, standardize case to lower, word tokenize description\n",
        "imdb_train[\"processed_description\"] = imdb_train.apply(remove_punctuation, axis=1)\n",
        "imdb_train[\"processed_description\"] = imdb_train.apply(to_lower, axis=1)\n",
        "imdb_train[\"processed_description\"] = imdb_train.apply(tokenize, axis=1)"
      ],
      "metadata": {
        "id": "PZDClHnZmnfd"
      },
      "execution_count": null,
      "outputs": []
    },
    {
      "cell_type": "code",
      "source": [
        "stop_words = set(stopwords.words('english'))\n",
        "\n",
        "def remove_stop_words(row):\n",
        "  return [w for w in row[\"processed_description\"] if not w in stop_words]"
      ],
      "metadata": {
        "id": "mteVA8fym2wi"
      },
      "execution_count": null,
      "outputs": []
    },
    {
      "cell_type": "code",
      "source": [
        "imdb_train[\"processed_description\"] = imdb_train.apply(remove_stop_words, axis=1)"
      ],
      "metadata": {
        "id": "GCRLJrlUpCDx"
      },
      "execution_count": null,
      "outputs": []
    },
    {
      "cell_type": "markdown",
      "source": [
        "Stemming\n",
        "\n",
        "Reduces words into stems of words (so that, for example, \"conversation\" and \"conversations\" will both be treated as the same word)."
      ],
      "metadata": {
        "id": "MiL6WEf-pcf6"
      }
    },
    {
      "cell_type": "code",
      "source": [
        "from nltk.stem.porter import PorterStemmer\n",
        "porter_stemmer = PorterStemmer()\n",
        "\n",
        "def stemming(text):\n",
        "  stem_text = [porter_stemmer.stem(word) for word in text]\n",
        "  return stem_text\n",
        "\n",
        "imdb_train['description_stemmed']=imdb_train['processed_description'].apply(lambda x: stemming(x))"
      ],
      "metadata": {
        "id": "F9myVMkapIi3"
      },
      "execution_count": null,
      "outputs": []
    },
    {
      "cell_type": "code",
      "source": [
        "imdb_train"
      ],
      "metadata": {
        "colab": {
          "base_uri": "https://localhost:8080/",
          "height": 673
        },
        "id": "4vyi3MmIqkSA",
        "outputId": "95960c37-ecb6-4193-8b49-4ee0dca76a9b"
      },
      "execution_count": null,
      "outputs": [
        {
          "output_type": "execute_result",
          "data": {
            "text/plain": [
              "                                       title          genre  \\\n",
              "id                                                            \n",
              "1                     Oscar et la dame rose          drama    \n",
              "2                                     Cupid       thriller    \n",
              "3                 Young, Wild and Wonderful          adult    \n",
              "4                            The Secret Sin          drama    \n",
              "5                           The Unrecovered          drama    \n",
              "...                                      ...            ...   \n",
              "54210                              \"Bonino\"         comedy    \n",
              "54211                  Dead Girls Don't Cry         horror    \n",
              "54212    Ronald Goedemondt: Ze bestaan echt    documentary    \n",
              "54213                     Make Your Own Bed         comedy    \n",
              "54214   Nature's Fury: Storm of the Century        history    \n",
              "\n",
              "                                             description  year  \\\n",
              "id                                                               \n",
              "1       Listening in to a conversation between his do...  2009   \n",
              "2       A brother and sister with a past incestuous r...  1997   \n",
              "3       As the bus empties the students for their fie...  1980   \n",
              "4       To help their unemployed father make ends mee...  1915   \n",
              "5       The film's title refers not only to the un-re...  2007   \n",
              "...                                                  ...   ...   \n",
              "54210   This short-lived NBC live sitcom centered on ...  1953   \n",
              "54211   The NEXT Generation of EXPLOITATION. The sist...  ????   \n",
              "54212   Ze bestaan echt, is a stand-up comedy about g...  2008   \n",
              "54213   Walter and Vivian live in the country and hav...  1944   \n",
              "54214   On Labor Day Weekend, 1935, the most intense ...  2006   \n",
              "\n",
              "                                   processed_description  \\\n",
              "id                                                         \n",
              "1      [listening, conversation, doctor, parents, 10-...   \n",
              "2      [brother, sister, past, incestuous, relationsh...   \n",
              "3      [bus, empties, students, field, trip, museum, ...   \n",
              "4      [help, unemployed, father, make, ends, meet, e...   \n",
              "5      [film, 's, title, refers, un-recovered, bodies...   \n",
              "...                                                  ...   \n",
              "54210  [short-lived, nbc, live, sitcom, centered, bon...   \n",
              "54211  [next, generation, exploitation, sisters, kapa...   \n",
              "54212  [ze, bestaan, echt, stand-up, comedy, growing,...   \n",
              "54213  [walter, vivian, live, country, difficult, tim...   \n",
              "54214  [labor, day, weekend, 1935, intense, hurricane...   \n",
              "\n",
              "                                     description_stemmed  \n",
              "id                                                        \n",
              "1      [listen, convers, doctor, parent, 10-year-old,...  \n",
              "2      [brother, sister, past, incestu, relationship,...  \n",
              "3      [bu, empti, student, field, trip, museum, natu...  \n",
              "4      [help, unemploy, father, make, end, meet, edit...  \n",
              "5      [film, 's, titl, refer, un-recov, bodi, ground...  \n",
              "...                                                  ...  \n",
              "54210  [short-liv, nbc, live, sitcom, center, bonino,...  \n",
              "54211  [next, gener, exploit, sister, kapa, -, bay, s...  \n",
              "54212  [ze, bestaan, echt, stand-up, comedi, grow, fa...  \n",
              "54213  [walter, vivian, live, countri, difficult, tim...  \n",
              "54214  [labor, day, weekend, 1935, intens, hurrican, ...  \n",
              "\n",
              "[54214 rows x 6 columns]"
            ],
            "text/html": [
              "\n",
              "  <div id=\"df-5d7ec770-ae2e-41df-900b-e8d63943efc9\">\n",
              "    <div class=\"colab-df-container\">\n",
              "      <div>\n",
              "<style scoped>\n",
              "    .dataframe tbody tr th:only-of-type {\n",
              "        vertical-align: middle;\n",
              "    }\n",
              "\n",
              "    .dataframe tbody tr th {\n",
              "        vertical-align: top;\n",
              "    }\n",
              "\n",
              "    .dataframe thead th {\n",
              "        text-align: right;\n",
              "    }\n",
              "</style>\n",
              "<table border=\"1\" class=\"dataframe\">\n",
              "  <thead>\n",
              "    <tr style=\"text-align: right;\">\n",
              "      <th></th>\n",
              "      <th>title</th>\n",
              "      <th>genre</th>\n",
              "      <th>description</th>\n",
              "      <th>year</th>\n",
              "      <th>processed_description</th>\n",
              "      <th>description_stemmed</th>\n",
              "    </tr>\n",
              "    <tr>\n",
              "      <th>id</th>\n",
              "      <th></th>\n",
              "      <th></th>\n",
              "      <th></th>\n",
              "      <th></th>\n",
              "      <th></th>\n",
              "      <th></th>\n",
              "    </tr>\n",
              "  </thead>\n",
              "  <tbody>\n",
              "    <tr>\n",
              "      <th>1</th>\n",
              "      <td>Oscar et la dame rose</td>\n",
              "      <td>drama</td>\n",
              "      <td>Listening in to a conversation between his do...</td>\n",
              "      <td>2009</td>\n",
              "      <td>[listening, conversation, doctor, parents, 10-...</td>\n",
              "      <td>[listen, convers, doctor, parent, 10-year-old,...</td>\n",
              "    </tr>\n",
              "    <tr>\n",
              "      <th>2</th>\n",
              "      <td>Cupid</td>\n",
              "      <td>thriller</td>\n",
              "      <td>A brother and sister with a past incestuous r...</td>\n",
              "      <td>1997</td>\n",
              "      <td>[brother, sister, past, incestuous, relationsh...</td>\n",
              "      <td>[brother, sister, past, incestu, relationship,...</td>\n",
              "    </tr>\n",
              "    <tr>\n",
              "      <th>3</th>\n",
              "      <td>Young, Wild and Wonderful</td>\n",
              "      <td>adult</td>\n",
              "      <td>As the bus empties the students for their fie...</td>\n",
              "      <td>1980</td>\n",
              "      <td>[bus, empties, students, field, trip, museum, ...</td>\n",
              "      <td>[bu, empti, student, field, trip, museum, natu...</td>\n",
              "    </tr>\n",
              "    <tr>\n",
              "      <th>4</th>\n",
              "      <td>The Secret Sin</td>\n",
              "      <td>drama</td>\n",
              "      <td>To help their unemployed father make ends mee...</td>\n",
              "      <td>1915</td>\n",
              "      <td>[help, unemployed, father, make, ends, meet, e...</td>\n",
              "      <td>[help, unemploy, father, make, end, meet, edit...</td>\n",
              "    </tr>\n",
              "    <tr>\n",
              "      <th>5</th>\n",
              "      <td>The Unrecovered</td>\n",
              "      <td>drama</td>\n",
              "      <td>The film's title refers not only to the un-re...</td>\n",
              "      <td>2007</td>\n",
              "      <td>[film, 's, title, refers, un-recovered, bodies...</td>\n",
              "      <td>[film, 's, titl, refer, un-recov, bodi, ground...</td>\n",
              "    </tr>\n",
              "    <tr>\n",
              "      <th>...</th>\n",
              "      <td>...</td>\n",
              "      <td>...</td>\n",
              "      <td>...</td>\n",
              "      <td>...</td>\n",
              "      <td>...</td>\n",
              "      <td>...</td>\n",
              "    </tr>\n",
              "    <tr>\n",
              "      <th>54210</th>\n",
              "      <td>\"Bonino\"</td>\n",
              "      <td>comedy</td>\n",
              "      <td>This short-lived NBC live sitcom centered on ...</td>\n",
              "      <td>1953</td>\n",
              "      <td>[short-lived, nbc, live, sitcom, centered, bon...</td>\n",
              "      <td>[short-liv, nbc, live, sitcom, center, bonino,...</td>\n",
              "    </tr>\n",
              "    <tr>\n",
              "      <th>54211</th>\n",
              "      <td>Dead Girls Don't Cry</td>\n",
              "      <td>horror</td>\n",
              "      <td>The NEXT Generation of EXPLOITATION. The sist...</td>\n",
              "      <td>????</td>\n",
              "      <td>[next, generation, exploitation, sisters, kapa...</td>\n",
              "      <td>[next, gener, exploit, sister, kapa, -, bay, s...</td>\n",
              "    </tr>\n",
              "    <tr>\n",
              "      <th>54212</th>\n",
              "      <td>Ronald Goedemondt: Ze bestaan echt</td>\n",
              "      <td>documentary</td>\n",
              "      <td>Ze bestaan echt, is a stand-up comedy about g...</td>\n",
              "      <td>2008</td>\n",
              "      <td>[ze, bestaan, echt, stand-up, comedy, growing,...</td>\n",
              "      <td>[ze, bestaan, echt, stand-up, comedi, grow, fa...</td>\n",
              "    </tr>\n",
              "    <tr>\n",
              "      <th>54213</th>\n",
              "      <td>Make Your Own Bed</td>\n",
              "      <td>comedy</td>\n",
              "      <td>Walter and Vivian live in the country and hav...</td>\n",
              "      <td>1944</td>\n",
              "      <td>[walter, vivian, live, country, difficult, tim...</td>\n",
              "      <td>[walter, vivian, live, countri, difficult, tim...</td>\n",
              "    </tr>\n",
              "    <tr>\n",
              "      <th>54214</th>\n",
              "      <td>Nature's Fury: Storm of the Century</td>\n",
              "      <td>history</td>\n",
              "      <td>On Labor Day Weekend, 1935, the most intense ...</td>\n",
              "      <td>2006</td>\n",
              "      <td>[labor, day, weekend, 1935, intense, hurricane...</td>\n",
              "      <td>[labor, day, weekend, 1935, intens, hurrican, ...</td>\n",
              "    </tr>\n",
              "  </tbody>\n",
              "</table>\n",
              "<p>54214 rows × 6 columns</p>\n",
              "</div>\n",
              "      <button class=\"colab-df-convert\" onclick=\"convertToInteractive('df-5d7ec770-ae2e-41df-900b-e8d63943efc9')\"\n",
              "              title=\"Convert this dataframe to an interactive table.\"\n",
              "              style=\"display:none;\">\n",
              "        \n",
              "  <svg xmlns=\"http://www.w3.org/2000/svg\" height=\"24px\"viewBox=\"0 0 24 24\"\n",
              "       width=\"24px\">\n",
              "    <path d=\"M0 0h24v24H0V0z\" fill=\"none\"/>\n",
              "    <path d=\"M18.56 5.44l.94 2.06.94-2.06 2.06-.94-2.06-.94-.94-2.06-.94 2.06-2.06.94zm-11 1L8.5 8.5l.94-2.06 2.06-.94-2.06-.94L8.5 2.5l-.94 2.06-2.06.94zm10 10l.94 2.06.94-2.06 2.06-.94-2.06-.94-.94-2.06-.94 2.06-2.06.94z\"/><path d=\"M17.41 7.96l-1.37-1.37c-.4-.4-.92-.59-1.43-.59-.52 0-1.04.2-1.43.59L10.3 9.45l-7.72 7.72c-.78.78-.78 2.05 0 2.83L4 21.41c.39.39.9.59 1.41.59.51 0 1.02-.2 1.41-.59l7.78-7.78 2.81-2.81c.8-.78.8-2.07 0-2.86zM5.41 20L4 18.59l7.72-7.72 1.47 1.35L5.41 20z\"/>\n",
              "  </svg>\n",
              "      </button>\n",
              "      \n",
              "  <style>\n",
              "    .colab-df-container {\n",
              "      display:flex;\n",
              "      flex-wrap:wrap;\n",
              "      gap: 12px;\n",
              "    }\n",
              "\n",
              "    .colab-df-convert {\n",
              "      background-color: #E8F0FE;\n",
              "      border: none;\n",
              "      border-radius: 50%;\n",
              "      cursor: pointer;\n",
              "      display: none;\n",
              "      fill: #1967D2;\n",
              "      height: 32px;\n",
              "      padding: 0 0 0 0;\n",
              "      width: 32px;\n",
              "    }\n",
              "\n",
              "    .colab-df-convert:hover {\n",
              "      background-color: #E2EBFA;\n",
              "      box-shadow: 0px 1px 2px rgba(60, 64, 67, 0.3), 0px 1px 3px 1px rgba(60, 64, 67, 0.15);\n",
              "      fill: #174EA6;\n",
              "    }\n",
              "\n",
              "    [theme=dark] .colab-df-convert {\n",
              "      background-color: #3B4455;\n",
              "      fill: #D2E3FC;\n",
              "    }\n",
              "\n",
              "    [theme=dark] .colab-df-convert:hover {\n",
              "      background-color: #434B5C;\n",
              "      box-shadow: 0px 1px 3px 1px rgba(0, 0, 0, 0.15);\n",
              "      filter: drop-shadow(0px 1px 2px rgba(0, 0, 0, 0.3));\n",
              "      fill: #FFFFFF;\n",
              "    }\n",
              "  </style>\n",
              "\n",
              "      <script>\n",
              "        const buttonEl =\n",
              "          document.querySelector('#df-5d7ec770-ae2e-41df-900b-e8d63943efc9 button.colab-df-convert');\n",
              "        buttonEl.style.display =\n",
              "          google.colab.kernel.accessAllowed ? 'block' : 'none';\n",
              "\n",
              "        async function convertToInteractive(key) {\n",
              "          const element = document.querySelector('#df-5d7ec770-ae2e-41df-900b-e8d63943efc9');\n",
              "          const dataTable =\n",
              "            await google.colab.kernel.invokeFunction('convertToInteractive',\n",
              "                                                     [key], {});\n",
              "          if (!dataTable) return;\n",
              "\n",
              "          const docLinkHtml = 'Like what you see? Visit the ' +\n",
              "            '<a target=\"_blank\" href=https://colab.research.google.com/notebooks/data_table.ipynb>data table notebook</a>'\n",
              "            + ' to learn more about interactive tables.';\n",
              "          element.innerHTML = '';\n",
              "          dataTable['output_type'] = 'display_data';\n",
              "          await google.colab.output.renderOutput(dataTable, element);\n",
              "          const docLink = document.createElement('div');\n",
              "          docLink.innerHTML = docLinkHtml;\n",
              "          element.appendChild(docLink);\n",
              "        }\n",
              "      </script>\n",
              "    </div>\n",
              "  </div>\n",
              "  "
            ]
          },
          "metadata": {},
          "execution_count": 88
        }
      ]
    }
  ]
}