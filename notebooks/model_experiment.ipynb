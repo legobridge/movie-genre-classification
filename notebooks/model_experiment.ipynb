{
 "cells": [
  {
   "cell_type": "markdown",
   "id": "34c05ca4-57cc-44be-a18d-1b6dd034c1ab",
   "metadata": {},
   "source": [
    "## Imports"
   ]
  },
  {
   "cell_type": "code",
   "execution_count": 1,
   "id": "ef3c1d5c-e603-46b3-8b77-e1a32f015ea7",
   "metadata": {},
   "outputs": [],
   "source": [
    "import pandas as pd\n",
    "import numpy as np\n",
    "import matplotlib.pyplot as plt\n",
    "%matplotlib inline\n",
    "import seaborn as sns"
   ]
  },
  {
   "cell_type": "code",
   "execution_count": 2,
   "id": "3484e51e-2c6e-4c92-96d4-33d076b6dc17",
   "metadata": {},
   "outputs": [],
   "source": [
    "from tensorflow.keras.preprocessing.sequence import pad_sequences\n",
    "from tensorflow.keras.preprocessing.text import Tokenizer\n",
    "from tensorflow.keras.models import Sequential, load_model\n",
    "from tensorflow.keras.layers import Embedding, GRU, LSTM, Dense, Dropout\n",
    "from tensorflow.keras.callbacks import Callback, EarlyStopping"
   ]
  },
  {
   "cell_type": "markdown",
   "id": "9dce3f74-75c2-4b51-87c2-d8c1a7bd1764",
   "metadata": {},
   "source": [
    "## Data Loading"
   ]
  },
  {
   "cell_type": "code",
   "execution_count": 3,
   "id": "b208b334-9cde-44d5-b1e6-98f86c636735",
   "metadata": {
    "tags": []
   },
   "outputs": [
    {
     "data": {
      "text/html": [
       "<div>\n",
       "<style scoped>\n",
       "    .dataframe tbody tr th:only-of-type {\n",
       "        vertical-align: middle;\n",
       "    }\n",
       "\n",
       "    .dataframe tbody tr th {\n",
       "        vertical-align: top;\n",
       "    }\n",
       "\n",
       "    .dataframe thead th {\n",
       "        text-align: right;\n",
       "    }\n",
       "</style>\n",
       "<table border=\"1\" class=\"dataframe\">\n",
       "  <thead>\n",
       "    <tr style=\"text-align: right;\">\n",
       "      <th></th>\n",
       "      <th>title</th>\n",
       "      <th>genre</th>\n",
       "      <th>description</th>\n",
       "      <th>year</th>\n",
       "      <th>description_stemmed</th>\n",
       "      <th>description_stemmed_string</th>\n",
       "    </tr>\n",
       "    <tr>\n",
       "      <th>id</th>\n",
       "      <th></th>\n",
       "      <th></th>\n",
       "      <th></th>\n",
       "      <th></th>\n",
       "      <th></th>\n",
       "      <th></th>\n",
       "    </tr>\n",
       "  </thead>\n",
       "  <tbody>\n",
       "    <tr>\n",
       "      <th>1</th>\n",
       "      <td>Oscar et la dame rose</td>\n",
       "      <td>drama</td>\n",
       "      <td>Listening in to a conversation between his do...</td>\n",
       "      <td>2009</td>\n",
       "      <td>['listen', 'convers', 'doctor', 'parent', '10-...</td>\n",
       "      <td>listen convers doctor parent 10-year-old oscar...</td>\n",
       "    </tr>\n",
       "    <tr>\n",
       "      <th>2</th>\n",
       "      <td>Cupid</td>\n",
       "      <td>thriller</td>\n",
       "      <td>A brother and sister with a past incestuous r...</td>\n",
       "      <td>1997</td>\n",
       "      <td>['brother', 'sister', 'past', 'incestu', 'rela...</td>\n",
       "      <td>brother sister past incestu relationship curre...</td>\n",
       "    </tr>\n",
       "    <tr>\n",
       "      <th>3</th>\n",
       "      <td>Young, Wild and Wonderful</td>\n",
       "      <td>adult</td>\n",
       "      <td>As the bus empties the students for their fie...</td>\n",
       "      <td>1980</td>\n",
       "      <td>['bu', 'empti', 'student', 'field', 'trip', 'm...</td>\n",
       "      <td>bu empti student field trip museum natur histo...</td>\n",
       "    </tr>\n",
       "    <tr>\n",
       "      <th>4</th>\n",
       "      <td>The Secret Sin</td>\n",
       "      <td>drama</td>\n",
       "      <td>To help their unemployed father make ends mee...</td>\n",
       "      <td>1915</td>\n",
       "      <td>['help', 'unemploy', 'father', 'make', 'end', ...</td>\n",
       "      <td>help unemploy father make end meet edith twin ...</td>\n",
       "    </tr>\n",
       "    <tr>\n",
       "      <th>5</th>\n",
       "      <td>The Unrecovered</td>\n",
       "      <td>drama</td>\n",
       "      <td>The film's title refers not only to the un-re...</td>\n",
       "      <td>2007</td>\n",
       "      <td>['film', \"'s\", 'titl', 'refer', 'un-recov', 'b...</td>\n",
       "      <td>film 's titl refer un-recov bodi ground zero a...</td>\n",
       "    </tr>\n",
       "  </tbody>\n",
       "</table>\n",
       "</div>"
      ],
      "text/plain": [
       "                          title     genre  \\\n",
       "id                                          \n",
       "1        Oscar et la dame rose      drama   \n",
       "2                        Cupid   thriller   \n",
       "3    Young, Wild and Wonderful      adult   \n",
       "4               The Secret Sin      drama   \n",
       "5              The Unrecovered      drama   \n",
       "\n",
       "                                          description  year  \\\n",
       "id                                                            \n",
       "1    Listening in to a conversation between his do...  2009   \n",
       "2    A brother and sister with a past incestuous r...  1997   \n",
       "3    As the bus empties the students for their fie...  1980   \n",
       "4    To help their unemployed father make ends mee...  1915   \n",
       "5    The film's title refers not only to the un-re...  2007   \n",
       "\n",
       "                                  description_stemmed  \\\n",
       "id                                                      \n",
       "1   ['listen', 'convers', 'doctor', 'parent', '10-...   \n",
       "2   ['brother', 'sister', 'past', 'incestu', 'rela...   \n",
       "3   ['bu', 'empti', 'student', 'field', 'trip', 'm...   \n",
       "4   ['help', 'unemploy', 'father', 'make', 'end', ...   \n",
       "5   ['film', \"'s\", 'titl', 'refer', 'un-recov', 'b...   \n",
       "\n",
       "                           description_stemmed_string  \n",
       "id                                                     \n",
       "1   listen convers doctor parent 10-year-old oscar...  \n",
       "2   brother sister past incestu relationship curre...  \n",
       "3   bu empti student field trip museum natur histo...  \n",
       "4   help unemploy father make end meet edith twin ...  \n",
       "5   film 's titl refer un-recov bodi ground zero a...  "
      ]
     },
     "execution_count": 3,
     "metadata": {},
     "output_type": "execute_result"
    }
   ],
   "source": [
    "train_df = pd.read_csv('../data/processed/train_data_processed.csv', index_col='id')\n",
    "train_df.head()"
   ]
  },
  {
   "cell_type": "code",
   "execution_count": 4,
   "id": "e8fd8b16-f747-44dd-8bc9-ff44b7801fe5",
   "metadata": {},
   "outputs": [
    {
     "data": {
      "text/html": [
       "<div>\n",
       "<style scoped>\n",
       "    .dataframe tbody tr th:only-of-type {\n",
       "        vertical-align: middle;\n",
       "    }\n",
       "\n",
       "    .dataframe tbody tr th {\n",
       "        vertical-align: top;\n",
       "    }\n",
       "\n",
       "    .dataframe thead th {\n",
       "        text-align: right;\n",
       "    }\n",
       "</style>\n",
       "<table border=\"1\" class=\"dataframe\">\n",
       "  <thead>\n",
       "    <tr style=\"text-align: right;\">\n",
       "      <th></th>\n",
       "      <th>title</th>\n",
       "      <th>genre</th>\n",
       "      <th>description</th>\n",
       "      <th>year</th>\n",
       "      <th>description_stemmed</th>\n",
       "      <th>description_stemmed_string</th>\n",
       "    </tr>\n",
       "    <tr>\n",
       "      <th>id</th>\n",
       "      <th></th>\n",
       "      <th></th>\n",
       "      <th></th>\n",
       "      <th></th>\n",
       "      <th></th>\n",
       "      <th></th>\n",
       "    </tr>\n",
       "  </thead>\n",
       "  <tbody>\n",
       "    <tr>\n",
       "      <th>49920</th>\n",
       "      <td>A Mile from Home</td>\n",
       "      <td>0</td>\n",
       "      <td>A Mile from Home chronicles the life of a uni...</td>\n",
       "      <td>2013</td>\n",
       "      <td>['mile', 'home', 'chronicl', 'life', 'univers'...</td>\n",
       "      <td>mile home chronicl life univers student jude o...</td>\n",
       "    </tr>\n",
       "    <tr>\n",
       "      <th>25445</th>\n",
       "      <td>\"Super Adventure Theater\"</td>\n",
       "      <td>18</td>\n",
       "      <td>The show was aired from 20 September 1959 til...</td>\n",
       "      <td>1959</td>\n",
       "      <td>['show', 'air', '20', 'septemb', '1959', 'till...</td>\n",
       "      <td>show air 20 septemb 1959 till 1967 host claud ...</td>\n",
       "    </tr>\n",
       "    <tr>\n",
       "      <th>46954</th>\n",
       "      <td>The Hungry Ghosts</td>\n",
       "      <td>0</td>\n",
       "      <td>According to Buddhists, hungry ghosts are the...</td>\n",
       "      <td>2009</td>\n",
       "      <td>['accord', 'buddhist', 'hungri', 'ghost', 'dea...</td>\n",
       "      <td>accord buddhist hungri ghost dead bid farewel ...</td>\n",
       "    </tr>\n",
       "    <tr>\n",
       "      <th>38586</th>\n",
       "      <td>Vom Hirschkäfer zum Hakenkreuz</td>\n",
       "      <td>3</td>\n",
       "      <td>The film narrates in a richly detailed, assoc...</td>\n",
       "      <td>2002</td>\n",
       "      <td>['film', 'narrat', 'richli', 'detail', 'associ...</td>\n",
       "      <td>film narrat richli detail associ montag boundl...</td>\n",
       "    </tr>\n",
       "    <tr>\n",
       "      <th>20785</th>\n",
       "      <td>White T</td>\n",
       "      <td>4</td>\n",
       "      <td>Herbert &amp; Henry (Jerod and Jamal Mixon) are t...</td>\n",
       "      <td>2013</td>\n",
       "      <td>['herbert', 'henri', 'jerod', 'jamal', 'mixon'...</td>\n",
       "      <td>herbert henri jerod jamal mixon twin brother d...</td>\n",
       "    </tr>\n",
       "    <tr>\n",
       "      <th>...</th>\n",
       "      <td>...</td>\n",
       "      <td>...</td>\n",
       "      <td>...</td>\n",
       "      <td>...</td>\n",
       "      <td>...</td>\n",
       "      <td>...</td>\n",
       "    </tr>\n",
       "    <tr>\n",
       "      <th>7690</th>\n",
       "      <td>Faceless (Afghan</td>\n",
       "      <td>10</td>\n",
       "      <td>Sameer is a middle-class young man, who lives...</td>\n",
       "      <td>stan</td>\n",
       "      <td>['sameer', 'middle-class', 'young', 'man', 'li...</td>\n",
       "      <td>sameer middle-class young man live younger bro...</td>\n",
       "    </tr>\n",
       "    <tr>\n",
       "      <th>10391</th>\n",
       "      <td>\"Aveux\"</td>\n",
       "      <td>0</td>\n",
       "      <td>Simon Laplante was once Carl. After running a...</td>\n",
       "      <td>2009</td>\n",
       "      <td>['simon', 'laplant', 'carl', 'run', 'away', 'f...</td>\n",
       "      <td>simon laplant carl run away famili build new l...</td>\n",
       "    </tr>\n",
       "    <tr>\n",
       "      <th>5521</th>\n",
       "      <td>Mother Tongue (201</td>\n",
       "      <td>3</td>\n",
       "      <td>This is a story about a man who risked his li...</td>\n",
       "      <td>/III</td>\n",
       "      <td>['stori', 'man', 'risk', 'life', 'save', 'cult...</td>\n",
       "      <td>stori man risk life save cultur heritag langua...</td>\n",
       "    </tr>\n",
       "    <tr>\n",
       "      <th>38558</th>\n",
       "      <td>Les voiles bas et en travers</td>\n",
       "      <td>3</td>\n",
       "      <td>Pierre Perrault emmčne Stéphane-Albert Boulai...</td>\n",
       "      <td>1983</td>\n",
       "      <td>['pierr', 'perrault', 'emmčn', 'stéphane-alber...</td>\n",
       "      <td>pierr perrault emmčn stéphane-albert boulai de...</td>\n",
       "    </tr>\n",
       "    <tr>\n",
       "      <th>28120</th>\n",
       "      <td>The Evil of Frankenstein</td>\n",
       "      <td>7</td>\n",
       "      <td>Penniless, Baron Frankenstein, accompanied by...</td>\n",
       "      <td>1964</td>\n",
       "      <td>['penniless', 'baron', 'frankenstein', 'accomp...</td>\n",
       "      <td>penniless baron frankenstein accompani eager a...</td>\n",
       "    </tr>\n",
       "  </tbody>\n",
       "</table>\n",
       "<p>54214 rows × 6 columns</p>\n",
       "</div>"
      ],
      "text/plain": [
       "                                  title  genre  \\\n",
       "id                                               \n",
       "49920                 A Mile from Home       0   \n",
       "25445        \"Super Adventure Theater\"      18   \n",
       "46954                The Hungry Ghosts       0   \n",
       "38586   Vom Hirschkäfer zum Hakenkreuz       3   \n",
       "20785                          White T       4   \n",
       "...                                 ...    ...   \n",
       "7690                   Faceless (Afghan     10   \n",
       "10391                          \"Aveux\"       0   \n",
       "5521                 Mother Tongue (201      3   \n",
       "38558     Les voiles bas et en travers       3   \n",
       "28120         The Evil of Frankenstein       7   \n",
       "\n",
       "                                             description  year  \\\n",
       "id                                                               \n",
       "49920   A Mile from Home chronicles the life of a uni...  2013   \n",
       "25445   The show was aired from 20 September 1959 til...  1959   \n",
       "46954   According to Buddhists, hungry ghosts are the...  2009   \n",
       "38586   The film narrates in a richly detailed, assoc...  2002   \n",
       "20785   Herbert & Henry (Jerod and Jamal Mixon) are t...  2013   \n",
       "...                                                  ...   ...   \n",
       "7690    Sameer is a middle-class young man, who lives...  stan   \n",
       "10391   Simon Laplante was once Carl. After running a...  2009   \n",
       "5521    This is a story about a man who risked his li...  /III   \n",
       "38558   Pierre Perrault emmčne Stéphane-Albert Boulai...  1983   \n",
       "28120   Penniless, Baron Frankenstein, accompanied by...  1964   \n",
       "\n",
       "                                     description_stemmed  \\\n",
       "id                                                         \n",
       "49920  ['mile', 'home', 'chronicl', 'life', 'univers'...   \n",
       "25445  ['show', 'air', '20', 'septemb', '1959', 'till...   \n",
       "46954  ['accord', 'buddhist', 'hungri', 'ghost', 'dea...   \n",
       "38586  ['film', 'narrat', 'richli', 'detail', 'associ...   \n",
       "20785  ['herbert', 'henri', 'jerod', 'jamal', 'mixon'...   \n",
       "...                                                  ...   \n",
       "7690   ['sameer', 'middle-class', 'young', 'man', 'li...   \n",
       "10391  ['simon', 'laplant', 'carl', 'run', 'away', 'f...   \n",
       "5521   ['stori', 'man', 'risk', 'life', 'save', 'cult...   \n",
       "38558  ['pierr', 'perrault', 'emmčn', 'stéphane-alber...   \n",
       "28120  ['penniless', 'baron', 'frankenstein', 'accomp...   \n",
       "\n",
       "                              description_stemmed_string  \n",
       "id                                                        \n",
       "49920  mile home chronicl life univers student jude o...  \n",
       "25445  show air 20 septemb 1959 till 1967 host claud ...  \n",
       "46954  accord buddhist hungri ghost dead bid farewel ...  \n",
       "38586  film narrat richli detail associ montag boundl...  \n",
       "20785  herbert henri jerod jamal mixon twin brother d...  \n",
       "...                                                  ...  \n",
       "7690   sameer middle-class young man live younger bro...  \n",
       "10391  simon laplant carl run away famili build new l...  \n",
       "5521   stori man risk life save cultur heritag langua...  \n",
       "38558  pierr perrault emmčn stéphane-albert boulai de...  \n",
       "28120  penniless baron frankenstein accompani eager a...  \n",
       "\n",
       "[54214 rows x 6 columns]"
      ]
     },
     "execution_count": 4,
     "metadata": {},
     "output_type": "execute_result"
    }
   ],
   "source": [
    "unique_genres = train_df['genre'].unique()\n",
    "genre_encoding = dict([(unique_genres[i], i) for i in range(unique_genres.shape[0])])\n",
    "train_df['genre'] = train_df['genre'].map(genre_encoding)\n",
    "train_df = train_df.sample(frac=1)\n",
    "train_df"
   ]
  },
  {
   "cell_type": "code",
   "execution_count": 5,
   "id": "94b741d1-8175-4b7c-91c8-ff151d4d0e55",
   "metadata": {},
   "outputs": [
    {
     "data": {
      "text/plain": [
       "27"
      ]
     },
     "execution_count": 5,
     "metadata": {},
     "output_type": "execute_result"
    }
   ],
   "source": [
    "num_labels = train_df['genre'].nunique()\n",
    "num_labels"
   ]
  },
  {
   "cell_type": "code",
   "execution_count": 6,
   "id": "6170baee-9fe2-41e0-8694-40ce00bb3d45",
   "metadata": {},
   "outputs": [],
   "source": [
    "x = train_df['description_stemmed_string'].values\n",
    "y = pd.get_dummies(train_df['genre']).values"
   ]
  },
  {
   "cell_type": "code",
   "execution_count": 7,
   "id": "c66f6cd8-8b38-4061-b155-a6ee802bf9f6",
   "metadata": {},
   "outputs": [],
   "source": [
    "train_set_size = 45000\n",
    "val_set_size = 3000\n",
    "test_set_size = 5000\n",
    "\n",
    "x_train = x[:train_set_size]\n",
    "x_val = x[train_set_size:train_set_size+val_set_size]\n",
    "x_test = x[train_set_size+val_set_size:train_set_size+val_set_size+test_set_size]\n",
    "\n",
    "y_train = y[:train_set_size]\n",
    "y_val = y[train_set_size:train_set_size+val_set_size]\n",
    "y_test = y[train_set_size+val_set_size:train_set_size+val_set_size+test_set_size]"
   ]
  },
  {
   "cell_type": "markdown",
   "id": "613c1f0c-639a-4d43-8994-8e5e4020664e",
   "metadata": {},
   "source": [
    "## Tokenization"
   ]
  },
  {
   "cell_type": "code",
   "execution_count": 8,
   "id": "18604f3f-ef64-47a3-8f0a-ece2358dc21d",
   "metadata": {},
   "outputs": [],
   "source": [
    "num_words = 2**9\n",
    "max_len = 2**5\n",
    "\n",
    "tokenizer = Tokenizer(num_words=num_words, filters='!\"#$%&()*+,-./:;<=>?@[\\]^_`{|}~', lower=True)\n",
    "tokenizer.fit_on_texts(x_train)\n",
    "\n",
    "x_train = tokenizer.texts_to_sequences(x_train)\n",
    "x_train = pad_sequences(x_train, maxlen=max_len)\n",
    "\n",
    "x_val = tokenizer.texts_to_sequences(x_val)\n",
    "x_val = pad_sequences(x_val, maxlen=max_len)\n",
    "\n",
    "x_test = tokenizer.texts_to_sequences(x_test)\n",
    "x_test = pad_sequences(x_test, maxlen=max_len)"
   ]
  },
  {
   "cell_type": "markdown",
   "id": "ea9b83df-6297-4028-9867-13015e77c8d3",
   "metadata": {
    "tags": []
   },
   "source": [
    "## NN Training"
   ]
  },
  {
   "cell_type": "code",
   "execution_count": 9,
   "id": "60c5fd39-9263-4f8c-b14e-1a7b33fa3d53",
   "metadata": {},
   "outputs": [
    {
     "name": "stdout",
     "output_type": "stream",
     "text": [
      "Metal device set to: Apple M1 Pro\n"
     ]
    },
    {
     "name": "stderr",
     "output_type": "stream",
     "text": [
      "2022-10-24 20:59:55.879348: I tensorflow/core/common_runtime/pluggable_device/pluggable_device_factory.cc:306] Could not identify NUMA node of platform GPU ID 0, defaulting to 0. Your kernel may not have been built with NUMA support.\n",
      "2022-10-24 20:59:55.879448: I tensorflow/core/common_runtime/pluggable_device/pluggable_device_factory.cc:272] Created TensorFlow device (/job:localhost/replica:0/task:0/device:GPU:0 with 0 MB memory) -> physical PluggableDevice (device: 0, name: METAL, pci bus id: <undefined>)\n"
     ]
    }
   ],
   "source": [
    "# model = load_model('../models/nn_model')\n",
    "model = Sequential()\n",
    "model.add(Dense(128))\n",
    "model.add(Dropout(0.1))\n",
    "model.add(Dense(256))\n",
    "model.add(Dropout(0.1))\n",
    "model.add(Dense(256))\n",
    "model.add(Dropout(0.1))\n",
    "model.add(Dense(128))\n",
    "model.add(Dropout(0.1))\n",
    "model.add(Dense(num_labels, activation='softmax'))\n",
    "model.compile(loss='categorical_crossentropy', optimizer='adam', metrics=['accuracy'])"
   ]
  },
  {
   "cell_type": "code",
   "execution_count": 10,
   "id": "210e306e-8bc7-4898-995e-ae52e2525b43",
   "metadata": {},
   "outputs": [
    {
     "name": "stdout",
     "output_type": "stream",
     "text": [
      "Epoch 1/50\n"
     ]
    },
    {
     "name": "stderr",
     "output_type": "stream",
     "text": [
      "2022-10-24 20:59:56.040223: W tensorflow/core/platform/profile_utils/cpu_utils.cc:128] Failed to get CPU frequency: 0 Hz\n"
     ]
    },
    {
     "name": "stdout",
     "output_type": "stream",
     "text": [
      "   1/1407 [..............................] - ETA: 13:30 - loss: 386.1678 - accuracy: 0.0000e+00"
     ]
    },
    {
     "name": "stderr",
     "output_type": "stream",
     "text": [
      "2022-10-24 20:59:56.443243: I tensorflow/core/grappler/optimizers/custom_graph_optimizer_registry.cc:114] Plugin optimizer for device_type GPU is enabled.\n"
     ]
    },
    {
     "name": "stdout",
     "output_type": "stream",
     "text": [
      "1407/1407 [==============================] - ETA: 0s - loss: 25.2206 - accuracy: 0.1483"
     ]
    },
    {
     "name": "stderr",
     "output_type": "stream",
     "text": [
      "2022-10-24 21:00:11.505856: I tensorflow/core/grappler/optimizers/custom_graph_optimizer_registry.cc:114] Plugin optimizer for device_type GPU is enabled.\n"
     ]
    },
    {
     "name": "stdout",
     "output_type": "stream",
     "text": [
      "1407/1407 [==============================] - 16s 11ms/step - loss: 25.2206 - accuracy: 0.1483 - val_loss: 3.3662 - val_accuracy: 0.2413\n",
      "Epoch 2/50\n",
      "1407/1407 [==============================] - 15s 11ms/step - loss: 3.8327 - accuracy: 0.1741 - val_loss: 2.5143 - val_accuracy: 0.2467\n",
      "Epoch 3/50\n",
      "1407/1407 [==============================] - 14s 10ms/step - loss: 2.8238 - accuracy: 0.2085 - val_loss: 2.4465 - val_accuracy: 0.2473\n",
      "Epoch 4/50\n",
      "1407/1407 [==============================] - 15s 10ms/step - loss: 2.5621 - accuracy: 0.2343 - val_loss: 2.4108 - val_accuracy: 0.2447\n",
      "Epoch 5/50\n",
      "1407/1407 [==============================] - 15s 10ms/step - loss: 2.4681 - accuracy: 0.2456 - val_loss: 2.3840 - val_accuracy: 0.2570\n",
      "Epoch 6/50\n",
      "1407/1407 [==============================] - 15s 10ms/step - loss: 2.4327 - accuracy: 0.2488 - val_loss: 2.4033 - val_accuracy: 0.2467\n",
      "Epoch 7/50\n",
      "1407/1407 [==============================] - 15s 11ms/step - loss: 2.4119 - accuracy: 0.2495 - val_loss: 2.4129 - val_accuracy: 0.2457\n",
      "Epoch 8/50\n",
      "1407/1407 [==============================] - 14s 10ms/step - loss: 2.3979 - accuracy: 0.2525 - val_loss: 2.3947 - val_accuracy: 0.2460\n",
      "Epoch 9/50\n",
      "1407/1407 [==============================] - 15s 10ms/step - loss: 2.3829 - accuracy: 0.2524 - val_loss: 2.3807 - val_accuracy: 0.2470\n",
      "Epoch 10/50\n",
      "1407/1407 [==============================] - 14s 10ms/step - loss: 2.3702 - accuracy: 0.2532 - val_loss: 2.3621 - val_accuracy: 0.2407\n",
      "Epoch 11/50\n",
      "1407/1407 [==============================] - 14s 10ms/step - loss: 2.3653 - accuracy: 0.2516 - val_loss: 2.3799 - val_accuracy: 0.2480\n",
      "Epoch 12/50\n",
      "1407/1407 [==============================] - 14s 10ms/step - loss: 2.3613 - accuracy: 0.2515 - val_loss: 2.3508 - val_accuracy: 0.2547\n",
      "Epoch 13/50\n",
      "1407/1407 [==============================] - 14s 10ms/step - loss: 2.3594 - accuracy: 0.2520 - val_loss: 2.3750 - val_accuracy: 0.2440\n",
      "Epoch 14/50\n",
      "1407/1407 [==============================] - 15s 10ms/step - loss: 2.3575 - accuracy: 0.2504 - val_loss: 2.3442 - val_accuracy: 0.2617\n",
      "Epoch 15/50\n",
      "1407/1407 [==============================] - 15s 10ms/step - loss: 2.3571 - accuracy: 0.2511 - val_loss: 2.3583 - val_accuracy: 0.2453\n",
      "Epoch 16/50\n",
      "1407/1407 [==============================] - 14s 10ms/step - loss: 2.3584 - accuracy: 0.2526 - val_loss: 2.3487 - val_accuracy: 0.2427\n",
      "Epoch 17/50\n",
      "1407/1407 [==============================] - 15s 11ms/step - loss: 2.3561 - accuracy: 0.2525 - val_loss: 2.3557 - val_accuracy: 0.2527\n",
      "Epoch 18/50\n",
      "1407/1407 [==============================] - 15s 11ms/step - loss: 2.3579 - accuracy: 0.2524 - val_loss: 2.3631 - val_accuracy: 0.2483\n",
      "Epoch 19/50\n",
      "1407/1407 [==============================] - 15s 11ms/step - loss: 2.3550 - accuracy: 0.2512 - val_loss: 2.3547 - val_accuracy: 0.2483\n"
     ]
    }
   ],
   "source": [
    "my_callbacks  = [EarlyStopping(monitor='val_loss',\n",
    "                              min_delta=0,\n",
    "                              patience=5,\n",
    "                              mode='auto')]\n",
    "\n",
    "history = model.fit(x_train, y_train,\n",
    "                    epochs=50, batch_size=32,\n",
    "                    validation_data=(x_val, y_val),\n",
    "                    callbacks=my_callbacks,\n",
    "                    verbose=1\n",
    "                   )"
   ]
  },
  {
   "cell_type": "markdown",
   "id": "cdefc411-e534-472f-bad8-809842980b04",
   "metadata": {
    "tags": []
   },
   "source": [
    "## NN Evaluation"
   ]
  },
  {
   "cell_type": "code",
   "execution_count": 11,
   "id": "124155d6-3b04-4bcf-984f-b57240047044",
   "metadata": {},
   "outputs": [
    {
     "name": "stdout",
     "output_type": "stream",
     "text": [
      "157/157 [==============================] - 1s 8ms/step - loss: 2.3426 - accuracy: 0.2356\n"
     ]
    },
    {
     "data": {
      "text/plain": [
       "[2.3425538539886475, 0.23560000956058502]"
      ]
     },
     "execution_count": 11,
     "metadata": {},
     "output_type": "execute_result"
    }
   ],
   "source": [
    "model.evaluate(x_test, y_test)"
   ]
  },
  {
   "cell_type": "code",
   "execution_count": 12,
   "id": "f19bf30e-fbe3-494a-bf2c-09c03894abda",
   "metadata": {},
   "outputs": [
    {
     "name": "stdout",
     "output_type": "stream",
     "text": [
      "INFO:tensorflow:Assets written to: ../models/nn_model/assets\n"
     ]
    }
   ],
   "source": [
    "model.save('../models/nn_model')"
   ]
  },
  {
   "cell_type": "markdown",
   "id": "c4f717d2-41c2-4ca6-8e75-a862d6c85f04",
   "metadata": {
    "tags": []
   },
   "source": [
    "## GRU Training"
   ]
  },
  {
   "cell_type": "code",
   "execution_count": 13,
   "id": "0b1c06b1-f06b-4ed0-b105-1c10fe4f6aed",
   "metadata": {},
   "outputs": [],
   "source": [
    "EMBEDDING_DIM = 2**5\n",
    "\n",
    "# model = load_model('../models/gru_model')\n",
    "model = Sequential()\n",
    "model.add(Embedding(num_words, EMBEDDING_DIM, input_length=x_train.shape[1]))\n",
    "model.add(GRU(256, dropout=0.1))\n",
    "model.add(Dense(num_labels, activation='softmax'))\n",
    "model.compile(loss='categorical_crossentropy', optimizer='adam', metrics=['accuracy'])"
   ]
  },
  {
   "cell_type": "code",
   "execution_count": 14,
   "id": "93151ace-c098-4b88-a5e3-d30e0200d34a",
   "metadata": {},
   "outputs": [
    {
     "name": "stdout",
     "output_type": "stream",
     "text": [
      "Epoch 1/20\n"
     ]
    },
    {
     "name": "stderr",
     "output_type": "stream",
     "text": [
      "2022-10-24 21:04:39.437947: I tensorflow/core/grappler/optimizers/custom_graph_optimizer_registry.cc:114] Plugin optimizer for device_type GPU is enabled.\n",
      "2022-10-24 21:04:39.583586: I tensorflow/core/grappler/optimizers/custom_graph_optimizer_registry.cc:114] Plugin optimizer for device_type GPU is enabled.\n"
     ]
    },
    {
     "name": "stdout",
     "output_type": "stream",
     "text": [
      "   1/1407 [..............................] - ETA: 31:31 - loss: 3.2958 - accuracy: 0.0938"
     ]
    },
    {
     "name": "stderr",
     "output_type": "stream",
     "text": [
      "2022-10-24 21:04:39.717449: I tensorflow/core/grappler/optimizers/custom_graph_optimizer_registry.cc:114] Plugin optimizer for device_type GPU is enabled.\n"
     ]
    },
    {
     "name": "stdout",
     "output_type": "stream",
     "text": [
      "1407/1407 [==============================] - ETA: 0s - loss: 2.0907 - accuracy: 0.3818"
     ]
    },
    {
     "name": "stderr",
     "output_type": "stream",
     "text": [
      "2022-10-24 21:05:09.201940: I tensorflow/core/grappler/optimizers/custom_graph_optimizer_registry.cc:114] Plugin optimizer for device_type GPU is enabled.\n",
      "2022-10-24 21:05:09.255318: I tensorflow/core/grappler/optimizers/custom_graph_optimizer_registry.cc:114] Plugin optimizer for device_type GPU is enabled.\n"
     ]
    },
    {
     "name": "stdout",
     "output_type": "stream",
     "text": [
      "1407/1407 [==============================] - 32s 22ms/step - loss: 2.0907 - accuracy: 0.3818 - val_loss: 1.9372 - val_accuracy: 0.4403\n",
      "Epoch 2/20\n",
      "1407/1407 [==============================] - 29s 21ms/step - loss: 1.8477 - accuracy: 0.4629 - val_loss: 1.8356 - val_accuracy: 0.4613\n",
      "Epoch 3/20\n",
      "1407/1407 [==============================] - 29s 20ms/step - loss: 1.7713 - accuracy: 0.4774 - val_loss: 1.7645 - val_accuracy: 0.4793\n",
      "Epoch 4/20\n",
      "1407/1407 [==============================] - 27s 19ms/step - loss: 1.7106 - accuracy: 0.4910 - val_loss: 1.7252 - val_accuracy: 0.4940\n",
      "Epoch 5/20\n",
      "1407/1407 [==============================] - 28s 20ms/step - loss: 1.6713 - accuracy: 0.5010 - val_loss: 1.7064 - val_accuracy: 0.4983\n",
      "Epoch 6/20\n",
      "1407/1407 [==============================] - 28s 20ms/step - loss: 1.6433 - accuracy: 0.5057 - val_loss: 1.6816 - val_accuracy: 0.5010\n",
      "Epoch 7/20\n",
      "1407/1407 [==============================] - 28s 20ms/step - loss: 1.6314 - accuracy: 0.5106 - val_loss: 1.6782 - val_accuracy: 0.4990\n",
      "Epoch 8/20\n",
      "1407/1407 [==============================] - 28s 20ms/step - loss: 1.5933 - accuracy: 0.5144 - val_loss: 1.6718 - val_accuracy: 0.4967\n",
      "Epoch 9/20\n",
      "1407/1407 [==============================] - 28s 20ms/step - loss: 1.5670 - accuracy: 0.5204 - val_loss: 1.6536 - val_accuracy: 0.5043\n",
      "Epoch 10/20\n",
      "1407/1407 [==============================] - 28s 20ms/step - loss: 1.5444 - accuracy: 0.5242 - val_loss: 1.6608 - val_accuracy: 0.4997\n",
      "Epoch 11/20\n",
      "1407/1407 [==============================] - 28s 20ms/step - loss: 1.5210 - accuracy: 0.5312 - val_loss: 1.6906 - val_accuracy: 0.4947\n",
      "Epoch 12/20\n",
      "1407/1407 [==============================] - 28s 20ms/step - loss: 1.4933 - accuracy: 0.5379 - val_loss: 1.7012 - val_accuracy: 0.4927\n",
      "Epoch 13/20\n",
      "1407/1407 [==============================] - 28s 20ms/step - loss: 1.4710 - accuracy: 0.5419 - val_loss: 1.7149 - val_accuracy: 0.4970\n",
      "Epoch 14/20\n",
      "1407/1407 [==============================] - 28s 20ms/step - loss: 1.4510 - accuracy: 0.5453 - val_loss: 1.7501 - val_accuracy: 0.4833\n"
     ]
    }
   ],
   "source": [
    "my_callbacks  = [EarlyStopping(monitor='val_loss',\n",
    "                              min_delta=0,\n",
    "                              patience=5,\n",
    "                              mode='auto')]\n",
    "\n",
    "history = model.fit(x_train, y_train,\n",
    "                    epochs=20, batch_size=32,\n",
    "                    validation_data=(x_val, y_val),\n",
    "                    callbacks=my_callbacks,\n",
    "                    verbose=1\n",
    "                   )"
   ]
  },
  {
   "cell_type": "markdown",
   "id": "488a18af-7552-4b75-ae6c-79ab0fbe355a",
   "metadata": {
    "tags": []
   },
   "source": [
    "## GRU Evaluation"
   ]
  },
  {
   "cell_type": "code",
   "execution_count": 15,
   "id": "a344ab72-728b-4a5f-929f-0ab55c350ccf",
   "metadata": {},
   "outputs": [
    {
     "name": "stdout",
     "output_type": "stream",
     "text": [
      "157/157 [==============================] - 2s 11ms/step - loss: 1.7513 - accuracy: 0.4822\n"
     ]
    },
    {
     "data": {
      "text/plain": [
       "[1.751349687576294, 0.482200026512146]"
      ]
     },
     "execution_count": 15,
     "metadata": {},
     "output_type": "execute_result"
    }
   ],
   "source": [
    "model.evaluate(x_test, y_test)"
   ]
  },
  {
   "cell_type": "code",
   "execution_count": 16,
   "id": "075d9669-d3b6-467f-8128-1faccf2daf40",
   "metadata": {},
   "outputs": [
    {
     "name": "stderr",
     "output_type": "stream",
     "text": [
      "WARNING:absl:Found untraced functions such as gru_cell_layer_call_fn, gru_cell_layer_call_and_return_conditional_losses while saving (showing 2 of 2). These functions will not be directly callable after loading.\n"
     ]
    },
    {
     "name": "stdout",
     "output_type": "stream",
     "text": [
      "INFO:tensorflow:Assets written to: ../models/gru_model/assets\n"
     ]
    },
    {
     "name": "stderr",
     "output_type": "stream",
     "text": [
      "INFO:tensorflow:Assets written to: ../models/gru_model/assets\n"
     ]
    }
   ],
   "source": [
    "model.save('../models/gru_model')"
   ]
  },
  {
   "cell_type": "markdown",
   "id": "ce3f6b6a-7209-4ddb-900c-db9eca5878fe",
   "metadata": {
    "tags": []
   },
   "source": [
    "## LSTM Training"
   ]
  },
  {
   "cell_type": "code",
   "execution_count": 17,
   "id": "36526f8a-ee11-4206-9b79-df208ef193f4",
   "metadata": {},
   "outputs": [],
   "source": [
    "EMBEDDING_DIM = 2**5\n",
    "\n",
    "# model = load_model('../models/lstm_model')\n",
    "model = Sequential()\n",
    "model.add(Embedding(num_words, EMBEDDING_DIM, input_length=x_train.shape[1]))\n",
    "model.add(LSTM(64, dropout=0.1))\n",
    "model.add(Dense(num_labels, activation='softmax'))\n",
    "model.compile(loss='categorical_crossentropy', optimizer='adam', metrics=['accuracy'])"
   ]
  },
  {
   "cell_type": "code",
   "execution_count": 18,
   "id": "057cbd29-de46-4520-a226-b664a7183d7a",
   "metadata": {},
   "outputs": [
    {
     "name": "stdout",
     "output_type": "stream",
     "text": [
      "Epoch 1/10\n"
     ]
    },
    {
     "name": "stderr",
     "output_type": "stream",
     "text": [
      "2022-10-24 21:11:20.415076: I tensorflow/core/grappler/optimizers/custom_graph_optimizer_registry.cc:114] Plugin optimizer for device_type GPU is enabled.\n",
      "2022-10-24 21:11:20.564328: I tensorflow/core/grappler/optimizers/custom_graph_optimizer_registry.cc:114] Plugin optimizer for device_type GPU is enabled.\n"
     ]
    },
    {
     "name": "stdout",
     "output_type": "stream",
     "text": [
      "   1/1407 [..............................] - ETA: 30:45 - loss: 3.2984 - accuracy: 0.0000e+00"
     ]
    },
    {
     "name": "stderr",
     "output_type": "stream",
     "text": [
      "2022-10-24 21:11:20.695268: I tensorflow/core/grappler/optimizers/custom_graph_optimizer_registry.cc:114] Plugin optimizer for device_type GPU is enabled.\n"
     ]
    },
    {
     "name": "stdout",
     "output_type": "stream",
     "text": [
      "1407/1407 [==============================] - ETA: 0s - loss: 2.0954 - accuracy: 0.3953"
     ]
    },
    {
     "name": "stderr",
     "output_type": "stream",
     "text": [
      "2022-10-24 21:11:47.327354: I tensorflow/core/grappler/optimizers/custom_graph_optimizer_registry.cc:114] Plugin optimizer for device_type GPU is enabled.\n",
      "2022-10-24 21:11:47.382870: I tensorflow/core/grappler/optimizers/custom_graph_optimizer_registry.cc:114] Plugin optimizer for device_type GPU is enabled.\n"
     ]
    },
    {
     "name": "stdout",
     "output_type": "stream",
     "text": [
      "1407/1407 [==============================] - 29s 20ms/step - loss: 2.0954 - accuracy: 0.3953 - val_loss: 1.9248 - val_accuracy: 0.4427\n",
      "Epoch 2/10\n",
      "1407/1407 [==============================] - 28s 20ms/step - loss: 1.8336 - accuracy: 0.4682 - val_loss: 1.8151 - val_accuracy: 0.4693\n",
      "Epoch 3/10\n",
      "1407/1407 [==============================] - 27s 19ms/step - loss: 1.7578 - accuracy: 0.4829 - val_loss: 1.7551 - val_accuracy: 0.4817\n",
      "Epoch 4/10\n",
      "1407/1407 [==============================] - 27s 19ms/step - loss: 1.6906 - accuracy: 0.4986 - val_loss: 1.7009 - val_accuracy: 0.5047\n",
      "Epoch 5/10\n",
      "1407/1407 [==============================] - 27s 19ms/step - loss: 1.6445 - accuracy: 0.5078 - val_loss: 1.6798 - val_accuracy: 0.5017\n",
      "Epoch 6/10\n",
      "1407/1407 [==============================] - 28s 20ms/step - loss: 1.6094 - accuracy: 0.5147 - val_loss: 1.6596 - val_accuracy: 0.5070\n",
      "Epoch 7/10\n",
      "1407/1407 [==============================] - 30s 21ms/step - loss: 1.5821 - accuracy: 0.5174 - val_loss: 1.6512 - val_accuracy: 0.5070\n",
      "Epoch 8/10\n",
      "1407/1407 [==============================] - 28s 20ms/step - loss: 1.5587 - accuracy: 0.5242 - val_loss: 1.6429 - val_accuracy: 0.5127\n",
      "Epoch 9/10\n",
      "1407/1407 [==============================] - 28s 20ms/step - loss: 1.5395 - accuracy: 0.5275 - val_loss: 1.6371 - val_accuracy: 0.5123\n",
      "Epoch 10/10\n",
      "1407/1407 [==============================] - 27s 19ms/step - loss: 1.5214 - accuracy: 0.5311 - val_loss: 1.6539 - val_accuracy: 0.5100\n"
     ]
    }
   ],
   "source": [
    "my_callbacks  = [EarlyStopping(monitor='val_loss',\n",
    "                              min_delta=0,\n",
    "                              patience=3,\n",
    "                              mode='auto')]\n",
    "\n",
    "history = model.fit(x_train, y_train,\n",
    "                    epochs=10, batch_size=32,\n",
    "                    validation_data=(x_val, y_val),\n",
    "                    callbacks=my_callbacks,\n",
    "                    verbose=1\n",
    "                   )"
   ]
  },
  {
   "cell_type": "markdown",
   "id": "28bfb1e0-4b89-4744-b76f-747b3bafba22",
   "metadata": {
    "tags": []
   },
   "source": [
    "## LSTM Evaluation"
   ]
  },
  {
   "cell_type": "code",
   "execution_count": 19,
   "id": "6877371f-f1e6-437a-8976-642caa31252c",
   "metadata": {},
   "outputs": [
    {
     "name": "stdout",
     "output_type": "stream",
     "text": [
      "157/157 [==============================] - 2s 12ms/step - loss: 1.6350 - accuracy: 0.4990\n"
     ]
    },
    {
     "data": {
      "text/plain": [
       "[1.6349989175796509, 0.49900001287460327]"
      ]
     },
     "execution_count": 19,
     "metadata": {},
     "output_type": "execute_result"
    }
   ],
   "source": [
    "model.evaluate(x_test, y_test)"
   ]
  },
  {
   "cell_type": "code",
   "execution_count": 20,
   "id": "85ef9f67-7a21-4f7b-9635-e49bd1a21d07",
   "metadata": {},
   "outputs": [
    {
     "name": "stderr",
     "output_type": "stream",
     "text": [
      "WARNING:absl:Found untraced functions such as lstm_cell_layer_call_fn, lstm_cell_layer_call_and_return_conditional_losses while saving (showing 2 of 2). These functions will not be directly callable after loading.\n"
     ]
    },
    {
     "name": "stdout",
     "output_type": "stream",
     "text": [
      "INFO:tensorflow:Assets written to: ../models/lstm_model/assets\n"
     ]
    },
    {
     "name": "stderr",
     "output_type": "stream",
     "text": [
      "INFO:tensorflow:Assets written to: ../models/lstm_model/assets\n"
     ]
    }
   ],
   "source": [
    "model.save('../models/lstm_model')"
   ]
  }
 ],
 "metadata": {
  "kernelspec": {
   "display_name": "Python 3 (ipykernel)",
   "language": "python",
   "name": "python3"
  },
  "language_info": {
   "codemirror_mode": {
    "name": "ipython",
    "version": 3
   },
   "file_extension": ".py",
   "mimetype": "text/x-python",
   "name": "python",
   "nbconvert_exporter": "python",
   "pygments_lexer": "ipython3",
   "version": "3.10.4"
  }
 },
 "nbformat": 4,
 "nbformat_minor": 5
}
