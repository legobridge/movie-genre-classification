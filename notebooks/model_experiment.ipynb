{
 "cells": [
  {
   "cell_type": "markdown",
   "id": "34c05ca4-57cc-44be-a18d-1b6dd034c1ab",
   "metadata": {},
   "source": [
    "## Imports"
   ]
  },
  {
   "cell_type": "code",
   "execution_count": 1,
   "id": "ef3c1d5c-e603-46b3-8b77-e1a32f015ea7",
   "metadata": {},
   "outputs": [],
   "source": [
    "import pandas as pd\n",
    "import numpy as np\n",
    "import matplotlib.pyplot as plt\n",
    "%matplotlib inline\n",
    "import seaborn as sns"
   ]
  },
  {
   "cell_type": "code",
   "execution_count": 2,
   "id": "3484e51e-2c6e-4c92-96d4-33d076b6dc17",
   "metadata": {},
   "outputs": [],
   "source": [
    "from tensorflow.keras.preprocessing.sequence import pad_sequences\n",
    "from tensorflow.keras.preprocessing.text import Tokenizer\n",
    "from tensorflow.keras.models import Sequential, load_model\n",
    "from tensorflow.keras.layers import Embedding, LSTM, Dense, Dropout, SpatialDropout1D\n",
    "from tensorflow.keras.callbacks import Callback, EarlyStopping"
   ]
  },
  {
   "cell_type": "markdown",
   "id": "9dce3f74-75c2-4b51-87c2-d8c1a7bd1764",
   "metadata": {},
   "source": [
    "## Data Loading"
   ]
  },
  {
   "cell_type": "code",
   "execution_count": 3,
   "id": "b208b334-9cde-44d5-b1e6-98f86c636735",
   "metadata": {
    "tags": []
   },
   "outputs": [
    {
     "data": {
      "text/html": [
       "<div>\n",
       "<style scoped>\n",
       "    .dataframe tbody tr th:only-of-type {\n",
       "        vertical-align: middle;\n",
       "    }\n",
       "\n",
       "    .dataframe tbody tr th {\n",
       "        vertical-align: top;\n",
       "    }\n",
       "\n",
       "    .dataframe thead th {\n",
       "        text-align: right;\n",
       "    }\n",
       "</style>\n",
       "<table border=\"1\" class=\"dataframe\">\n",
       "  <thead>\n",
       "    <tr style=\"text-align: right;\">\n",
       "      <th></th>\n",
       "      <th>title</th>\n",
       "      <th>genre</th>\n",
       "      <th>description</th>\n",
       "      <th>year</th>\n",
       "      <th>description_stemmed</th>\n",
       "      <th>description_stemmed_string</th>\n",
       "    </tr>\n",
       "    <tr>\n",
       "      <th>id</th>\n",
       "      <th></th>\n",
       "      <th></th>\n",
       "      <th></th>\n",
       "      <th></th>\n",
       "      <th></th>\n",
       "      <th></th>\n",
       "    </tr>\n",
       "  </thead>\n",
       "  <tbody>\n",
       "    <tr>\n",
       "      <th>1</th>\n",
       "      <td>Oscar et la dame rose</td>\n",
       "      <td>drama</td>\n",
       "      <td>Listening in to a conversation between his do...</td>\n",
       "      <td>2009</td>\n",
       "      <td>['listen', 'convers', 'doctor', 'parent', '10-...</td>\n",
       "      <td>listen convers doctor parent 10-year-old oscar...</td>\n",
       "    </tr>\n",
       "    <tr>\n",
       "      <th>2</th>\n",
       "      <td>Cupid</td>\n",
       "      <td>thriller</td>\n",
       "      <td>A brother and sister with a past incestuous r...</td>\n",
       "      <td>1997</td>\n",
       "      <td>['brother', 'sister', 'past', 'incestu', 'rela...</td>\n",
       "      <td>brother sister past incestu relationship curre...</td>\n",
       "    </tr>\n",
       "    <tr>\n",
       "      <th>3</th>\n",
       "      <td>Young, Wild and Wonderful</td>\n",
       "      <td>adult</td>\n",
       "      <td>As the bus empties the students for their fie...</td>\n",
       "      <td>1980</td>\n",
       "      <td>['bu', 'empti', 'student', 'field', 'trip', 'm...</td>\n",
       "      <td>bu empti student field trip museum natur histo...</td>\n",
       "    </tr>\n",
       "    <tr>\n",
       "      <th>4</th>\n",
       "      <td>The Secret Sin</td>\n",
       "      <td>drama</td>\n",
       "      <td>To help their unemployed father make ends mee...</td>\n",
       "      <td>1915</td>\n",
       "      <td>['help', 'unemploy', 'father', 'make', 'end', ...</td>\n",
       "      <td>help unemploy father make end meet edith twin ...</td>\n",
       "    </tr>\n",
       "    <tr>\n",
       "      <th>5</th>\n",
       "      <td>The Unrecovered</td>\n",
       "      <td>drama</td>\n",
       "      <td>The film's title refers not only to the un-re...</td>\n",
       "      <td>2007</td>\n",
       "      <td>['film', \"'s\", 'titl', 'refer', 'un-recov', 'b...</td>\n",
       "      <td>film 's titl refer un-recov bodi ground zero a...</td>\n",
       "    </tr>\n",
       "  </tbody>\n",
       "</table>\n",
       "</div>"
      ],
      "text/plain": [
       "                          title     genre  \\\n",
       "id                                          \n",
       "1        Oscar et la dame rose      drama   \n",
       "2                        Cupid   thriller   \n",
       "3    Young, Wild and Wonderful      adult   \n",
       "4               The Secret Sin      drama   \n",
       "5              The Unrecovered      drama   \n",
       "\n",
       "                                          description  year  \\\n",
       "id                                                            \n",
       "1    Listening in to a conversation between his do...  2009   \n",
       "2    A brother and sister with a past incestuous r...  1997   \n",
       "3    As the bus empties the students for their fie...  1980   \n",
       "4    To help their unemployed father make ends mee...  1915   \n",
       "5    The film's title refers not only to the un-re...  2007   \n",
       "\n",
       "                                  description_stemmed  \\\n",
       "id                                                      \n",
       "1   ['listen', 'convers', 'doctor', 'parent', '10-...   \n",
       "2   ['brother', 'sister', 'past', 'incestu', 'rela...   \n",
       "3   ['bu', 'empti', 'student', 'field', 'trip', 'm...   \n",
       "4   ['help', 'unemploy', 'father', 'make', 'end', ...   \n",
       "5   ['film', \"'s\", 'titl', 'refer', 'un-recov', 'b...   \n",
       "\n",
       "                           description_stemmed_string  \n",
       "id                                                     \n",
       "1   listen convers doctor parent 10-year-old oscar...  \n",
       "2   brother sister past incestu relationship curre...  \n",
       "3   bu empti student field trip museum natur histo...  \n",
       "4   help unemploy father make end meet edith twin ...  \n",
       "5   film 's titl refer un-recov bodi ground zero a...  "
      ]
     },
     "execution_count": 3,
     "metadata": {},
     "output_type": "execute_result"
    }
   ],
   "source": [
    "train_df = pd.read_csv('../data/processed/train_data_processed.csv', index_col='id')\n",
    "train_df.head()"
   ]
  },
  {
   "cell_type": "code",
   "execution_count": 4,
   "id": "e8fd8b16-f747-44dd-8bc9-ff44b7801fe5",
   "metadata": {},
   "outputs": [
    {
     "data": {
      "text/html": [
       "<div>\n",
       "<style scoped>\n",
       "    .dataframe tbody tr th:only-of-type {\n",
       "        vertical-align: middle;\n",
       "    }\n",
       "\n",
       "    .dataframe tbody tr th {\n",
       "        vertical-align: top;\n",
       "    }\n",
       "\n",
       "    .dataframe thead th {\n",
       "        text-align: right;\n",
       "    }\n",
       "</style>\n",
       "<table border=\"1\" class=\"dataframe\">\n",
       "  <thead>\n",
       "    <tr style=\"text-align: right;\">\n",
       "      <th></th>\n",
       "      <th>title</th>\n",
       "      <th>genre</th>\n",
       "      <th>description</th>\n",
       "      <th>year</th>\n",
       "      <th>description_stemmed</th>\n",
       "      <th>description_stemmed_string</th>\n",
       "    </tr>\n",
       "    <tr>\n",
       "      <th>id</th>\n",
       "      <th></th>\n",
       "      <th></th>\n",
       "      <th></th>\n",
       "      <th></th>\n",
       "      <th></th>\n",
       "      <th></th>\n",
       "    </tr>\n",
       "  </thead>\n",
       "  <tbody>\n",
       "    <tr>\n",
       "      <th>49673</th>\n",
       "      <td>The Empire Builders</td>\n",
       "      <td>0</td>\n",
       "      <td>A bizarre couple and their seventeen-year-old...</td>\n",
       "      <td>2010</td>\n",
       "      <td>['bizarr', 'coupl', 'seventeen-year-old', 'dau...</td>\n",
       "      <td>bizarr coupl seventeen-year-old daughter trap ...</td>\n",
       "    </tr>\n",
       "    <tr>\n",
       "      <th>48950</th>\n",
       "      <td>The Unknown (20</td>\n",
       "      <td>12</td>\n",
       "      <td>The world has been taken over by The Unknown....</td>\n",
       "      <td>9/II</td>\n",
       "      <td>['world', 'taken', 'unknown', 'one', 'know', '...</td>\n",
       "      <td>world taken unknown one know done new set rule...</td>\n",
       "    </tr>\n",
       "    <tr>\n",
       "      <th>15205</th>\n",
       "      <td>\"Nanny Mother\"</td>\n",
       "      <td>0</td>\n",
       "      <td>The drama tells the story about a variety of ...</td>\n",
       "      <td>2009</td>\n",
       "      <td>['drama', 'tell', 'stori', 'varieti', 'entangl...</td>\n",
       "      <td>drama tell stori varieti entangl sever famili ...</td>\n",
       "    </tr>\n",
       "    <tr>\n",
       "      <th>41475</th>\n",
       "      <td>Pan Vok odchází</td>\n",
       "      <td>4</td>\n",
       "      <td>Petr Vok ('Martin Ruzek' (qv)) changes entire...</td>\n",
       "      <td>1979</td>\n",
       "      <td>['petr', 'vok', \"'martin\", 'ruzek', \"'\", 'qv',...</td>\n",
       "      <td>petr vok 'martin ruzek ' qv chang entir death ...</td>\n",
       "    </tr>\n",
       "    <tr>\n",
       "      <th>39977</th>\n",
       "      <td>Shadows (??</td>\n",
       "      <td>7</td>\n",
       "      <td>Jeremy moves his family consisting of his son...</td>\n",
       "      <td>?/IX</td>\n",
       "      <td>['jeremi', 'move', 'famili', 'consist', 'son',...</td>\n",
       "      <td>jeremi move famili consist son ben 17 daughter...</td>\n",
       "    </tr>\n",
       "    <tr>\n",
       "      <th>...</th>\n",
       "      <td>...</td>\n",
       "      <td>...</td>\n",
       "      <td>...</td>\n",
       "      <td>...</td>\n",
       "      <td>...</td>\n",
       "      <td>...</td>\n",
       "    </tr>\n",
       "    <tr>\n",
       "      <th>44567</th>\n",
       "      <td>Codex Atlanticus</td>\n",
       "      <td>3</td>\n",
       "      <td>The true about the folios in the Codex Atlant...</td>\n",
       "      <td>2013</td>\n",
       "      <td>['true', 'folio', 'codex', 'atlanticu', 'deal'...</td>\n",
       "      <td>true folio codex atlanticu deal variou subject...</td>\n",
       "    </tr>\n",
       "    <tr>\n",
       "      <th>30281</th>\n",
       "      <td>\"Undercover Boss Australia\"</td>\n",
       "      <td>6</td>\n",
       "      <td>Top executives from high profile Australian b...</td>\n",
       "      <td>2010</td>\n",
       "      <td>['top', 'execut', 'high', 'profil', 'australia...</td>\n",
       "      <td>top execut high profil australian busi go unde...</td>\n",
       "    </tr>\n",
       "    <tr>\n",
       "      <th>6638</th>\n",
       "      <td>Youthful Folly</td>\n",
       "      <td>0</td>\n",
       "      <td>Nancy is a restless young girl tired of livin...</td>\n",
       "      <td>1920</td>\n",
       "      <td>['nanci', 'restless', 'young', 'girl', 'tire',...</td>\n",
       "      <td>nanci restless young girl tire live plantat th...</td>\n",
       "    </tr>\n",
       "    <tr>\n",
       "      <th>35344</th>\n",
       "      <td>Sekai de ichiban utsukushii yoru</td>\n",
       "      <td>0</td>\n",
       "      <td>Its streets overrun with children, the villag...</td>\n",
       "      <td>2008</td>\n",
       "      <td>['street', 'overrun', 'children', 'villag', 'k...</td>\n",
       "      <td>street overrun children villag kanam distingui...</td>\n",
       "    </tr>\n",
       "    <tr>\n",
       "      <th>23721</th>\n",
       "      <td>One Korea 3D</td>\n",
       "      <td>3</td>\n",
       "      <td>One Korea 3D (OK3D) is the first modern docum...</td>\n",
       "      <td>????</td>\n",
       "      <td>['one', 'korea', '3d', 'ok3d', 'first', 'moder...</td>\n",
       "      <td>one korea 3d ok3d first modern documentari tel...</td>\n",
       "    </tr>\n",
       "  </tbody>\n",
       "</table>\n",
       "<p>54214 rows × 6 columns</p>\n",
       "</div>"
      ],
      "text/plain": [
       "                                    title  genre  \\\n",
       "id                                                 \n",
       "49673                The Empire Builders       0   \n",
       "48950                     The Unknown (20     12   \n",
       "15205                     \"Nanny Mother\"       0   \n",
       "41475                    Pan Vok odchází       4   \n",
       "39977                         Shadows (??      7   \n",
       "...                                   ...    ...   \n",
       "44567                   Codex Atlanticus       3   \n",
       "30281        \"Undercover Boss Australia\"       6   \n",
       "6638                      Youthful Folly       0   \n",
       "35344   Sekai de ichiban utsukushii yoru       0   \n",
       "23721                       One Korea 3D       3   \n",
       "\n",
       "                                             description  year  \\\n",
       "id                                                               \n",
       "49673   A bizarre couple and their seventeen-year-old...  2010   \n",
       "48950   The world has been taken over by The Unknown....  9/II   \n",
       "15205   The drama tells the story about a variety of ...  2009   \n",
       "41475   Petr Vok ('Martin Ruzek' (qv)) changes entire...  1979   \n",
       "39977   Jeremy moves his family consisting of his son...  ?/IX   \n",
       "...                                                  ...   ...   \n",
       "44567   The true about the folios in the Codex Atlant...  2013   \n",
       "30281   Top executives from high profile Australian b...  2010   \n",
       "6638    Nancy is a restless young girl tired of livin...  1920   \n",
       "35344   Its streets overrun with children, the villag...  2008   \n",
       "23721   One Korea 3D (OK3D) is the first modern docum...  ????   \n",
       "\n",
       "                                     description_stemmed  \\\n",
       "id                                                         \n",
       "49673  ['bizarr', 'coupl', 'seventeen-year-old', 'dau...   \n",
       "48950  ['world', 'taken', 'unknown', 'one', 'know', '...   \n",
       "15205  ['drama', 'tell', 'stori', 'varieti', 'entangl...   \n",
       "41475  ['petr', 'vok', \"'martin\", 'ruzek', \"'\", 'qv',...   \n",
       "39977  ['jeremi', 'move', 'famili', 'consist', 'son',...   \n",
       "...                                                  ...   \n",
       "44567  ['true', 'folio', 'codex', 'atlanticu', 'deal'...   \n",
       "30281  ['top', 'execut', 'high', 'profil', 'australia...   \n",
       "6638   ['nanci', 'restless', 'young', 'girl', 'tire',...   \n",
       "35344  ['street', 'overrun', 'children', 'villag', 'k...   \n",
       "23721  ['one', 'korea', '3d', 'ok3d', 'first', 'moder...   \n",
       "\n",
       "                              description_stemmed_string  \n",
       "id                                                        \n",
       "49673  bizarr coupl seventeen-year-old daughter trap ...  \n",
       "48950  world taken unknown one know done new set rule...  \n",
       "15205  drama tell stori varieti entangl sever famili ...  \n",
       "41475  petr vok 'martin ruzek ' qv chang entir death ...  \n",
       "39977  jeremi move famili consist son ben 17 daughter...  \n",
       "...                                                  ...  \n",
       "44567  true folio codex atlanticu deal variou subject...  \n",
       "30281  top execut high profil australian busi go unde...  \n",
       "6638   nanci restless young girl tire live plantat th...  \n",
       "35344  street overrun children villag kanam distingui...  \n",
       "23721  one korea 3d ok3d first modern documentari tel...  \n",
       "\n",
       "[54214 rows x 6 columns]"
      ]
     },
     "execution_count": 4,
     "metadata": {},
     "output_type": "execute_result"
    }
   ],
   "source": [
    "unique_genres = train_df['genre'].unique()\n",
    "genre_encoding = dict([(unique_genres[i], i) for i in range(unique_genres.shape[0])])\n",
    "train_df['genre'] = train_df['genre'].map(genre_encoding)\n",
    "train_df = train_df.sample(frac=1, random_state=2)\n",
    "train_df"
   ]
  },
  {
   "cell_type": "code",
   "execution_count": 5,
   "id": "94b741d1-8175-4b7c-91c8-ff151d4d0e55",
   "metadata": {},
   "outputs": [
    {
     "data": {
      "text/plain": [
       "27"
      ]
     },
     "execution_count": 5,
     "metadata": {},
     "output_type": "execute_result"
    }
   ],
   "source": [
    "num_labels = train_df['genre'].nunique()\n",
    "num_labels"
   ]
  },
  {
   "cell_type": "code",
   "execution_count": 6,
   "id": "6170baee-9fe2-41e0-8694-40ce00bb3d45",
   "metadata": {},
   "outputs": [],
   "source": [
    "x = train_df['description_stemmed_string'].values\n",
    "y = pd.get_dummies(train_df['genre']).values"
   ]
  },
  {
   "cell_type": "code",
   "execution_count": 7,
   "id": "c66f6cd8-8b38-4061-b155-a6ee802bf9f6",
   "metadata": {},
   "outputs": [],
   "source": [
    "train_set_size = 10000\n",
    "val_set_size = 2000\n",
    "test_set_size = 2000\n",
    "\n",
    "x_train = x[:train_set_size]\n",
    "x_val = x[train_set_size:train_set_size+val_set_size]\n",
    "x_test = x[train_set_size+val_set_size:train_set_size+val_set_size+test_set_size]\n",
    "\n",
    "y_train = y[:train_set_size]\n",
    "y_val = y[train_set_size:train_set_size+val_set_size]\n",
    "y_test = y[train_set_size+val_set_size:train_set_size+val_set_size+test_set_size]"
   ]
  },
  {
   "cell_type": "markdown",
   "id": "613c1f0c-639a-4d43-8994-8e5e4020664e",
   "metadata": {},
   "source": [
    "## Tokenization"
   ]
  },
  {
   "cell_type": "code",
   "execution_count": 8,
   "id": "18604f3f-ef64-47a3-8f0a-ece2358dc21d",
   "metadata": {},
   "outputs": [],
   "source": [
    "num_words = 2**8\n",
    "max_len = 20\n",
    "\n",
    "tokenizer = Tokenizer(num_words=num_words, filters='!\"#$%&()*+,-./:;<=>?@[\\]^_`{|}~', lower=True)\n",
    "tokenizer.fit_on_texts(x_train)\n",
    "\n",
    "x_train = tokenizer.texts_to_sequences(x_train)\n",
    "x_train = pad_sequences(x_train, maxlen=max_len)\n",
    "\n",
    "x_val = tokenizer.texts_to_sequences(x_val)\n",
    "x_val = pad_sequences(x_val, maxlen=max_len)\n",
    "\n",
    "x_test = tokenizer.texts_to_sequences(x_test)\n",
    "x_test = pad_sequences(x_test, maxlen=max_len)"
   ]
  },
  {
   "cell_type": "markdown",
   "id": "ce3f6b6a-7209-4ddb-900c-db9eca5878fe",
   "metadata": {},
   "source": [
    "## Training"
   ]
  },
  {
   "cell_type": "code",
   "execution_count": 9,
   "id": "36526f8a-ee11-4206-9b79-df208ef193f4",
   "metadata": {},
   "outputs": [
    {
     "name": "stdout",
     "output_type": "stream",
     "text": [
      "Metal device set to: Apple M1 Pro\n",
      "WARNING:tensorflow:Layer lstm will not use cuDNN kernels since it doesn't meet the criteria. It will use a generic GPU kernel as fallback when running on GPU.\n"
     ]
    },
    {
     "name": "stderr",
     "output_type": "stream",
     "text": [
      "2022-10-23 23:36:23.092215: I tensorflow/core/common_runtime/pluggable_device/pluggable_device_factory.cc:306] Could not identify NUMA node of platform GPU ID 0, defaulting to 0. Your kernel may not have been built with NUMA support.\n",
      "2022-10-23 23:36:23.092325: I tensorflow/core/common_runtime/pluggable_device/pluggable_device_factory.cc:272] Created TensorFlow device (/job:localhost/replica:0/task:0/device:GPU:0 with 0 MB memory) -> physical PluggableDevice (device: 0, name: METAL, pci bus id: <undefined>)\n"
     ]
    }
   ],
   "source": [
    "EMBEDDING_DIM = 2**4\n",
    "\n",
    "# model = load_model('../models/lstm_model')\n",
    "model = Sequential()\n",
    "model.add(Embedding(num_words, EMBEDDING_DIM, input_length=x_train.shape[1]))\n",
    "model.add(LSTM(100, dropout=0.1, recurrent_dropout=0.2))\n",
    "model.add(Dense(num_labels, activation='softmax'))\n",
    "model.compile(loss='categorical_crossentropy', optimizer='adam', metrics=['accuracy'])"
   ]
  },
  {
   "cell_type": "code",
   "execution_count": 11,
   "id": "057cbd29-de46-4520-a226-b664a7183d7a",
   "metadata": {},
   "outputs": [
    {
     "name": "stdout",
     "output_type": "stream",
     "text": [
      "WARNING:tensorflow:Layer lstm will not use cuDNN kernels since it doesn't meet the criteria. It will use a generic GPU kernel as fallback when running on GPU.\n"
     ]
    }
   ],
   "source": [
    "my_callbacks  = [EarlyStopping(monitor='val_loss',\n",
    "                              min_delta=0,\n",
    "                              patience=2,\n",
    "                              mode='auto')]\n",
    "\n",
    "history = model.fit(x_train, y_train,\n",
    "                    epochs=6, batch_size=32,\n",
    "                    validation_data=(x_val, y_val),\n",
    "                    callbacks=my_callbacks,\n",
    "                    verbose=1\n",
    "                   )"
   ]
  },
  {
   "cell_type": "markdown",
   "id": "28bfb1e0-4b89-4744-b76f-747b3bafba22",
   "metadata": {},
   "source": [
    "## Evaluation"
   ]
  },
  {
   "cell_type": "code",
   "execution_count": 12,
   "id": "6877371f-f1e6-437a-8976-642caa31252c",
   "metadata": {},
   "outputs": [
    {
     "name": "stderr",
     "output_type": "stream",
     "text": [
      "2022-10-23 23:36:25.467233: W tensorflow/core/platform/profile_utils/cpu_utils.cc:128] Failed to get CPU frequency: 0 Hz\n",
      "2022-10-23 23:36:25.621841: I tensorflow/core/grappler/optimizers/custom_graph_optimizer_registry.cc:114] Plugin optimizer for device_type GPU is enabled.\n"
     ]
    },
    {
     "name": "stdout",
     "output_type": "stream",
     "text": [
      "63/63 [==============================] - 4s 58ms/step - loss: 1.9794 - accuracy: 0.4350\n"
     ]
    },
    {
     "data": {
      "text/plain": [
       "[1.979418158531189, 0.4350000321865082]"
      ]
     },
     "execution_count": 12,
     "metadata": {},
     "output_type": "execute_result"
    }
   ],
   "source": [
    "model.evaluate(x_test, y_test)"
   ]
  },
  {
   "cell_type": "code",
   "execution_count": 13,
   "id": "85ef9f67-7a21-4f7b-9635-e49bd1a21d07",
   "metadata": {},
   "outputs": [
    {
     "name": "stdout",
     "output_type": "stream",
     "text": [
      "INFO:tensorflow:Assets written to: ../models/lstm_model/assets\n"
     ]
    }
   ],
   "source": [
    "model.save('../models/lstm_model')"
   ]
  }
 ],
 "metadata": {
  "kernelspec": {
   "display_name": "Python 3 (ipykernel)",
   "language": "python",
   "name": "python3"
  },
  "language_info": {
   "codemirror_mode": {
    "name": "ipython",
    "version": 3
   },
   "file_extension": ".py",
   "mimetype": "text/x-python",
   "name": "python",
   "nbconvert_exporter": "python",
   "pygments_lexer": "ipython3",
   "version": "3.10.4"
  }
 },
 "nbformat": 4,
 "nbformat_minor": 5
}
