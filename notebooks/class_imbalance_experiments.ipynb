{
 "cells": [
  {
   "cell_type": "markdown",
   "id": "641c88d8-1354-4487-9553-6ef1de9675ec",
   "metadata": {},
   "source": [
    "# Class Imbalance Experiments\n",
    "\n",
    "This notebook was used for experiments regarding our attempt to handle class imbalance via oversampling and SMOTE."
   ]
  },
  {
   "cell_type": "markdown",
   "id": "7188ae64-13e8-4e18-88fc-4f34463fb09b",
   "metadata": {},
   "source": [
    "# Imports"
   ]
  },
  {
   "cell_type": "code",
   "execution_count": null,
   "id": "a5f1120c-a298-4899-94a5-1decbf730610",
   "metadata": {},
   "outputs": [],
   "source": [
    "!pip install seaborn\n",
    "!pip install imblearn"
   ]
  },
  {
   "cell_type": "code",
   "execution_count": 2,
   "id": "223c2e7b-b9b8-499b-81f4-f941804e72b5",
   "metadata": {},
   "outputs": [],
   "source": [
    "import pandas as pd\n",
    "import numpy as np\n",
    "import matplotlib.pyplot as plt\n",
    "import seaborn as sns\n",
    "%matplotlib inline"
   ]
  },
  {
   "cell_type": "markdown",
   "id": "fd32563a-d9c0-462a-97a8-79a159a8d17a",
   "metadata": {},
   "source": [
    "# Data Loading"
   ]
  },
  {
   "cell_type": "code",
   "execution_count": 3,
   "id": "50f02013-223b-4afd-87d3-e760de2c9265",
   "metadata": {},
   "outputs": [
    {
     "data": {
      "text/html": [
       "<div>\n",
       "<style scoped>\n",
       "    .dataframe tbody tr th:only-of-type {\n",
       "        vertical-align: middle;\n",
       "    }\n",
       "\n",
       "    .dataframe tbody tr th {\n",
       "        vertical-align: top;\n",
       "    }\n",
       "\n",
       "    .dataframe thead th {\n",
       "        text-align: right;\n",
       "    }\n",
       "</style>\n",
       "<table border=\"1\" class=\"dataframe\">\n",
       "  <thead>\n",
       "    <tr style=\"text-align: right;\">\n",
       "      <th></th>\n",
       "      <th>id</th>\n",
       "      <th>title</th>\n",
       "      <th>genre</th>\n",
       "      <th>description</th>\n",
       "      <th>year</th>\n",
       "      <th>language</th>\n",
       "      <th>processed_description_string</th>\n",
       "    </tr>\n",
       "  </thead>\n",
       "  <tbody>\n",
       "    <tr>\n",
       "      <th>0</th>\n",
       "      <td>1</td>\n",
       "      <td>Oscar et la dame rose</td>\n",
       "      <td>drama</td>\n",
       "      <td>Listening in to a conversation between his do...</td>\n",
       "      <td>2009</td>\n",
       "      <td>English</td>\n",
       "      <td>listen convers doctor parent 10-year-old oscar...</td>\n",
       "    </tr>\n",
       "    <tr>\n",
       "      <th>1</th>\n",
       "      <td>2</td>\n",
       "      <td>Cupid</td>\n",
       "      <td>thriller</td>\n",
       "      <td>A brother and sister with a past incestuous r...</td>\n",
       "      <td>1997</td>\n",
       "      <td>English</td>\n",
       "      <td>brother sister past incestu relationship curre...</td>\n",
       "    </tr>\n",
       "    <tr>\n",
       "      <th>2</th>\n",
       "      <td>3</td>\n",
       "      <td>Young, Wild and Wonderful</td>\n",
       "      <td>adult</td>\n",
       "      <td>As the bus empties the students for their fie...</td>\n",
       "      <td>1980</td>\n",
       "      <td>English</td>\n",
       "      <td>bu empti student field trip museum natur histo...</td>\n",
       "    </tr>\n",
       "    <tr>\n",
       "      <th>3</th>\n",
       "      <td>4</td>\n",
       "      <td>The Secret Sin</td>\n",
       "      <td>drama</td>\n",
       "      <td>To help their unemployed father make ends mee...</td>\n",
       "      <td>1915</td>\n",
       "      <td>English</td>\n",
       "      <td>help unemploy father make end meet edith twin ...</td>\n",
       "    </tr>\n",
       "    <tr>\n",
       "      <th>4</th>\n",
       "      <td>5</td>\n",
       "      <td>The Unrecovered</td>\n",
       "      <td>drama</td>\n",
       "      <td>The film's title refers not only to the un-re...</td>\n",
       "      <td>2007</td>\n",
       "      <td>English</td>\n",
       "      <td>film titl refer un-recov bodi ground zero also...</td>\n",
       "    </tr>\n",
       "    <tr>\n",
       "      <th>...</th>\n",
       "      <td>...</td>\n",
       "      <td>...</td>\n",
       "      <td>...</td>\n",
       "      <td>...</td>\n",
       "      <td>...</td>\n",
       "      <td>...</td>\n",
       "      <td>...</td>\n",
       "    </tr>\n",
       "    <tr>\n",
       "      <th>48785</th>\n",
       "      <td>54210</td>\n",
       "      <td>\"Bonino\"</td>\n",
       "      <td>comedy</td>\n",
       "      <td>This short-lived NBC live sitcom centered on ...</td>\n",
       "      <td>1953</td>\n",
       "      <td>English</td>\n",
       "      <td>short-liv nbc live sitcom center bonino world-...</td>\n",
       "    </tr>\n",
       "    <tr>\n",
       "      <th>48786</th>\n",
       "      <td>54211</td>\n",
       "      <td>Dead Girls Don't Cry</td>\n",
       "      <td>horror</td>\n",
       "      <td>The NEXT Generation of EXPLOITATION. The sist...</td>\n",
       "      <td>????</td>\n",
       "      <td>English</td>\n",
       "      <td>next gener exploit sister kapa - bay soror hou...</td>\n",
       "    </tr>\n",
       "    <tr>\n",
       "      <th>48787</th>\n",
       "      <td>54212</td>\n",
       "      <td>Ronald Goedemondt: Ze bestaan echt</td>\n",
       "      <td>documentary</td>\n",
       "      <td>Ze bestaan echt, is a stand-up comedy about g...</td>\n",
       "      <td>2008</td>\n",
       "      <td>English</td>\n",
       "      <td>ze bestaan echt stand-up comedi grow face fear...</td>\n",
       "    </tr>\n",
       "    <tr>\n",
       "      <th>48788</th>\n",
       "      <td>54213</td>\n",
       "      <td>Make Your Own Bed</td>\n",
       "      <td>comedy</td>\n",
       "      <td>Walter and Vivian live in the country and hav...</td>\n",
       "      <td>1944</td>\n",
       "      <td>English</td>\n",
       "      <td>walter vivian live countri difficult time keep...</td>\n",
       "    </tr>\n",
       "    <tr>\n",
       "      <th>48789</th>\n",
       "      <td>54214</td>\n",
       "      <td>Nature's Fury: Storm of the Century</td>\n",
       "      <td>history</td>\n",
       "      <td>On Labor Day Weekend, 1935, the most intense ...</td>\n",
       "      <td>2006</td>\n",
       "      <td>English</td>\n",
       "      <td>labor day weekend 1935 intens hurrican ever ma...</td>\n",
       "    </tr>\n",
       "  </tbody>\n",
       "</table>\n",
       "<p>48790 rows × 7 columns</p>\n",
       "</div>"
      ],
      "text/plain": [
       "          id                                  title        genre  \\\n",
       "0          1                 Oscar et la dame rose         drama   \n",
       "1          2                                 Cupid      thriller   \n",
       "2          3             Young, Wild and Wonderful         adult   \n",
       "3          4                        The Secret Sin         drama   \n",
       "4          5                       The Unrecovered         drama   \n",
       "...      ...                                    ...          ...   \n",
       "48785  54210                              \"Bonino\"        comedy   \n",
       "48786  54211                  Dead Girls Don't Cry        horror   \n",
       "48787  54212    Ronald Goedemondt: Ze bestaan echt   documentary   \n",
       "48788  54213                     Make Your Own Bed        comedy   \n",
       "48789  54214   Nature's Fury: Storm of the Century       history   \n",
       "\n",
       "                                             description  year language  \\\n",
       "0       Listening in to a conversation between his do...  2009  English   \n",
       "1       A brother and sister with a past incestuous r...  1997  English   \n",
       "2       As the bus empties the students for their fie...  1980  English   \n",
       "3       To help their unemployed father make ends mee...  1915  English   \n",
       "4       The film's title refers not only to the un-re...  2007  English   \n",
       "...                                                  ...   ...      ...   \n",
       "48785   This short-lived NBC live sitcom centered on ...  1953  English   \n",
       "48786   The NEXT Generation of EXPLOITATION. The sist...  ????  English   \n",
       "48787   Ze bestaan echt, is a stand-up comedy about g...  2008  English   \n",
       "48788   Walter and Vivian live in the country and hav...  1944  English   \n",
       "48789   On Labor Day Weekend, 1935, the most intense ...  2006  English   \n",
       "\n",
       "                            processed_description_string  \n",
       "0      listen convers doctor parent 10-year-old oscar...  \n",
       "1      brother sister past incestu relationship curre...  \n",
       "2      bu empti student field trip museum natur histo...  \n",
       "3      help unemploy father make end meet edith twin ...  \n",
       "4      film titl refer un-recov bodi ground zero also...  \n",
       "...                                                  ...  \n",
       "48785  short-liv nbc live sitcom center bonino world-...  \n",
       "48786  next gener exploit sister kapa - bay soror hou...  \n",
       "48787  ze bestaan echt stand-up comedi grow face fear...  \n",
       "48788  walter vivian live countri difficult time keep...  \n",
       "48789  labor day weekend 1935 intens hurrican ever ma...  \n",
       "\n",
       "[48790 rows x 7 columns]"
      ]
     },
     "execution_count": 3,
     "metadata": {},
     "output_type": "execute_result"
    }
   ],
   "source": [
    "data_folder = '../data/processed/'\n",
    "train_df = pd.read_csv(data_folder+'train_data_processed.csv')\n",
    "train_df"
   ]
  },
  {
   "cell_type": "code",
   "execution_count": 4,
   "id": "e2582f03-b313-45e4-bcd6-7cc7ee1c8c97",
   "metadata": {},
   "outputs": [],
   "source": [
    "train_df = train_df[train_df['language']=='English']"
   ]
  },
  {
   "cell_type": "code",
   "execution_count": 5,
   "id": "a6d3a2d0-12ac-484d-ad2d-3ab7570a9764",
   "metadata": {},
   "outputs": [
    {
     "data": {
      "text/plain": [
       "<AxesSubplot:xlabel='count', ylabel='genre'>"
      ]
     },
     "execution_count": 5,
     "metadata": {},
     "output_type": "execute_result"
    },
    {
     "data": {
      "image/png": "[encoded data removed]",
      "text/plain": [
       "<Figure size 640x480 with 1 Axes>"
      ]
     },
     "metadata": {},
     "output_type": "display_data"
    }
   ],
   "source": [
    "sns.countplot(data=train_df, y='genre',order=train_df['genre'].value_counts().index)"
   ]
  },
  {
   "cell_type": "markdown",
   "id": "2b3c0d62-6b1a-41aa-bf14-62ee70e76a2a",
   "metadata": {},
   "source": [
    "# Dealing with Data Imbalance with Oversampling"
   ]
  },
  {
   "cell_type": "code",
   "execution_count": 6,
   "id": "b7514aa2-72d3-4fa1-a0e2-907aff615e05",
   "metadata": {},
   "outputs": [],
   "source": [
    "from imblearn.over_sampling import RandomOverSampler"
   ]
  },
  {
   "cell_type": "code",
   "execution_count": 7,
   "id": "5bcea278-7f9b-4915-ae9b-daa19bacb735",
   "metadata": {},
   "outputs": [],
   "source": [
    "X, y = train_df['processed_description_string'],train_df['genre']"
   ]
  },
  {
   "cell_type": "code",
   "execution_count": 8,
   "id": "dfb64568-e688-4744-8787-18d5bfb3b582",
   "metadata": {},
   "outputs": [
    {
     "data": {
      "text/plain": [
       "<AxesSubplot:xlabel='count', ylabel='genre'>"
      ]
     },
     "execution_count": 8,
     "metadata": {},
     "output_type": "execute_result"
    },
    {
     "data": {
      "image/png": "[encoded data removed]",
      "text/plain": [
       "<Figure size 640x480 with 1 Axes>"
      ]
     },
     "metadata": {},
     "output_type": "display_data"
    }
   ],
   "source": [
    "oversample = RandomOverSampler(sampling_strategy='not majority')\n",
    "# fit and apply the transform\n",
    "X_over, y_over = oversample.fit_resample(X.values.reshape(-1,1), y)\n",
    "# summarize class distribution\n",
    "sns.countplot(y=y_over)"
   ]
  },
  {
   "cell_type": "code",
   "execution_count": 9,
   "id": "abf1d395-674f-4dd5-bf8c-ed166e633dde",
   "metadata": {},
   "outputs": [
    {
     "data": {
      "text/html": [
       "<div>\n",
       "<style scoped>\n",
       "    .dataframe tbody tr th:only-of-type {\n",
       "        vertical-align: middle;\n",
       "    }\n",
       "\n",
       "    .dataframe tbody tr th {\n",
       "        vertical-align: top;\n",
       "    }\n",
       "\n",
       "    .dataframe thead th {\n",
       "        text-align: right;\n",
       "    }\n",
       "</style>\n",
       "<table border=\"1\" class=\"dataframe\">\n",
       "  <thead>\n",
       "    <tr style=\"text-align: right;\">\n",
       "      <th></th>\n",
       "      <th>description</th>\n",
       "      <th>genre</th>\n",
       "    </tr>\n",
       "  </thead>\n",
       "  <tbody>\n",
       "    <tr>\n",
       "      <th>0</th>\n",
       "      <td>listen convers doctor parent 10-year-old oscar...</td>\n",
       "      <td>drama</td>\n",
       "    </tr>\n",
       "    <tr>\n",
       "      <th>1</th>\n",
       "      <td>brother sister past incestu relationship curre...</td>\n",
       "      <td>thriller</td>\n",
       "    </tr>\n",
       "    <tr>\n",
       "      <th>2</th>\n",
       "      <td>bu empti student field trip museum natur histo...</td>\n",
       "      <td>adult</td>\n",
       "    </tr>\n",
       "    <tr>\n",
       "      <th>3</th>\n",
       "      <td>help unemploy father make end meet edith twin ...</td>\n",
       "      <td>drama</td>\n",
       "    </tr>\n",
       "    <tr>\n",
       "      <th>4</th>\n",
       "      <td>film titl refer un-recov bodi ground zero also...</td>\n",
       "      <td>drama</td>\n",
       "    </tr>\n",
       "  </tbody>\n",
       "</table>\n",
       "</div>"
      ],
      "text/plain": [
       "                                         description     genre\n",
       "0  listen convers doctor parent 10-year-old oscar...     drama\n",
       "1  brother sister past incestu relationship curre...  thriller\n",
       "2  bu empti student field trip museum natur histo...     adult\n",
       "3  help unemploy father make end meet edith twin ...     drama\n",
       "4  film titl refer un-recov bodi ground zero also...     drama"
      ]
     },
     "execution_count": 9,
     "metadata": {},
     "output_type": "execute_result"
    }
   ],
   "source": [
    "oversampled_df = pd.DataFrame({'description':X_over.reshape(-1),'genre':y_over})\n",
    "oversampled_df.head()"
   ]
  },
  {
   "cell_type": "code",
   "execution_count": 10,
   "id": "07a10bfe-59f1-4058-aafd-00b5cf76d8b9",
   "metadata": {},
   "outputs": [
    {
     "data": {
      "text/plain": [
       "'../data/processed/'"
      ]
     },
     "execution_count": 10,
     "metadata": {},
     "output_type": "execute_result"
    }
   ],
   "source": [
    "data_folder"
   ]
  },
  {
   "cell_type": "code",
   "execution_count": null,
   "id": "5862ee39-eb1b-4331-83d7-2f6421f985af",
   "metadata": {},
   "outputs": [],
   "source": [
    "oversampled_df.to_csv(data_folder+'/oversampled/RandomOverSampled.csv')"
   ]
  },
  {
   "cell_type": "markdown",
   "id": "63d8c023-2952-4a67-8f29-173a63b1e5aa",
   "metadata": {},
   "source": [
    "### TFIDF and Logistic Regression"
   ]
  },
  {
   "cell_type": "code",
   "execution_count": 12,
   "id": "f7ddf025-b3ba-4318-9c59-693f5552dd3d",
   "metadata": {},
   "outputs": [
    {
     "name": "stderr",
     "output_type": "stream",
     "text": [
      "/Users/kushal/opt/anaconda3/envs/jupyter_lab/lib/python3.10/site-packages/sklearn/linear_model/_logistic.py:444: ConvergenceWarning: lbfgs failed to converge (status=1):\n",
      "STOP: TOTAL NO. of ITERATIONS REACHED LIMIT.\n",
      "\n",
      "Increase the number of iterations (max_iter) or scale the data as shown in:\n",
      "    https://scikit-learn.org/stable/modules/preprocessing.html\n",
      "Please also refer to the documentation for alternative solver options:\n",
      "    https://scikit-learn.org/stable/modules/linear_model.html#logistic-regression\n",
      "  n_iter_i = _check_optimize_result(\n"
     ]
    },
    {
     "data": {
      "text/plain": [
       "0.6258454601352736"
      ]
     },
     "execution_count": 12,
     "metadata": {},
     "output_type": "execute_result"
    }
   ],
   "source": [
    "## TFIDF Vectorizer & Logistic Regression\n",
    "from sklearn.linear_model import LogisticRegression\n",
    "from sklearn.model_selection import cross_val_score, StratifiedKFold\n",
    "from sklearn.feature_extraction.text import TfidfVectorizer\n",
    "from sklearn.model_selection import train_test_split\n",
    "from sklearn.metrics import accuracy_score\n",
    "##model\n",
    "model = LogisticRegression()\n",
    "\n",
    "##transform text\n",
    "text_transformer = TfidfVectorizer(max_features=150000)\n",
    "transformed_text = text_transformer.fit_transform(X)\n",
    "X_train, X_test, y_train, y_test = train_test_split(\n",
    "    transformed_text, y, test_size=0.2, random_state=42)\n",
    "\n",
    "# cross_val_score(model, transformed_text,y,cv=5)\n",
    "model.fit(X_train,y_train)\n",
    "preds = model.predict(X_test)\n",
    "accuracy_score(y_test,preds)"
   ]
  },
  {
   "cell_type": "code",
   "execution_count": 13,
   "id": "504422b0-503c-432d-ab05-0fde13d291dd",
   "metadata": {},
   "outputs": [
    {
     "data": {
      "text/plain": [
       "(48790, 88315)"
      ]
     },
     "execution_count": 13,
     "metadata": {},
     "output_type": "execute_result"
    }
   ],
   "source": [
    "transformed_text.shape"
   ]
  },
  {
   "cell_type": "code",
   "execution_count": 14,
   "id": "479b538b-dbb4-4203-b291-251dccfa345e",
   "metadata": {},
   "outputs": [
    {
     "name": "stderr",
     "output_type": "stream",
     "text": [
      "/Users/kushal/opt/anaconda3/envs/jupyter_lab/lib/python3.10/site-packages/sklearn/linear_model/_logistic.py:444: ConvergenceWarning: lbfgs failed to converge (status=1):\n",
      "STOP: TOTAL NO. of ITERATIONS REACHED LIMIT.\n",
      "\n",
      "Increase the number of iterations (max_iter) or scale the data as shown in:\n",
      "    https://scikit-learn.org/stable/modules/preprocessing.html\n",
      "Please also refer to the documentation for alternative solver options:\n",
      "    https://scikit-learn.org/stable/modules/linear_model.html#logistic-regression\n",
      "  n_iter_i = _check_optimize_result(\n"
     ]
    },
    {
     "data": {
      "text/plain": [
       "0.7952449272391884"
      ]
     },
     "execution_count": 14,
     "metadata": {},
     "output_type": "execute_result"
    }
   ],
   "source": [
    "##transform oversampled text\n",
    "\n",
    "text_transformer = TfidfVectorizer(max_features=150000,lowercase=False)\n",
    "transformed_text = text_transformer.fit_transform(X_over.reshape(-1))\n",
    "X_train, X_test_discard, y_train, y_test_discard = train_test_split(\n",
    "    transformed_text, y_over, test_size=0.2, random_state=42)\n",
    "# cross_val_score(model, transformed_text,y_over,cv=5)\n",
    "model.fit(X_train,y_train)\n",
    "preds = model.predict(X_test)\n",
    "accuracy_score(y_test,preds)"
   ]
  },
  {
   "cell_type": "markdown",
   "id": "428bcdc5-9c92-45d9-a5ec-0f48d446e0d3",
   "metadata": {},
   "source": [
    "# Dealing with Data Imbalance using SMOTE"
   ]
  },
  {
   "cell_type": "code",
   "execution_count": 15,
   "id": "e46ec2d0-126d-4260-b002-d5f60ca5db13",
   "metadata": {},
   "outputs": [],
   "source": [
    "from sklearn.decomposition import PCA\n",
    "from imblearn.over_sampling import SMOTE\n",
    "## pass in number of dimensions to reduce to this function to perform dimension reduction\n",
    "def do_smote(X,y,dim_red = None):\n",
    "    if dim_red != None:\n",
    "        pca = PCA(n_components = dim_red)\n",
    "        X = pca.fit_transform(X.toarray())\n",
    "    smote = SMOTE()\n",
    "    X_smote, y_smote = smote.fit_resample(X, y)\n",
    "    return X_smote,y_smote\n",
    "    "
   ]
  },
  {
   "cell_type": "code",
   "execution_count": 16,
   "id": "f71c0f70-e0fb-4517-a4de-375cde328c61",
   "metadata": {},
   "outputs": [
    {
     "data": {
      "text/plain": [
       "scipy.sparse._csr.csr_matrix"
      ]
     },
     "execution_count": 16,
     "metadata": {},
     "output_type": "execute_result"
    }
   ],
   "source": [
    "type(transformed_text)"
   ]
  },
  {
   "cell_type": "code",
   "execution_count": null,
   "id": "d99e0e6c-6d28-4619-8f97-42c684935c89",
   "metadata": {},
   "outputs": [],
   "source": [
    "##transform text\n",
    "text_transformer = TfidfVectorizer(max_features=150000)\n",
    "transformed_text = text_transformer.fit_transform(X)\n",
    "X_smote,y_smote = do_smote(transformed_text,y,300)\n",
    "X_train, X_test_discard, y_train, y_test_discard = train_test_split(\n",
    "    X_smote, y_smote, test_size=0.2, random_state=42)\n",
    "# cross_val_score(model, transformed_text,y_over,cv=5)\n",
    "model.fit(X_train,y_train)\n",
    "preds = model.predict(X_test)\n",
    "accuracy_score(y_test,preds)"
   ]
  }
 ],
 "metadata": {
  "kernelspec": {
   "display_name": "Python 3 (ipykernel)",
   "language": "python",
   "name": "python3"
  },
  "language_info": {
   "codemirror_mode": {
    "name": "ipython",
    "version": 3
   },
   "file_extension": ".py",
   "mimetype": "text/x-python",
   "name": "python",
   "nbconvert_exporter": "python",
   "pygments_lexer": "ipython3",
   "version": "3.10.4"
  }
 },
 "nbformat": 4,
 "nbformat_minor": 5
}
