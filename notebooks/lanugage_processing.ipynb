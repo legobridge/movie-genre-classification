{
 "cells": [
  {
   "cell_type": "markdown",
   "metadata": {},
   "source": [
    "## Deprecated, use the preprocessing.py instead"
   ]
  },
  {
   "cell_type": "code",
   "execution_count": 65,
   "metadata": {},
   "outputs": [],
   "source": [
    "# !pip3 install fasttext\n",
    "import fasttext\n",
    "import pandas as pd\n"
   ]
  },
  {
   "cell_type": "code",
   "execution_count": 66,
   "metadata": {},
   "outputs": [],
   "source": [
    "languages = pd.read_table(\"../data/language_encodings.txt\")\n",
    "languages.columns = [\"language\"]\n",
    "\n",
    "def get_code(lang):\n",
    "    return lang[\"language\"][:2]\n",
    "\n",
    "def get_lang(lang):\n",
    "    return lang[\"language\"][3:].replace(\"\\\"\", \"\")\n"
   ]
  },
  {
   "cell_type": "code",
   "execution_count": 67,
   "metadata": {},
   "outputs": [],
   "source": [
    "languages[\"code\"] = languages.apply(get_code, axis=1)\n",
    "languages[\"language\"] = languages.apply(get_lang, axis=1)"
   ]
  },
  {
   "cell_type": "code",
   "execution_count": 68,
   "metadata": {},
   "outputs": [],
   "source": [
    "language_encodings_dict = {}\n",
    "for i, r in languages.iterrows():\n",
    "    language_encodings_dict[r[\"code\"]] = r[\"language\"]"
   ]
  },
  {
   "cell_type": "code",
   "execution_count": 69,
   "metadata": {},
   "outputs": [],
   "source": [
    "# read text file with language encodings\n",
    "# with open(\"../data/language_encodings.txt\", \"r\") as language_encodings:\n",
    "#     data = language_encodings.read()\n",
    "\n",
    "# data = data.split(\",\\n\")\n",
    "\n",
    "\n",
    "# language_encodings_dict = {}\n",
    "# for l in range(len(data)):\n",
    "#     data[l] = data[l].replace(\"(\", \"\")\n",
    "#     data[l] = data[l].replace(\")\", \"\")\n",
    "#     data[l] = data[l].replace(\"\\'\", \"\")\n",
    "#     data[l] = data[l].replace(\" \", \"\")\n",
    "#     data[l] = data[l].split(\",\")\n",
    "#     language_encodings_dict[data[l][0]] = data[l][1]\n",
    "\n"
   ]
  },
  {
   "cell_type": "code",
   "execution_count": null,
   "metadata": {},
   "outputs": [],
   "source": []
  },
  {
   "cell_type": "code",
   "execution_count": 70,
   "metadata": {},
   "outputs": [],
   "source": [
    "class LanguageIdentification:\n",
    "\n",
    "    def __init__(self):\n",
    "        pretrained_lang_model = \"../models/lid.176.bin\"\n",
    "        self.model = fasttext.load_model(pretrained_lang_model)\n",
    "\n",
    "    def predict_lang(self, text):\n",
    "        predictions = self.model.predict(text, k=1) # returns top 2 matching languages\n",
    "        return predictions"
   ]
  },
  {
   "cell_type": "code",
   "execution_count": 71,
   "metadata": {},
   "outputs": [],
   "source": [
    "def map_to_language(code):\n",
    "    return language_encodings_dict[code[0][0][-2:]]\n",
    "\n",
    "def get_language(row, model):\n",
    "\n",
    "    return map_to_language(model.predict_lang(row[\"description\"]))\n",
    "\n"
   ]
  },
  {
   "cell_type": "code",
   "execution_count": 72,
   "metadata": {},
   "outputs": [
    {
     "name": "stderr",
     "output_type": "stream",
     "text": [
      "Warning : `load_model` does not return WordVectorModel or SupervisedModel any more, but a `FastText` object which is very similar.\n"
     ]
    }
   ],
   "source": [
    "df = pd.read_csv(\"../data/processed/train_data_processed_language.csv\")\n",
    "LANGUAGE = LanguageIdentification()\n",
    "\n",
    "\n",
    "\n",
    "lang = LANGUAGE.predict_lang(\"Hello\")\n",
    "\n",
    "df[\"language\"] = df.apply(get_language, axis=1, model=LANGUAGE)\n",
    "df.to_csv(\"../data/processed/train_data_processed_language.csv\", index=False)\n",
    "\n"
   ]
  },
  {
   "cell_type": "code",
   "execution_count": 73,
   "metadata": {},
   "outputs": [
    {
     "name": "stderr",
     "output_type": "stream",
     "text": [
      "Warning : `load_model` does not return WordVectorModel or SupervisedModel any more, but a `FastText` object which is very similar.\n"
     ]
    }
   ],
   "source": [
    "df = pd.read_csv(\"../data/processed/test_data_with_labels_language.csv\")\n",
    "LANGUAGE = LanguageIdentification()\n",
    "\n",
    "\n",
    "\n",
    "lang = LANGUAGE.predict_lang(\"Hello\")\n",
    "\n",
    "df[\"language\"] = df.apply(get_language, axis=1, model=LANGUAGE)\n",
    "df.to_csv(\"../data/processed/test_data_with_labels_language.csv\", index=False)\n"
   ]
  },
  {
   "cell_type": "code",
   "execution_count": 74,
   "metadata": {},
   "outputs": [
    {
     "data": {
      "text/plain": [
       "English               53804\n",
       "French                  146\n",
       "Italian                 110\n",
       "Hungarian                55\n",
       "Spanish; Castilian       50\n",
       "German                   19\n",
       "Norwegian                 9\n",
       "Japanese                  2\n",
       "Danish                    2\n",
       "Portuguese                1\n",
       "Romanian, Moldavan        1\n",
       "Polish                    1\n",
       "Name: language, dtype: int64"
      ]
     },
     "execution_count": 74,
     "metadata": {},
     "output_type": "execute_result"
    }
   ],
   "source": [
    "df[\"language\"].value_counts()\n"
   ]
  }
 ],
 "metadata": {
  "kernelspec": {
   "display_name": "Python 3 (ipykernel)",
   "language": "python",
   "name": "python3"
  },
  "language_info": {
   "codemirror_mode": {
    "name": "ipython",
    "version": 3
   },
   "file_extension": ".py",
   "mimetype": "text/x-python",
   "name": "python",
   "nbconvert_exporter": "python",
   "pygments_lexer": "ipython3",
   "version": "3.9.7"
  },
  "vscode": {
   "interpreter": {
    "hash": "40d3a090f54c6569ab1632332b64b2c03c39dcf918b08424e98f38b5ae0af88f"
   }
  }
 },
 "nbformat": 4,
 "nbformat_minor": 4
}
