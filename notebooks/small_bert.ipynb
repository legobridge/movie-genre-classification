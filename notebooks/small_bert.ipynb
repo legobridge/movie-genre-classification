{
 "cells": [
  {
   "cell_type": "code",
   "execution_count": 1,
   "id": "844e7c8d-aff8-4291-8078-0e64bfa87161",
   "metadata": {},
   "outputs": [],
   "source": [
    "# !pip install -q -U \"tensorflow-text==2.8.*\""
   ]
  },
  {
   "cell_type": "code",
   "execution_count": 2,
   "id": "3327bf49-af4e-4244-b829-223e0d98dc8f",
   "metadata": {},
   "outputs": [],
   "source": [
    "# !pip install -q tf-models-official==2.7.0"
   ]
  },
  {
   "cell_type": "code",
   "execution_count": 3,
   "id": "cc18e0e7-3b6b-4897-8840-8f3c30ab83b6",
   "metadata": {},
   "outputs": [],
   "source": [
    "# !pip install -q pydot"
   ]
  },
  {
   "cell_type": "code",
   "execution_count": 1,
   "id": "33440bdd-761e-46bd-bc9f-ca5d982b657d",
   "metadata": {},
   "outputs": [],
   "source": [
    "import os\n",
    "import shutil\n",
    "\n",
    "import tensorflow as tf\n",
    "import tensorflow_hub as hub\n",
    "import tensorflow_text as text\n",
    "from official.nlp import optimization  # to create AdamW optimizer\n",
    "\n",
    "import matplotlib.pyplot as plt\n",
    "\n",
    "tf.get_logger().setLevel('ERROR')"
   ]
  },
  {
   "cell_type": "code",
   "execution_count": 2,
   "id": "4a5ca05f-1fa2-4a6b-9057-83d6f9c03dc9",
   "metadata": {},
   "outputs": [],
   "source": [
    "import pandas as pd\n",
    "import numpy as np\n",
    "import matplotlib.pyplot as plt\n",
    "%matplotlib inline"
   ]
  },
  {
   "cell_type": "code",
   "execution_count": 4,
   "id": "8f32f10c-c9e1-4b28-8578-fbfbdf470030",
   "metadata": {},
   "outputs": [
    {
     "data": {
      "text/html": [
       "<div>\n",
       "<style scoped>\n",
       "    .dataframe tbody tr th:only-of-type {\n",
       "        vertical-align: middle;\n",
       "    }\n",
       "\n",
       "    .dataframe tbody tr th {\n",
       "        vertical-align: top;\n",
       "    }\n",
       "\n",
       "    .dataframe thead th {\n",
       "        text-align: right;\n",
       "    }\n",
       "</style>\n",
       "<table border=\"1\" class=\"dataframe\">\n",
       "  <thead>\n",
       "    <tr style=\"text-align: right;\">\n",
       "      <th></th>\n",
       "      <th>title</th>\n",
       "      <th>genre</th>\n",
       "      <th>description</th>\n",
       "      <th>year</th>\n",
       "      <th>language</th>\n",
       "      <th>processed_description_string</th>\n",
       "    </tr>\n",
       "  </thead>\n",
       "  <tbody>\n",
       "    <tr>\n",
       "      <th>0</th>\n",
       "      <td>Oscar et la dame rose</td>\n",
       "      <td>drama</td>\n",
       "      <td>Listening in to a conversation between his do...</td>\n",
       "      <td>2009</td>\n",
       "      <td>English</td>\n",
       "      <td>listen convers doctor parent 10-year-old oscar...</td>\n",
       "    </tr>\n",
       "    <tr>\n",
       "      <th>1</th>\n",
       "      <td>Cupid</td>\n",
       "      <td>thriller</td>\n",
       "      <td>A brother and sister with a past incestuous r...</td>\n",
       "      <td>1997</td>\n",
       "      <td>English</td>\n",
       "      <td>brother sister past incestu relationship curre...</td>\n",
       "    </tr>\n",
       "    <tr>\n",
       "      <th>2</th>\n",
       "      <td>Young, Wild and Wonderful</td>\n",
       "      <td>adult</td>\n",
       "      <td>As the bus empties the students for their fie...</td>\n",
       "      <td>1980</td>\n",
       "      <td>English</td>\n",
       "      <td>bu empti student field trip museum natur histo...</td>\n",
       "    </tr>\n",
       "    <tr>\n",
       "      <th>3</th>\n",
       "      <td>The Secret Sin</td>\n",
       "      <td>drama</td>\n",
       "      <td>To help their unemployed father make ends mee...</td>\n",
       "      <td>1915</td>\n",
       "      <td>English</td>\n",
       "      <td>help unemploy father make end meet edith twin ...</td>\n",
       "    </tr>\n",
       "    <tr>\n",
       "      <th>4</th>\n",
       "      <td>The Unrecovered</td>\n",
       "      <td>drama</td>\n",
       "      <td>The film's title refers not only to the un-re...</td>\n",
       "      <td>2007</td>\n",
       "      <td>English</td>\n",
       "      <td>film titl refer un-recov bodi ground zero also...</td>\n",
       "    </tr>\n",
       "  </tbody>\n",
       "</table>\n",
       "</div>"
      ],
      "text/plain": [
       "                         title     genre  \\\n",
       "0       Oscar et la dame rose      drama   \n",
       "1                       Cupid   thriller   \n",
       "2   Young, Wild and Wonderful      adult   \n",
       "3              The Secret Sin      drama   \n",
       "4             The Unrecovered      drama   \n",
       "\n",
       "                                         description  year language  \\\n",
       "0   Listening in to a conversation between his do...  2009  English   \n",
       "1   A brother and sister with a past incestuous r...  1997  English   \n",
       "2   As the bus empties the students for their fie...  1980  English   \n",
       "3   To help their unemployed father make ends mee...  1915  English   \n",
       "4   The film's title refers not only to the un-re...  2007  English   \n",
       "\n",
       "                        processed_description_string  \n",
       "0  listen convers doctor parent 10-year-old oscar...  \n",
       "1  brother sister past incestu relationship curre...  \n",
       "2  bu empti student field trip museum natur histo...  \n",
       "3  help unemploy father make end meet edith twin ...  \n",
       "4  film titl refer un-recov bodi ground zero also...  "
      ]
     },
     "execution_count": 4,
     "metadata": {},
     "output_type": "execute_result"
    }
   ],
   "source": [
    "# train_df = pd.read_csv('../data/processed/train_data_processed.csv', index_col='id')\n",
    "train_df = pd.read_csv('../data/processed/train_data_processed.csv', index_col='id')\n",
    "train_df = train_df[train_df['language'] == 'English'].reset_index(drop=True)\n",
    "train_df.head()"
   ]
  },
  {
   "cell_type": "code",
   "execution_count": 7,
   "id": "c84da17c-689d-4a38-b3da-ec5091f72eac",
   "metadata": {},
   "outputs": [],
   "source": [
    "train_df = train_df.drop(columns=['Unnamed: 0'])"
   ]
  },
  {
   "cell_type": "code",
   "execution_count": 8,
   "id": "a53fa75a-a3ad-485c-8ece-d185f384ccb0",
   "metadata": {},
   "outputs": [],
   "source": [
    "# def truncate_and_split_descriptions(df, batch_size=128):\n",
    "#     new_df_dict = {'genre':[], 'processed_description_string': []}\n",
    "#     for _, row in df.iterrows():\n",
    "#         processed_description = row['processed_description_string'].split()\n",
    "#         genre = row['genre']\n",
    "#         n = len(processed_description)\n",
    "#         for i in range(0, n, batch_size):\n",
    "#             new_df_dict['genre'].append(genre)\n",
    "#             new_df_dict['processed_description_string'].append(' '.join(processed_description[i:min(n, i+batch_size)]))\n",
    "#     new_df = pd.DataFrame(new_df_dict)\n",
    "#     return new_df    "
   ]
  },
  {
   "cell_type": "code",
   "execution_count": 9,
   "id": "e1c40b78-507a-43c0-a162-22f057fa6e18",
   "metadata": {},
   "outputs": [],
   "source": [
    "# train_df = truncate_and_split_descriptions(train_df)"
   ]
  },
  {
   "cell_type": "code",
   "execution_count": 10,
   "id": "f70c1ec0-f107-4136-a435-cd94bb60c3b6",
   "metadata": {},
   "outputs": [
    {
     "data": {
      "text/html": [
       "<div>\n",
       "<style scoped>\n",
       "    .dataframe tbody tr th:only-of-type {\n",
       "        vertical-align: middle;\n",
       "    }\n",
       "\n",
       "    .dataframe tbody tr th {\n",
       "        vertical-align: top;\n",
       "    }\n",
       "\n",
       "    .dataframe thead th {\n",
       "        text-align: right;\n",
       "    }\n",
       "</style>\n",
       "<table border=\"1\" class=\"dataframe\">\n",
       "  <thead>\n",
       "    <tr style=\"text-align: right;\">\n",
       "      <th></th>\n",
       "      <th>title</th>\n",
       "      <th>genre</th>\n",
       "      <th>description</th>\n",
       "      <th>year</th>\n",
       "      <th>processed_description</th>\n",
       "      <th>processed_description_string</th>\n",
       "      <th>language</th>\n",
       "    </tr>\n",
       "  </thead>\n",
       "  <tbody>\n",
       "    <tr>\n",
       "      <th>29172</th>\n",
       "      <td>Bash maystorat na ekskurziya</td>\n",
       "      <td>2</td>\n",
       "      <td>Bash mastorat went on an organized trip to Hu...</td>\n",
       "      <td>1980</td>\n",
       "      <td>['bash', 'mastorat', 'went', 'organ', 'trip', ...</td>\n",
       "      <td>bash mastorat went organ trip hungari budapest...</td>\n",
       "      <td>English</td>\n",
       "    </tr>\n",
       "    <tr>\n",
       "      <th>11373</th>\n",
       "      <td>Car Stars</td>\n",
       "      <td>2</td>\n",
       "      <td>A mockumentary about auto shows centering aro...</td>\n",
       "      <td>2011</td>\n",
       "      <td>['mockumentari', 'auto', 'show', 'center', 'ar...</td>\n",
       "      <td>mockumentari auto show center around johnathon...</td>\n",
       "      <td>English</td>\n",
       "    </tr>\n",
       "    <tr>\n",
       "      <th>9517</th>\n",
       "      <td>Dr. Rameau</td>\n",
       "      <td>0</td>\n",
       "      <td>Pierre Rameau, the son of a poor gate-keeper,...</td>\n",
       "      <td>1915</td>\n",
       "      <td>['pierr', 'rameau', 'son', 'poor', 'gate-keep'...</td>\n",
       "      <td>pierr rameau son poor gate-keep becom foremost...</td>\n",
       "      <td>English</td>\n",
       "    </tr>\n",
       "    <tr>\n",
       "      <th>11489</th>\n",
       "      <td>Seeds</td>\n",
       "      <td>1</td>\n",
       "      <td>SEEDS features ten teenagers who undertake th...</td>\n",
       "      <td>2004</td>\n",
       "      <td>['seed', 'featur', 'ten', 'teenag', 'undertak'...</td>\n",
       "      <td>seed featur ten teenag undertak challeng coexi...</td>\n",
       "      <td>English</td>\n",
       "    </tr>\n",
       "    <tr>\n",
       "      <th>26000</th>\n",
       "      <td>\"Angels in Paradise\"</td>\n",
       "      <td>0</td>\n",
       "      <td>Blake Vaas controls an empire throughout Los ...</td>\n",
       "      <td>2014</td>\n",
       "      <td>['blake', 'vaa', 'control', 'empir', 'througho...</td>\n",
       "      <td>blake vaa control empir throughout lo angel in...</td>\n",
       "      <td>English</td>\n",
       "    </tr>\n",
       "    <tr>\n",
       "      <th>...</th>\n",
       "      <td>...</td>\n",
       "      <td>...</td>\n",
       "      <td>...</td>\n",
       "      <td>...</td>\n",
       "      <td>...</td>\n",
       "      <td>...</td>\n",
       "      <td>...</td>\n",
       "    </tr>\n",
       "    <tr>\n",
       "      <th>16850</th>\n",
       "      <td>Nae kkangpae gateun aein</td>\n",
       "      <td>2</td>\n",
       "      <td>(Korean with English subtitles) An unlikely r...</td>\n",
       "      <td>2010</td>\n",
       "      <td>['korean', 'english', 'subtitl', 'unlik', 'rom...</td>\n",
       "      <td>korean english subtitl unlik romanc brew dong-...</td>\n",
       "      <td>English</td>\n",
       "    </tr>\n",
       "    <tr>\n",
       "      <th>6265</th>\n",
       "      <td>Ashchorjyo Prodeep</td>\n",
       "      <td>0</td>\n",
       "      <td>The story of a modern day Aladdin, set agains...</td>\n",
       "      <td>2013</td>\n",
       "      <td>['stori', 'modern', 'day', 'aladdin', 'set', '...</td>\n",
       "      <td>stori modern day aladdin set backdrop contempo...</td>\n",
       "      <td>English</td>\n",
       "    </tr>\n",
       "    <tr>\n",
       "      <th>11284</th>\n",
       "      <td>That is the year</td>\n",
       "      <td>1</td>\n",
       "      <td>That is the year is a 12 minute documentary a...</td>\n",
       "      <td>2017</td>\n",
       "      <td>['year', '12', 'minut', 'documentari', 'footba...</td>\n",
       "      <td>year 12 minut documentari footbal fan ankara k...</td>\n",
       "      <td>English</td>\n",
       "    </tr>\n",
       "    <tr>\n",
       "      <th>860</th>\n",
       "      <td>Svindleren</td>\n",
       "      <td>1</td>\n",
       "      <td>Richard Ringheim is a young celebrity crimina...</td>\n",
       "      <td>2005</td>\n",
       "      <td>['richard', 'ringheim', 'young', 'celebr', 'cr...</td>\n",
       "      <td>richard ringheim young celebr crimin whose ini...</td>\n",
       "      <td>English</td>\n",
       "    </tr>\n",
       "    <tr>\n",
       "      <th>15795</th>\n",
       "      <td>\"Begin Again\"</td>\n",
       "      <td>0</td>\n",
       "      <td>Sarah, Denise and Toni have been friends sinc...</td>\n",
       "      <td>2017</td>\n",
       "      <td>['sarah', 'denis', 'toni', 'friend', 'sinc', '...</td>\n",
       "      <td>sarah denis toni friend sinc elementari school...</td>\n",
       "      <td>English</td>\n",
       "    </tr>\n",
       "  </tbody>\n",
       "</table>\n",
       "<p>33850 rows × 7 columns</p>\n",
       "</div>"
      ],
      "text/plain": [
       "                                title  genre  \\\n",
       "29172   Bash maystorat na ekskurziya       2   \n",
       "11373                      Car Stars       2   \n",
       "9517                      Dr. Rameau       0   \n",
       "11489                          Seeds       1   \n",
       "26000           \"Angels in Paradise\"       0   \n",
       "...                               ...    ...   \n",
       "16850       Nae kkangpae gateun aein       2   \n",
       "6265              Ashchorjyo Prodeep       0   \n",
       "11284               That is the year       1   \n",
       "860                       Svindleren       1   \n",
       "15795                  \"Begin Again\"       0   \n",
       "\n",
       "                                             description  year  \\\n",
       "29172   Bash mastorat went on an organized trip to Hu...  1980   \n",
       "11373   A mockumentary about auto shows centering aro...  2011   \n",
       "9517    Pierre Rameau, the son of a poor gate-keeper,...  1915   \n",
       "11489   SEEDS features ten teenagers who undertake th...  2004   \n",
       "26000   Blake Vaas controls an empire throughout Los ...  2014   \n",
       "...                                                  ...   ...   \n",
       "16850   (Korean with English subtitles) An unlikely r...  2010   \n",
       "6265    The story of a modern day Aladdin, set agains...  2013   \n",
       "11284   That is the year is a 12 minute documentary a...  2017   \n",
       "860     Richard Ringheim is a young celebrity crimina...  2005   \n",
       "15795   Sarah, Denise and Toni have been friends sinc...  2017   \n",
       "\n",
       "                                   processed_description  \\\n",
       "29172  ['bash', 'mastorat', 'went', 'organ', 'trip', ...   \n",
       "11373  ['mockumentari', 'auto', 'show', 'center', 'ar...   \n",
       "9517   ['pierr', 'rameau', 'son', 'poor', 'gate-keep'...   \n",
       "11489  ['seed', 'featur', 'ten', 'teenag', 'undertak'...   \n",
       "26000  ['blake', 'vaa', 'control', 'empir', 'througho...   \n",
       "...                                                  ...   \n",
       "16850  ['korean', 'english', 'subtitl', 'unlik', 'rom...   \n",
       "6265   ['stori', 'modern', 'day', 'aladdin', 'set', '...   \n",
       "11284  ['year', '12', 'minut', 'documentari', 'footba...   \n",
       "860    ['richard', 'ringheim', 'young', 'celebr', 'cr...   \n",
       "15795  ['sarah', 'denis', 'toni', 'friend', 'sinc', '...   \n",
       "\n",
       "                            processed_description_string language  \n",
       "29172  bash mastorat went organ trip hungari budapest...  English  \n",
       "11373  mockumentari auto show center around johnathon...  English  \n",
       "9517   pierr rameau son poor gate-keep becom foremost...  English  \n",
       "11489  seed featur ten teenag undertak challeng coexi...  English  \n",
       "26000  blake vaa control empir throughout lo angel in...  English  \n",
       "...                                                  ...      ...  \n",
       "16850  korean english subtitl unlik romanc brew dong-...  English  \n",
       "6265   stori modern day aladdin set backdrop contempo...  English  \n",
       "11284  year 12 minut documentari footbal fan ankara k...  English  \n",
       "860    richard ringheim young celebr crimin whose ini...  English  \n",
       "15795  sarah denis toni friend sinc elementari school...  English  \n",
       "\n",
       "[33850 rows x 7 columns]"
      ]
     },
     "execution_count": 10,
     "metadata": {},
     "output_type": "execute_result"
    }
   ],
   "source": [
    "unique_genres = train_df['genre'].unique()\n",
    "genre_encoding = dict([(unique_genres[i], i) for i in range(unique_genres.shape[0])])\n",
    "train_df['genre'] = train_df['genre'].map(genre_encoding)\n",
    "train_df = train_df.sample(frac=1, random_state=42)\n",
    "train_df"
   ]
  },
  {
   "cell_type": "code",
   "execution_count": 11,
   "id": "fcf33576-9ebb-4068-8780-e8913088fc1f",
   "metadata": {},
   "outputs": [
    {
     "data": {
      "text/plain": [
       "3"
      ]
     },
     "execution_count": 11,
     "metadata": {},
     "output_type": "execute_result"
    }
   ],
   "source": [
    "num_labels = train_df['genre'].nunique()\n",
    "num_labels"
   ]
  },
  {
   "cell_type": "code",
   "execution_count": 12,
   "id": "7217f4a8-ed84-4ce3-b387-d6946337e93d",
   "metadata": {},
   "outputs": [],
   "source": [
    "x = train_df['processed_description_string'].values\n",
    "y = pd.get_dummies(train_df['genre']).values"
   ]
  },
  {
   "cell_type": "code",
   "execution_count": 13,
   "id": "f24b5ce0-191b-4572-9726-06ead395bf78",
   "metadata": {},
   "outputs": [],
   "source": [
    "num_examples = train_df.shape[0]\n",
    "\n",
    "train_set_size = int(num_examples * 0.9)\n",
    "val_set_size = int(num_examples * 0.05)\n",
    "test_set_size = num_examples - train_set_size - val_set_size\n",
    "\n",
    "x_train = x[:train_set_size]\n",
    "x_val = x[train_set_size:train_set_size+val_set_size]\n",
    "x_test = x[train_set_size+val_set_size:train_set_size+val_set_size+test_set_size]\n",
    "\n",
    "y_train = y[:train_set_size]\n",
    "y_val = y[train_set_size:train_set_size+val_set_size]\n",
    "y_test = y[train_set_size+val_set_size:train_set_size+val_set_size+test_set_size]"
   ]
  },
  {
   "cell_type": "code",
   "execution_count": 14,
   "id": "295799b8-eeaa-4fe5-9e8d-68094d07d092",
   "metadata": {},
   "outputs": [
    {
     "name": "stdout",
     "output_type": "stream",
     "text": [
      "BERT model selected           : https://tfhub.dev/tensorflow/small_bert/bert_en_uncased_L-2_H-128_A-2/1\n",
      "Preprocess model auto-selected: https://tfhub.dev/tensorflow/bert_en_uncased_preprocess/3\n"
     ]
    }
   ],
   "source": [
    "#@title Choose a BERT model to fine-tune\n",
    "\n",
    "bert_model_name = 'small_bert/bert_en_uncased_L-2_H-128_A-2'\n",
    "\n",
    "map_name_to_handle = {\n",
    "    'small_bert/bert_en_uncased_L-2_H-128_A-2':\n",
    "        'https://tfhub.dev/tensorflow/small_bert/bert_en_uncased_L-2_H-128_A-2/1',\n",
    "}\n",
    "\n",
    "map_model_to_preprocess = {\n",
    "    'small_bert/bert_en_uncased_L-2_H-128_A-2':\n",
    "        'https://tfhub.dev/tensorflow/bert_en_uncased_preprocess/3',\n",
    "}\n",
    "\n",
    "tfhub_handle_encoder = map_name_to_handle[bert_model_name]\n",
    "tfhub_handle_preprocess = map_model_to_preprocess[bert_model_name]\n",
    "\n",
    "print(f'BERT model selected           : {tfhub_handle_encoder}')\n",
    "print(f'Preprocess model auto-selected: {tfhub_handle_preprocess}')"
   ]
  },
  {
   "cell_type": "code",
   "execution_count": 15,
   "id": "555eb135-36eb-4285-a7a2-64c639eda5f1",
   "metadata": {},
   "outputs": [
    {
     "name": "stderr",
     "output_type": "stream",
     "text": [
      "2022-11-29 16:58:43.020933: I tensorflow/stream_executor/cuda/cuda_gpu_executor.cc:936] successful NUMA node read from SysFS had negative value (-1), but there must be at least one NUMA node, so returning NUMA node zero\n",
      "2022-11-29 16:58:43.032647: I tensorflow/stream_executor/cuda/cuda_gpu_executor.cc:936] successful NUMA node read from SysFS had negative value (-1), but there must be at least one NUMA node, so returning NUMA node zero\n",
      "2022-11-29 16:58:43.032798: I tensorflow/stream_executor/cuda/cuda_gpu_executor.cc:936] successful NUMA node read from SysFS had negative value (-1), but there must be at least one NUMA node, so returning NUMA node zero\n",
      "2022-11-29 16:58:43.033229: I tensorflow/core/platform/cpu_feature_guard.cc:151] This TensorFlow binary is optimized with oneAPI Deep Neural Network Library (oneDNN) to use the following CPU instructions in performance-critical operations:  AVX2 FMA\n",
      "To enable them in other operations, rebuild TensorFlow with the appropriate compiler flags.\n",
      "2022-11-29 16:58:43.033763: I tensorflow/stream_executor/cuda/cuda_gpu_executor.cc:936] successful NUMA node read from SysFS had negative value (-1), but there must be at least one NUMA node, so returning NUMA node zero\n",
      "2022-11-29 16:58:43.033909: I tensorflow/stream_executor/cuda/cuda_gpu_executor.cc:936] successful NUMA node read from SysFS had negative value (-1), but there must be at least one NUMA node, so returning NUMA node zero\n",
      "2022-11-29 16:58:43.034007: I tensorflow/stream_executor/cuda/cuda_gpu_executor.cc:936] successful NUMA node read from SysFS had negative value (-1), but there must be at least one NUMA node, so returning NUMA node zero\n",
      "2022-11-29 16:58:43.356315: I tensorflow/stream_executor/cuda/cuda_gpu_executor.cc:936] successful NUMA node read from SysFS had negative value (-1), but there must be at least one NUMA node, so returning NUMA node zero\n",
      "2022-11-29 16:58:43.356451: I tensorflow/stream_executor/cuda/cuda_gpu_executor.cc:936] successful NUMA node read from SysFS had negative value (-1), but there must be at least one NUMA node, so returning NUMA node zero\n",
      "2022-11-29 16:58:43.356555: I tensorflow/stream_executor/cuda/cuda_gpu_executor.cc:936] successful NUMA node read from SysFS had negative value (-1), but there must be at least one NUMA node, so returning NUMA node zero\n",
      "2022-11-29 16:58:43.356647: I tensorflow/core/common_runtime/gpu/gpu_device.cc:1525] Created device /job:localhost/replica:0/task:0/device:GPU:0 with 6675 MB memory:  -> device: 0, name: NVIDIA GeForce RTX 2060 SUPER, pci bus id: 0000:01:00.0, compute capability: 7.5\n"
     ]
    }
   ],
   "source": [
    "bert_preprocess_model = hub.KerasLayer(tfhub_handle_preprocess)"
   ]
  },
  {
   "cell_type": "code",
   "execution_count": 16,
   "id": "db6662e3-9a18-4a70-af75-080df48e191f",
   "metadata": {},
   "outputs": [],
   "source": [
    "bert_model = hub.KerasLayer(tfhub_handle_encoder)"
   ]
  },
  {
   "cell_type": "code",
   "execution_count": 17,
   "id": "585cd97f-5a56-4888-9df5-f5a70941a209",
   "metadata": {},
   "outputs": [],
   "source": [
    "def build_classifier_model():\n",
    "    text_input = tf.keras.layers.Input(shape=(), dtype=tf.string, name='text')\n",
    "    preprocessing_layer = hub.KerasLayer(tfhub_handle_preprocess, name='preprocessing')\n",
    "    encoder_inputs = preprocessing_layer(text_input)\n",
    "    encoder = hub.KerasLayer(tfhub_handle_encoder, trainable=True, name='BERT_encoder')\n",
    "    outputs = encoder(encoder_inputs)\n",
    "    net = outputs['pooled_output']\n",
    "    net = tf.keras.layers.Dense(128)(net)\n",
    "    net = tf.keras.layers.Dropout(0.05)(net)\n",
    "    net = tf.keras.layers.Dense(512)(net)\n",
    "    net = tf.keras.layers.Dropout(0.05)(net)\n",
    "    net = tf.keras.layers.Dense(128)(net)\n",
    "    net = tf.keras.layers.Dropout(0.05)(net)\n",
    "    net = tf.keras.layers.Dense(128)(net)\n",
    "    net = tf.keras.layers.Dense(num_labels, activation='softmax')(net)\n",
    "    return tf.keras.Model(text_input, net)"
   ]
  },
  {
   "cell_type": "code",
   "execution_count": 18,
   "id": "a83a03f4-161c-47c3-8a0d-0adc813d1d41",
   "metadata": {},
   "outputs": [],
   "source": [
    "classifier_model = build_classifier_model()"
   ]
  },
  {
   "cell_type": "code",
   "execution_count": 19,
   "id": "de82fcbd-88d5-4413-84a2-8d7323f27f40",
   "metadata": {},
   "outputs": [
    {
     "data": {
      "image/png": "[encoded data removed]",
      "text/plain": [
       "<IPython.core.display.Image object>"
      ]
     },
     "execution_count": 19,
     "metadata": {},
     "output_type": "execute_result"
    }
   ],
   "source": [
    "tf.keras.utils.plot_model(classifier_model, to_file='../models/{}.png'.format(bert_model_name))"
   ]
  },
  {
   "cell_type": "code",
   "execution_count": 20,
   "id": "dc86931c-9b3a-4887-b2bf-cce4c31ec895",
   "metadata": {},
   "outputs": [],
   "source": [
    "epochs = 10"
   ]
  },
  {
   "cell_type": "code",
   "execution_count": 21,
   "id": "545de1f9-f443-4ac7-b2de-6f689c0ce812",
   "metadata": {},
   "outputs": [],
   "source": [
    "classifier_model.compile(optimizer='adam',\n",
    "                         loss='categorical_crossentropy',\n",
    "                         metrics=['accuracy'])"
   ]
  },
  {
   "cell_type": "code",
   "execution_count": 22,
   "id": "47905724-dc49-455b-80dc-1ef1a675f2d6",
   "metadata": {},
   "outputs": [
    {
     "name": "stdout",
     "output_type": "stream",
     "text": [
      "Training model with https://tfhub.dev/tensorflow/small_bert/bert_en_uncased_L-2_H-128_A-2/1\n",
      "Epoch 1/10\n",
      "953/953 [==============================] - 34s 33ms/step - loss: 0.6618 - accuracy: 0.7157 - val_loss: 0.5937 - val_accuracy: 0.7435\n",
      "Epoch 2/10\n",
      "953/953 [==============================] - 32s 33ms/step - loss: 0.4497 - accuracy: 0.8269 - val_loss: 0.6346 - val_accuracy: 0.7648\n"
     ]
    }
   ],
   "source": [
    "print(f'Training model with {tfhub_handle_encoder}')\n",
    "\n",
    "my_callbacks  = [tf.keras.callbacks.EarlyStopping(monitor='val_loss',\n",
    "                              min_delta=0,\n",
    "                              patience=1,\n",
    "                              mode='auto')]\n",
    "history = classifier_model.fit(x_train, y_train,\n",
    "                    epochs=epochs,\n",
    "                    validation_data=(x_val, y_val),\n",
    "                    callbacks=my_callbacks,\n",
    "                    verbose=1\n",
    "                   )"
   ]
  },
  {
   "cell_type": "code",
   "execution_count": 23,
   "id": "4390e530-530f-4c99-9d97-bceff57d2118",
   "metadata": {},
   "outputs": [
    {
     "name": "stdout",
     "output_type": "stream",
     "text": [
      "53/53 [==============================] - 1s 26ms/step - loss: 0.6335 - accuracy: 0.7655\n",
      "Loss: 0.6335001587867737\n",
      "Accuracy: 0.7655050158500671\n"
     ]
    }
   ],
   "source": [
    "loss, accuracy = classifier_model.evaluate(x_test, y_test)\n",
    "\n",
    "print(f'Loss: {loss}')\n",
    "print(f'Accuracy: {accuracy}')"
   ]
  },
  {
   "cell_type": "code",
   "execution_count": 24,
   "id": "8b45f611-b9fd-41c4-8be8-2a998ef7cd8b",
   "metadata": {},
   "outputs": [
    {
     "name": "stdout",
     "output_type": "stream",
     "text": [
      "dict_keys(['loss', 'accuracy', 'val_loss', 'val_accuracy'])\n"
     ]
    },
    {
     "data": {
      "text/plain": [
       "<matplotlib.legend.Legend at 0x7febb2793ee0>"
      ]
     },
     "execution_count": 24,
     "metadata": {},
     "output_type": "execute_result"
    },
    {
     "data": {
      "image/png": "[encoded data removed]",
      "text/plain": [
       "<Figure size 1000x600 with 2 Axes>"
      ]
     },
     "metadata": {},
     "output_type": "display_data"
    }
   ],
   "source": [
    "history_dict = history.history\n",
    "print(history_dict.keys())\n",
    "\n",
    "acc = history_dict['accuracy']\n",
    "val_acc = history_dict['val_accuracy']\n",
    "loss = history_dict['loss']\n",
    "val_loss = history_dict['val_loss']\n",
    "\n",
    "epochs = range(1, len(acc) + 1)\n",
    "fig = plt.figure(figsize=(10, 6))\n",
    "fig.tight_layout()\n",
    "\n",
    "plt.subplot(2, 1, 1)\n",
    "# r is for \"solid red line\"\n",
    "plt.plot(epochs, loss, 'r', label='Training loss')\n",
    "# b is for \"solid blue line\"\n",
    "plt.plot(epochs, val_loss, 'b', label='Validation loss')\n",
    "plt.title('Training and validation loss')\n",
    "# plt.xlabel('Epochs')\n",
    "plt.ylabel('Loss')\n",
    "plt.legend()\n",
    "\n",
    "plt.subplot(2, 1, 2)\n",
    "plt.plot(epochs, acc, 'r', label='Training acc')\n",
    "plt.plot(epochs, val_acc, 'b', label='Validation acc')\n",
    "plt.title('Training and validation accuracy')\n",
    "plt.xlabel('Epochs')\n",
    "plt.ylabel('Accuracy')\n",
    "plt.legend(loc='lower right')"
   ]
  },
  {
   "cell_type": "code",
   "execution_count": 25,
   "id": "1392fbdc-e3cb-446f-98ae-de6b39e5a055",
   "metadata": {},
   "outputs": [
    {
     "name": "stderr",
     "output_type": "stream",
     "text": [
      "2022-11-29 16:59:57.568883: W tensorflow/python/util/util.cc:368] Sets are not currently considered sequences, but this may change in the future, so consider avoiding using them.\n",
      "WARNING:absl:Found untraced functions such as restored_function_body, restored_function_body, restored_function_body, restored_function_body, restored_function_body while saving (showing 5 of 64). These functions will not be directly callable after loading.\n"
     ]
    }
   ],
   "source": [
    "saved_model_path = '../models/{}'.format(bert_model_name)\n",
    "\n",
    "classifier_model.save(saved_model_path, include_optimizer=False)"
   ]
  },
  {
   "cell_type": "code",
   "execution_count": 26,
   "id": "6b121a3b-ab1e-4929-b495-712848a52e7f",
   "metadata": {},
   "outputs": [],
   "source": [
    "x_custom = np.array(['a hilarious tale'.lower()])"
   ]
  },
  {
   "cell_type": "code",
   "execution_count": 27,
   "id": "5192edf5-2667-464f-bdcb-8bf80268fc81",
   "metadata": {},
   "outputs": [
    {
     "data": {
      "text/plain": [
       "0"
      ]
     },
     "execution_count": 27,
     "metadata": {},
     "output_type": "execute_result"
    }
   ],
   "source": [
    "classifier_model.predict(x_custom)[0].argmax()"
   ]
  },
  {
   "cell_type": "code",
   "execution_count": 28,
   "id": "f9932824-433c-4f81-8b8d-f4492b9b4534",
   "metadata": {},
   "outputs": [
    {
     "data": {
      "text/plain": [
       "{'drama': 0, 'documentary': 1, 'comedy': 2}"
      ]
     },
     "execution_count": 28,
     "metadata": {},
     "output_type": "execute_result"
    }
   ],
   "source": [
    "genre_encoding"
   ]
  },
  {
   "cell_type": "code",
   "execution_count": 29,
   "id": "94fc00ba-1957-4b3a-aa65-90fa87a2afa9",
   "metadata": {},
   "outputs": [],
   "source": [
    "import matplotlib.pyplot as plt\n",
    "from sklearn.metrics import ConfusionMatrixDisplay\n",
    "from sklearn.metrics import f1_score\n",
    "\n",
    "\n",
    "def get_confusion_matrix(y_true, y_pred):\n",
    "    fig, ax = plt.subplots(figsize=(10, 10))\n",
    "    ConfusionMatrixDisplay.from_predictions(y_true, y_pred, ax=ax)\n",
    "    plt.show()\n",
    "\n",
    "    return None\n",
    "\n",
    "\n",
    "def get_f1_score(y_true, y_pred):\n",
    "    f1 = f1_score(y_true, y_pred, average='weighted')\n",
    "    return f1"
   ]
  },
  {
   "cell_type": "code",
   "execution_count": 30,
   "id": "3abe4230-5e6a-42c7-b086-513e297d1e4a",
   "metadata": {},
   "outputs": [],
   "source": [
    "y_pred = classifier_model.predict(x_test)\n",
    "y_pred = np.argmax(y_pred, axis=1)"
   ]
  },
  {
   "cell_type": "code",
   "execution_count": 31,
   "id": "8dd0bb81-16ec-4b2d-b970-db9474dced0a",
   "metadata": {},
   "outputs": [
    {
     "data": {
      "image/png": "[encoded data removed]",
      "text/plain": [
       "<Figure size 1000x1000 with 2 Axes>"
      ]
     },
     "metadata": {},
     "output_type": "display_data"
    }
   ],
   "source": [
    "get_confusion_matrix(np.argmax(y_test, axis=1), y_pred)"
   ]
  },
  {
   "cell_type": "code",
   "execution_count": 32,
   "id": "b40f561e-15d0-4d2f-869d-7c71374fd70e",
   "metadata": {},
   "outputs": [
    {
     "data": {
      "text/plain": [
       "0.7564903226103571"
      ]
     },
     "execution_count": 32,
     "metadata": {},
     "output_type": "execute_result"
    }
   ],
   "source": [
    "get_f1_score(np.argmax(y_test, axis=1), y_pred)"
   ]
  }
 ],
 "metadata": {
  "kernelspec": {
   "display_name": "Python 3 (ipykernel)",
   "language": "python",
   "name": "python3"
  },
  "language_info": {
   "codemirror_mode": {
    "name": "ipython",
    "version": 3
   },
   "file_extension": ".py",
   "mimetype": "text/x-python",
   "name": "python",
   "nbconvert_exporter": "python",
   "pygments_lexer": "ipython3",
   "version": "3.10.6"
  }
 },
 "nbformat": 4,
 "nbformat_minor": 5
}
