{
 "cells": [
  {
   "cell_type": "code",
   "execution_count": 1,
   "id": "844e7c8d-aff8-4291-8078-0e64bfa87161",
   "metadata": {},
   "outputs": [],
   "source": [
    "# !pip install -q -U \"tensorflow-text==2.8.*\""
   ]
  },
  {
   "cell_type": "code",
   "execution_count": 2,
   "id": "3327bf49-af4e-4244-b829-223e0d98dc8f",
   "metadata": {},
   "outputs": [],
   "source": [
    "# !pip install -q tf-models-official==2.7.0"
   ]
  },
  {
   "cell_type": "code",
   "execution_count": 3,
   "id": "cc18e0e7-3b6b-4897-8840-8f3c30ab83b6",
   "metadata": {},
   "outputs": [],
   "source": [
    "# !pip install -q pydot"
   ]
  },
  {
   "cell_type": "code",
   "execution_count": 4,
   "id": "33440bdd-761e-46bd-bc9f-ca5d982b657d",
   "metadata": {},
   "outputs": [],
   "source": [
    "import os\n",
    "import shutil\n",
    "\n",
    "import tensorflow as tf\n",
    "import tensorflow_hub as hub\n",
    "import tensorflow_text as text\n",
    "from official.nlp import optimization  # to create AdamW optimizer\n",
    "\n",
    "import matplotlib.pyplot as plt\n",
    "\n",
    "tf.get_logger().setLevel('ERROR')"
   ]
  },
  {
   "cell_type": "code",
   "execution_count": 5,
   "id": "4a5ca05f-1fa2-4a6b-9057-83d6f9c03dc9",
   "metadata": {},
   "outputs": [],
   "source": [
    "import pandas as pd\n",
    "import numpy as np\n",
    "import matplotlib.pyplot as plt\n",
    "%matplotlib inline"
   ]
  },
  {
   "cell_type": "code",
   "execution_count": 20,
   "id": "8f32f10c-c9e1-4b28-8578-fbfbdf470030",
   "metadata": {},
   "outputs": [],
   "source": [
    "train_df = pd.read_csv('../data/processed/train_data_processed.csv', index_col='id', usecols=['id', 'processed_description_string'])\n",
    "# test_df = pd.read_csv('../data/processed/train_data_processed.csv', index_col='id')\n",
    "train_df = pd.read_csv('../data/processed/fewer_labels/train_7_classes.csv', index_col='id').join(train_df)\n",
    "train_df = train_df[train_df['language'] == 'English'].reset_index(drop=True)\n",
    "test_df = pd.read_csv('../data/processed/fewer_labels/test_7_classes.csv', index_col='id')\n",
    "test_df = test_df[test_df['language'] == 'English'].reset_index(drop=True)"
   ]
  },
  {
   "cell_type": "code",
   "execution_count": 21,
   "id": "a53fa75a-a3ad-485c-8ece-d185f384ccb0",
   "metadata": {},
   "outputs": [],
   "source": [
    "def truncate_and_split_descriptions(df, batch_size=128):\n",
    "    new_df_dict = {'genre':[], 'processed_description_string': []}\n",
    "    for _, row in df.iterrows():\n",
    "        processed_description = row['processed_description_string'].split()\n",
    "        genre = row['genre']\n",
    "        n = len(processed_description)\n",
    "        for i in range(0, n, batch_size):\n",
    "            new_df_dict['genre'].append(genre)\n",
    "            new_df_dict['processed_description_string'].append(' '.join(processed_description[i:min(n, i+batch_size)]))\n",
    "    new_df = pd.DataFrame(new_df_dict)\n",
    "    return new_df"
   ]
  },
  {
   "cell_type": "code",
   "execution_count": 22,
   "id": "e1c40b78-507a-43c0-a162-22f057fa6e18",
   "metadata": {},
   "outputs": [],
   "source": [
    "# train_df = truncate_and_split_descriptions(train_df)"
   ]
  },
  {
   "cell_type": "code",
   "execution_count": 23,
   "id": "f70c1ec0-f107-4136-a435-cd94bb60c3b6",
   "metadata": {},
   "outputs": [],
   "source": [
    "unique_genres = train_df['genre'].unique()\n",
    "genre_encoding = dict([(unique_genres[i], i) for i in range(unique_genres.shape[0])])\n",
    "train_df['genre'] = train_df['genre'].map(genre_encoding)\n",
    "test_df['genre'] = test_df['genre'].map(genre_encoding)"
   ]
  },
  {
   "cell_type": "code",
   "execution_count": 24,
   "id": "44d36515-e964-4dbd-b7d0-1eafcdb8a2e8",
   "metadata": {},
   "outputs": [
    {
     "data": {
      "text/html": [
       "<div>\n",
       "<style scoped>\n",
       "    .dataframe tbody tr th:only-of-type {\n",
       "        vertical-align: middle;\n",
       "    }\n",
       "\n",
       "    .dataframe tbody tr th {\n",
       "        vertical-align: top;\n",
       "    }\n",
       "\n",
       "    .dataframe thead th {\n",
       "        text-align: right;\n",
       "    }\n",
       "</style>\n",
       "<table border=\"1\" class=\"dataframe\">\n",
       "  <thead>\n",
       "    <tr style=\"text-align: right;\">\n",
       "      <th></th>\n",
       "      <th>title</th>\n",
       "      <th>genre</th>\n",
       "      <th>description</th>\n",
       "      <th>year</th>\n",
       "      <th>description_stemmed</th>\n",
       "      <th>description_stemmed_string</th>\n",
       "      <th>language</th>\n",
       "      <th>processed_description_string</th>\n",
       "    </tr>\n",
       "  </thead>\n",
       "  <tbody>\n",
       "    <tr>\n",
       "      <th>0</th>\n",
       "      <td>Oscar et la dame rose</td>\n",
       "      <td>0</td>\n",
       "      <td>Listening in to a conversation between his do...</td>\n",
       "      <td>2009</td>\n",
       "      <td>['listen', 'convers', 'doctor', 'parent', '10-...</td>\n",
       "      <td>listen convers doctor parent 10-year-old oscar...</td>\n",
       "      <td>English</td>\n",
       "      <td>listen convers doctor parent 10-year-old oscar...</td>\n",
       "    </tr>\n",
       "    <tr>\n",
       "      <th>1</th>\n",
       "      <td>Cupid</td>\n",
       "      <td>1</td>\n",
       "      <td>A brother and sister with a past incestuous r...</td>\n",
       "      <td>1997</td>\n",
       "      <td>['brother', 'sister', 'past', 'incestu', 'rela...</td>\n",
       "      <td>brother sister past incestu relationship curre...</td>\n",
       "      <td>English</td>\n",
       "      <td>brother sister past incestu relationship curre...</td>\n",
       "    </tr>\n",
       "    <tr>\n",
       "      <th>2</th>\n",
       "      <td>The Secret Sin</td>\n",
       "      <td>0</td>\n",
       "      <td>To help their unemployed father make ends mee...</td>\n",
       "      <td>1915</td>\n",
       "      <td>['help', 'unemploy', 'father', 'make', 'end', ...</td>\n",
       "      <td>help unemploy father make end meet edith twin ...</td>\n",
       "      <td>English</td>\n",
       "      <td>help unemploy father make end meet edith twin ...</td>\n",
       "    </tr>\n",
       "    <tr>\n",
       "      <th>3</th>\n",
       "      <td>The Unrecovered</td>\n",
       "      <td>0</td>\n",
       "      <td>The film's title refers not only to the un-re...</td>\n",
       "      <td>2007</td>\n",
       "      <td>['film', \"'s\", 'titl', 'refer', 'un-recov', 'b...</td>\n",
       "      <td>film 's titl refer un-recov bodi ground zero a...</td>\n",
       "      <td>English</td>\n",
       "      <td>film titl refer un-recov bodi ground zero also...</td>\n",
       "    </tr>\n",
       "    <tr>\n",
       "      <th>4</th>\n",
       "      <td>Quality Control</td>\n",
       "      <td>2</td>\n",
       "      <td>Quality Control consists of a series of 16mm ...</td>\n",
       "      <td>2011</td>\n",
       "      <td>['qualiti', 'control', 'consist', 'seri', '16m...</td>\n",
       "      <td>qualiti control consist seri 16mm singl take s...</td>\n",
       "      <td>English</td>\n",
       "      <td>qualiti control consist seri 16mm singl take s...</td>\n",
       "    </tr>\n",
       "    <tr>\n",
       "      <th>...</th>\n",
       "      <td>...</td>\n",
       "      <td>...</td>\n",
       "      <td>...</td>\n",
       "      <td>...</td>\n",
       "      <td>...</td>\n",
       "      <td>...</td>\n",
       "      <td>...</td>\n",
       "      <td>...</td>\n",
       "    </tr>\n",
       "    <tr>\n",
       "      <th>39984</th>\n",
       "      <td>Kaçamak</td>\n",
       "      <td>0</td>\n",
       "      <td>A man and woman meet during the identificatio...</td>\n",
       "      <td>1988</td>\n",
       "      <td>['man', 'woman', 'meet', 'identif', 'spous', \"...</td>\n",
       "      <td>man woman meet identif spous ' dead bodi follo...</td>\n",
       "      <td>English</td>\n",
       "      <td>man woman meet identif spous dead bodi follow ...</td>\n",
       "    </tr>\n",
       "    <tr>\n",
       "      <th>39985</th>\n",
       "      <td>\"Bonino\"</td>\n",
       "      <td>3</td>\n",
       "      <td>This short-lived NBC live sitcom centered on ...</td>\n",
       "      <td>1953</td>\n",
       "      <td>['short-liv', 'nbc', 'live', 'sitcom', 'center...</td>\n",
       "      <td>short-liv nbc live sitcom center bonino world-...</td>\n",
       "      <td>English</td>\n",
       "      <td>short-liv nbc live sitcom center bonino world-...</td>\n",
       "    </tr>\n",
       "    <tr>\n",
       "      <th>39986</th>\n",
       "      <td>Dead Girls Don't Cry</td>\n",
       "      <td>4</td>\n",
       "      <td>The NEXT Generation of EXPLOITATION. The sist...</td>\n",
       "      <td>????</td>\n",
       "      <td>['next', 'gener', 'exploit', 'sister', 'kapa',...</td>\n",
       "      <td>next gener exploit sister kapa - bay soror hou...</td>\n",
       "      <td>English</td>\n",
       "      <td>next gener exploit sister kapa - bay soror hou...</td>\n",
       "    </tr>\n",
       "    <tr>\n",
       "      <th>39987</th>\n",
       "      <td>Ronald Goedemondt: Ze bestaan echt</td>\n",
       "      <td>2</td>\n",
       "      <td>Ze bestaan echt, is a stand-up comedy about g...</td>\n",
       "      <td>2008</td>\n",
       "      <td>['ze', 'bestaan', 'echt', 'stand-up', 'comedi'...</td>\n",
       "      <td>ze bestaan echt stand-up comedi grow face fear...</td>\n",
       "      <td>English</td>\n",
       "      <td>ze bestaan echt stand-up comedi grow face fear...</td>\n",
       "    </tr>\n",
       "    <tr>\n",
       "      <th>39988</th>\n",
       "      <td>Make Your Own Bed</td>\n",
       "      <td>3</td>\n",
       "      <td>Walter and Vivian live in the country and hav...</td>\n",
       "      <td>1944</td>\n",
       "      <td>['walter', 'vivian', 'live', 'countri', 'diffi...</td>\n",
       "      <td>walter vivian live countri difficult time keep...</td>\n",
       "      <td>English</td>\n",
       "      <td>walter vivian live countri difficult time keep...</td>\n",
       "    </tr>\n",
       "  </tbody>\n",
       "</table>\n",
       "<p>39989 rows × 8 columns</p>\n",
       "</div>"
      ],
      "text/plain": [
       "                                      title  genre  \\\n",
       "0                    Oscar et la dame rose       0   \n",
       "1                                    Cupid       1   \n",
       "2                           The Secret Sin       0   \n",
       "3                          The Unrecovered       0   \n",
       "4                          Quality Control       2   \n",
       "...                                     ...    ...   \n",
       "39984                              Kaçamak       0   \n",
       "39985                             \"Bonino\"       3   \n",
       "39986                 Dead Girls Don't Cry       4   \n",
       "39987   Ronald Goedemondt: Ze bestaan echt       2   \n",
       "39988                    Make Your Own Bed       3   \n",
       "\n",
       "                                             description  year  \\\n",
       "0       Listening in to a conversation between his do...  2009   \n",
       "1       A brother and sister with a past incestuous r...  1997   \n",
       "2       To help their unemployed father make ends mee...  1915   \n",
       "3       The film's title refers not only to the un-re...  2007   \n",
       "4       Quality Control consists of a series of 16mm ...  2011   \n",
       "...                                                  ...   ...   \n",
       "39984   A man and woman meet during the identificatio...  1988   \n",
       "39985   This short-lived NBC live sitcom centered on ...  1953   \n",
       "39986   The NEXT Generation of EXPLOITATION. The sist...  ????   \n",
       "39987   Ze bestaan echt, is a stand-up comedy about g...  2008   \n",
       "39988   Walter and Vivian live in the country and hav...  1944   \n",
       "\n",
       "                                     description_stemmed  \\\n",
       "0      ['listen', 'convers', 'doctor', 'parent', '10-...   \n",
       "1      ['brother', 'sister', 'past', 'incestu', 'rela...   \n",
       "2      ['help', 'unemploy', 'father', 'make', 'end', ...   \n",
       "3      ['film', \"'s\", 'titl', 'refer', 'un-recov', 'b...   \n",
       "4      ['qualiti', 'control', 'consist', 'seri', '16m...   \n",
       "...                                                  ...   \n",
       "39984  ['man', 'woman', 'meet', 'identif', 'spous', \"...   \n",
       "39985  ['short-liv', 'nbc', 'live', 'sitcom', 'center...   \n",
       "39986  ['next', 'gener', 'exploit', 'sister', 'kapa',...   \n",
       "39987  ['ze', 'bestaan', 'echt', 'stand-up', 'comedi'...   \n",
       "39988  ['walter', 'vivian', 'live', 'countri', 'diffi...   \n",
       "\n",
       "                              description_stemmed_string language  \\\n",
       "0      listen convers doctor parent 10-year-old oscar...  English   \n",
       "1      brother sister past incestu relationship curre...  English   \n",
       "2      help unemploy father make end meet edith twin ...  English   \n",
       "3      film 's titl refer un-recov bodi ground zero a...  English   \n",
       "4      qualiti control consist seri 16mm singl take s...  English   \n",
       "...                                                  ...      ...   \n",
       "39984  man woman meet identif spous ' dead bodi follo...  English   \n",
       "39985  short-liv nbc live sitcom center bonino world-...  English   \n",
       "39986  next gener exploit sister kapa - bay soror hou...  English   \n",
       "39987  ze bestaan echt stand-up comedi grow face fear...  English   \n",
       "39988  walter vivian live countri difficult time keep...  English   \n",
       "\n",
       "                            processed_description_string  \n",
       "0      listen convers doctor parent 10-year-old oscar...  \n",
       "1      brother sister past incestu relationship curre...  \n",
       "2      help unemploy father make end meet edith twin ...  \n",
       "3      film titl refer un-recov bodi ground zero also...  \n",
       "4      qualiti control consist seri 16mm singl take s...  \n",
       "...                                                  ...  \n",
       "39984  man woman meet identif spous dead bodi follow ...  \n",
       "39985  short-liv nbc live sitcom center bonino world-...  \n",
       "39986  next gener exploit sister kapa - bay soror hou...  \n",
       "39987  ze bestaan echt stand-up comedi grow face fear...  \n",
       "39988  walter vivian live countri difficult time keep...  \n",
       "\n",
       "[39989 rows x 8 columns]"
      ]
     },
     "execution_count": 24,
     "metadata": {},
     "output_type": "execute_result"
    }
   ],
   "source": [
    "train_df"
   ]
  },
  {
   "cell_type": "code",
   "execution_count": 25,
   "id": "af688e31-5fe6-4e84-9d3a-6ea7b51719b0",
   "metadata": {},
   "outputs": [
    {
     "data": {
      "text/html": [
       "<div>\n",
       "<style scoped>\n",
       "    .dataframe tbody tr th:only-of-type {\n",
       "        vertical-align: middle;\n",
       "    }\n",
       "\n",
       "    .dataframe tbody tr th {\n",
       "        vertical-align: top;\n",
       "    }\n",
       "\n",
       "    .dataframe thead th {\n",
       "        text-align: right;\n",
       "    }\n",
       "</style>\n",
       "<table border=\"1\" class=\"dataframe\">\n",
       "  <thead>\n",
       "    <tr style=\"text-align: right;\">\n",
       "      <th></th>\n",
       "      <th>title</th>\n",
       "      <th>description</th>\n",
       "      <th>year</th>\n",
       "      <th>processed_description</th>\n",
       "      <th>processed_description_string</th>\n",
       "      <th>language</th>\n",
       "      <th>genre</th>\n",
       "    </tr>\n",
       "  </thead>\n",
       "  <tbody>\n",
       "    <tr>\n",
       "      <th>0</th>\n",
       "      <td>Edgar's Lunch</td>\n",
       "      <td>L.R. Brane loves his life - his car, his apar...</td>\n",
       "      <td>1998</td>\n",
       "      <td>['lr', 'brane', 'love', 'life', '-', 'car', 'a...</td>\n",
       "      <td>lr brane love life - car apart job especi girl...</td>\n",
       "      <td>English</td>\n",
       "      <td>1</td>\n",
       "    </tr>\n",
       "    <tr>\n",
       "      <th>1</th>\n",
       "      <td>La guerra de papá</td>\n",
       "      <td>Spain, March 1964: Quico is a very naughty ch...</td>\n",
       "      <td>1977</td>\n",
       "      <td>['spain', 'march', '1964', ':', 'quico', 'naug...</td>\n",
       "      <td>spain march 1964 : quico naughti child three b...</td>\n",
       "      <td>English</td>\n",
       "      <td>3</td>\n",
       "    </tr>\n",
       "    <tr>\n",
       "      <th>2</th>\n",
       "      <td>Off the Beaten Track</td>\n",
       "      <td>One year in the life of Albin and his family ...</td>\n",
       "      <td>2010</td>\n",
       "      <td>['one', 'year', 'life', 'albin', 'famili', 'sh...</td>\n",
       "      <td>one year life albin famili shepherd north tran...</td>\n",
       "      <td>English</td>\n",
       "      <td>2</td>\n",
       "    </tr>\n",
       "    <tr>\n",
       "      <th>3</th>\n",
       "      <td>Meu Amigo Hindu</td>\n",
       "      <td>His father has died, he hasn't spoken with hi...</td>\n",
       "      <td>2015</td>\n",
       "      <td>['father', 'die', 'hasnt', 'spoken', 'brother'...</td>\n",
       "      <td>father die hasnt spoken brother 10 year seriou...</td>\n",
       "      <td>English</td>\n",
       "      <td>0</td>\n",
       "    </tr>\n",
       "    <tr>\n",
       "      <th>4</th>\n",
       "      <td>Er nu zhai</td>\n",
       "      <td>Before he was known internationally as a mart...</td>\n",
       "      <td>1955</td>\n",
       "      <td>['known', 'intern', 'martial', 'art', 'superst...</td>\n",
       "      <td>known intern martial art superstar bruce lee a...</td>\n",
       "      <td>English</td>\n",
       "      <td>0</td>\n",
       "    </tr>\n",
       "    <tr>\n",
       "      <th>...</th>\n",
       "      <td>...</td>\n",
       "      <td>...</td>\n",
       "      <td>...</td>\n",
       "      <td>...</td>\n",
       "      <td>...</td>\n",
       "      <td>...</td>\n",
       "      <td>...</td>\n",
       "    </tr>\n",
       "    <tr>\n",
       "      <th>39980</th>\n",
       "      <td>Dinosaurs Decoded</td>\n",
       "      <td>National Geographic reviews Jack Horner's res...</td>\n",
       "      <td>2009</td>\n",
       "      <td>['nation', 'geograph', 'review', 'jack', 'horn...</td>\n",
       "      <td>nation geograph review jack horner research ju...</td>\n",
       "      <td>English</td>\n",
       "      <td>2</td>\n",
       "    </tr>\n",
       "    <tr>\n",
       "      <th>39981</th>\n",
       "      <td>\"Tales of Light &amp; Dark\"</td>\n",
       "      <td>Covering multiple genres, Tales of Light &amp; Da...</td>\n",
       "      <td>2013</td>\n",
       "      <td>['cover', 'multipl', 'genr', 'tale', 'light', ...</td>\n",
       "      <td>cover multipl genr tale light dark antholog we...</td>\n",
       "      <td>English</td>\n",
       "      <td>4</td>\n",
       "    </tr>\n",
       "    <tr>\n",
       "      <th>39982</th>\n",
       "      <td>Der letzte Mohikaner</td>\n",
       "      <td>As Alice and Cora Munro attempt to find their...</td>\n",
       "      <td>1965</td>\n",
       "      <td>['alic', 'cora', 'munro', 'attempt', 'find', '...</td>\n",
       "      <td>alic cora munro attempt find father british of...</td>\n",
       "      <td>English</td>\n",
       "      <td>6</td>\n",
       "    </tr>\n",
       "    <tr>\n",
       "      <th>39983</th>\n",
       "      <td>Slipstream</td>\n",
       "      <td>Popular, but mysterious rock D.J Mike Mallard...</td>\n",
       "      <td>1973</td>\n",
       "      <td>['popular', 'mysteri', 'rock', 'dj', 'mike', '...</td>\n",
       "      <td>popular mysteri rock dj mike mallard askew bro...</td>\n",
       "      <td>English</td>\n",
       "      <td>0</td>\n",
       "    </tr>\n",
       "    <tr>\n",
       "      <th>39984</th>\n",
       "      <td>Curitiba Zero Grau</td>\n",
       "      <td>Curitiba is a city in movement, with rhythms ...</td>\n",
       "      <td>2010</td>\n",
       "      <td>['curitiba', 'citi', 'movement', 'rhythm', 'di...</td>\n",
       "      <td>curitiba citi movement rhythm differ pulsat gr...</td>\n",
       "      <td>English</td>\n",
       "      <td>0</td>\n",
       "    </tr>\n",
       "  </tbody>\n",
       "</table>\n",
       "<p>39985 rows × 7 columns</p>\n",
       "</div>"
      ],
      "text/plain": [
       "                           title  \\\n",
       "0                 Edgar's Lunch    \n",
       "1             La guerra de papá    \n",
       "2          Off the Beaten Track    \n",
       "3               Meu Amigo Hindu    \n",
       "4                    Er nu zhai    \n",
       "...                          ...   \n",
       "39980         Dinosaurs Decoded    \n",
       "39981   \"Tales of Light & Dark\"    \n",
       "39982      Der letzte Mohikaner    \n",
       "39983                Slipstream    \n",
       "39984        Curitiba Zero Grau    \n",
       "\n",
       "                                             description  year  \\\n",
       "0       L.R. Brane loves his life - his car, his apar...  1998   \n",
       "1       Spain, March 1964: Quico is a very naughty ch...  1977   \n",
       "2       One year in the life of Albin and his family ...  2010   \n",
       "3       His father has died, he hasn't spoken with hi...  2015   \n",
       "4       Before he was known internationally as a mart...  1955   \n",
       "...                                                  ...   ...   \n",
       "39980   National Geographic reviews Jack Horner's res...  2009   \n",
       "39981   Covering multiple genres, Tales of Light & Da...  2013   \n",
       "39982   As Alice and Cora Munro attempt to find their...  1965   \n",
       "39983   Popular, but mysterious rock D.J Mike Mallard...  1973   \n",
       "39984   Curitiba is a city in movement, with rhythms ...  2010   \n",
       "\n",
       "                                   processed_description  \\\n",
       "0      ['lr', 'brane', 'love', 'life', '-', 'car', 'a...   \n",
       "1      ['spain', 'march', '1964', ':', 'quico', 'naug...   \n",
       "2      ['one', 'year', 'life', 'albin', 'famili', 'sh...   \n",
       "3      ['father', 'die', 'hasnt', 'spoken', 'brother'...   \n",
       "4      ['known', 'intern', 'martial', 'art', 'superst...   \n",
       "...                                                  ...   \n",
       "39980  ['nation', 'geograph', 'review', 'jack', 'horn...   \n",
       "39981  ['cover', 'multipl', 'genr', 'tale', 'light', ...   \n",
       "39982  ['alic', 'cora', 'munro', 'attempt', 'find', '...   \n",
       "39983  ['popular', 'mysteri', 'rock', 'dj', 'mike', '...   \n",
       "39984  ['curitiba', 'citi', 'movement', 'rhythm', 'di...   \n",
       "\n",
       "                            processed_description_string language  genre  \n",
       "0      lr brane love life - car apart job especi girl...  English      1  \n",
       "1      spain march 1964 : quico naughti child three b...  English      3  \n",
       "2      one year life albin famili shepherd north tran...  English      2  \n",
       "3      father die hasnt spoken brother 10 year seriou...  English      0  \n",
       "4      known intern martial art superstar bruce lee a...  English      0  \n",
       "...                                                  ...      ...    ...  \n",
       "39980  nation geograph review jack horner research ju...  English      2  \n",
       "39981  cover multipl genr tale light dark antholog we...  English      4  \n",
       "39982  alic cora munro attempt find father british of...  English      6  \n",
       "39983  popular mysteri rock dj mike mallard askew bro...  English      0  \n",
       "39984  curitiba citi movement rhythm differ pulsat gr...  English      0  \n",
       "\n",
       "[39985 rows x 7 columns]"
      ]
     },
     "execution_count": 25,
     "metadata": {},
     "output_type": "execute_result"
    }
   ],
   "source": [
    "test_df"
   ]
  },
  {
   "cell_type": "code",
   "execution_count": 26,
   "id": "fcf33576-9ebb-4068-8780-e8913088fc1f",
   "metadata": {},
   "outputs": [
    {
     "data": {
      "text/plain": [
       "7"
      ]
     },
     "execution_count": 26,
     "metadata": {},
     "output_type": "execute_result"
    }
   ],
   "source": [
    "num_labels = train_df['genre'].nunique()\n",
    "num_labels"
   ]
  },
  {
   "cell_type": "code",
   "execution_count": 27,
   "id": "7217f4a8-ed84-4ce3-b387-d6946337e93d",
   "metadata": {},
   "outputs": [],
   "source": [
    "x_train = train_df['processed_description_string'].values\n",
    "y_train = pd.get_dummies(train_df['genre']).values"
   ]
  },
  {
   "cell_type": "code",
   "execution_count": 28,
   "id": "c11dceee-3850-4d24-b821-73db2fb0364a",
   "metadata": {},
   "outputs": [],
   "source": [
    "x_test = test_df['processed_description_string'].values\n",
    "y_test = pd.get_dummies(test_df['genre']).values"
   ]
  },
  {
   "cell_type": "code",
   "execution_count": 29,
   "id": "f24b5ce0-191b-4572-9726-06ead395bf78",
   "metadata": {},
   "outputs": [],
   "source": [
    "num_examples = train_df.shape[0]\n",
    "\n",
    "train_set_size = int(num_examples * 0.95)\n",
    "val_set_size = num_examples - train_set_size\n",
    "\n",
    "x_val = x_train[train_set_size:]\n",
    "x_train = x_train[:train_set_size]\n",
    "\n",
    "y_val = y_train[train_set_size:]\n",
    "y_train = y_train[:train_set_size]"
   ]
  },
  {
   "cell_type": "code",
   "execution_count": 30,
   "id": "295799b8-eeaa-4fe5-9e8d-68094d07d092",
   "metadata": {},
   "outputs": [
    {
     "name": "stdout",
     "output_type": "stream",
     "text": [
      "BERT model selected           : https://tfhub.dev/tensorflow/small_bert/bert_en_uncased_L-2_H-128_A-2/1\n",
      "Preprocess model auto-selected: https://tfhub.dev/tensorflow/bert_en_uncased_preprocess/3\n"
     ]
    }
   ],
   "source": [
    "#@title Choose a BERT model to fine-tune\n",
    "\n",
    "bert_model_name = 'small_bert/bert_en_uncased_L-2_H-128_A-2'\n",
    "\n",
    "map_name_to_handle = {\n",
    "    'small_bert/bert_en_uncased_L-2_H-128_A-2':\n",
    "        'https://tfhub.dev/tensorflow/small_bert/bert_en_uncased_L-2_H-128_A-2/1',\n",
    "}\n",
    "\n",
    "map_model_to_preprocess = {\n",
    "    'small_bert/bert_en_uncased_L-2_H-128_A-2':\n",
    "        'https://tfhub.dev/tensorflow/bert_en_uncased_preprocess/3',\n",
    "}\n",
    "\n",
    "tfhub_handle_encoder = map_name_to_handle[bert_model_name]\n",
    "tfhub_handle_preprocess = map_model_to_preprocess[bert_model_name]\n",
    "\n",
    "print(f'BERT model selected           : {tfhub_handle_encoder}')\n",
    "print(f'Preprocess model auto-selected: {tfhub_handle_preprocess}')"
   ]
  },
  {
   "cell_type": "code",
   "execution_count": 31,
   "id": "555eb135-36eb-4285-a7a2-64c639eda5f1",
   "metadata": {},
   "outputs": [
    {
     "name": "stderr",
     "output_type": "stream",
     "text": [
      "2022-11-29 18:22:22.519617: I tensorflow/stream_executor/cuda/cuda_gpu_executor.cc:936] successful NUMA node read from SysFS had negative value (-1), but there must be at least one NUMA node, so returning NUMA node zero\n",
      "2022-11-29 18:22:22.546971: I tensorflow/stream_executor/cuda/cuda_gpu_executor.cc:936] successful NUMA node read from SysFS had negative value (-1), but there must be at least one NUMA node, so returning NUMA node zero\n",
      "2022-11-29 18:22:22.547121: I tensorflow/stream_executor/cuda/cuda_gpu_executor.cc:936] successful NUMA node read from SysFS had negative value (-1), but there must be at least one NUMA node, so returning NUMA node zero\n",
      "2022-11-29 18:22:22.547651: I tensorflow/core/platform/cpu_feature_guard.cc:151] This TensorFlow binary is optimized with oneAPI Deep Neural Network Library (oneDNN) to use the following CPU instructions in performance-critical operations:  AVX2 FMA\n",
      "To enable them in other operations, rebuild TensorFlow with the appropriate compiler flags.\n",
      "2022-11-29 18:22:22.548043: I tensorflow/stream_executor/cuda/cuda_gpu_executor.cc:936] successful NUMA node read from SysFS had negative value (-1), but there must be at least one NUMA node, so returning NUMA node zero\n",
      "2022-11-29 18:22:22.548160: I tensorflow/stream_executor/cuda/cuda_gpu_executor.cc:936] successful NUMA node read from SysFS had negative value (-1), but there must be at least one NUMA node, so returning NUMA node zero\n",
      "2022-11-29 18:22:22.548325: I tensorflow/stream_executor/cuda/cuda_gpu_executor.cc:936] successful NUMA node read from SysFS had negative value (-1), but there must be at least one NUMA node, so returning NUMA node zero\n",
      "2022-11-29 18:22:22.904702: I tensorflow/stream_executor/cuda/cuda_gpu_executor.cc:936] successful NUMA node read from SysFS had negative value (-1), but there must be at least one NUMA node, so returning NUMA node zero\n",
      "2022-11-29 18:22:22.904844: I tensorflow/stream_executor/cuda/cuda_gpu_executor.cc:936] successful NUMA node read from SysFS had negative value (-1), but there must be at least one NUMA node, so returning NUMA node zero\n",
      "2022-11-29 18:22:22.904951: I tensorflow/stream_executor/cuda/cuda_gpu_executor.cc:936] successful NUMA node read from SysFS had negative value (-1), but there must be at least one NUMA node, so returning NUMA node zero\n",
      "2022-11-29 18:22:22.905045: I tensorflow/core/common_runtime/gpu/gpu_device.cc:1525] Created device /job:localhost/replica:0/task:0/device:GPU:0 with 382 MB memory:  -> device: 0, name: NVIDIA GeForce RTX 2060 SUPER, pci bus id: 0000:01:00.0, compute capability: 7.5\n"
     ]
    }
   ],
   "source": [
    "bert_preprocess_model = hub.KerasLayer(tfhub_handle_preprocess)"
   ]
  },
  {
   "cell_type": "code",
   "execution_count": 32,
   "id": "db6662e3-9a18-4a70-af75-080df48e191f",
   "metadata": {},
   "outputs": [],
   "source": [
    "bert_model = hub.KerasLayer(tfhub_handle_encoder)"
   ]
  },
  {
   "cell_type": "code",
   "execution_count": 49,
   "id": "585cd97f-5a56-4888-9df5-f5a70941a209",
   "metadata": {},
   "outputs": [],
   "source": [
    "def build_classifier_model():\n",
    "    text_input = tf.keras.layers.Input(shape=(), dtype=tf.string, name='text')\n",
    "    preprocessing_layer = hub.KerasLayer(tfhub_handle_preprocess, name='preprocessing')\n",
    "    encoder_inputs = preprocessing_layer(text_input)\n",
    "    encoder = hub.KerasLayer(tfhub_handle_encoder, trainable=True, name='BERT_encoder')\n",
    "    outputs = encoder(encoder_inputs)\n",
    "    net = outputs['pooled_output']\n",
    "    net = tf.keras.layers.Dense(128)(net)\n",
    "    net = tf.keras.layers.Dropout(0.2)(net)\n",
    "    net = tf.keras.layers.Dense(512)(net)\n",
    "    net = tf.keras.layers.Dropout(0.2)(net)\n",
    "    net = tf.keras.layers.Dense(256)(net)\n",
    "    net = tf.keras.layers.Dropout(0.2)(net)\n",
    "    net = tf.keras.layers.Dense(128)(net)\n",
    "    net = tf.keras.layers.Dense(num_labels, activation='softmax')(net)\n",
    "    return tf.keras.Model(text_input, net)"
   ]
  },
  {
   "cell_type": "code",
   "execution_count": 50,
   "id": "a83a03f4-161c-47c3-8a0d-0adc813d1d41",
   "metadata": {},
   "outputs": [],
   "source": [
    "classifier_model = build_classifier_model()"
   ]
  },
  {
   "cell_type": "code",
   "execution_count": 51,
   "id": "de82fcbd-88d5-4413-84a2-8d7323f27f40",
   "metadata": {},
   "outputs": [
    {
     "data": {
      "image/png": "[encoded data removed]",
      "text/plain": [
       "<IPython.core.display.Image object>"
      ]
     },
     "execution_count": 51,
     "metadata": {},
     "output_type": "execute_result"
    }
   ],
   "source": [
    "tf.keras.utils.plot_model(classifier_model, to_file='../models/{}.png'.format(bert_model_name))"
   ]
  },
  {
   "cell_type": "code",
   "execution_count": 52,
   "id": "dc86931c-9b3a-4887-b2bf-cce4c31ec895",
   "metadata": {},
   "outputs": [],
   "source": [
    "epochs = 10"
   ]
  },
  {
   "cell_type": "code",
   "execution_count": 53,
   "id": "545de1f9-f443-4ac7-b2de-6f689c0ce812",
   "metadata": {},
   "outputs": [],
   "source": [
    "classifier_model.compile(optimizer='adam',\n",
    "                         loss='categorical_crossentropy',\n",
    "                         metrics=['accuracy'])"
   ]
  },
  {
   "cell_type": "code",
   "execution_count": 54,
   "id": "47905724-dc49-455b-80dc-1ef1a675f2d6",
   "metadata": {},
   "outputs": [
    {
     "name": "stdout",
     "output_type": "stream",
     "text": [
      "Training model with https://tfhub.dev/tensorflow/small_bert/bert_en_uncased_L-2_H-128_A-2/1\n",
      "Epoch 1/10\n",
      "1188/1188 [==============================] - 41s 33ms/step - loss: 1.0362 - accuracy: 0.6321 - val_loss: 0.8242 - val_accuracy: 0.7120\n",
      "Epoch 2/10\n",
      "1188/1188 [==============================] - 40s 33ms/step - loss: 0.7393 - accuracy: 0.7445 - val_loss: 0.8178 - val_accuracy: 0.7180\n",
      "Epoch 3/10\n",
      "1188/1188 [==============================] - 40s 33ms/step - loss: 0.5848 - accuracy: 0.8051 - val_loss: 1.0147 - val_accuracy: 0.6935\n"
     ]
    }
   ],
   "source": [
    "print(f'Training model with {tfhub_handle_encoder}')\n",
    "\n",
    "my_callbacks  = [tf.keras.callbacks.EarlyStopping(monitor='val_loss',\n",
    "                              min_delta=0,\n",
    "                              patience=1,\n",
    "                              mode='auto')]\n",
    "history = classifier_model.fit(x_train, y_train,\n",
    "                    epochs=epochs,\n",
    "                    validation_data=(x_val, y_val),\n",
    "                    callbacks=my_callbacks,\n",
    "                    verbose=1\n",
    "                   )"
   ]
  },
  {
   "cell_type": "code",
   "execution_count": 55,
   "id": "4390e530-530f-4c99-9d97-bceff57d2118",
   "metadata": {},
   "outputs": [
    {
     "name": "stdout",
     "output_type": "stream",
     "text": [
      "1250/1250 [==============================] - 32s 25ms/step - loss: 1.0198 - accuracy: 0.6870\n",
      "Loss: 1.019843339920044\n",
      "Accuracy: 0.6870326399803162\n"
     ]
    }
   ],
   "source": [
    "loss, accuracy = classifier_model.evaluate(x_test, y_test)\n",
    "\n",
    "print(f'Loss: {loss}')\n",
    "print(f'Accuracy: {accuracy}')"
   ]
  },
  {
   "cell_type": "code",
   "execution_count": 56,
   "id": "8b45f611-b9fd-41c4-8be8-2a998ef7cd8b",
   "metadata": {},
   "outputs": [
    {
     "name": "stdout",
     "output_type": "stream",
     "text": [
      "dict_keys(['loss', 'accuracy', 'val_loss', 'val_accuracy'])\n"
     ]
    },
    {
     "data": {
      "text/plain": [
       "<matplotlib.legend.Legend at 0x7fe4a0b6e1c0>"
      ]
     },
     "execution_count": 56,
     "metadata": {},
     "output_type": "execute_result"
    },
    {
     "data": {
      "image/png": "[encoded data removed]",
      "text/plain": [
       "<Figure size 1000x600 with 2 Axes>"
      ]
     },
     "metadata": {},
     "output_type": "display_data"
    }
   ],
   "source": [
    "history_dict = history.history\n",
    "print(history_dict.keys())\n",
    "\n",
    "acc = history_dict['accuracy']\n",
    "val_acc = history_dict['val_accuracy']\n",
    "loss = history_dict['loss']\n",
    "val_loss = history_dict['val_loss']\n",
    "\n",
    "epochs = range(1, len(acc) + 1)\n",
    "fig = plt.figure(figsize=(10, 6))\n",
    "fig.tight_layout()\n",
    "\n",
    "plt.subplot(2, 1, 1)\n",
    "# r is for \"solid red line\"\n",
    "plt.plot(epochs, loss, 'r', label='Training loss')\n",
    "# b is for \"solid blue line\"\n",
    "plt.plot(epochs, val_loss, 'b', label='Validation loss')\n",
    "plt.title('Training and validation loss')\n",
    "# plt.xlabel('Epochs')\n",
    "plt.ylabel('Loss')\n",
    "plt.legend()\n",
    "\n",
    "plt.subplot(2, 1, 2)\n",
    "plt.plot(epochs, acc, 'r', label='Training acc')\n",
    "plt.plot(epochs, val_acc, 'b', label='Validation acc')\n",
    "plt.title('Training and validation accuracy')\n",
    "plt.xlabel('Epochs')\n",
    "plt.ylabel('Accuracy')\n",
    "plt.legend(loc='lower right')"
   ]
  },
  {
   "cell_type": "code",
   "execution_count": 57,
   "id": "1392fbdc-e3cb-446f-98ae-de6b39e5a055",
   "metadata": {},
   "outputs": [
    {
     "name": "stderr",
     "output_type": "stream",
     "text": [
      "WARNING:absl:Found untraced functions such as restored_function_body, restored_function_body, restored_function_body, restored_function_body, restored_function_body while saving (showing 5 of 64). These functions will not be directly callable after loading.\n"
     ]
    }
   ],
   "source": [
    "saved_model_path = '../models/{}'.format(bert_model_name)\n",
    "\n",
    "classifier_model.save(saved_model_path, include_optimizer=False)"
   ]
  },
  {
   "cell_type": "code",
   "execution_count": 58,
   "id": "6b121a3b-ab1e-4929-b495-712848a52e7f",
   "metadata": {},
   "outputs": [],
   "source": [
    "x_custom = np.array(['a hilarious tale'.lower()])"
   ]
  },
  {
   "cell_type": "code",
   "execution_count": 59,
   "id": "5192edf5-2667-464f-bdcb-8bf80268fc81",
   "metadata": {},
   "outputs": [
    {
     "data": {
      "text/plain": [
       "3"
      ]
     },
     "execution_count": 59,
     "metadata": {},
     "output_type": "execute_result"
    }
   ],
   "source": [
    "classifier_model.predict(x_custom)[0].argmax()"
   ]
  },
  {
   "cell_type": "code",
   "execution_count": 60,
   "id": "f9932824-433c-4f81-8b8d-f4492b9b4534",
   "metadata": {},
   "outputs": [
    {
     "data": {
      "text/plain": [
       "{'drama': 0,\n",
       " 'thriller': 1,\n",
       " 'documentary': 2,\n",
       " 'comedy': 3,\n",
       " 'horror': 4,\n",
       " 'action': 5,\n",
       " 'western': 6}"
      ]
     },
     "execution_count": 60,
     "metadata": {},
     "output_type": "execute_result"
    }
   ],
   "source": [
    "genre_encoding"
   ]
  },
  {
   "cell_type": "code",
   "execution_count": 61,
   "id": "94fc00ba-1957-4b3a-aa65-90fa87a2afa9",
   "metadata": {},
   "outputs": [],
   "source": [
    "import matplotlib.pyplot as plt\n",
    "from sklearn.metrics import ConfusionMatrixDisplay\n",
    "from sklearn.metrics import f1_score\n",
    "\n",
    "\n",
    "def get_confusion_matrix(y_true, y_pred):\n",
    "    fig, ax = plt.subplots(figsize=(15, 15))\n",
    "    ConfusionMatrixDisplay.from_predictions(y_true, y_pred, ax=ax)\n",
    "    plt.show()\n",
    "\n",
    "    return None\n",
    "\n",
    "\n",
    "def get_f1_score(y_true, y_pred):\n",
    "    f1 = f1_score(y_true, y_pred, average='weighted')\n",
    "    return f1"
   ]
  },
  {
   "cell_type": "code",
   "execution_count": 62,
   "id": "3abe4230-5e6a-42c7-b086-513e297d1e4a",
   "metadata": {},
   "outputs": [],
   "source": [
    "y_pred = classifier_model.predict(x_test)\n",
    "y_pred = np.argmax(y_pred, axis=1)"
   ]
  },
  {
   "cell_type": "code",
   "execution_count": 63,
   "id": "8dd0bb81-16ec-4b2d-b970-db9474dced0a",
   "metadata": {},
   "outputs": [
    {
     "data": {
      "image/png": "[encoded data removed]",
      "text/plain": [
       "<Figure size 1500x1500 with 2 Axes>"
      ]
     },
     "metadata": {},
     "output_type": "display_data"
    }
   ],
   "source": [
    "get_confusion_matrix(np.argmax(y_test, axis=1), y_pred)"
   ]
  },
  {
   "cell_type": "code",
   "execution_count": 64,
   "id": "b40f561e-15d0-4d2f-869d-7c71374fd70e",
   "metadata": {},
   "outputs": [
    {
     "data": {
      "text/plain": [
       "0.676313372387465"
      ]
     },
     "execution_count": 64,
     "metadata": {},
     "output_type": "execute_result"
    }
   ],
   "source": [
    "get_f1_score(np.argmax(y_test, axis=1), y_pred)"
   ]
  }
 ],
 "metadata": {
  "kernelspec": {
   "display_name": "Python 3 (ipykernel)",
   "language": "python",
   "name": "python3"
  },
  "language_info": {
   "codemirror_mode": {
    "name": "ipython",
    "version": 3
   },
   "file_extension": ".py",
   "mimetype": "text/x-python",
   "name": "python",
   "nbconvert_exporter": "python",
   "pygments_lexer": "ipython3",
   "version": "3.9.13"
  }
 },
 "nbformat": 4,
 "nbformat_minor": 5
}
