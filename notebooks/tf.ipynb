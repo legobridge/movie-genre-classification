{
 "cells": [
  {
   "cell_type": "code",
   "execution_count": 2,
   "metadata": {},
   "outputs": [
    {
     "name": "stdout",
     "output_type": "stream",
     "text": [
      "Requirement already satisfied: sklearn in /Users/ap/opt/anaconda3/lib/python3.9/site-packages (0.0)\n",
      "Requirement already satisfied: scikit-learn in /Users/ap/opt/anaconda3/lib/python3.9/site-packages (from sklearn) (1.0.2)\n",
      "Requirement already satisfied: threadpoolctl>=2.0.0 in /Users/ap/opt/anaconda3/lib/python3.9/site-packages (from scikit-learn->sklearn) (2.2.0)\n",
      "Requirement already satisfied: joblib>=0.11 in /Users/ap/opt/anaconda3/lib/python3.9/site-packages (from scikit-learn->sklearn) (1.1.1)\n",
      "Requirement already satisfied: scipy>=1.1.0 in /Users/ap/opt/anaconda3/lib/python3.9/site-packages (from scikit-learn->sklearn) (1.7.3)\n",
      "Requirement already satisfied: numpy>=1.14.6 in /Users/ap/opt/anaconda3/lib/python3.9/site-packages (from scikit-learn->sklearn) (1.21.5)\n"
     ]
    }
   ],
   "source": [
    "!pip install sklearn\n",
    "import pandas as pd\n",
    "import numpy as np\n",
    "from sklearn.feature_extraction.text import TfidfVectorizer"
   ]
  },
  {
   "cell_type": "code",
   "execution_count": 3,
   "metadata": {},
   "outputs": [
    {
     "data": {
      "text/html": [
       "<div>\n",
       "<style scoped>\n",
       "    .dataframe tbody tr th:only-of-type {\n",
       "        vertical-align: middle;\n",
       "    }\n",
       "\n",
       "    .dataframe tbody tr th {\n",
       "        vertical-align: top;\n",
       "    }\n",
       "\n",
       "    .dataframe thead th {\n",
       "        text-align: right;\n",
       "    }\n",
       "</style>\n",
       "<table border=\"1\" class=\"dataframe\">\n",
       "  <thead>\n",
       "    <tr style=\"text-align: right;\">\n",
       "      <th></th>\n",
       "      <th>title</th>\n",
       "      <th>genre</th>\n",
       "      <th>description</th>\n",
       "      <th>year</th>\n",
       "      <th>description_stemmed</th>\n",
       "      <th>description_stemmed_string</th>\n",
       "    </tr>\n",
       "    <tr>\n",
       "      <th>id</th>\n",
       "      <th></th>\n",
       "      <th></th>\n",
       "      <th></th>\n",
       "      <th></th>\n",
       "      <th></th>\n",
       "      <th></th>\n",
       "    </tr>\n",
       "  </thead>\n",
       "  <tbody>\n",
       "    <tr>\n",
       "      <th>1</th>\n",
       "      <td>Oscar et la dame rose</td>\n",
       "      <td>drama</td>\n",
       "      <td>Listening in to a conversation between his do...</td>\n",
       "      <td>2009</td>\n",
       "      <td>['listen', 'convers', 'doctor', 'parent', '10-...</td>\n",
       "      <td>listen convers doctor parent 10-year-old oscar...</td>\n",
       "    </tr>\n",
       "    <tr>\n",
       "      <th>2</th>\n",
       "      <td>Cupid</td>\n",
       "      <td>thriller</td>\n",
       "      <td>A brother and sister with a past incestuous r...</td>\n",
       "      <td>1997</td>\n",
       "      <td>['brother', 'sister', 'past', 'incestu', 'rela...</td>\n",
       "      <td>brother sister past incestu relationship curre...</td>\n",
       "    </tr>\n",
       "    <tr>\n",
       "      <th>3</th>\n",
       "      <td>Young, Wild and Wonderful</td>\n",
       "      <td>adult</td>\n",
       "      <td>As the bus empties the students for their fie...</td>\n",
       "      <td>1980</td>\n",
       "      <td>['bu', 'empti', 'student', 'field', 'trip', 'm...</td>\n",
       "      <td>bu empti student field trip museum natur histo...</td>\n",
       "    </tr>\n",
       "    <tr>\n",
       "      <th>4</th>\n",
       "      <td>The Secret Sin</td>\n",
       "      <td>drama</td>\n",
       "      <td>To help their unemployed father make ends mee...</td>\n",
       "      <td>1915</td>\n",
       "      <td>['help', 'unemploy', 'father', 'make', 'end', ...</td>\n",
       "      <td>help unemploy father make end meet edith twin ...</td>\n",
       "    </tr>\n",
       "    <tr>\n",
       "      <th>5</th>\n",
       "      <td>The Unrecovered</td>\n",
       "      <td>drama</td>\n",
       "      <td>The film's title refers not only to the un-re...</td>\n",
       "      <td>2007</td>\n",
       "      <td>['film', \"'s\", 'titl', 'refer', 'un-recov', 'b...</td>\n",
       "      <td>film 's titl refer un-recov bodi ground zero a...</td>\n",
       "    </tr>\n",
       "  </tbody>\n",
       "</table>\n",
       "</div>"
      ],
      "text/plain": [
       "                          title     genre  \\\n",
       "id                                          \n",
       "1        Oscar et la dame rose      drama   \n",
       "2                        Cupid   thriller   \n",
       "3    Young, Wild and Wonderful      adult   \n",
       "4               The Secret Sin      drama   \n",
       "5              The Unrecovered      drama   \n",
       "\n",
       "                                          description  year  \\\n",
       "id                                                            \n",
       "1    Listening in to a conversation between his do...  2009   \n",
       "2    A brother and sister with a past incestuous r...  1997   \n",
       "3    As the bus empties the students for their fie...  1980   \n",
       "4    To help their unemployed father make ends mee...  1915   \n",
       "5    The film's title refers not only to the un-re...  2007   \n",
       "\n",
       "                                  description_stemmed  \\\n",
       "id                                                      \n",
       "1   ['listen', 'convers', 'doctor', 'parent', '10-...   \n",
       "2   ['brother', 'sister', 'past', 'incestu', 'rela...   \n",
       "3   ['bu', 'empti', 'student', 'field', 'trip', 'm...   \n",
       "4   ['help', 'unemploy', 'father', 'make', 'end', ...   \n",
       "5   ['film', \"'s\", 'titl', 'refer', 'un-recov', 'b...   \n",
       "\n",
       "                           description_stemmed_string  \n",
       "id                                                     \n",
       "1   listen convers doctor parent 10-year-old oscar...  \n",
       "2   brother sister past incestu relationship curre...  \n",
       "3   bu empti student field trip museum natur histo...  \n",
       "4   help unemploy father make end meet edith twin ...  \n",
       "5   film 's titl refer un-recov bodi ground zero a...  "
      ]
     },
     "execution_count": 3,
     "metadata": {},
     "output_type": "execute_result"
    }
   ],
   "source": [
    "train_df = pd.read_csv('../data/processed/train_data_processed.csv', index_col='id')\n",
    "train_df.head()"
   ]
  },
  {
   "cell_type": "code",
   "execution_count": 4,
   "metadata": {},
   "outputs": [],
   "source": [
    "d1=train_df['description_stemmed_string'].copy()"
   ]
  },
  {
   "cell_type": "code",
   "execution_count": 5,
   "metadata": {},
   "outputs": [],
   "source": [
    "l=[]\n",
    "for i in range(1,len(d1)+1):\n",
    "   l.append(len(d1[i].split(' ')))"
   ]
  },
  {
   "cell_type": "code",
   "execution_count": 6,
   "metadata": {},
   "outputs": [
    {
     "name": "stdout",
     "output_type": "stream",
     "text": [
      "54214\n"
     ]
    }
   ],
   "source": [
    "print(len(l))"
   ]
  },
  {
   "cell_type": "code",
   "execution_count": 7,
   "metadata": {},
   "outputs": [
    {
     "name": "stdout",
     "output_type": "stream",
     "text": [
      "[51 15 60 ... 22 64 33]\n"
     ]
    }
   ],
   "source": [
    "l_arr = np.array(l)\n",
    "print(l_arr)"
   ]
  },
  {
   "cell_type": "code",
   "execution_count": 8,
   "metadata": {},
   "outputs": [],
   "source": [
    "p_1 = np.percentile(l_arr, 10,interpolation = 'midpoint')"
   ]
  },
  {
   "cell_type": "code",
   "execution_count": 9,
   "metadata": {},
   "outputs": [
    {
     "name": "stdout",
     "output_type": "stream",
     "text": [
      "The number of outliers are 4661\n"
     ]
    }
   ],
   "source": [
    "p=0\n",
    "for l1 in l_arr:\n",
    "    if (l1< p_1):\n",
    "        p+=1\n",
    "print(\"The number of outliers are \"+str(p))"
   ]
  },
  {
   "cell_type": "code",
   "execution_count": 10,
   "metadata": {},
   "outputs": [],
   "source": [
    "if p<=(len(l)/10):\n",
    "  l_mod = l_arr[(l_arr >= p_1)]"
   ]
  },
  {
   "cell_type": "code",
   "execution_count": 11,
   "metadata": {},
   "outputs": [
    {
     "name": "stdout",
     "output_type": "stream",
     "text": [
      "26\n",
      "49553\n"
     ]
    }
   ],
   "source": [
    "clean_l = l_mod.tolist()\n",
    "len(clean_l)\n",
    "print(min(clean_l))\n",
    "print(len(clean_l))"
   ]
  },
  {
   "cell_type": "code",
   "execution_count": 12,
   "metadata": {},
   "outputs": [
    {
     "name": "stdout",
     "output_type": "stream",
     "text": [
      "26\n"
     ]
    }
   ],
   "source": [
    "x=min(clean_l)\n",
    "print(x)"
   ]
  },
  {
   "cell_type": "code",
   "execution_count": 13,
   "metadata": {},
   "outputs": [
    {
     "name": "stdout",
     "output_type": "stream",
     "text": [
      "ron petri keanu reev troubl teen whose life hang thread 's verg suspens school subject arrest break enter caus singl mother 's impend evict apart unless find resolut option seem life street crime\n"
     ]
    }
   ],
   "source": [
    "print(d1[8])"
   ]
  },
  {
   "cell_type": "code",
   "execution_count": 14,
   "metadata": {},
   "outputs": [],
   "source": [
    "dl=d1.tolist()"
   ]
  },
  {
   "cell_type": "code",
   "execution_count": 15,
   "metadata": {},
   "outputs": [
    {
     "name": "stdout",
     "output_type": "stream",
     "text": [
      "54214\n"
     ]
    }
   ],
   "source": [
    "print(len(dl))"
   ]
  },
  {
   "cell_type": "code",
   "execution_count": 16,
   "metadata": {},
   "outputs": [],
   "source": [
    "dl2=[]\n",
    "for d1 in dl:\n",
    "    if len(d1.split())>=x:\n",
    "        dl2.append(d1)"
   ]
  },
  {
   "cell_type": "code",
   "execution_count": 17,
   "metadata": {},
   "outputs": [
    {
     "name": "stdout",
     "output_type": "stream",
     "text": [
      "49553\n"
     ]
    }
   ],
   "source": [
    "print(len(dl2))"
   ]
  },
  {
   "cell_type": "code",
   "execution_count": 18,
   "metadata": {},
   "outputs": [
    {
     "name": "stdout",
     "output_type": "stream",
     "text": [
      "            TF-IDF\n",
      "oscar     0.313658\n",
      "rose      0.281120\n",
      "einstein  0.207200\n",
      "bacon     0.199870\n",
      "corn      0.198988\n",
      "peggi     0.190394\n",
      "stair     0.188113\n",
      "wrestler  0.180720\n",
      "pink      0.172744\n",
      "furiou    0.165328\n"
     ]
    },
    {
     "name": "stderr",
     "output_type": "stream",
     "text": [
      "/Users/ap/opt/anaconda3/lib/python3.9/site-packages/sklearn/utils/deprecation.py:87: FutureWarning: Function get_feature_names is deprecated; get_feature_names is deprecated in 1.0 and will be removed in 1.2. Please use get_feature_names_out instead.\n",
      "  warnings.warn(msg, category=FutureWarning)\n"
     ]
    }
   ],
   "source": [
    "tfIdfVectorizer=TfidfVectorizer(use_idf=True)\n",
    "tfIdf = tfIdfVectorizer.fit_transform(dl2)\n",
    "tfidf_df = pd.DataFrame(tfIdf[0].T.todense(), index=tfIdfVectorizer.get_feature_names(), columns=[\"TF-IDF\"])\n",
    "tfidf_df = tfidf_df.sort_values('TF-IDF', ascending=False)\n",
    "print (tfidf_df.head(10))"
   ]
  },
  {
   "cell_type": "code",
   "execution_count": 19,
   "metadata": {},
   "outputs": [
    {
     "name": "stdout",
     "output_type": "stream",
     "text": [
      "         TF-IDF     words\n",
      "1      0.313658     oscar\n",
      "2      0.281120      rose\n",
      "3      0.207200  einstein\n",
      "4      0.199870     bacon\n",
      "5      0.198988      corn\n",
      "...         ...       ...\n",
      "97775  0.000000      fűin\n",
      "97776  0.000000    fřrste\n",
      "97777  0.000000     fřrst\n",
      "97778  0.000000    fřlger\n",
      "97779  0.000000    żwhere\n",
      "\n",
      "[97779 rows x 2 columns]\n"
     ]
    }
   ],
   "source": [
    "tfidf_df['words'] = tfidf_df.index\n",
    "index=list(range(1,len(tfidf_df)+1))\n",
    "tfidf_df.index = index\n",
    "print(tfidf_df)"
   ]
  },
  {
   "cell_type": "code",
   "execution_count": 20,
   "metadata": {},
   "outputs": [
    {
     "data": {
      "text/plain": [
       "TF-IDF    0.28112\n",
       "words        rose\n",
       "Name: 2, dtype: object"
      ]
     },
     "execution_count": 20,
     "metadata": {},
     "output_type": "execute_result"
    }
   ],
   "source": [
    "tfidf_df.iloc[1]"
   ]
  },
  {
   "cell_type": "code",
   "execution_count": 21,
   "metadata": {},
   "outputs": [
    {
     "data": {
      "text/plain": [
       "['oscar',\n",
       " 'rose',\n",
       " 'einstein',\n",
       " 'bacon',\n",
       " 'corn',\n",
       " 'peggi',\n",
       " 'stair',\n",
       " 'wrestler',\n",
       " 'pink',\n",
       " 'furiou',\n",
       " 'fantast',\n",
       " 'sweetheart',\n",
       " 'nobodi',\n",
       " 'straight',\n",
       " 'listen',\n",
       " 'christma',\n",
       " 'except',\n",
       " 'charm',\n",
       " 'blue',\n",
       " 'pop',\n",
       " 'courag',\n",
       " 'convers',\n",
       " 'anyon',\n",
       " '10',\n",
       " 'approach',\n",
       " 'speak',\n",
       " 'live',\n",
       " 'imagin',\n",
       " 'ladi',\n",
       " 'hospit',\n",
       " 'profession',\n",
       " 'refus',\n",
       " 'allow',\n",
       " 'childhood',\n",
       " 'doctor',\n",
       " 'week',\n",
       " 'wit',\n",
       " 'full',\n",
       " 'compani',\n",
       " 'talk',\n",
       " 'parent',\n",
       " 'experi',\n",
       " 'learn',\n",
       " 'tell',\n",
       " 'use',\n",
       " 'meet',\n",
       " 'old',\n",
       " 'friend',\n",
       " 'love',\n",
       " 'year',\n",
       " 'life']"
      ]
     },
     "execution_count": 21,
     "metadata": {},
     "output_type": "execute_result"
    }
   ],
   "source": [
    "mod_tfidf = tfidf_df[tfidf_df['TF-IDF']!=0]\n",
    "tf_words = mod_tfidf['words'].tolist()\n",
    "tf_words"
   ]
  },
  {
   "cell_type": "code",
   "execution_count": 48,
   "metadata": {},
   "outputs": [
    {
     "data": {
      "text/html": [
       "<div>\n",
       "<style scoped>\n",
       "    .dataframe tbody tr th:only-of-type {\n",
       "        vertical-align: middle;\n",
       "    }\n",
       "\n",
       "    .dataframe tbody tr th {\n",
       "        vertical-align: top;\n",
       "    }\n",
       "\n",
       "    .dataframe thead th {\n",
       "        text-align: right;\n",
       "    }\n",
       "</style>\n",
       "<table border=\"1\" class=\"dataframe\">\n",
       "  <thead>\n",
       "    <tr style=\"text-align: right;\">\n",
       "      <th></th>\n",
       "      <th>TF-IDF</th>\n",
       "      <th>words</th>\n",
       "    </tr>\n",
       "  </thead>\n",
       "  <tbody>\n",
       "    <tr>\n",
       "      <th>1</th>\n",
       "      <td>0.313658</td>\n",
       "      <td>oscar</td>\n",
       "    </tr>\n",
       "    <tr>\n",
       "      <th>2</th>\n",
       "      <td>0.281120</td>\n",
       "      <td>rose</td>\n",
       "    </tr>\n",
       "    <tr>\n",
       "      <th>3</th>\n",
       "      <td>0.207200</td>\n",
       "      <td>einstein</td>\n",
       "    </tr>\n",
       "    <tr>\n",
       "      <th>4</th>\n",
       "      <td>0.199870</td>\n",
       "      <td>bacon</td>\n",
       "    </tr>\n",
       "    <tr>\n",
       "      <th>5</th>\n",
       "      <td>0.198988</td>\n",
       "      <td>corn</td>\n",
       "    </tr>\n",
       "    <tr>\n",
       "      <th>6</th>\n",
       "      <td>0.190394</td>\n",
       "      <td>peggi</td>\n",
       "    </tr>\n",
       "    <tr>\n",
       "      <th>7</th>\n",
       "      <td>0.188113</td>\n",
       "      <td>stair</td>\n",
       "    </tr>\n",
       "    <tr>\n",
       "      <th>8</th>\n",
       "      <td>0.180720</td>\n",
       "      <td>wrestler</td>\n",
       "    </tr>\n",
       "    <tr>\n",
       "      <th>9</th>\n",
       "      <td>0.172744</td>\n",
       "      <td>pink</td>\n",
       "    </tr>\n",
       "    <tr>\n",
       "      <th>10</th>\n",
       "      <td>0.165328</td>\n",
       "      <td>furiou</td>\n",
       "    </tr>\n",
       "    <tr>\n",
       "      <th>11</th>\n",
       "      <td>0.158914</td>\n",
       "      <td>fantast</td>\n",
       "    </tr>\n",
       "    <tr>\n",
       "      <th>12</th>\n",
       "      <td>0.150610</td>\n",
       "      <td>sweetheart</td>\n",
       "    </tr>\n",
       "    <tr>\n",
       "      <th>13</th>\n",
       "      <td>0.146698</td>\n",
       "      <td>nobodi</td>\n",
       "    </tr>\n",
       "    <tr>\n",
       "      <th>14</th>\n",
       "      <td>0.138717</td>\n",
       "      <td>straight</td>\n",
       "    </tr>\n",
       "    <tr>\n",
       "      <th>15</th>\n",
       "      <td>0.137689</td>\n",
       "      <td>listen</td>\n",
       "    </tr>\n",
       "    <tr>\n",
       "      <th>16</th>\n",
       "      <td>0.137192</td>\n",
       "      <td>christma</td>\n",
       "    </tr>\n",
       "    <tr>\n",
       "      <th>17</th>\n",
       "      <td>0.132727</td>\n",
       "      <td>except</td>\n",
       "    </tr>\n",
       "    <tr>\n",
       "      <th>18</th>\n",
       "      <td>0.131394</td>\n",
       "      <td>charm</td>\n",
       "    </tr>\n",
       "    <tr>\n",
       "      <th>19</th>\n",
       "      <td>0.130732</td>\n",
       "      <td>blue</td>\n",
       "    </tr>\n",
       "    <tr>\n",
       "      <th>20</th>\n",
       "      <td>0.130732</td>\n",
       "      <td>pop</td>\n",
       "    </tr>\n",
       "    <tr>\n",
       "      <th>21</th>\n",
       "      <td>0.130362</td>\n",
       "      <td>courag</td>\n",
       "    </tr>\n",
       "    <tr>\n",
       "      <th>22</th>\n",
       "      <td>0.129997</td>\n",
       "      <td>convers</td>\n",
       "    </tr>\n",
       "    <tr>\n",
       "      <th>23</th>\n",
       "      <td>0.124326</td>\n",
       "      <td>anyon</td>\n",
       "    </tr>\n",
       "    <tr>\n",
       "      <th>24</th>\n",
       "      <td>0.123835</td>\n",
       "      <td>10</td>\n",
       "    </tr>\n",
       "    <tr>\n",
       "      <th>25</th>\n",
       "      <td>0.121334</td>\n",
       "      <td>approach</td>\n",
       "    </tr>\n",
       "    <tr>\n",
       "      <th>26</th>\n",
       "      <td>0.120871</td>\n",
       "      <td>speak</td>\n",
       "    </tr>\n",
       "    <tr>\n",
       "      <th>27</th>\n",
       "      <td>0.119485</td>\n",
       "      <td>live</td>\n",
       "    </tr>\n",
       "    <tr>\n",
       "      <th>28</th>\n",
       "      <td>0.118078</td>\n",
       "      <td>imagin</td>\n",
       "    </tr>\n",
       "    <tr>\n",
       "      <th>29</th>\n",
       "      <td>0.117916</td>\n",
       "      <td>ladi</td>\n",
       "    </tr>\n",
       "    <tr>\n",
       "      <th>30</th>\n",
       "      <td>0.117781</td>\n",
       "      <td>hospit</td>\n",
       "    </tr>\n",
       "    <tr>\n",
       "      <th>31</th>\n",
       "      <td>0.117330</td>\n",
       "      <td>profession</td>\n",
       "    </tr>\n",
       "    <tr>\n",
       "      <th>32</th>\n",
       "      <td>0.116126</td>\n",
       "      <td>refus</td>\n",
       "    </tr>\n",
       "    <tr>\n",
       "      <th>33</th>\n",
       "      <td>0.115902</td>\n",
       "      <td>allow</td>\n",
       "    </tr>\n",
       "    <tr>\n",
       "      <th>34</th>\n",
       "      <td>0.113890</td>\n",
       "      <td>childhood</td>\n",
       "    </tr>\n",
       "    <tr>\n",
       "      <th>35</th>\n",
       "      <td>0.112999</td>\n",
       "      <td>doctor</td>\n",
       "    </tr>\n",
       "    <tr>\n",
       "      <th>36</th>\n",
       "      <td>0.111396</td>\n",
       "      <td>week</td>\n",
       "    </tr>\n",
       "    <tr>\n",
       "      <th>37</th>\n",
       "      <td>0.109161</td>\n",
       "      <td>wit</td>\n",
       "    </tr>\n",
       "    <tr>\n",
       "      <th>38</th>\n",
       "      <td>0.108217</td>\n",
       "      <td>full</td>\n",
       "    </tr>\n",
       "    <tr>\n",
       "      <th>39</th>\n",
       "      <td>0.106271</td>\n",
       "      <td>compani</td>\n",
       "    </tr>\n",
       "    <tr>\n",
       "      <th>40</th>\n",
       "      <td>0.105817</td>\n",
       "      <td>talk</td>\n",
       "    </tr>\n",
       "    <tr>\n",
       "      <th>41</th>\n",
       "      <td>0.099263</td>\n",
       "      <td>parent</td>\n",
       "    </tr>\n",
       "    <tr>\n",
       "      <th>42</th>\n",
       "      <td>0.091162</td>\n",
       "      <td>experi</td>\n",
       "    </tr>\n",
       "    <tr>\n",
       "      <th>43</th>\n",
       "      <td>0.089651</td>\n",
       "      <td>learn</td>\n",
       "    </tr>\n",
       "    <tr>\n",
       "      <th>44</th>\n",
       "      <td>0.084614</td>\n",
       "      <td>tell</td>\n",
       "    </tr>\n",
       "    <tr>\n",
       "      <th>45</th>\n",
       "      <td>0.083962</td>\n",
       "      <td>use</td>\n",
       "    </tr>\n",
       "    <tr>\n",
       "      <th>46</th>\n",
       "      <td>0.077662</td>\n",
       "      <td>meet</td>\n",
       "    </tr>\n",
       "    <tr>\n",
       "      <th>47</th>\n",
       "      <td>0.073723</td>\n",
       "      <td>old</td>\n",
       "    </tr>\n",
       "    <tr>\n",
       "      <th>48</th>\n",
       "      <td>0.070126</td>\n",
       "      <td>friend</td>\n",
       "    </tr>\n",
       "    <tr>\n",
       "      <th>49</th>\n",
       "      <td>0.067111</td>\n",
       "      <td>love</td>\n",
       "    </tr>\n",
       "    <tr>\n",
       "      <th>50</th>\n",
       "      <td>0.060416</td>\n",
       "      <td>year</td>\n",
       "    </tr>\n",
       "    <tr>\n",
       "      <th>51</th>\n",
       "      <td>0.056477</td>\n",
       "      <td>life</td>\n",
       "    </tr>\n",
       "  </tbody>\n",
       "</table>\n",
       "</div>"
      ],
      "text/plain": [
       "      TF-IDF       words\n",
       "1   0.313658       oscar\n",
       "2   0.281120        rose\n",
       "3   0.207200    einstein\n",
       "4   0.199870       bacon\n",
       "5   0.198988        corn\n",
       "6   0.190394       peggi\n",
       "7   0.188113       stair\n",
       "8   0.180720    wrestler\n",
       "9   0.172744        pink\n",
       "10  0.165328      furiou\n",
       "11  0.158914     fantast\n",
       "12  0.150610  sweetheart\n",
       "13  0.146698      nobodi\n",
       "14  0.138717    straight\n",
       "15  0.137689      listen\n",
       "16  0.137192    christma\n",
       "17  0.132727      except\n",
       "18  0.131394       charm\n",
       "19  0.130732        blue\n",
       "20  0.130732         pop\n",
       "21  0.130362      courag\n",
       "22  0.129997     convers\n",
       "23  0.124326       anyon\n",
       "24  0.123835          10\n",
       "25  0.121334    approach\n",
       "26  0.120871       speak\n",
       "27  0.119485        live\n",
       "28  0.118078      imagin\n",
       "29  0.117916        ladi\n",
       "30  0.117781      hospit\n",
       "31  0.117330  profession\n",
       "32  0.116126       refus\n",
       "33  0.115902       allow\n",
       "34  0.113890   childhood\n",
       "35  0.112999      doctor\n",
       "36  0.111396        week\n",
       "37  0.109161         wit\n",
       "38  0.108217        full\n",
       "39  0.106271     compani\n",
       "40  0.105817        talk\n",
       "41  0.099263      parent\n",
       "42  0.091162      experi\n",
       "43  0.089651       learn\n",
       "44  0.084614        tell\n",
       "45  0.083962         use\n",
       "46  0.077662        meet\n",
       "47  0.073723         old\n",
       "48  0.070126      friend\n",
       "49  0.067111        love\n",
       "50  0.060416        year\n",
       "51  0.056477        life"
      ]
     },
     "execution_count": 48,
     "metadata": {},
     "output_type": "execute_result"
    }
   ],
   "source": [
    "mod_tfidf"
   ]
  },
  {
   "cell_type": "code",
   "execution_count": 56,
   "metadata": {},
   "outputs": [],
   "source": [
    "tfidf_values = {}\n",
    "for m in mod_tfidf.index:\n",
    "    tfidf_values[mod_tfidf['words'].iloc[m-1]] = mod_tfidf['TF-IDF'].iloc[m-1]"
   ]
  },
  {
   "cell_type": "code",
   "execution_count": 57,
   "metadata": {},
   "outputs": [
    {
     "data": {
      "text/plain": [
       "{'oscar': 0.31365839033751336,\n",
       " 'rose': 0.2811196007466192,\n",
       " 'einstein': 0.20719968810596825,\n",
       " 'bacon': 0.1998697796635155,\n",
       " 'corn': 0.19898782053040165,\n",
       " 'peggi': 0.19039440744583022,\n",
       " 'stair': 0.1881126800582385,\n",
       " 'wrestler': 0.18072014770164752,\n",
       " 'pink': 0.1727441851532819,\n",
       " 'furiou': 0.1653278042965012,\n",
       " 'fantast': 0.1589144503203609,\n",
       " 'sweetheart': 0.15061044208995983,\n",
       " 'nobodi': 0.14669813263127837,\n",
       " 'straight': 0.13871660639855254,\n",
       " 'listen': 0.13768922586706675,\n",
       " 'christma': 0.13719199129353538,\n",
       " 'except': 0.13272719408592526,\n",
       " 'charm': 0.13139427345240295,\n",
       " 'blue': 0.13073194570684174,\n",
       " 'pop': 0.13073194570684174,\n",
       " 'courag': 0.130361733714055,\n",
       " 'convers': 0.12999729524357218,\n",
       " 'anyon': 0.12432605612214329,\n",
       " '10': 0.12383479477887789,\n",
       " 'approach': 0.12133444474850831,\n",
       " 'speak': 0.12087106254766763,\n",
       " 'live': 0.11948460720339067,\n",
       " 'imagin': 0.11807782560961987,\n",
       " 'ladi': 0.1179155392400101,\n",
       " 'hospit': 0.11778115621698182,\n",
       " 'profession': 0.11732994920062666,\n",
       " 'refus': 0.11612601204458135,\n",
       " 'allow': 0.11590238217240811,\n",
       " 'childhood': 0.11388961763591514,\n",
       " 'doctor': 0.11299925686930873,\n",
       " 'week': 0.11139569032998234,\n",
       " 'wit': 0.10916095901107403,\n",
       " 'full': 0.10821662271865486,\n",
       " 'compani': 0.10627091384865153,\n",
       " 'talk': 0.10581681488857053,\n",
       " 'parent': 0.09926318606280746,\n",
       " 'experi': 0.09116213056969108,\n",
       " 'learn': 0.08965070372403096,\n",
       " 'tell': 0.0846136202944636,\n",
       " 'use': 0.08396159424146618,\n",
       " 'meet': 0.07766173630882703,\n",
       " 'old': 0.07372340927503468,\n",
       " 'friend': 0.07012627047875303,\n",
       " 'love': 0.06711061346376047,\n",
       " 'year': 0.06041610027054655,\n",
       " 'life': 0.05647715905795571}"
      ]
     },
     "execution_count": 57,
     "metadata": {},
     "output_type": "execute_result"
    }
   ],
   "source": [
    "tfidf_values"
   ]
  },
  {
   "cell_type": "code",
   "execution_count": 23,
   "metadata": {},
   "outputs": [],
   "source": [
    "genres=train_df['genre'].copy()\n",
    "genre_list = genres.tolist()"
   ]
  },
  {
   "cell_type": "code",
   "execution_count": 24,
   "metadata": {},
   "outputs": [],
   "source": [
    "unique_genres = list(genres.unique())"
   ]
  },
  {
   "cell_type": "code",
   "execution_count": 25,
   "metadata": {},
   "outputs": [
    {
     "data": {
      "text/plain": [
       "['drama',\n",
       " 'thriller',\n",
       " 'adult',\n",
       " 'documentary',\n",
       " 'comedy',\n",
       " 'crime',\n",
       " 'reality-tv',\n",
       " 'horror',\n",
       " 'sport',\n",
       " 'animation',\n",
       " 'action',\n",
       " 'fantasy',\n",
       " 'short',\n",
       " 'sci-fi',\n",
       " 'music',\n",
       " 'adventure',\n",
       " 'talk-show',\n",
       " 'western',\n",
       " 'family',\n",
       " 'mystery',\n",
       " 'history',\n",
       " 'news',\n",
       " 'biography',\n",
       " 'romance',\n",
       " 'game-show',\n",
       " 'musical',\n",
       " 'war']"
      ]
     },
     "execution_count": 25,
     "metadata": {},
     "output_type": "execute_result"
    }
   ],
   "source": [
    "unique_genres"
   ]
  },
  {
   "cell_type": "code",
   "execution_count": 49,
   "metadata": {},
   "outputs": [],
   "source": [
    "# general_genre_prob = {}\n",
    "# for g in unique_genres:\n",
    "#     general_genre_prob[g]=0"
   ]
  },
  {
   "cell_type": "code",
   "execution_count": 50,
   "metadata": {},
   "outputs": [
    {
     "data": {
      "text/plain": [
       "{'drama': 0,\n",
       " 'thriller': 0,\n",
       " 'adult': 0,\n",
       " 'documentary': 0,\n",
       " 'comedy': 0,\n",
       " 'crime': 0,\n",
       " 'reality-tv': 0,\n",
       " 'horror': 0,\n",
       " 'sport': 0,\n",
       " 'animation': 0,\n",
       " 'action': 0,\n",
       " 'fantasy': 0,\n",
       " 'short': 0,\n",
       " 'sci-fi': 0,\n",
       " 'music': 0,\n",
       " 'adventure': 0,\n",
       " 'talk-show': 0,\n",
       " 'western': 0,\n",
       " 'family': 0,\n",
       " 'mystery': 0,\n",
       " 'history': 0,\n",
       " 'news': 0,\n",
       " 'biography': 0,\n",
       " 'romance': 0,\n",
       " 'game-show': 0,\n",
       " 'musical': 0,\n",
       " 'war': 0}"
      ]
     },
     "execution_count": 50,
     "metadata": {},
     "output_type": "execute_result"
    }
   ],
   "source": [
    "# general_genre_prob"
   ]
  },
  {
   "cell_type": "code",
   "execution_count": 58,
   "metadata": {},
   "outputs": [],
   "source": [
    "general_genre_prob = {}\n",
    "for g in unique_genres:\n",
    "    general_genre_prob[g]=0\n",
    "for i in genre_list:\n",
    "    for j in general_genre_prob:\n",
    "        if i == j:\n",
    "            general_genre_prob[j]+=1"
   ]
  },
  {
   "cell_type": "code",
   "execution_count": 68,
   "metadata": {},
   "outputs": [
    {
     "data": {
      "text/plain": [
       "{'drama': 13613,\n",
       " 'thriller': 1591,\n",
       " 'adult': 590,\n",
       " 'documentary': 13096,\n",
       " 'comedy': 7447,\n",
       " 'crime': 505,\n",
       " 'reality-tv': 884,\n",
       " 'horror': 2204,\n",
       " 'sport': 432,\n",
       " 'animation': 498,\n",
       " 'action': 1315,\n",
       " 'fantasy': 323,\n",
       " 'short': 5073,\n",
       " 'sci-fi': 647,\n",
       " 'music': 731,\n",
       " 'adventure': 775,\n",
       " 'talk-show': 391,\n",
       " 'western': 1032,\n",
       " 'family': 784,\n",
       " 'mystery': 319,\n",
       " 'history': 243,\n",
       " 'news': 181,\n",
       " 'biography': 265,\n",
       " 'romance': 672,\n",
       " 'game-show': 194,\n",
       " 'musical': 277,\n",
       " 'war': 132}"
      ]
     },
     "execution_count": 68,
     "metadata": {},
     "output_type": "execute_result"
    }
   ],
   "source": [
    "general_genre_prob "
   ]
  },
  {
   "cell_type": "code",
   "execution_count": 60,
   "metadata": {},
   "outputs": [
    {
     "name": "stdout",
     "output_type": "stream",
     "text": [
      "{'drama': 0.2510975024901317, 'thriller': 0.0293466632235216, 'adult': 0.010882797801305936, 'documentary': 0.24156122034898736, 'comedy': 0.13736304275648356, 'crime': 0.009314937101117792, 'reality-tv': 0.01630575128195669, 'horror': 0.040653705684878444, 'sport': 0.00796842144095621, 'animation': 0.009185819161102298, 'action': 0.024255727302910687, 'fantasy': 0.005957870660714944, 'short': 0.09357361567122884, 'sci-fi': 0.011934186741432103, 'music': 0.013483602021618033, 'adventure': 0.014295200501715424, 'talk-show': 0.007212159220865459, 'western': 0.01903567344228428, 'family': 0.014461209281735344, 'mystery': 0.005884088980706091, 'history': 0.004482237060537868, 'news': 0.0033386210204006347, 'biography': 0.0048880363005865644, 'romance': 0.012395322241487438, 'game-show': 0.0035784114804294095, 'musical': 0.005109381340613126, 'war': 0.0024347954402921756}\n"
     ]
    }
   ],
   "source": [
    "total = sum(list(general_genre_prob.values()))\n",
    "General_prob = {}\n",
    "for i in general_genre_prob:\n",
    "    temp = general_genre_prob[i]\n",
    "    General_prob[i]=(temp/total)\n",
    "print(General_prob)"
   ]
  },
  {
   "cell_type": "code",
   "execution_count": 31,
   "metadata": {},
   "outputs": [],
   "source": [
    "# genre_prob = {}\n",
    "# for g in unique_genres:\n",
    "#     genre_prob[g]=0\n"
   ]
  },
  {
   "cell_type": "code",
   "execution_count": 32,
   "metadata": {},
   "outputs": [],
   "source": [
    "most_likely_genre = {}\n",
    "for j in tf_words:\n",
    "    genre_prob = {}\n",
    "    for g in unique_genres:\n",
    "        genre_prob[g]=0\n",
    "    for i in train_df.index:\n",
    "        if j in train_df['description_stemmed'].iloc[i-1]:\n",
    "            genre_prob[train_df['genre'].iloc[i-1]]+=1\n",
    "    \n",
    "    most_likely_genre[j]=max(genre_prob, key=genre_prob.get)"
   ]
  },
  {
   "cell_type": "code",
   "execution_count": 69,
   "metadata": {},
   "outputs": [
    {
     "data": {
      "text/plain": [
       "{'oscar': 'documentary',\n",
       " 'rose': 'drama',\n",
       " 'einstein': 'documentary',\n",
       " 'bacon': 'documentary',\n",
       " 'corn': 'documentary',\n",
       " 'peggi': 'drama',\n",
       " 'stair': 'drama',\n",
       " 'wrestler': 'documentary',\n",
       " 'pink': 'documentary',\n",
       " 'furiou': 'drama',\n",
       " 'fantast': 'documentary',\n",
       " 'sweetheart': 'drama',\n",
       " 'nobodi': 'drama',\n",
       " 'straight': 'drama',\n",
       " 'listen': 'drama',\n",
       " 'christma': 'drama',\n",
       " 'except': 'drama',\n",
       " 'charm': 'drama',\n",
       " 'blue': 'documentary',\n",
       " 'pop': 'documentary',\n",
       " 'courag': 'documentary',\n",
       " 'convers': 'documentary',\n",
       " 'anyon': 'drama',\n",
       " '10': 'documentary',\n",
       " 'approach': 'documentary',\n",
       " 'speak': 'documentary',\n",
       " 'live': 'drama',\n",
       " 'imagin': 'drama',\n",
       " 'ladi': 'drama',\n",
       " 'hospit': 'drama',\n",
       " 'profession': 'documentary',\n",
       " 'refus': 'drama',\n",
       " 'allow': 'documentary',\n",
       " 'childhood': 'drama',\n",
       " 'doctor': 'drama',\n",
       " 'week': 'documentary',\n",
       " 'wit': 'documentary',\n",
       " 'full': 'documentary',\n",
       " 'compani': 'drama',\n",
       " 'talk': 'documentary',\n",
       " 'parent': 'drama',\n",
       " 'experi': 'documentary',\n",
       " 'learn': 'drama',\n",
       " 'tell': 'documentary',\n",
       " 'use': 'documentary',\n",
       " 'meet': 'drama',\n",
       " 'old': 'drama',\n",
       " 'friend': 'drama',\n",
       " 'love': 'drama',\n",
       " 'year': 'documentary',\n",
       " 'life': 'drama'}"
      ]
     },
     "execution_count": 69,
     "metadata": {},
     "output_type": "execute_result"
    }
   ],
   "source": [
    "most_likely_genre\n",
    "# genre_prob"
   ]
  },
  {
   "cell_type": "code",
   "execution_count": 66,
   "metadata": {},
   "outputs": [
    {
     "name": "stdout",
     "output_type": "stream",
     "text": [
      "drama\n",
      "thriller\n",
      "adult\n",
      "documentary\n",
      "comedy\n",
      "crime\n",
      "reality-tv\n",
      "horror\n",
      "sport\n",
      "animation\n",
      "action\n",
      "fantasy\n",
      "short\n",
      "sci-fi\n",
      "music\n",
      "adventure\n",
      "talk-show\n",
      "western\n",
      "family\n",
      "mystery\n",
      "history\n",
      "news\n",
      "biography\n",
      "romance\n",
      "game-show\n",
      "musical\n",
      "war\n",
      "drama\n",
      "thriller\n",
      "adult\n",
      "documentary\n",
      "comedy\n",
      "crime\n",
      "reality-tv\n",
      "horror\n",
      "sport\n",
      "animation\n",
      "action\n",
      "fantasy\n",
      "short\n",
      "sci-fi\n",
      "music\n",
      "adventure\n",
      "talk-show\n",
      "western\n",
      "family\n",
      "mystery\n",
      "history\n",
      "news\n",
      "biography\n",
      "romance\n",
      "game-show\n",
      "musical\n",
      "war\n",
      "drama\n",
      "thriller\n",
      "adult\n",
      "documentary\n",
      "comedy\n",
      "crime\n",
      "reality-tv\n",
      "horror\n",
      "sport\n",
      "animation\n",
      "action\n",
      "fantasy\n",
      "short\n",
      "sci-fi\n",
      "music\n",
      "adventure\n",
      "talk-show\n",
      "western\n",
      "family\n",
      "mystery\n",
      "history\n",
      "news\n",
      "biography\n",
      "romance\n",
      "game-show\n",
      "musical\n",
      "war\n",
      "drama\n",
      "thriller\n",
      "adult\n",
      "documentary\n",
      "comedy\n",
      "crime\n",
      "reality-tv\n",
      "horror\n",
      "sport\n",
      "animation\n",
      "action\n",
      "fantasy\n",
      "short\n",
      "sci-fi\n",
      "music\n",
      "adventure\n",
      "talk-show\n",
      "western\n",
      "family\n",
      "mystery\n",
      "history\n",
      "news\n",
      "biography\n",
      "romance\n",
      "game-show\n",
      "musical\n",
      "war\n"
     ]
    }
   ],
   "source": [
    "#prediction genres:\n",
    "# most_likely_genre = {}\n",
    "# for j in tf_words:\n",
    "#     genre_prob = {}\n",
    "#     for g in unique_genres:\n",
    "#         genre_prob[g]=0\n",
    "#     for i in train_df.index:\n",
    "#         if j in train_df['description_stemmed'].iloc[i-1]:\n",
    "#             genre_prob[train_df['genre'].iloc[i-1]]+=1\n",
    "    \n",
    "#     most_likely_genre[j]=max(genre_prob, key=genre_prob.get)\n",
    "# predicted_prob = {}\n",
    "for i in train_df.index[:4]:\n",
    "    genre_prediction = {}\n",
    "    list_of_words = []\n",
    "    prob=0\n",
    "    for j in tf_words:\n",
    "        if j in train_df['description_stemmed'].iloc[i-1]:\n",
    "            list_of_words.append(j)\n",
    "    for g in unique_genres:\n",
    "        print(g)\n",
    "    # for l in list_of_words:\n",
    "    #     if l in tfidf_values and l in most_likely_genre:\n",
    "    #         print(tfidf_values[l],most_likely_genre[l])\n",
    "    # print(list_of_words)\n",
    "    # print(train_df['description_stemmed'].iloc[i-1])"
   ]
  },
  {
   "cell_type": "code",
   "execution_count": 41,
   "metadata": {},
   "outputs": [
    {
     "name": "stdout",
     "output_type": "stream",
     "text": [
      "['listen', 'convers', 'doctor', 'parent', '10-year-old', 'oscar', 'learn', 'nobodi', 'courag', 'tell', 'week', 'live', 'furiou', 'refus', 'speak', 'anyon', 'except', 'straight-talk', 'rose', 'ladi', 'pink', 'meet', 'hospit', 'stair', 'christma', 'approach', 'rose', 'use', 'fantast', 'experi', 'profession', 'wrestler', 'imagin', 'wit', 'charm', 'allow', 'oscar', 'live', 'life', 'love', 'full', 'compani', 'friend', 'pop', 'corn', 'einstein', 'bacon', 'childhood', 'sweetheart', 'peggi', 'blue']\n"
     ]
    }
   ],
   "source": [
    "print(train_df['description_stemmed'].iloc[0])"
   ]
  },
  {
   "cell_type": "code",
   "execution_count": 67,
   "metadata": {},
   "outputs": [
    {
     "data": {
      "text/plain": [
       "97779"
      ]
     },
     "execution_count": 67,
     "metadata": {},
     "output_type": "execute_result"
    }
   ],
   "source": []
  },
  {
   "cell_type": "code",
   "execution_count": 94,
   "metadata": {},
   "outputs": [],
   "source": [
    "X = train_df.iloc[:, 0].values\n",
    "y = train_df.iloc[:, 1].values"
   ]
  },
  {
   "cell_type": "code",
   "execution_count": 95,
   "metadata": {},
   "outputs": [
    {
     "data": {
      "text/plain": [
       "array([' Oscar et la dame rose ', ' Cupid ',\n",
       "       ' Young, Wild and Wonderful ', ...,\n",
       "       ' Ronald Goedemondt: Ze bestaan echt ', ' Make Your Own Bed ',\n",
       "       \" Nature's Fury: Storm of the Century \"], dtype=object)"
      ]
     },
     "execution_count": 95,
     "metadata": {},
     "output_type": "execute_result"
    }
   ],
   "source": [
    "X"
   ]
  },
  {
   "cell_type": "code",
   "execution_count": 96,
   "metadata": {},
   "outputs": [
    {
     "data": {
      "text/plain": [
       "array(['drama', 'thriller', 'adult', ..., 'documentary', 'comedy',\n",
       "       'history'], dtype=object)"
      ]
     },
     "execution_count": 96,
     "metadata": {},
     "output_type": "execute_result"
    }
   ],
   "source": [
    "y"
   ]
  },
  {
   "cell_type": "code",
   "execution_count": 97,
   "metadata": {},
   "outputs": [],
   "source": [
    "td = TfidfVectorizer(max_features = 30000)\n",
    "X = td.fit_transform(X).toarray()"
   ]
  },
  {
   "cell_type": "code",
   "execution_count": 98,
   "metadata": {},
   "outputs": [],
   "source": [
    "from sklearn.model_selection import train_test_split\n",
    "X_train, X_test, y_train, y_test = train_test_split(X, y, test_size = 0.1,random_state = 0)"
   ]
  },
  {
   "cell_type": "code",
   "execution_count": 99,
   "metadata": {},
   "outputs": [
    {
     "data": {
      "text/plain": [
       "MultinomialNB()"
      ]
     },
     "execution_count": 99,
     "metadata": {},
     "output_type": "execute_result"
    }
   ],
   "source": [
    "from sklearn.naive_bayes import MultinomialNB\n",
    "classifier = MultinomialNB()\n",
    "classifier.fit(X_train, y_train)"
   ]
  },
  {
   "cell_type": "code",
   "execution_count": 100,
   "metadata": {},
   "outputs": [],
   "source": [
    "y_pred = classifier.predict(X_test)"
   ]
  },
  {
   "cell_type": "code",
   "execution_count": 101,
   "metadata": {},
   "outputs": [
    {
     "name": "stderr",
     "output_type": "stream",
     "text": [
      "/Users/ap/opt/anaconda3/lib/python3.9/site-packages/sklearn/metrics/_classification.py:1318: UndefinedMetricWarning: Precision and F-score are ill-defined and being set to 0.0 in labels with no predicted samples. Use `zero_division` parameter to control this behavior.\n",
      "  _warn_prf(average, modifier, msg_start, len(result))\n",
      "/Users/ap/opt/anaconda3/lib/python3.9/site-packages/sklearn/metrics/_classification.py:1318: UndefinedMetricWarning: Precision and F-score are ill-defined and being set to 0.0 in labels with no predicted samples. Use `zero_division` parameter to control this behavior.\n",
      "  _warn_prf(average, modifier, msg_start, len(result))\n",
      "/Users/ap/opt/anaconda3/lib/python3.9/site-packages/sklearn/metrics/_classification.py:1318: UndefinedMetricWarning: Precision and F-score are ill-defined and being set to 0.0 in labels with no predicted samples. Use `zero_division` parameter to control this behavior.\n",
      "  _warn_prf(average, modifier, msg_start, len(result))\n"
     ]
    }
   ],
   "source": [
    "from sklearn.metrics import accuracy_score, classification_report\n",
    "classification_report = classification_report(y_test, y_pred)"
   ]
  },
  {
   "cell_type": "code",
   "execution_count": 102,
   "metadata": {},
   "outputs": [
    {
     "name": "stdout",
     "output_type": "stream",
     "text": [
      "\n",
      " Accuracy:  0.35263740317226117\n",
      "\n",
      "Classification Report\n",
      "======================================================\n",
      "\n",
      "               precision    recall  f1-score   support\n",
      "\n",
      "      action       0.00      0.00      0.00       127\n",
      "       adult       0.00      0.00      0.00        48\n",
      "   adventure       0.00      0.00      0.00        66\n",
      "   animation       0.00      0.00      0.00        56\n",
      "   biography       0.00      0.00      0.00        28\n",
      "      comedy       0.37      0.09      0.14       736\n",
      "       crime       0.00      0.00      0.00        39\n",
      " documentary       0.35      0.69      0.46      1298\n",
      "       drama       0.36      0.66      0.46      1415\n",
      "      family       0.00      0.00      0.00        81\n",
      "     fantasy       0.00      0.00      0.00        31\n",
      "   game-show       0.00      0.00      0.00        17\n",
      "     history       0.00      0.00      0.00        14\n",
      "      horror       0.75      0.01      0.03       211\n",
      "       music       0.00      0.00      0.00        91\n",
      "     musical       0.00      0.00      0.00        33\n",
      "     mystery       0.00      0.00      0.00        30\n",
      "        news       0.00      0.00      0.00        17\n",
      "  reality-tv       0.00      0.00      0.00        77\n",
      "     romance       0.00      0.00      0.00        60\n",
      "      sci-fi       0.00      0.00      0.00        71\n",
      "       short       0.55      0.01      0.02       528\n",
      "       sport       0.00      0.00      0.00        42\n",
      "   talk-show       0.00      0.00      0.00        39\n",
      "    thriller       0.00      0.00      0.00       167\n",
      "         war       0.00      0.00      0.00        10\n",
      "     western       0.00      0.00      0.00        90\n",
      "\n",
      "    accuracy                           0.35      5422\n",
      "   macro avg       0.09      0.05      0.04      5422\n",
      "weighted avg       0.31      0.35      0.25      5422\n",
      "\n"
     ]
    }
   ],
   "source": [
    "print('\\n Accuracy: ', accuracy_score(y_test, y_pred))\n",
    "print('\\nClassification Report')\n",
    "print('======================================================')\n",
    "print('\\n', classification_report)"
   ]
  },
  {
   "cell_type": "code",
   "execution_count": 108,
   "metadata": {},
   "outputs": [],
   "source": [
    "X = train_df.iloc[:, 0].values\n",
    "y = train_df.iloc[:, 1].values"
   ]
  },
  {
   "cell_type": "code",
   "execution_count": 109,
   "metadata": {},
   "outputs": [],
   "source": [
    "td = TfidfVectorizer(max_features = 3000)\n",
    "X = td.fit_transform(X).toarray()"
   ]
  },
  {
   "cell_type": "code",
   "execution_count": 110,
   "metadata": {},
   "outputs": [],
   "source": [
    "from sklearn.model_selection import train_test_split\n",
    "X_train, X_test, y_train, y_test = train_test_split(X, y, test_size = 0.1,random_state = 0)"
   ]
  },
  {
   "cell_type": "code",
   "execution_count": 111,
   "metadata": {},
   "outputs": [
    {
     "name": "stderr",
     "output_type": "stream",
     "text": [
      "[Parallel(n_jobs=1)]: Using backend SequentialBackend with 1 concurrent workers.\n"
     ]
    },
    {
     "name": "stdout",
     "output_type": "stream",
     "text": [
      "building tree 1 of 100\n"
     ]
    },
    {
     "name": "stderr",
     "output_type": "stream",
     "text": [
      "[Parallel(n_jobs=1)]: Done   1 out of   1 | elapsed:    7.1s remaining:    0.0s\n"
     ]
    },
    {
     "name": "stdout",
     "output_type": "stream",
     "text": [
      "building tree 2 of 100\n"
     ]
    },
    {
     "name": "stderr",
     "output_type": "stream",
     "text": [
      "[Parallel(n_jobs=1)]: Done   2 out of   2 | elapsed:   14.3s remaining:    0.0s\n"
     ]
    },
    {
     "name": "stdout",
     "output_type": "stream",
     "text": [
      "building tree 3 of 100\n",
      "building tree 4 of 100\n",
      "building tree 5 of 100\n",
      "building tree 6 of 100\n",
      "building tree 7 of 100\n",
      "building tree 8 of 100\n",
      "building tree 9 of 100\n",
      "building tree 10 of 100\n",
      "building tree 11 of 100\n",
      "building tree 12 of 100\n",
      "building tree 13 of 100\n",
      "building tree 14 of 100\n",
      "building tree 15 of 100\n",
      "building tree 16 of 100\n",
      "building tree 17 of 100\n",
      "building tree 18 of 100\n",
      "building tree 19 of 100\n",
      "building tree 20 of 100\n",
      "building tree 21 of 100\n",
      "building tree 22 of 100\n",
      "building tree 23 of 100\n",
      "building tree 24 of 100\n",
      "building tree 25 of 100\n",
      "building tree 26 of 100\n",
      "building tree 27 of 100\n",
      "building tree 28 of 100\n",
      "building tree 29 of 100\n",
      "building tree 30 of 100\n",
      "building tree 31 of 100\n",
      "building tree 32 of 100\n",
      "building tree 33 of 100\n",
      "building tree 34 of 100\n",
      "building tree 35 of 100\n",
      "building tree 36 of 100\n",
      "building tree 37 of 100\n",
      "building tree 38 of 100\n",
      "building tree 39 of 100\n",
      "building tree 40 of 100\n",
      "building tree 41 of 100\n",
      "building tree 42 of 100\n",
      "building tree 43 of 100\n",
      "building tree 44 of 100\n",
      "building tree 45 of 100\n",
      "building tree 46 of 100\n",
      "building tree 47 of 100\n",
      "building tree 48 of 100\n",
      "building tree 49 of 100\n",
      "building tree 50 of 100\n",
      "building tree 51 of 100\n",
      "building tree 52 of 100\n",
      "building tree 53 of 100\n",
      "building tree 54 of 100\n",
      "building tree 55 of 100\n",
      "building tree 56 of 100\n",
      "building tree 57 of 100\n",
      "building tree 58 of 100\n",
      "building tree 59 of 100\n",
      "building tree 60 of 100\n",
      "building tree 61 of 100\n",
      "building tree 62 of 100\n",
      "building tree 63 of 100\n",
      "building tree 64 of 100\n",
      "building tree 65 of 100\n",
      "building tree 66 of 100\n",
      "building tree 67 of 100\n",
      "building tree 68 of 100\n",
      "building tree 69 of 100\n",
      "building tree 70 of 100\n",
      "building tree 71 of 100\n",
      "building tree 72 of 100\n",
      "building tree 73 of 100\n",
      "building tree 74 of 100\n",
      "building tree 75 of 100\n",
      "building tree 76 of 100\n",
      "building tree 77 of 100\n",
      "building tree 78 of 100\n",
      "building tree 79 of 100\n",
      "building tree 80 of 100\n",
      "building tree 81 of 100\n",
      "building tree 82 of 100\n",
      "building tree 83 of 100\n",
      "building tree 84 of 100\n",
      "building tree 85 of 100\n",
      "building tree 86 of 100\n",
      "building tree 87 of 100\n",
      "building tree 88 of 100\n",
      "building tree 89 of 100\n",
      "building tree 90 of 100\n",
      "building tree 91 of 100\n",
      "building tree 92 of 100\n",
      "building tree 93 of 100\n",
      "building tree 94 of 100\n",
      "building tree 95 of 100\n",
      "building tree 96 of 100\n",
      "building tree 97 of 100\n",
      "building tree 98 of 100\n",
      "building tree 99 of 100\n",
      "building tree 100 of 100\n"
     ]
    },
    {
     "name": "stderr",
     "output_type": "stream",
     "text": [
      "[Parallel(n_jobs=1)]: Done 100 out of 100 | elapsed: 11.8min finished\n"
     ]
    },
    {
     "data": {
      "text/plain": [
       "RandomForestClassifier(verbose=3)"
      ]
     },
     "execution_count": 111,
     "metadata": {},
     "output_type": "execute_result"
    }
   ],
   "source": [
    "from sklearn.ensemble import RandomForestClassifier\n",
    "classifier = RandomForestClassifier(verbose=3)\n",
    "classifier.fit(X_train, y_train)"
   ]
  },
  {
   "cell_type": "code",
   "execution_count": 112,
   "metadata": {},
   "outputs": [
    {
     "name": "stderr",
     "output_type": "stream",
     "text": [
      "[Parallel(n_jobs=1)]: Using backend SequentialBackend with 1 concurrent workers.\n",
      "[Parallel(n_jobs=1)]: Done   1 out of   1 | elapsed:    0.0s remaining:    0.0s\n",
      "[Parallel(n_jobs=1)]: Done   2 out of   2 | elapsed:    0.0s remaining:    0.0s\n",
      "[Parallel(n_jobs=1)]: Done 100 out of 100 | elapsed:    2.3s finished\n"
     ]
    }
   ],
   "source": [
    "y_pred = classifier.predict(X_test)"
   ]
  },
  {
   "cell_type": "code",
   "execution_count": 113,
   "metadata": {},
   "outputs": [],
   "source": [
    "from sklearn.metrics import accuracy_score, classification_report\n",
    "classification_report = classification_report(y_test, y_pred)"
   ]
  },
  {
   "cell_type": "code",
   "execution_count": 114,
   "metadata": {},
   "outputs": [
    {
     "name": "stdout",
     "output_type": "stream",
     "text": [
      "\n",
      " Accuracy:  0.33640722980450016\n",
      "\n",
      "Classification Report\n",
      "======================================================\n",
      "\n",
      "               precision    recall  f1-score   support\n",
      "\n",
      "      action       0.20      0.04      0.07       127\n",
      "       adult       0.30      0.12      0.18        48\n",
      "   adventure       0.18      0.06      0.09        66\n",
      "   animation       0.17      0.04      0.06        56\n",
      "   biography       0.00      0.00      0.00        28\n",
      "      comedy       0.24      0.14      0.18       736\n",
      "       crime       0.08      0.03      0.04        39\n",
      " documentary       0.39      0.54      0.45      1298\n",
      "       drama       0.34      0.60      0.44      1415\n",
      "      family       0.10      0.02      0.04        81\n",
      "     fantasy       0.00      0.00      0.00        31\n",
      "   game-show       0.00      0.00      0.00        17\n",
      "     history       0.00      0.00      0.00        14\n",
      "      horror       0.32      0.15      0.21       211\n",
      "       music       0.51      0.22      0.31        91\n",
      "     musical       0.00      0.00      0.00        33\n",
      "     mystery       0.17      0.03      0.06        30\n",
      "        news       0.22      0.12      0.15        17\n",
      "  reality-tv       0.12      0.04      0.06        77\n",
      "     romance       0.13      0.05      0.07        60\n",
      "      sci-fi       0.04      0.01      0.02        71\n",
      "       short       0.21      0.08      0.12       528\n",
      "       sport       0.47      0.19      0.27        42\n",
      "   talk-show       0.20      0.05      0.08        39\n",
      "    thriller       0.14      0.04      0.06       167\n",
      "         war       0.00      0.00      0.00        10\n",
      "     western       0.43      0.27      0.33        90\n",
      "\n",
      "    accuracy                           0.34      5422\n",
      "   macro avg       0.18      0.11      0.12      5422\n",
      "weighted avg       0.29      0.34      0.29      5422\n",
      "\n"
     ]
    }
   ],
   "source": [
    "print('\\n Accuracy: ', accuracy_score(y_test, y_pred))\n",
    "print('\\nClassification Report')\n",
    "print('======================================================')\n",
    "print('\\n', classification_report)"
   ]
  }
 ],
 "metadata": {
  "kernelspec": {
   "display_name": "Python 3.9.13 ('base')",
   "language": "python",
   "name": "python3"
  },
  "language_info": {
   "codemirror_mode": {
    "name": "ipython",
    "version": 3
   },
   "file_extension": ".py",
   "mimetype": "text/x-python",
   "name": "python",
   "nbconvert_exporter": "python",
   "pygments_lexer": "ipython3",
   "version": "3.9.15"
  },
  "orig_nbformat": 4,
  "vscode": {
   "interpreter": {
    "hash": "1c18cf0ca5f372652eb3c53f1e6e7513e994b0e9bbc1c1aa195ddcac7c5e80e0"
   }
  }
 },
 "nbformat": 4,
 "nbformat_minor": 2
}
