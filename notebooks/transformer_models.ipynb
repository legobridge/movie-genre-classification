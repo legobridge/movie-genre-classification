{
 "cells": [
  {
   "cell_type": "code",
   "execution_count": 1,
   "id": "844e7c8d-aff8-4291-8078-0e64bfa87161",
   "metadata": {},
   "outputs": [],
   "source": [
    "!pip install -q -U \"tensorflow-text==2.8.*\""
   ]
  },
  {
   "cell_type": "code",
   "execution_count": 2,
   "id": "3327bf49-af4e-4244-b829-223e0d98dc8f",
   "metadata": {},
   "outputs": [],
   "source": [
    "!pip install -q tf-models-official==2.7.0"
   ]
  },
  {
   "cell_type": "code",
   "execution_count": 3,
   "id": "cc18e0e7-3b6b-4897-8840-8f3c30ab83b6",
   "metadata": {},
   "outputs": [],
   "source": [
    "!pip install -q pydot"
   ]
  },
  {
   "cell_type": "code",
   "execution_count": 4,
   "id": "33440bdd-761e-46bd-bc9f-ca5d982b657d",
   "metadata": {},
   "outputs": [],
   "source": [
    "import os\n",
    "import shutil\n",
    "\n",
    "import tensorflow as tf\n",
    "import tensorflow_hub as hub\n",
    "import tensorflow_text as text\n",
    "from official.nlp import optimization  # to create AdamW optimizer\n",
    "\n",
    "import matplotlib.pyplot as plt\n",
    "\n",
    "tf.get_logger().setLevel('ERROR')"
   ]
  },
  {
   "cell_type": "code",
   "execution_count": 5,
   "id": "4a5ca05f-1fa2-4a6b-9057-83d6f9c03dc9",
   "metadata": {},
   "outputs": [],
   "source": [
    "import pandas as pd\n",
    "import numpy as np\n",
    "import matplotlib.pyplot as plt\n",
    "%matplotlib inline"
   ]
  },
  {
   "cell_type": "code",
   "execution_count": 6,
   "id": "8f32f10c-c9e1-4b28-8578-fbfbdf470030",
   "metadata": {},
   "outputs": [
    {
     "data": {
      "text/html": [
       "<div>\n",
       "<style scoped>\n",
       "    .dataframe tbody tr th:only-of-type {\n",
       "        vertical-align: middle;\n",
       "    }\n",
       "\n",
       "    .dataframe tbody tr th {\n",
       "        vertical-align: top;\n",
       "    }\n",
       "\n",
       "    .dataframe thead th {\n",
       "        text-align: right;\n",
       "    }\n",
       "</style>\n",
       "<table border=\"1\" class=\"dataframe\">\n",
       "  <thead>\n",
       "    <tr style=\"text-align: right;\">\n",
       "      <th></th>\n",
       "      <th>title</th>\n",
       "      <th>genre</th>\n",
       "      <th>description</th>\n",
       "      <th>year</th>\n",
       "      <th>processed_description</th>\n",
       "      <th>processed_description_string</th>\n",
       "      <th>language</th>\n",
       "    </tr>\n",
       "  </thead>\n",
       "  <tbody>\n",
       "    <tr>\n",
       "      <th>0</th>\n",
       "      <td>Oscar et la dame rose</td>\n",
       "      <td>drama</td>\n",
       "      <td>Listening in to a conversation between his do...</td>\n",
       "      <td>2009</td>\n",
       "      <td>['listen', 'convers', 'doctor', 'parent', '10-...</td>\n",
       "      <td>listen convers doctor parent 10-year-old oscar...</td>\n",
       "      <td>English</td>\n",
       "    </tr>\n",
       "    <tr>\n",
       "      <th>1</th>\n",
       "      <td>Cupid</td>\n",
       "      <td>thriller</td>\n",
       "      <td>A brother and sister with a past incestuous r...</td>\n",
       "      <td>1997</td>\n",
       "      <td>['brother', 'sister', 'past', 'incestu', 'rela...</td>\n",
       "      <td>brother sister past incestu relationship curre...</td>\n",
       "      <td>English</td>\n",
       "    </tr>\n",
       "    <tr>\n",
       "      <th>2</th>\n",
       "      <td>Young, Wild and Wonderful</td>\n",
       "      <td>adult</td>\n",
       "      <td>As the bus empties the students for their fie...</td>\n",
       "      <td>1980</td>\n",
       "      <td>['bu', 'empti', 'student', 'field', 'trip', 'm...</td>\n",
       "      <td>bu empti student field trip museum natur histo...</td>\n",
       "      <td>English</td>\n",
       "    </tr>\n",
       "    <tr>\n",
       "      <th>3</th>\n",
       "      <td>The Secret Sin</td>\n",
       "      <td>drama</td>\n",
       "      <td>To help their unemployed father make ends mee...</td>\n",
       "      <td>1915</td>\n",
       "      <td>['help', 'unemploy', 'father', 'make', 'end', ...</td>\n",
       "      <td>help unemploy father make end meet edith twin ...</td>\n",
       "      <td>English</td>\n",
       "    </tr>\n",
       "    <tr>\n",
       "      <th>4</th>\n",
       "      <td>The Unrecovered</td>\n",
       "      <td>drama</td>\n",
       "      <td>The film's title refers not only to the un-re...</td>\n",
       "      <td>2007</td>\n",
       "      <td>['film', 'titl', 'refer', 'un-recov', 'bodi', ...</td>\n",
       "      <td>film titl refer un-recov bodi ground zero also...</td>\n",
       "      <td>English</td>\n",
       "    </tr>\n",
       "  </tbody>\n",
       "</table>\n",
       "</div>"
      ],
      "text/plain": [
       "                         title     genre  \\\n",
       "0       Oscar et la dame rose      drama   \n",
       "1                       Cupid   thriller   \n",
       "2   Young, Wild and Wonderful      adult   \n",
       "3              The Secret Sin      drama   \n",
       "4             The Unrecovered      drama   \n",
       "\n",
       "                                         description  year  \\\n",
       "0   Listening in to a conversation between his do...  2009   \n",
       "1   A brother and sister with a past incestuous r...  1997   \n",
       "2   As the bus empties the students for their fie...  1980   \n",
       "3   To help their unemployed father make ends mee...  1915   \n",
       "4   The film's title refers not only to the un-re...  2007   \n",
       "\n",
       "                               processed_description  \\\n",
       "0  ['listen', 'convers', 'doctor', 'parent', '10-...   \n",
       "1  ['brother', 'sister', 'past', 'incestu', 'rela...   \n",
       "2  ['bu', 'empti', 'student', 'field', 'trip', 'm...   \n",
       "3  ['help', 'unemploy', 'father', 'make', 'end', ...   \n",
       "4  ['film', 'titl', 'refer', 'un-recov', 'bodi', ...   \n",
       "\n",
       "                        processed_description_string language  \n",
       "0  listen convers doctor parent 10-year-old oscar...  English  \n",
       "1  brother sister past incestu relationship curre...  English  \n",
       "2  bu empti student field trip museum natur histo...  English  \n",
       "3  help unemploy father make end meet edith twin ...  English  \n",
       "4  film titl refer un-recov bodi ground zero also...  English  "
      ]
     },
     "execution_count": 6,
     "metadata": {},
     "output_type": "execute_result"
    }
   ],
   "source": [
    "train_df = pd.read_csv('../data/processed/train_data_processed.csv', index_col='id')\n",
    "train_df = train_df[train_df['language'] == 'English'].reset_index(drop=True)\n",
    "train_df.head()"
   ]
  },
  {
   "cell_type": "code",
   "execution_count": 7,
   "id": "f70c1ec0-f107-4136-a435-cd94bb60c3b6",
   "metadata": {},
   "outputs": [
    {
     "data": {
      "text/html": [
       "<div>\n",
       "<style scoped>\n",
       "    .dataframe tbody tr th:only-of-type {\n",
       "        vertical-align: middle;\n",
       "    }\n",
       "\n",
       "    .dataframe tbody tr th {\n",
       "        vertical-align: top;\n",
       "    }\n",
       "\n",
       "    .dataframe thead th {\n",
       "        text-align: right;\n",
       "    }\n",
       "</style>\n",
       "<table border=\"1\" class=\"dataframe\">\n",
       "  <thead>\n",
       "    <tr style=\"text-align: right;\">\n",
       "      <th></th>\n",
       "      <th>title</th>\n",
       "      <th>genre</th>\n",
       "      <th>description</th>\n",
       "      <th>year</th>\n",
       "      <th>processed_description</th>\n",
       "      <th>processed_description_string</th>\n",
       "      <th>language</th>\n",
       "    </tr>\n",
       "  </thead>\n",
       "  <tbody>\n",
       "    <tr>\n",
       "      <th>17543</th>\n",
       "      <td>\"Klassi Ghalina\"</td>\n",
       "      <td>4</td>\n",
       "      <td>When you taught that school has an age limit ...</td>\n",
       "      <td>2011</td>\n",
       "      <td>['taught', 'school', 'age', 'limit', 'wrong', ...</td>\n",
       "      <td>taught school age limit wrong basic premis mal...</td>\n",
       "      <td>English</td>\n",
       "    </tr>\n",
       "    <tr>\n",
       "      <th>16938</th>\n",
       "      <td>Chosen by God: The Great Black Pharaohs of th...</td>\n",
       "      <td>3</td>\n",
       "      <td>CHOSEN BY GOD documents &amp; details the work of...</td>\n",
       "      <td>2011</td>\n",
       "      <td>['chosen', 'god', 'document', 'detail', 'work'...</td>\n",
       "      <td>chosen god document detail work world earliest...</td>\n",
       "      <td>English</td>\n",
       "    </tr>\n",
       "    <tr>\n",
       "      <th>34243</th>\n",
       "      <td>An Island's Legacy: Preparing for TT</td>\n",
       "      <td>3</td>\n",
       "      <td>Flexstone Pictures film 'things to do' while ...</td>\n",
       "      <td>2007</td>\n",
       "      <td>['flexston', 'pictur', 'film', 'thing', 'visit...</td>\n",
       "      <td>flexston pictur film thing visit isl man isl m...</td>\n",
       "      <td>English</td>\n",
       "    </tr>\n",
       "    <tr>\n",
       "      <th>41142</th>\n",
       "      <td>The Hard Life</td>\n",
       "      <td>4</td>\n",
       "      <td>Centers on parents Bobby and Gina. Bobby is c...</td>\n",
       "      <td>2010</td>\n",
       "      <td>['center', 'parent', 'bobbi', 'gina', 'bobbi',...</td>\n",
       "      <td>center parent bobbi gina bobbi charm witti tri...</td>\n",
       "      <td>English</td>\n",
       "    </tr>\n",
       "    <tr>\n",
       "      <th>41446</th>\n",
       "      <td>Panelstory aneb Jak se rodí sídliste</td>\n",
       "      <td>4</td>\n",
       "      <td>An old man is wandering round a badly signpos...</td>\n",
       "      <td>1980</td>\n",
       "      <td>['old', 'man', 'wander', 'round', 'badli', 'si...</td>\n",
       "      <td>old man wander round badli signpost yet mostli...</td>\n",
       "      <td>English</td>\n",
       "    </tr>\n",
       "    <tr>\n",
       "      <th>...</th>\n",
       "      <td>...</td>\n",
       "      <td>...</td>\n",
       "      <td>...</td>\n",
       "      <td>...</td>\n",
       "      <td>...</td>\n",
       "      <td>...</td>\n",
       "      <td>...</td>\n",
       "    </tr>\n",
       "    <tr>\n",
       "      <th>23192</th>\n",
       "      <td>Road to El Paso</td>\n",
       "      <td>0</td>\n",
       "      <td>Rancher Martin Auden's wife leaves him, his t...</td>\n",
       "      <td>2007</td>\n",
       "      <td>['rancher', 'martin', 'auden', 'wife', 'leav',...</td>\n",
       "      <td>rancher martin auden wife leav tractor break h...</td>\n",
       "      <td>English</td>\n",
       "    </tr>\n",
       "    <tr>\n",
       "      <th>10591</th>\n",
       "      <td>Tattoo Two</td>\n",
       "      <td>4</td>\n",
       "      <td>Two best buddy entrepreneurs crash a high-pro...</td>\n",
       "      <td>2018</td>\n",
       "      <td>['two', 'best', 'buddi', 'entrepreneur', 'cras...</td>\n",
       "      <td>two best buddi entrepreneur crash high-profil ...</td>\n",
       "      <td>English</td>\n",
       "    </tr>\n",
       "    <tr>\n",
       "      <th>24775</th>\n",
       "      <td>All the Presidents Elephants</td>\n",
       "      <td>3</td>\n",
       "      <td>What makes a jet setting 'power-blonde' busin...</td>\n",
       "      <td>2011</td>\n",
       "      <td>['make', 'jet', 'set', 'power-blond', 'busi', ...</td>\n",
       "      <td>make jet set power-blond busi execut queenslan...</td>\n",
       "      <td>English</td>\n",
       "    </tr>\n",
       "    <tr>\n",
       "      <th>31214</th>\n",
       "      <td>Steven Spielberg's Director's Chair</td>\n",
       "      <td>18</td>\n",
       "      <td>Steven Spielberg's Director's Chair is a movi...</td>\n",
       "      <td>1996</td>\n",
       "      <td>['steven', 'spielberg', 'director', 'chair', '...</td>\n",
       "      <td>steven spielberg director chair moviemak simul...</td>\n",
       "      <td>English</td>\n",
       "    </tr>\n",
       "    <tr>\n",
       "      <th>37864</th>\n",
       "      <td>The Turns of the Wheel</td>\n",
       "      <td>12</td>\n",
       "      <td>\"The Turns of The Wheel\" is an awarded experi...</td>\n",
       "      <td>1998</td>\n",
       "      <td>['turn', 'wheel', 'award', 'experiment', 'movi...</td>\n",
       "      <td>turn wheel award experiment movi captur spirit...</td>\n",
       "      <td>English</td>\n",
       "    </tr>\n",
       "  </tbody>\n",
       "</table>\n",
       "<p>53831 rows × 7 columns</p>\n",
       "</div>"
      ],
      "text/plain": [
       "                                                   title  genre  \\\n",
       "17543                                  \"Klassi Ghalina\"       4   \n",
       "16938   Chosen by God: The Great Black Pharaohs of th...      3   \n",
       "34243              An Island's Legacy: Preparing for TT       3   \n",
       "41142                                     The Hard Life       4   \n",
       "41446              Panelstory aneb Jak se rodí sídliste       4   \n",
       "...                                                  ...    ...   \n",
       "23192                                   Road to El Paso       0   \n",
       "10591                                        Tattoo Two       4   \n",
       "24775                      All the Presidents Elephants       3   \n",
       "31214               Steven Spielberg's Director's Chair      18   \n",
       "37864                            The Turns of the Wheel      12   \n",
       "\n",
       "                                             description  year  \\\n",
       "17543   When you taught that school has an age limit ...  2011   \n",
       "16938   CHOSEN BY GOD documents & details the work of...  2011   \n",
       "34243   Flexstone Pictures film 'things to do' while ...  2007   \n",
       "41142   Centers on parents Bobby and Gina. Bobby is c...  2010   \n",
       "41446   An old man is wandering round a badly signpos...  1980   \n",
       "...                                                  ...   ...   \n",
       "23192   Rancher Martin Auden's wife leaves him, his t...  2007   \n",
       "10591   Two best buddy entrepreneurs crash a high-pro...  2018   \n",
       "24775   What makes a jet setting 'power-blonde' busin...  2011   \n",
       "31214   Steven Spielberg's Director's Chair is a movi...  1996   \n",
       "37864   \"The Turns of The Wheel\" is an awarded experi...  1998   \n",
       "\n",
       "                                   processed_description  \\\n",
       "17543  ['taught', 'school', 'age', 'limit', 'wrong', ...   \n",
       "16938  ['chosen', 'god', 'document', 'detail', 'work'...   \n",
       "34243  ['flexston', 'pictur', 'film', 'thing', 'visit...   \n",
       "41142  ['center', 'parent', 'bobbi', 'gina', 'bobbi',...   \n",
       "41446  ['old', 'man', 'wander', 'round', 'badli', 'si...   \n",
       "...                                                  ...   \n",
       "23192  ['rancher', 'martin', 'auden', 'wife', 'leav',...   \n",
       "10591  ['two', 'best', 'buddi', 'entrepreneur', 'cras...   \n",
       "24775  ['make', 'jet', 'set', 'power-blond', 'busi', ...   \n",
       "31214  ['steven', 'spielberg', 'director', 'chair', '...   \n",
       "37864  ['turn', 'wheel', 'award', 'experiment', 'movi...   \n",
       "\n",
       "                            processed_description_string language  \n",
       "17543  taught school age limit wrong basic premis mal...  English  \n",
       "16938  chosen god document detail work world earliest...  English  \n",
       "34243  flexston pictur film thing visit isl man isl m...  English  \n",
       "41142  center parent bobbi gina bobbi charm witti tri...  English  \n",
       "41446  old man wander round badli signpost yet mostli...  English  \n",
       "...                                                  ...      ...  \n",
       "23192  rancher martin auden wife leav tractor break h...  English  \n",
       "10591  two best buddi entrepreneur crash high-profil ...  English  \n",
       "24775  make jet set power-blond busi execut queenslan...  English  \n",
       "31214  steven spielberg director chair moviemak simul...  English  \n",
       "37864  turn wheel award experiment movi captur spirit...  English  \n",
       "\n",
       "[53831 rows x 7 columns]"
      ]
     },
     "execution_count": 7,
     "metadata": {},
     "output_type": "execute_result"
    }
   ],
   "source": [
    "unique_genres = train_df['genre'].unique()\n",
    "genre_encoding = dict([(unique_genres[i], i) for i in range(unique_genres.shape[0])])\n",
    "train_df['genre'] = train_df['genre'].map(genre_encoding)\n",
    "train_df = train_df.sample(frac=1)\n",
    "train_df"
   ]
  },
  {
   "cell_type": "code",
   "execution_count": 8,
   "id": "fcf33576-9ebb-4068-8780-e8913088fc1f",
   "metadata": {},
   "outputs": [
    {
     "data": {
      "text/plain": [
       "27"
      ]
     },
     "execution_count": 8,
     "metadata": {},
     "output_type": "execute_result"
    }
   ],
   "source": [
    "num_labels = train_df['genre'].nunique()\n",
    "num_labels"
   ]
  },
  {
   "cell_type": "code",
   "execution_count": 9,
   "id": "7217f4a8-ed84-4ce3-b387-d6946337e93d",
   "metadata": {},
   "outputs": [],
   "source": [
    "x = train_df['processed_description_string'].values\n",
    "# x = train_df['description'].values\n",
    "y = pd.get_dummies(train_df['genre']).values"
   ]
  },
  {
   "cell_type": "code",
   "execution_count": 10,
   "id": "f24b5ce0-191b-4572-9726-06ead395bf78",
   "metadata": {},
   "outputs": [],
   "source": [
    "train_set_size = 45000\n",
    "val_set_size = 4000\n",
    "test_set_size = 4000\n",
    "\n",
    "x_train = x[:train_set_size]\n",
    "x_val = x[train_set_size:train_set_size+val_set_size]\n",
    "x_test = x[train_set_size+val_set_size:train_set_size+val_set_size+test_set_size]\n",
    "\n",
    "y_train = y[:train_set_size]\n",
    "y_val = y[train_set_size:train_set_size+val_set_size]\n",
    "y_test = y[train_set_size+val_set_size:train_set_size+val_set_size+test_set_size]"
   ]
  },
  {
   "cell_type": "code",
   "execution_count": 11,
   "id": "295799b8-eeaa-4fe5-9e8d-68094d07d092",
   "metadata": {},
   "outputs": [
    {
     "name": "stdout",
     "output_type": "stream",
     "text": [
      "BERT model selected           : https://tfhub.dev/tensorflow/small_bert/bert_en_uncased_L-2_H-128_A-2/1\n",
      "Preprocess model auto-selected: https://tfhub.dev/tensorflow/bert_en_uncased_preprocess/3\n"
     ]
    }
   ],
   "source": [
    "#@title Choose a BERT model to fine-tune\n",
    "\n",
    "bert_model_name = 'small_bert/bert_en_uncased_L-2_H-128_A-2'\n",
    "\n",
    "map_name_to_handle = {\n",
    "    'bert_en_uncased_L-12_H-768_A-12':\n",
    "        'https://tfhub.dev/tensorflow/bert_en_uncased_L-12_H-768_A-12/3',\n",
    "    'bert_en_cased_L-12_H-768_A-12':\n",
    "        'https://tfhub.dev/tensorflow/bert_en_cased_L-12_H-768_A-12/3',\n",
    "    'bert_multi_cased_L-12_H-768_A-12':\n",
    "        'https://tfhub.dev/tensorflow/bert_multi_cased_L-12_H-768_A-12/3',\n",
    "    'small_bert/bert_en_uncased_L-2_H-128_A-2':\n",
    "        'https://tfhub.dev/tensorflow/small_bert/bert_en_uncased_L-2_H-128_A-2/1',\n",
    "    'small_bert/bert_en_uncased_L-2_H-256_A-4':\n",
    "        'https://tfhub.dev/tensorflow/small_bert/bert_en_uncased_L-2_H-256_A-4/1',\n",
    "    'small_bert/bert_en_uncased_L-2_H-512_A-8':\n",
    "        'https://tfhub.dev/tensorflow/small_bert/bert_en_uncased_L-2_H-512_A-8/1',\n",
    "    'small_bert/bert_en_uncased_L-2_H-768_A-12':\n",
    "        'https://tfhub.dev/tensorflow/small_bert/bert_en_uncased_L-2_H-768_A-12/1',\n",
    "    'small_bert/bert_en_uncased_L-4_H-128_A-2':\n",
    "        'https://tfhub.dev/tensorflow/small_bert/bert_en_uncased_L-4_H-128_A-2/1',\n",
    "    'small_bert/bert_en_uncased_L-4_H-256_A-4':\n",
    "        'https://tfhub.dev/tensorflow/small_bert/bert_en_uncased_L-4_H-256_A-4/1',\n",
    "    'small_bert/bert_en_uncased_L-4_H-512_A-8':\n",
    "        'https://tfhub.dev/tensorflow/small_bert/bert_en_uncased_L-4_H-512_A-8/1',\n",
    "    'small_bert/bert_en_uncased_L-4_H-768_A-12':\n",
    "        'https://tfhub.dev/tensorflow/small_bert/bert_en_uncased_L-4_H-768_A-12/1',\n",
    "    'small_bert/bert_en_uncased_L-6_H-128_A-2':\n",
    "        'https://tfhub.dev/tensorflow/small_bert/bert_en_uncased_L-6_H-128_A-2/1',\n",
    "    'small_bert/bert_en_uncased_L-6_H-256_A-4':\n",
    "        'https://tfhub.dev/tensorflow/small_bert/bert_en_uncased_L-6_H-256_A-4/1',\n",
    "    'small_bert/bert_en_uncased_L-6_H-512_A-8':\n",
    "        'https://tfhub.dev/tensorflow/small_bert/bert_en_uncased_L-6_H-512_A-8/1',\n",
    "    'small_bert/bert_en_uncased_L-6_H-768_A-12':\n",
    "        'https://tfhub.dev/tensorflow/small_bert/bert_en_uncased_L-6_H-768_A-12/1',\n",
    "    'small_bert/bert_en_uncased_L-8_H-128_A-2':\n",
    "        'https://tfhub.dev/tensorflow/small_bert/bert_en_uncased_L-8_H-128_A-2/1',\n",
    "    'small_bert/bert_en_uncased_L-8_H-256_A-4':\n",
    "        'https://tfhub.dev/tensorflow/small_bert/bert_en_uncased_L-8_H-256_A-4/1',\n",
    "    'small_bert/bert_en_uncased_L-8_H-512_A-8':\n",
    "        'https://tfhub.dev/tensorflow/small_bert/bert_en_uncased_L-8_H-512_A-8/1',\n",
    "    'small_bert/bert_en_uncased_L-8_H-768_A-12':\n",
    "        'https://tfhub.dev/tensorflow/small_bert/bert_en_uncased_L-8_H-768_A-12/1',\n",
    "    'small_bert/bert_en_uncased_L-10_H-128_A-2':\n",
    "        'https://tfhub.dev/tensorflow/small_bert/bert_en_uncased_L-10_H-128_A-2/1',\n",
    "    'small_bert/bert_en_uncased_L-10_H-256_A-4':\n",
    "        'https://tfhub.dev/tensorflow/small_bert/bert_en_uncased_L-10_H-256_A-4/1',\n",
    "    'small_bert/bert_en_uncased_L-10_H-512_A-8':\n",
    "        'https://tfhub.dev/tensorflow/small_bert/bert_en_uncased_L-10_H-512_A-8/1',\n",
    "    'small_bert/bert_en_uncased_L-10_H-768_A-12':\n",
    "        'https://tfhub.dev/tensorflow/small_bert/bert_en_uncased_L-10_H-768_A-12/1',\n",
    "    'small_bert/bert_en_uncased_L-12_H-128_A-2':\n",
    "        'https://tfhub.dev/tensorflow/small_bert/bert_en_uncased_L-12_H-128_A-2/1',\n",
    "    'small_bert/bert_en_uncased_L-12_H-256_A-4':\n",
    "        'https://tfhub.dev/tensorflow/small_bert/bert_en_uncased_L-12_H-256_A-4/1',\n",
    "    'small_bert/bert_en_uncased_L-12_H-512_A-8':\n",
    "        'https://tfhub.dev/tensorflow/small_bert/bert_en_uncased_L-12_H-512_A-8/1',\n",
    "    'small_bert/bert_en_uncased_L-12_H-768_A-12':\n",
    "        'https://tfhub.dev/tensorflow/small_bert/bert_en_uncased_L-12_H-768_A-12/1',\n",
    "    'albert_en_base':\n",
    "        'https://tfhub.dev/tensorflow/albert_en_base/2',\n",
    "    'electra_small':\n",
    "        'https://tfhub.dev/google/electra_small/2',\n",
    "    'electra_base':\n",
    "        'https://tfhub.dev/google/electra_base/2',\n",
    "    'experts_pubmed':\n",
    "        'https://tfhub.dev/google/experts/bert/pubmed/2',\n",
    "    'experts_wiki_books':\n",
    "        'https://tfhub.dev/google/experts/bert/wiki_books/2',\n",
    "    'talking-heads_base':\n",
    "        'https://tfhub.dev/tensorflow/talkheads_ggelu_bert_en_base/1',\n",
    "}\n",
    "\n",
    "map_model_to_preprocess = {\n",
    "    'bert_en_uncased_L-12_H-768_A-12':\n",
    "        'https://tfhub.dev/tensorflow/bert_en_uncased_preprocess/3',\n",
    "    'bert_en_cased_L-12_H-768_A-12':\n",
    "        'https://tfhub.dev/tensorflow/bert_en_cased_preprocess/3',\n",
    "    'small_bert/bert_en_uncased_L-2_H-128_A-2':\n",
    "        'https://tfhub.dev/tensorflow/bert_en_uncased_preprocess/3',\n",
    "    'small_bert/bert_en_uncased_L-2_H-256_A-4':\n",
    "        'https://tfhub.dev/tensorflow/bert_en_uncased_preprocess/3',\n",
    "    'small_bert/bert_en_uncased_L-2_H-512_A-8':\n",
    "        'https://tfhub.dev/tensorflow/bert_en_uncased_preprocess/3',\n",
    "    'small_bert/bert_en_uncased_L-2_H-768_A-12':\n",
    "        'https://tfhub.dev/tensorflow/bert_en_uncased_preprocess/3',\n",
    "    'small_bert/bert_en_uncased_L-4_H-128_A-2':\n",
    "        'https://tfhub.dev/tensorflow/bert_en_uncased_preprocess/3',\n",
    "    'small_bert/bert_en_uncased_L-4_H-256_A-4':\n",
    "        'https://tfhub.dev/tensorflow/bert_en_uncased_preprocess/3',\n",
    "    'small_bert/bert_en_uncased_L-4_H-512_A-8':\n",
    "        'https://tfhub.dev/tensorflow/bert_en_uncased_preprocess/3',\n",
    "    'small_bert/bert_en_uncased_L-4_H-768_A-12':\n",
    "        'https://tfhub.dev/tensorflow/bert_en_uncased_preprocess/3',\n",
    "    'small_bert/bert_en_uncased_L-6_H-128_A-2':\n",
    "        'https://tfhub.dev/tensorflow/bert_en_uncased_preprocess/3',\n",
    "    'small_bert/bert_en_uncased_L-6_H-256_A-4':\n",
    "        'https://tfhub.dev/tensorflow/bert_en_uncased_preprocess/3',\n",
    "    'small_bert/bert_en_uncased_L-6_H-512_A-8':\n",
    "        'https://tfhub.dev/tensorflow/bert_en_uncased_preprocess/3',\n",
    "    'small_bert/bert_en_uncased_L-6_H-768_A-12':\n",
    "        'https://tfhub.dev/tensorflow/bert_en_uncased_preprocess/3',\n",
    "    'small_bert/bert_en_uncased_L-8_H-128_A-2':\n",
    "        'https://tfhub.dev/tensorflow/bert_en_uncased_preprocess/3',\n",
    "    'small_bert/bert_en_uncased_L-8_H-256_A-4':\n",
    "        'https://tfhub.dev/tensorflow/bert_en_uncased_preprocess/3',\n",
    "    'small_bert/bert_en_uncased_L-8_H-512_A-8':\n",
    "        'https://tfhub.dev/tensorflow/bert_en_uncased_preprocess/3',\n",
    "    'small_bert/bert_en_uncased_L-8_H-768_A-12':\n",
    "        'https://tfhub.dev/tensorflow/bert_en_uncased_preprocess/3',\n",
    "    'small_bert/bert_en_uncased_L-10_H-128_A-2':\n",
    "        'https://tfhub.dev/tensorflow/bert_en_uncased_preprocess/3',\n",
    "    'small_bert/bert_en_uncased_L-10_H-256_A-4':\n",
    "        'https://tfhub.dev/tensorflow/bert_en_uncased_preprocess/3',\n",
    "    'small_bert/bert_en_uncased_L-10_H-512_A-8':\n",
    "        'https://tfhub.dev/tensorflow/bert_en_uncased_preprocess/3',\n",
    "    'small_bert/bert_en_uncased_L-10_H-768_A-12':\n",
    "        'https://tfhub.dev/tensorflow/bert_en_uncased_preprocess/3',\n",
    "    'small_bert/bert_en_uncased_L-12_H-128_A-2':\n",
    "        'https://tfhub.dev/tensorflow/bert_en_uncased_preprocess/3',\n",
    "    'small_bert/bert_en_uncased_L-12_H-256_A-4':\n",
    "        'https://tfhub.dev/tensorflow/bert_en_uncased_preprocess/3',\n",
    "    'small_bert/bert_en_uncased_L-12_H-512_A-8':\n",
    "        'https://tfhub.dev/tensorflow/bert_en_uncased_preprocess/3',\n",
    "    'small_bert/bert_en_uncased_L-12_H-768_A-12':\n",
    "        'https://tfhub.dev/tensorflow/bert_en_uncased_preprocess/3',\n",
    "    'bert_multi_cased_L-12_H-768_A-12':\n",
    "        'https://tfhub.dev/tensorflow/bert_multi_cased_preprocess/3',\n",
    "    'albert_en_base':\n",
    "        'https://tfhub.dev/tensorflow/albert_en_preprocess/3',\n",
    "    'electra_small':\n",
    "        'https://tfhub.dev/tensorflow/bert_en_uncased_preprocess/3',\n",
    "    'electra_base':\n",
    "        'https://tfhub.dev/tensorflow/bert_en_uncased_preprocess/3',\n",
    "    'experts_pubmed':\n",
    "        'https://tfhub.dev/tensorflow/bert_en_uncased_preprocess/3',\n",
    "    'experts_wiki_books':\n",
    "        'https://tfhub.dev/tensorflow/bert_en_uncased_preprocess/3',\n",
    "    'talking-heads_base':\n",
    "        'https://tfhub.dev/tensorflow/bert_en_uncased_preprocess/3',\n",
    "}\n",
    "\n",
    "tfhub_handle_encoder = map_name_to_handle[bert_model_name]\n",
    "tfhub_handle_preprocess = map_model_to_preprocess[bert_model_name]\n",
    "\n",
    "print(f'BERT model selected           : {tfhub_handle_encoder}')\n",
    "print(f'Preprocess model auto-selected: {tfhub_handle_preprocess}')"
   ]
  },
  {
   "cell_type": "code",
   "execution_count": 12,
   "id": "555eb135-36eb-4285-a7a2-64c639eda5f1",
   "metadata": {},
   "outputs": [
    {
     "name": "stderr",
     "output_type": "stream",
     "text": [
      "2022-11-19 14:46:04.459357: I tensorflow/stream_executor/cuda/cuda_gpu_executor.cc:936] successful NUMA node read from SysFS had negative value (-1), but there must be at least one NUMA node, so returning NUMA node zero\n"
     ]
    }
   ],
   "source": [
    "bert_preprocess_model = hub.KerasLayer(tfhub_handle_preprocess)"
   ]
  },
  {
   "cell_type": "code",
   "execution_count": 13,
   "id": "db6662e3-9a18-4a70-af75-080df48e191f",
   "metadata": {},
   "outputs": [],
   "source": [
    "bert_model = hub.KerasLayer(tfhub_handle_encoder)"
   ]
  },
  {
   "cell_type": "code",
   "execution_count": 14,
   "id": "585cd97f-5a56-4888-9df5-f5a70941a209",
   "metadata": {},
   "outputs": [],
   "source": [
    "def build_classifier_model():\n",
    "    text_input = tf.keras.layers.Input(shape=(), dtype=tf.string, name='text')\n",
    "    preprocessing_layer = hub.KerasLayer(tfhub_handle_preprocess, name='preprocessing')\n",
    "    encoder_inputs = preprocessing_layer(text_input)\n",
    "    encoder = hub.KerasLayer(tfhub_handle_encoder, trainable=True, name='BERT_encoder')\n",
    "    outputs = encoder(encoder_inputs)\n",
    "    net = outputs['pooled_output']\n",
    "    net = tf.keras.layers.Dense(128)(net)\n",
    "    net = tf.keras.layers.Dropout(0.05)(net)\n",
    "    net = tf.keras.layers.Dense(256)(net)\n",
    "    net = tf.keras.layers.Dense(num_labels, activation='softmax')(net)\n",
    "    return tf.keras.Model(text_input, net)"
   ]
  },
  {
   "cell_type": "code",
   "execution_count": 15,
   "id": "a83a03f4-161c-47c3-8a0d-0adc813d1d41",
   "metadata": {},
   "outputs": [],
   "source": [
    "classifier_model = build_classifier_model()"
   ]
  },
  {
   "cell_type": "code",
   "execution_count": 16,
   "id": "de82fcbd-88d5-4413-84a2-8d7323f27f40",
   "metadata": {},
   "outputs": [
    {
     "data": {
      "image/png": "[encoded data removed]",
      "text/plain": [
       "<IPython.core.display.Image object>"
      ]
     },
     "execution_count": 16,
     "metadata": {},
     "output_type": "execute_result"
    }
   ],
   "source": [
    "tf.keras.utils.plot_model(classifier_model, to_file='../models/{}.png'.format(bert_model_name))"
   ]
  },
  {
   "cell_type": "code",
   "execution_count": 17,
   "id": "dc86931c-9b3a-4887-b2bf-cce4c31ec895",
   "metadata": {},
   "outputs": [],
   "source": [
    "epochs = 10"
   ]
  },
  {
   "cell_type": "code",
   "execution_count": 18,
   "id": "545de1f9-f443-4ac7-b2de-6f689c0ce812",
   "metadata": {},
   "outputs": [],
   "source": [
    "classifier_model.compile(optimizer='adam',\n",
    "                         loss='categorical_crossentropy',\n",
    "                         metrics=['accuracy'])"
   ]
  },
  {
   "cell_type": "code",
   "execution_count": 19,
   "id": "47905724-dc49-455b-80dc-1ef1a675f2d6",
   "metadata": {},
   "outputs": [
    {
     "name": "stdout",
     "output_type": "stream",
     "text": [
      "Training model with https://tfhub.dev/tensorflow/small_bert/bert_en_uncased_L-2_H-128_A-2/1\n",
      "Epoch 1/10\n",
      "1407/1407 [==============================] - 49s 34ms/step - loss: 1.7724 - accuracy: 0.4797 - val_loss: 1.6002 - val_accuracy: 0.5250\n",
      "Epoch 2/10\n",
      "1407/1407 [==============================] - 48s 34ms/step - loss: 1.3734 - accuracy: 0.5970 - val_loss: 1.5542 - val_accuracy: 0.5497\n",
      "Epoch 3/10\n",
      "1407/1407 [==============================] - 48s 34ms/step - loss: 1.1316 - accuracy: 0.6655 - val_loss: 1.6388 - val_accuracy: 0.5420\n"
     ]
    }
   ],
   "source": [
    "print(f'Training model with {tfhub_handle_encoder}')\n",
    "\n",
    "my_callbacks  = [tf.keras.callbacks.EarlyStopping(monitor='val_loss',\n",
    "                              min_delta=0,\n",
    "                              patience=1,\n",
    "                              mode='auto')]\n",
    "history = classifier_model.fit(x_train, y_train,\n",
    "                    epochs=epochs,\n",
    "                    validation_data=(x_val, y_val),\n",
    "                    callbacks=my_callbacks,\n",
    "                    verbose=1\n",
    "                   )"
   ]
  },
  {
   "cell_type": "code",
   "execution_count": 20,
   "id": "4390e530-530f-4c99-9d97-bceff57d2118",
   "metadata": {},
   "outputs": [
    {
     "name": "stdout",
     "output_type": "stream",
     "text": [
      "125/125 [==============================] - 3s 24ms/step - loss: 1.5845 - accuracy: 0.5535\n",
      "Loss: 1.584531307220459\n",
      "Accuracy: 0.5534999966621399\n"
     ]
    }
   ],
   "source": [
    "loss, accuracy = classifier_model.evaluate(x_test, y_test)\n",
    "\n",
    "print(f'Loss: {loss}')\n",
    "print(f'Accuracy: {accuracy}')"
   ]
  },
  {
   "cell_type": "code",
   "execution_count": 21,
   "id": "8b45f611-b9fd-41c4-8be8-2a998ef7cd8b",
   "metadata": {},
   "outputs": [
    {
     "name": "stdout",
     "output_type": "stream",
     "text": [
      "dict_keys(['loss', 'accuracy', 'val_loss', 'val_accuracy'])\n"
     ]
    },
    {
     "data": {
      "text/plain": [
       "<matplotlib.legend.Legend at 0x7f6f3863efb0>"
      ]
     },
     "execution_count": 21,
     "metadata": {},
     "output_type": "execute_result"
    },
    {
     "data": {
      "image/png": "[encoded data removed]",
      "text/plain": [
       "<Figure size 1000x600 with 2 Axes>"
      ]
     },
     "metadata": {},
     "output_type": "display_data"
    }
   ],
   "source": [
    "history_dict = history.history\n",
    "print(history_dict.keys())\n",
    "\n",
    "acc = history_dict['accuracy']\n",
    "val_acc = history_dict['val_accuracy']\n",
    "loss = history_dict['loss']\n",
    "val_loss = history_dict['val_loss']\n",
    "\n",
    "epochs = range(1, len(acc) + 1)\n",
    "fig = plt.figure(figsize=(10, 6))\n",
    "fig.tight_layout()\n",
    "\n",
    "plt.subplot(2, 1, 1)\n",
    "# r is for \"solid red line\"\n",
    "plt.plot(epochs, loss, 'r', label='Training loss')\n",
    "# b is for \"solid blue line\"\n",
    "plt.plot(epochs, val_loss, 'b', label='Validation loss')\n",
    "plt.title('Training and validation loss')\n",
    "# plt.xlabel('Epochs')\n",
    "plt.ylabel('Loss')\n",
    "plt.legend()\n",
    "\n",
    "plt.subplot(2, 1, 2)\n",
    "plt.plot(epochs, acc, 'r', label='Training acc')\n",
    "plt.plot(epochs, val_acc, 'b', label='Validation acc')\n",
    "plt.title('Training and validation accuracy')\n",
    "plt.xlabel('Epochs')\n",
    "plt.ylabel('Accuracy')\n",
    "plt.legend(loc='lower right')"
   ]
  },
  {
   "cell_type": "code",
   "execution_count": 22,
   "id": "1392fbdc-e3cb-446f-98ae-de6b39e5a055",
   "metadata": {},
   "outputs": [
    {
     "name": "stderr",
     "output_type": "stream",
     "text": [
      "WARNING:absl:Found untraced functions such as restored_function_body, restored_function_body, restored_function_body, restored_function_body, restored_function_body while saving (showing 5 of 64). These functions will not be directly callable after loading.\n"
     ]
    }
   ],
   "source": [
    "saved_model_path = '../models/{}'.format(bert_model_name)\n",
    "\n",
    "classifier_model.save(saved_model_path, include_optimizer=False)"
   ]
  },
  {
   "cell_type": "code",
   "execution_count": 23,
   "id": "6b121a3b-ab1e-4929-b495-712848a52e7f",
   "metadata": {},
   "outputs": [],
   "source": [
    "x_custom = np.array(['a hilarious tale'.lower()])"
   ]
  },
  {
   "cell_type": "code",
   "execution_count": 24,
   "id": "5192edf5-2667-464f-bdcb-8bf80268fc81",
   "metadata": {},
   "outputs": [
    {
     "data": {
      "text/plain": [
       "12"
      ]
     },
     "execution_count": 24,
     "metadata": {},
     "output_type": "execute_result"
    }
   ],
   "source": [
    "classifier_model.predict(x_custom)[0].argmax()"
   ]
  },
  {
   "cell_type": "code",
   "execution_count": 25,
   "id": "f9932824-433c-4f81-8b8d-f4492b9b4534",
   "metadata": {},
   "outputs": [
    {
     "data": {
      "text/plain": [
       "{'drama': 0,\n",
       " 'thriller': 1,\n",
       " 'adult': 2,\n",
       " 'documentary': 3,\n",
       " 'comedy': 4,\n",
       " 'crime': 5,\n",
       " 'reality-tv': 6,\n",
       " 'horror': 7,\n",
       " 'sport': 8,\n",
       " 'animation': 9,\n",
       " 'action': 10,\n",
       " 'fantasy': 11,\n",
       " 'short': 12,\n",
       " 'sci-fi': 13,\n",
       " 'music': 14,\n",
       " 'adventure': 15,\n",
       " 'talk-show': 16,\n",
       " 'western': 17,\n",
       " 'family': 18,\n",
       " 'mystery': 19,\n",
       " 'history': 20,\n",
       " 'news': 21,\n",
       " 'biography': 22,\n",
       " 'romance': 23,\n",
       " 'game-show': 24,\n",
       " 'musical': 25,\n",
       " 'war': 26}"
      ]
     },
     "execution_count": 25,
     "metadata": {},
     "output_type": "execute_result"
    }
   ],
   "source": [
    "genre_encoding"
   ]
  }
 ],
 "metadata": {
  "kernelspec": {
   "display_name": "Python 3 (ipykernel)",
   "language": "python",
   "name": "python3"
  },
  "language_info": {
   "codemirror_mode": {
    "name": "ipython",
    "version": 3
   },
   "file_extension": ".py",
   "mimetype": "text/x-python",
   "name": "python",
   "nbconvert_exporter": "python",
   "pygments_lexer": "ipython3",
   "version": "3.10.6"
  }
 },
 "nbformat": 4,
 "nbformat_minor": 5
}
