{
 "cells": [
  {
   "cell_type": "code",
   "execution_count": 23,
   "id": "a5f1120c-a298-4899-94a5-1decbf730610",
   "metadata": {},
   "outputs": [
    {
     "name": "stdout",
     "output_type": "stream",
     "text": [
      "Collecting imblearn\n",
      "  Downloading imblearn-0.0-py2.py3-none-any.whl (1.9 kB)\n",
      "Collecting imbalanced-learn\n",
      "  Downloading imbalanced_learn-0.9.1-py3-none-any.whl (199 kB)\n",
      "\u001b[2K     \u001b[90m━━━━━━━━━━━━━━━━━━━━━━━━━━━━━━━━━━━━━━\u001b[0m \u001b[32m199.3/199.3 kB\u001b[0m \u001b[31m14.1 MB/s\u001b[0m eta \u001b[36m0:00:00\u001b[0m\n",
      "\u001b[?25hRequirement already satisfied: numpy>=1.17.3 in /home/kah3465/anaconda3/envs/jupyter/lib/python3.10/site-packages (from imbalanced-learn->imblearn) (1.23.3)\n",
      "Requirement already satisfied: threadpoolctl>=2.0.0 in /home/kah3465/anaconda3/envs/jupyter/lib/python3.10/site-packages (from imbalanced-learn->imblearn) (3.1.0)\n",
      "Requirement already satisfied: joblib>=1.0.0 in /home/kah3465/anaconda3/envs/jupyter/lib/python3.10/site-packages (from imbalanced-learn->imblearn) (1.2.0)\n",
      "Requirement already satisfied: scipy>=1.3.2 in /home/kah3465/anaconda3/envs/jupyter/lib/python3.10/site-packages (from imbalanced-learn->imblearn) (1.9.3)\n",
      "Requirement already satisfied: scikit-learn>=1.1.0 in /home/kah3465/anaconda3/envs/jupyter/lib/python3.10/site-packages (from imbalanced-learn->imblearn) (1.1.3)\n",
      "Installing collected packages: imbalanced-learn, imblearn\n",
      "Successfully installed imbalanced-learn-0.9.1 imblearn-0.0\n"
     ]
    }
   ],
   "source": [
    "# !pip install seaborn\n",
    "# !pip install imblearn"
   ]
  },
  {
   "cell_type": "code",
   "execution_count": 14,
   "id": "223c2e7b-b9b8-499b-81f4-f941804e72b5",
   "metadata": {},
   "outputs": [],
   "source": [
    "import pandas as pd\n",
    "import numpy as np\n",
    "import matplotlib.pyplot as plt\n",
    "import seaborn as sns\n",
    "%matplotlib inline"
   ]
  },
  {
   "cell_type": "code",
   "execution_count": 15,
   "id": "50f02013-223b-4afd-87d3-e760de2c9265",
   "metadata": {},
   "outputs": [
    {
     "data": {
      "text/html": [
       "<div>\n",
       "<style scoped>\n",
       "    .dataframe tbody tr th:only-of-type {\n",
       "        vertical-align: middle;\n",
       "    }\n",
       "\n",
       "    .dataframe tbody tr th {\n",
       "        vertical-align: top;\n",
       "    }\n",
       "\n",
       "    .dataframe thead th {\n",
       "        text-align: right;\n",
       "    }\n",
       "</style>\n",
       "<table border=\"1\" class=\"dataframe\">\n",
       "  <thead>\n",
       "    <tr style=\"text-align: right;\">\n",
       "      <th></th>\n",
       "      <th>id</th>\n",
       "      <th>title</th>\n",
       "      <th>genre</th>\n",
       "      <th>description</th>\n",
       "      <th>year</th>\n",
       "      <th>processed_description</th>\n",
       "      <th>processed_description_string</th>\n",
       "      <th>language</th>\n",
       "    </tr>\n",
       "  </thead>\n",
       "  <tbody>\n",
       "    <tr>\n",
       "      <th>0</th>\n",
       "      <td>1</td>\n",
       "      <td>Oscar et la dame rose</td>\n",
       "      <td>drama</td>\n",
       "      <td>Listening in to a conversation between his do...</td>\n",
       "      <td>2009</td>\n",
       "      <td>['listen', 'convers', 'doctor', 'parent', '10-...</td>\n",
       "      <td>listen convers doctor parent 10-year-old oscar...</td>\n",
       "      <td>English</td>\n",
       "    </tr>\n",
       "    <tr>\n",
       "      <th>1</th>\n",
       "      <td>2</td>\n",
       "      <td>Cupid</td>\n",
       "      <td>thriller</td>\n",
       "      <td>A brother and sister with a past incestuous r...</td>\n",
       "      <td>1997</td>\n",
       "      <td>['brother', 'sister', 'past', 'incestu', 'rela...</td>\n",
       "      <td>brother sister past incestu relationship curre...</td>\n",
       "      <td>English</td>\n",
       "    </tr>\n",
       "    <tr>\n",
       "      <th>2</th>\n",
       "      <td>3</td>\n",
       "      <td>Young, Wild and Wonderful</td>\n",
       "      <td>adult</td>\n",
       "      <td>As the bus empties the students for their fie...</td>\n",
       "      <td>1980</td>\n",
       "      <td>['bu', 'empti', 'student', 'field', 'trip', 'm...</td>\n",
       "      <td>bu empti student field trip museum natur histo...</td>\n",
       "      <td>English</td>\n",
       "    </tr>\n",
       "    <tr>\n",
       "      <th>3</th>\n",
       "      <td>4</td>\n",
       "      <td>The Secret Sin</td>\n",
       "      <td>drama</td>\n",
       "      <td>To help their unemployed father make ends mee...</td>\n",
       "      <td>1915</td>\n",
       "      <td>['help', 'unemploy', 'father', 'make', 'end', ...</td>\n",
       "      <td>help unemploy father make end meet edith twin ...</td>\n",
       "      <td>English</td>\n",
       "    </tr>\n",
       "    <tr>\n",
       "      <th>4</th>\n",
       "      <td>5</td>\n",
       "      <td>The Unrecovered</td>\n",
       "      <td>drama</td>\n",
       "      <td>The film's title refers not only to the un-re...</td>\n",
       "      <td>2007</td>\n",
       "      <td>['film', 'titl', 'refer', 'un-recov', 'bodi', ...</td>\n",
       "      <td>film titl refer un-recov bodi ground zero also...</td>\n",
       "      <td>English</td>\n",
       "    </tr>\n",
       "    <tr>\n",
       "      <th>...</th>\n",
       "      <td>...</td>\n",
       "      <td>...</td>\n",
       "      <td>...</td>\n",
       "      <td>...</td>\n",
       "      <td>...</td>\n",
       "      <td>...</td>\n",
       "      <td>...</td>\n",
       "      <td>...</td>\n",
       "    </tr>\n",
       "    <tr>\n",
       "      <th>54209</th>\n",
       "      <td>54210</td>\n",
       "      <td>\"Bonino\"</td>\n",
       "      <td>comedy</td>\n",
       "      <td>This short-lived NBC live sitcom centered on ...</td>\n",
       "      <td>1953</td>\n",
       "      <td>['short-liv', 'nbc', 'live', 'sitcom', 'center...</td>\n",
       "      <td>short-liv nbc live sitcom center bonino world-...</td>\n",
       "      <td>English</td>\n",
       "    </tr>\n",
       "    <tr>\n",
       "      <th>54210</th>\n",
       "      <td>54211</td>\n",
       "      <td>Dead Girls Don't Cry</td>\n",
       "      <td>horror</td>\n",
       "      <td>The NEXT Generation of EXPLOITATION. The sist...</td>\n",
       "      <td>????</td>\n",
       "      <td>['next', 'gener', 'exploit', 'sister', 'kapa',...</td>\n",
       "      <td>next gener exploit sister kapa - bay soror hou...</td>\n",
       "      <td>English</td>\n",
       "    </tr>\n",
       "    <tr>\n",
       "      <th>54211</th>\n",
       "      <td>54212</td>\n",
       "      <td>Ronald Goedemondt: Ze bestaan echt</td>\n",
       "      <td>documentary</td>\n",
       "      <td>Ze bestaan echt, is a stand-up comedy about g...</td>\n",
       "      <td>2008</td>\n",
       "      <td>['ze', 'bestaan', 'echt', 'stand-up', 'comedi'...</td>\n",
       "      <td>ze bestaan echt stand-up comedi grow face fear...</td>\n",
       "      <td>English</td>\n",
       "    </tr>\n",
       "    <tr>\n",
       "      <th>54212</th>\n",
       "      <td>54213</td>\n",
       "      <td>Make Your Own Bed</td>\n",
       "      <td>comedy</td>\n",
       "      <td>Walter and Vivian live in the country and hav...</td>\n",
       "      <td>1944</td>\n",
       "      <td>['walter', 'vivian', 'live', 'countri', 'diffi...</td>\n",
       "      <td>walter vivian live countri difficult time keep...</td>\n",
       "      <td>English</td>\n",
       "    </tr>\n",
       "    <tr>\n",
       "      <th>54213</th>\n",
       "      <td>54214</td>\n",
       "      <td>Nature's Fury: Storm of the Century</td>\n",
       "      <td>history</td>\n",
       "      <td>On Labor Day Weekend, 1935, the most intense ...</td>\n",
       "      <td>2006</td>\n",
       "      <td>['labor', 'day', 'weekend', '1935', 'intens', ...</td>\n",
       "      <td>labor day weekend 1935 intens hurrican ever ma...</td>\n",
       "      <td>English</td>\n",
       "    </tr>\n",
       "  </tbody>\n",
       "</table>\n",
       "<p>54214 rows × 8 columns</p>\n",
       "</div>"
      ],
      "text/plain": [
       "          id                                  title        genre  \\\n",
       "0          1                 Oscar et la dame rose         drama   \n",
       "1          2                                 Cupid      thriller   \n",
       "2          3             Young, Wild and Wonderful         adult   \n",
       "3          4                        The Secret Sin         drama   \n",
       "4          5                       The Unrecovered         drama   \n",
       "...      ...                                    ...          ...   \n",
       "54209  54210                              \"Bonino\"        comedy   \n",
       "54210  54211                  Dead Girls Don't Cry        horror   \n",
       "54211  54212    Ronald Goedemondt: Ze bestaan echt   documentary   \n",
       "54212  54213                     Make Your Own Bed        comedy   \n",
       "54213  54214   Nature's Fury: Storm of the Century       history   \n",
       "\n",
       "                                             description  year  \\\n",
       "0       Listening in to a conversation between his do...  2009   \n",
       "1       A brother and sister with a past incestuous r...  1997   \n",
       "2       As the bus empties the students for their fie...  1980   \n",
       "3       To help their unemployed father make ends mee...  1915   \n",
       "4       The film's title refers not only to the un-re...  2007   \n",
       "...                                                  ...   ...   \n",
       "54209   This short-lived NBC live sitcom centered on ...  1953   \n",
       "54210   The NEXT Generation of EXPLOITATION. The sist...  ????   \n",
       "54211   Ze bestaan echt, is a stand-up comedy about g...  2008   \n",
       "54212   Walter and Vivian live in the country and hav...  1944   \n",
       "54213   On Labor Day Weekend, 1935, the most intense ...  2006   \n",
       "\n",
       "                                   processed_description  \\\n",
       "0      ['listen', 'convers', 'doctor', 'parent', '10-...   \n",
       "1      ['brother', 'sister', 'past', 'incestu', 'rela...   \n",
       "2      ['bu', 'empti', 'student', 'field', 'trip', 'm...   \n",
       "3      ['help', 'unemploy', 'father', 'make', 'end', ...   \n",
       "4      ['film', 'titl', 'refer', 'un-recov', 'bodi', ...   \n",
       "...                                                  ...   \n",
       "54209  ['short-liv', 'nbc', 'live', 'sitcom', 'center...   \n",
       "54210  ['next', 'gener', 'exploit', 'sister', 'kapa',...   \n",
       "54211  ['ze', 'bestaan', 'echt', 'stand-up', 'comedi'...   \n",
       "54212  ['walter', 'vivian', 'live', 'countri', 'diffi...   \n",
       "54213  ['labor', 'day', 'weekend', '1935', 'intens', ...   \n",
       "\n",
       "                            processed_description_string language  \n",
       "0      listen convers doctor parent 10-year-old oscar...  English  \n",
       "1      brother sister past incestu relationship curre...  English  \n",
       "2      bu empti student field trip museum natur histo...  English  \n",
       "3      help unemploy father make end meet edith twin ...  English  \n",
       "4      film titl refer un-recov bodi ground zero also...  English  \n",
       "...                                                  ...      ...  \n",
       "54209  short-liv nbc live sitcom center bonino world-...  English  \n",
       "54210  next gener exploit sister kapa - bay soror hou...  English  \n",
       "54211  ze bestaan echt stand-up comedi grow face fear...  English  \n",
       "54212  walter vivian live countri difficult time keep...  English  \n",
       "54213  labor day weekend 1935 intens hurrican ever ma...  English  \n",
       "\n",
       "[54214 rows x 8 columns]"
      ]
     },
     "execution_count": 15,
     "metadata": {},
     "output_type": "execute_result"
    }
   ],
   "source": [
    "data_folder = '../data/processed/'\n",
    "train_df = pd.read_csv(data_folder+'train_data_processed.csv')\n",
    "train_df"
   ]
  },
  {
   "cell_type": "code",
   "execution_count": 27,
   "id": "e2582f03-b313-45e4-bcd6-7cc7ee1c8c97",
   "metadata": {},
   "outputs": [],
   "source": [
    "train_df = train_df[train_df['language']=='English']"
   ]
  },
  {
   "cell_type": "code",
   "execution_count": 28,
   "id": "a6d3a2d0-12ac-484d-ad2d-3ab7570a9764",
   "metadata": {},
   "outputs": [
    {
     "data": {
      "text/plain": [
       "<AxesSubplot:xlabel='count', ylabel='genre'>"
      ]
     },
     "execution_count": 28,
     "metadata": {},
     "output_type": "execute_result"
    },
    {
     "data": {
      "image/png": "[encoded data removed]",
      "text/plain": [
       "<Figure size 640x480 with 1 Axes>"
      ]
     },
     "metadata": {},
     "output_type": "display_data"
    }
   ],
   "source": [
    "sns.countplot(data=train_df, y='genre',order=train_df['genre'].value_counts().index)"
   ]
  },
  {
   "cell_type": "markdown",
   "id": "2b3c0d62-6b1a-41aa-bf14-62ee70e76a2a",
   "metadata": {},
   "source": [
    "### Dealing Data Imbalance with Oversampling"
   ]
  },
  {
   "cell_type": "code",
   "execution_count": 29,
   "id": "b7514aa2-72d3-4fa1-a0e2-907aff615e05",
   "metadata": {},
   "outputs": [],
   "source": [
    "from imblearn.over_sampling import RandomOverSampler"
   ]
  },
  {
   "cell_type": "code",
   "execution_count": 30,
   "id": "5bcea278-7f9b-4915-ae9b-daa19bacb735",
   "metadata": {},
   "outputs": [],
   "source": [
    "X, y = train_df['processed_description_string'],train_df['genre']"
   ]
  },
  {
   "cell_type": "code",
   "execution_count": 46,
   "id": "dfb64568-e688-4744-8787-18d5bfb3b582",
   "metadata": {},
   "outputs": [
    {
     "data": {
      "text/plain": [
       "<AxesSubplot:xlabel='count', ylabel='genre'>"
      ]
     },
     "execution_count": 46,
     "metadata": {},
     "output_type": "execute_result"
    },
    {
     "data": {
      "image/png": "[encoded data removed]",
      "text/plain": [
       "<Figure size 640x480 with 1 Axes>"
      ]
     },
     "metadata": {},
     "output_type": "display_data"
    }
   ],
   "source": [
    "oversample = RandomOverSampler(sampling_strategy='not majority')\n",
    "# fit and apply the transform\n",
    "X_over, y_over = oversample.fit_resample(X.values.reshape(-1,1), y)\n",
    "# summarize class distribution\n",
    "sns.countplot(y=y_over)"
   ]
  },
  {
   "cell_type": "code",
   "execution_count": 56,
   "id": "abf1d395-674f-4dd5-bf8c-ed166e633dde",
   "metadata": {},
   "outputs": [
    {
     "data": {
      "text/html": [
       "<div>\n",
       "<style scoped>\n",
       "    .dataframe tbody tr th:only-of-type {\n",
       "        vertical-align: middle;\n",
       "    }\n",
       "\n",
       "    .dataframe tbody tr th {\n",
       "        vertical-align: top;\n",
       "    }\n",
       "\n",
       "    .dataframe thead th {\n",
       "        text-align: right;\n",
       "    }\n",
       "</style>\n",
       "<table border=\"1\" class=\"dataframe\">\n",
       "  <thead>\n",
       "    <tr style=\"text-align: right;\">\n",
       "      <th></th>\n",
       "      <th>description</th>\n",
       "      <th>genre</th>\n",
       "    </tr>\n",
       "  </thead>\n",
       "  <tbody>\n",
       "    <tr>\n",
       "      <th>0</th>\n",
       "      <td>listen convers doctor parent 10-year-old oscar...</td>\n",
       "      <td>drama</td>\n",
       "    </tr>\n",
       "    <tr>\n",
       "      <th>1</th>\n",
       "      <td>brother sister past incestu relationship curre...</td>\n",
       "      <td>thriller</td>\n",
       "    </tr>\n",
       "    <tr>\n",
       "      <th>2</th>\n",
       "      <td>bu empti student field trip museum natur histo...</td>\n",
       "      <td>adult</td>\n",
       "    </tr>\n",
       "    <tr>\n",
       "      <th>3</th>\n",
       "      <td>help unemploy father make end meet edith twin ...</td>\n",
       "      <td>drama</td>\n",
       "    </tr>\n",
       "    <tr>\n",
       "      <th>4</th>\n",
       "      <td>film titl refer un-recov bodi ground zero also...</td>\n",
       "      <td>drama</td>\n",
       "    </tr>\n",
       "  </tbody>\n",
       "</table>\n",
       "</div>"
      ],
      "text/plain": [
       "                                         description     genre\n",
       "0  listen convers doctor parent 10-year-old oscar...     drama\n",
       "1  brother sister past incestu relationship curre...  thriller\n",
       "2  bu empti student field trip museum natur histo...     adult\n",
       "3  help unemploy father make end meet edith twin ...     drama\n",
       "4  film titl refer un-recov bodi ground zero also...     drama"
      ]
     },
     "execution_count": 56,
     "metadata": {},
     "output_type": "execute_result"
    }
   ],
   "source": [
    "oversampled_df = pd.DataFrame({'description':X_over.reshape(-1),'genre':y_over})\n",
    "oversampled_df.head()"
   ]
  },
  {
   "cell_type": "code",
   "execution_count": 58,
   "id": "5862ee39-eb1b-4331-83d7-2f6421f985af",
   "metadata": {},
   "outputs": [],
   "source": [
    "oversampled_df.to_csv(data_folder+'RandomOverSampled.csv')"
   ]
  },
  {
   "cell_type": "markdown",
   "id": "63d8c023-2952-4a67-8f29-173a63b1e5aa",
   "metadata": {},
   "source": [
    "### TFIDF and LogReg"
   ]
  },
  {
   "cell_type": "code",
   "execution_count": 91,
   "id": "f7ddf025-b3ba-4318-9c59-693f5552dd3d",
   "metadata": {},
   "outputs": [
    {
     "name": "stderr",
     "output_type": "stream",
     "text": [
      "/home/kah3465/anaconda3/envs/jupyter/lib/python3.10/site-packages/sklearn/linear_model/_logistic.py:444: ConvergenceWarning: lbfgs failed to converge (status=1):\n",
      "STOP: TOTAL NO. of ITERATIONS REACHED LIMIT.\n",
      "\n",
      "Increase the number of iterations (max_iter) or scale the data as shown in:\n",
      "    https://scikit-learn.org/stable/modules/preprocessing.html\n",
      "Please also refer to the documentation for alternative solver options:\n",
      "    https://scikit-learn.org/stable/modules/linear_model.html#logistic-regression\n",
      "  n_iter_i = _check_optimize_result(\n"
     ]
    },
    {
     "data": {
      "text/plain": [
       "0.5779697222996192"
      ]
     },
     "execution_count": 91,
     "metadata": {},
     "output_type": "execute_result"
    }
   ],
   "source": [
    "## TFIDF Vectorizer & Logistic Regression\n",
    "from sklearn.linear_model import LogisticRegression\n",
    "from sklearn.model_selection import cross_val_score, StratifiedKFold\n",
    "from sklearn.feature_extraction.text import TfidfVectorizer\n",
    "from sklearn.model_selection import train_test_split\n",
    "from sklearn.metrics import accuracy_score\n",
    "##model\n",
    "model = LogisticRegression()\n",
    "\n",
    "##transform text\n",
    "text_transformer = TfidfVectorizer(max_features=150000)\n",
    "transformed_text = text_transformer.fit_transform(X)\n",
    "X_train, X_test, y_train, y_test = train_test_split(\n",
    "    transformed_text, y, test_size=0.2, random_state=42)\n",
    "\n",
    "# cross_val_score(model, transformed_text,y,cv=5)\n",
    "model.fit(X_train,y_train)\n",
    "preds = model.predict(X_test)\n",
    "accuracy_score(y_test,preds)"
   ]
  },
  {
   "cell_type": "code",
   "execution_count": 82,
   "id": "504422b0-503c-432d-ab05-0fde13d291dd",
   "metadata": {},
   "outputs": [
    {
     "data": {
      "text/plain": [
       "(364122, 92012)"
      ]
     },
     "execution_count": 82,
     "metadata": {},
     "output_type": "execute_result"
    }
   ],
   "source": [
    "transformed_text.shape"
   ]
  },
  {
   "cell_type": "code",
   "execution_count": 83,
   "id": "479b538b-dbb4-4203-b291-251dccfa345e",
   "metadata": {},
   "outputs": [
    {
     "name": "stderr",
     "output_type": "stream",
     "text": [
      "/home/kah3465/anaconda3/envs/jupyter/lib/python3.10/site-packages/sklearn/linear_model/_logistic.py:444: ConvergenceWarning: lbfgs failed to converge (status=1):\n",
      "STOP: TOTAL NO. of ITERATIONS REACHED LIMIT.\n",
      "\n",
      "Increase the number of iterations (max_iter) or scale the data as shown in:\n",
      "    https://scikit-learn.org/stable/modules/preprocessing.html\n",
      "Please also refer to the documentation for alternative solver options:\n",
      "    https://scikit-learn.org/stable/modules/linear_model.html#logistic-regression\n",
      "  n_iter_i = _check_optimize_result(\n"
     ]
    },
    {
     "data": {
      "text/plain": [
       "0.7535989597845268"
      ]
     },
     "execution_count": 83,
     "metadata": {},
     "output_type": "execute_result"
    }
   ],
   "source": [
    "##transform oversampled text\n",
    "\n",
    "text_transformer = TfidfVectorizer(max_features=150000,lowercase=False)\n",
    "transformed_text = text_transformer.fit_transform(X_over.reshape(-1))\n",
    "X_train, X_test_discard, y_train, y_test_discard = train_test_split(\n",
    "    transformed_text, y_over, test_size=0.2, random_state=42)\n",
    "# cross_val_score(model, transformed_text,y_over,cv=5)\n",
    "model.fit(X_train,y_train)\n",
    "preds = model.predict(X_test)\n",
    "accuracy_score(y_test,preds)"
   ]
  },
  {
   "cell_type": "markdown",
   "id": "428bcdc5-9c92-45d9-a5ec-0f48d446e0d3",
   "metadata": {},
   "source": [
    "### Using SMOTE"
   ]
  },
  {
   "cell_type": "code",
   "execution_count": 94,
   "id": "e46ec2d0-126d-4260-b002-d5f60ca5db13",
   "metadata": {},
   "outputs": [],
   "source": [
    "from sklearn.decomposition import PCA\n",
    "from imblearn.over_sampling import SMOTE\n",
    "## pass in number of dimensions to reduce to this function to perform dimension reduction\n",
    "def do_smote(X,y,dim_red = None):\n",
    "    if dim_red != None:\n",
    "        pca = PCA(n_components = dim_red)\n",
    "        X = pca.fit_transform(X.toarray())\n",
    "    smote = SMOTE()\n",
    "    X_smote, y_smote = smote.fit_resample(X, y)\n",
    "    return X_smote,y_smote\n",
    "    "
   ]
  },
  {
   "cell_type": "code",
   "execution_count": 93,
   "id": "f71c0f70-e0fb-4517-a4de-375cde328c61",
   "metadata": {},
   "outputs": [
    {
     "data": {
      "text/plain": [
       "scipy.sparse._csr.csr_matrix"
      ]
     },
     "execution_count": 93,
     "metadata": {},
     "output_type": "execute_result"
    }
   ],
   "source": [
    "type(transformed_text)"
   ]
  },
  {
   "cell_type": "code",
   "execution_count": null,
   "id": "d99e0e6c-6d28-4619-8f97-42c684935c89",
   "metadata": {},
   "outputs": [],
   "source": [
    "##transform text\n",
    "text_transformer = TfidfVectorizer(max_features=150000)\n",
    "transformed_text = text_transformer.fit_transform(X)\n",
    "X_smote,y_smote = do_smote(transformed_text,y,300)\n",
    "X_train, X_test_discard, y_train, y_test_discard = train_test_split(\n",
    "    X_smote, y_smote, test_size=0.2, random_state=42)\n",
    "# cross_val_score(model, transformed_text,y_over,cv=5)\n",
    "model.fit(X_train,y_train)\n",
    "preds = model.predict(X_test)\n",
    "accuracy_score(y_test,preds)"
   ]
  }
 ],
 "metadata": {
  "kernelspec": {
   "display_name": "Python 3 (ipykernel)",
   "language": "python",
   "name": "python3"
  },
  "language_info": {
   "codemirror_mode": {
    "name": "ipython",
    "version": 3
   },
   "file_extension": ".py",
   "mimetype": "text/x-python",
   "name": "python",
   "nbconvert_exporter": "python",
   "pygments_lexer": "ipython3",
   "version": "3.9.13"
  }
 },
 "nbformat": 4,
 "nbformat_minor": 5
}
