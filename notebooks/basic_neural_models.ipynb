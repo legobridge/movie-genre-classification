{
 "cells": [
  {
   "cell_type": "markdown",
   "id": "34c05ca4-57cc-44be-a18d-1b6dd034c1ab",
   "metadata": {},
   "source": [
    "## Imports"
   ]
  },
  {
   "cell_type": "code",
   "execution_count": 12,
   "id": "ef3c1d5c-e603-46b3-8b77-e1a32f015ea7",
   "metadata": {},
   "outputs": [],
   "source": [
    "import pandas as pd\n",
    "import numpy as np\n",
    "import matplotlib.pyplot as plt\n",
    "%matplotlib inline\n",
    "import seaborn as sns"
   ]
  },
  {
   "cell_type": "code",
   "execution_count": 13,
   "id": "3484e51e-2c6e-4c92-96d4-33d076b6dc17",
   "metadata": {},
   "outputs": [],
   "source": [
    "from tensorflow.keras.preprocessing.sequence import pad_sequences\n",
    "from tensorflow.keras.preprocessing.text import Tokenizer\n",
    "from tensorflow.keras.models import Sequential, load_model\n",
    "from tensorflow.keras.layers import Embedding, GRU, LSTM, Dense, Dropout\n",
    "from tensorflow.keras.callbacks import Callback, EarlyStopping"
   ]
  },
  {
   "cell_type": "markdown",
   "id": "9dce3f74-75c2-4b51-87c2-d8c1a7bd1764",
   "metadata": {},
   "source": [
    "## Data Loading"
   ]
  },
  {
   "cell_type": "code",
   "execution_count": 16,
   "id": "b208b334-9cde-44d5-b1e6-98f86c636735",
   "metadata": {
    "tags": []
   },
   "outputs": [
    {
     "data": {
      "text/html": [
       "<div>\n",
       "<style scoped>\n",
       "    .dataframe tbody tr th:only-of-type {\n",
       "        vertical-align: middle;\n",
       "    }\n",
       "\n",
       "    .dataframe tbody tr th {\n",
       "        vertical-align: top;\n",
       "    }\n",
       "\n",
       "    .dataframe thead th {\n",
       "        text-align: right;\n",
       "    }\n",
       "</style>\n",
       "<table border=\"1\" class=\"dataframe\">\n",
       "  <thead>\n",
       "    <tr style=\"text-align: right;\">\n",
       "      <th></th>\n",
       "      <th>title</th>\n",
       "      <th>genre</th>\n",
       "      <th>description</th>\n",
       "      <th>year</th>\n",
       "      <th>processed_description</th>\n",
       "      <th>processed_description_string</th>\n",
       "      <th>language</th>\n",
       "    </tr>\n",
       "    <tr>\n",
       "      <th>id</th>\n",
       "      <th></th>\n",
       "      <th></th>\n",
       "      <th></th>\n",
       "      <th></th>\n",
       "      <th></th>\n",
       "      <th></th>\n",
       "      <th></th>\n",
       "    </tr>\n",
       "  </thead>\n",
       "  <tbody>\n",
       "    <tr>\n",
       "      <th>1</th>\n",
       "      <td>Oscar et la dame rose</td>\n",
       "      <td>drama</td>\n",
       "      <td>Listening in to a conversation between his do...</td>\n",
       "      <td>2009</td>\n",
       "      <td>['listen', 'convers', 'doctor', 'parent', '10-...</td>\n",
       "      <td>listen convers doctor parent 10-year-old oscar...</td>\n",
       "      <td>English</td>\n",
       "    </tr>\n",
       "    <tr>\n",
       "      <th>2</th>\n",
       "      <td>Cupid</td>\n",
       "      <td>thriller</td>\n",
       "      <td>A brother and sister with a past incestuous r...</td>\n",
       "      <td>1997</td>\n",
       "      <td>['brother', 'sister', 'past', 'incestu', 'rela...</td>\n",
       "      <td>brother sister past incestu relationship curre...</td>\n",
       "      <td>English</td>\n",
       "    </tr>\n",
       "    <tr>\n",
       "      <th>3</th>\n",
       "      <td>Young, Wild and Wonderful</td>\n",
       "      <td>adult</td>\n",
       "      <td>As the bus empties the students for their fie...</td>\n",
       "      <td>1980</td>\n",
       "      <td>['bu', 'empti', 'student', 'field', 'trip', 'm...</td>\n",
       "      <td>bu empti student field trip museum natur histo...</td>\n",
       "      <td>English</td>\n",
       "    </tr>\n",
       "    <tr>\n",
       "      <th>4</th>\n",
       "      <td>The Secret Sin</td>\n",
       "      <td>drama</td>\n",
       "      <td>To help their unemployed father make ends mee...</td>\n",
       "      <td>1915</td>\n",
       "      <td>['help', 'unemploy', 'father', 'make', 'end', ...</td>\n",
       "      <td>help unemploy father make end meet edith twin ...</td>\n",
       "      <td>English</td>\n",
       "    </tr>\n",
       "    <tr>\n",
       "      <th>5</th>\n",
       "      <td>The Unrecovered</td>\n",
       "      <td>drama</td>\n",
       "      <td>The film's title refers not only to the un-re...</td>\n",
       "      <td>2007</td>\n",
       "      <td>['film', 'titl', 'refer', 'un-recov', 'bodi', ...</td>\n",
       "      <td>film titl refer un-recov bodi ground zero also...</td>\n",
       "      <td>English</td>\n",
       "    </tr>\n",
       "  </tbody>\n",
       "</table>\n",
       "</div>"
      ],
      "text/plain": [
       "                          title     genre  \\\n",
       "id                                          \n",
       "1        Oscar et la dame rose      drama   \n",
       "2                        Cupid   thriller   \n",
       "3    Young, Wild and Wonderful      adult   \n",
       "4               The Secret Sin      drama   \n",
       "5              The Unrecovered      drama   \n",
       "\n",
       "                                          description  year  \\\n",
       "id                                                            \n",
       "1    Listening in to a conversation between his do...  2009   \n",
       "2    A brother and sister with a past incestuous r...  1997   \n",
       "3    As the bus empties the students for their fie...  1980   \n",
       "4    To help their unemployed father make ends mee...  1915   \n",
       "5    The film's title refers not only to the un-re...  2007   \n",
       "\n",
       "                                processed_description  \\\n",
       "id                                                      \n",
       "1   ['listen', 'convers', 'doctor', 'parent', '10-...   \n",
       "2   ['brother', 'sister', 'past', 'incestu', 'rela...   \n",
       "3   ['bu', 'empti', 'student', 'field', 'trip', 'm...   \n",
       "4   ['help', 'unemploy', 'father', 'make', 'end', ...   \n",
       "5   ['film', 'titl', 'refer', 'un-recov', 'bodi', ...   \n",
       "\n",
       "                         processed_description_string language  \n",
       "id                                                              \n",
       "1   listen convers doctor parent 10-year-old oscar...  English  \n",
       "2   brother sister past incestu relationship curre...  English  \n",
       "3   bu empti student field trip museum natur histo...  English  \n",
       "4   help unemploy father make end meet edith twin ...  English  \n",
       "5   film titl refer un-recov bodi ground zero also...  English  "
      ]
     },
     "execution_count": 16,
     "metadata": {},
     "output_type": "execute_result"
    }
   ],
   "source": [
    "train_df = pd.read_csv('../data/processed/train_data_processed.csv', index_col='id')\n",
    "train_df.head()"
   ]
  },
  {
   "cell_type": "code",
   "execution_count": 17,
   "id": "def9e374-23dd-438a-b7ee-8948cc85b737",
   "metadata": {},
   "outputs": [
    {
     "name": "stdout",
     "output_type": "stream",
     "text": [
      "(54214, 7)\n",
      "(53831, 7)\n"
     ]
    }
   ],
   "source": [
    "# Filter out non-English languages\n",
    "print(train_df.shape)\n",
    "train_df = train_df[train_df['language'] == 'English'].reset_index(drop=True)\n",
    "print(train_df.shape)"
   ]
  },
  {
   "cell_type": "code",
   "execution_count": 18,
   "id": "e8fd8b16-f747-44dd-8bc9-ff44b7801fe5",
   "metadata": {},
   "outputs": [
    {
     "data": {
      "text/html": [
       "<div>\n",
       "<style scoped>\n",
       "    .dataframe tbody tr th:only-of-type {\n",
       "        vertical-align: middle;\n",
       "    }\n",
       "\n",
       "    .dataframe tbody tr th {\n",
       "        vertical-align: top;\n",
       "    }\n",
       "\n",
       "    .dataframe thead th {\n",
       "        text-align: right;\n",
       "    }\n",
       "</style>\n",
       "<table border=\"1\" class=\"dataframe\">\n",
       "  <thead>\n",
       "    <tr style=\"text-align: right;\">\n",
       "      <th></th>\n",
       "      <th>title</th>\n",
       "      <th>genre</th>\n",
       "      <th>description</th>\n",
       "      <th>year</th>\n",
       "      <th>processed_description</th>\n",
       "      <th>processed_description_string</th>\n",
       "      <th>language</th>\n",
       "    </tr>\n",
       "  </thead>\n",
       "  <tbody>\n",
       "    <tr>\n",
       "      <th>29380</th>\n",
       "      <td>Daku Sultana</td>\n",
       "      <td>10</td>\n",
       "      <td>Sultana, a student, is raped by Ratan Singh a...</td>\n",
       "      <td>2000</td>\n",
       "      <td>['sultana', 'student', 'rape', 'ratan', 'singh...</td>\n",
       "      <td>sultana student rape ratan singh thakur vikram...</td>\n",
       "      <td>English</td>\n",
       "    </tr>\n",
       "    <tr>\n",
       "      <th>15320</th>\n",
       "      <td>Lots &amp; Lots of Toy Trains: Model Railroading ...</td>\n",
       "      <td>18</td>\n",
       "      <td>Huge collection of the best non-stop model ra...</td>\n",
       "      <td>2003</td>\n",
       "      <td>['huge', 'collect', 'best', 'non-stop', 'model...</td>\n",
       "      <td>huge collect best non-stop model railroad acti...</td>\n",
       "      <td>English</td>\n",
       "    </tr>\n",
       "    <tr>\n",
       "      <th>38682</th>\n",
       "      <td>\"Empress\"</td>\n",
       "      <td>11</td>\n",
       "      <td>Empress will tell the storied tale of the onl...</td>\n",
       "      <td>2017</td>\n",
       "      <td>['empress', 'tell', 'stori', 'tale', 'femal', ...</td>\n",
       "      <td>empress tell stori tale femal empress histori ...</td>\n",
       "      <td>English</td>\n",
       "    </tr>\n",
       "    <tr>\n",
       "      <th>11221</th>\n",
       "      <td>The New Interns</td>\n",
       "      <td>0</td>\n",
       "      <td>Playboy Alec Considine returns to New North H...</td>\n",
       "      <td>1964</td>\n",
       "      <td>['playboy', 'alec', 'considin', 'return', 'new...</td>\n",
       "      <td>playboy alec considin return new north hospit ...</td>\n",
       "      <td>English</td>\n",
       "    </tr>\n",
       "    <tr>\n",
       "      <th>36297</th>\n",
       "      <td>Nightmare</td>\n",
       "      <td>7</td>\n",
       "      <td>A mental-patient, who is troubled with horrib...</td>\n",
       "      <td>1981</td>\n",
       "      <td>['mental-pati', 'troubl', 'horribl', 'nightmar...</td>\n",
       "      <td>mental-pati troubl horribl nightmar escap hosp...</td>\n",
       "      <td>English</td>\n",
       "    </tr>\n",
       "    <tr>\n",
       "      <th>...</th>\n",
       "      <td>...</td>\n",
       "      <td>...</td>\n",
       "      <td>...</td>\n",
       "      <td>...</td>\n",
       "      <td>...</td>\n",
       "      <td>...</td>\n",
       "      <td>...</td>\n",
       "    </tr>\n",
       "    <tr>\n",
       "      <th>47576</th>\n",
       "      <td>Quitters</td>\n",
       "      <td>4</td>\n",
       "      <td>In the pilot, Chad tries to use subliminal me...</td>\n",
       "      <td>2008</td>\n",
       "      <td>['pilot', 'chad', 'tri', 'use', 'sublimin', 'm...</td>\n",
       "      <td>pilot chad tri use sublimin messag get fiancé ...</td>\n",
       "      <td>English</td>\n",
       "    </tr>\n",
       "    <tr>\n",
       "      <th>47827</th>\n",
       "      <td>Honolulu: 100 Years in the Making</td>\n",
       "      <td>3</td>\n",
       "      <td>Honolulu is one of the greatest cities in the...</td>\n",
       "      <td>2006</td>\n",
       "      <td>['honolulu', 'one', 'greatest', 'citi', 'world...</td>\n",
       "      <td>honolulu one greatest citi world celebr 100th ...</td>\n",
       "      <td>English</td>\n",
       "    </tr>\n",
       "    <tr>\n",
       "      <th>42593</th>\n",
       "      <td>Cenizas del cielo</td>\n",
       "      <td>0</td>\n",
       "      <td>Environmental drama set in Asturias, Spain. A...</td>\n",
       "      <td>2008</td>\n",
       "      <td>['environment', 'drama', 'set', 'asturia', 'sp...</td>\n",
       "      <td>environment drama set asturia spain scottish t...</td>\n",
       "      <td>English</td>\n",
       "    </tr>\n",
       "    <tr>\n",
       "      <th>2156</th>\n",
       "      <td>Two Hats</td>\n",
       "      <td>3</td>\n",
       "      <td>In 1998, Brad and Deborah Wells left the comf...</td>\n",
       "      <td>2012</td>\n",
       "      <td>['1998', 'brad', 'deborah', 'well', 'left', 'c...</td>\n",
       "      <td>1998 brad deborah well left comfort familiar h...</td>\n",
       "      <td>English</td>\n",
       "    </tr>\n",
       "    <tr>\n",
       "      <th>22484</th>\n",
       "      <td>The Phone Ranger</td>\n",
       "      <td>12</td>\n",
       "      <td>Lenny Schnable is a shy telemarketer who fant...</td>\n",
       "      <td>2005</td>\n",
       "      <td>['lenni', 'schnabl', 'shi', 'telemarket', 'fan...</td>\n",
       "      <td>lenni schnabl shi telemarket fantas cowboy pre...</td>\n",
       "      <td>English</td>\n",
       "    </tr>\n",
       "  </tbody>\n",
       "</table>\n",
       "<p>53831 rows × 7 columns</p>\n",
       "</div>"
      ],
      "text/plain": [
       "                                                   title  genre  \\\n",
       "29380                                      Daku Sultana      10   \n",
       "15320   Lots & Lots of Toy Trains: Model Railroading ...     18   \n",
       "38682                                         \"Empress\"      11   \n",
       "11221                                   The New Interns       0   \n",
       "36297                                         Nightmare       7   \n",
       "...                                                  ...    ...   \n",
       "47576                                          Quitters       4   \n",
       "47827                 Honolulu: 100 Years in the Making       3   \n",
       "42593                                 Cenizas del cielo       0   \n",
       "2156                                           Two Hats       3   \n",
       "22484                                  The Phone Ranger      12   \n",
       "\n",
       "                                             description  year  \\\n",
       "29380   Sultana, a student, is raped by Ratan Singh a...  2000   \n",
       "15320   Huge collection of the best non-stop model ra...  2003   \n",
       "38682   Empress will tell the storied tale of the onl...  2017   \n",
       "11221   Playboy Alec Considine returns to New North H...  1964   \n",
       "36297   A mental-patient, who is troubled with horrib...  1981   \n",
       "...                                                  ...   ...   \n",
       "47576   In the pilot, Chad tries to use subliminal me...  2008   \n",
       "47827   Honolulu is one of the greatest cities in the...  2006   \n",
       "42593   Environmental drama set in Asturias, Spain. A...  2008   \n",
       "2156    In 1998, Brad and Deborah Wells left the comf...  2012   \n",
       "22484   Lenny Schnable is a shy telemarketer who fant...  2005   \n",
       "\n",
       "                                   processed_description  \\\n",
       "29380  ['sultana', 'student', 'rape', 'ratan', 'singh...   \n",
       "15320  ['huge', 'collect', 'best', 'non-stop', 'model...   \n",
       "38682  ['empress', 'tell', 'stori', 'tale', 'femal', ...   \n",
       "11221  ['playboy', 'alec', 'considin', 'return', 'new...   \n",
       "36297  ['mental-pati', 'troubl', 'horribl', 'nightmar...   \n",
       "...                                                  ...   \n",
       "47576  ['pilot', 'chad', 'tri', 'use', 'sublimin', 'm...   \n",
       "47827  ['honolulu', 'one', 'greatest', 'citi', 'world...   \n",
       "42593  ['environment', 'drama', 'set', 'asturia', 'sp...   \n",
       "2156   ['1998', 'brad', 'deborah', 'well', 'left', 'c...   \n",
       "22484  ['lenni', 'schnabl', 'shi', 'telemarket', 'fan...   \n",
       "\n",
       "                            processed_description_string language  \n",
       "29380  sultana student rape ratan singh thakur vikram...  English  \n",
       "15320  huge collect best non-stop model railroad acti...  English  \n",
       "38682  empress tell stori tale femal empress histori ...  English  \n",
       "11221  playboy alec considin return new north hospit ...  English  \n",
       "36297  mental-pati troubl horribl nightmar escap hosp...  English  \n",
       "...                                                  ...      ...  \n",
       "47576  pilot chad tri use sublimin messag get fiancé ...  English  \n",
       "47827  honolulu one greatest citi world celebr 100th ...  English  \n",
       "42593  environment drama set asturia spain scottish t...  English  \n",
       "2156   1998 brad deborah well left comfort familiar h...  English  \n",
       "22484  lenni schnabl shi telemarket fantas cowboy pre...  English  \n",
       "\n",
       "[53831 rows x 7 columns]"
      ]
     },
     "execution_count": 18,
     "metadata": {},
     "output_type": "execute_result"
    }
   ],
   "source": [
    "unique_genres = train_df['genre'].unique()\n",
    "genre_encoding = dict([(unique_genres[i], i) for i in range(unique_genres.shape[0])])\n",
    "train_df['genre'] = train_df['genre'].map(genre_encoding)\n",
    "train_df = train_df.sample(frac=1)\n",
    "train_df"
   ]
  },
  {
   "cell_type": "code",
   "execution_count": 19,
   "id": "94b741d1-8175-4b7c-91c8-ff151d4d0e55",
   "metadata": {},
   "outputs": [
    {
     "data": {
      "text/plain": [
       "27"
      ]
     },
     "execution_count": 19,
     "metadata": {},
     "output_type": "execute_result"
    }
   ],
   "source": [
    "num_labels = train_df['genre'].nunique()\n",
    "num_labels"
   ]
  },
  {
   "cell_type": "code",
   "execution_count": 20,
   "id": "6170baee-9fe2-41e0-8694-40ce00bb3d45",
   "metadata": {},
   "outputs": [],
   "source": [
    "x = train_df['processed_description_string'].values\n",
    "y = pd.get_dummies(train_df['genre']).values"
   ]
  },
  {
   "cell_type": "code",
   "execution_count": 21,
   "id": "c66f6cd8-8b38-4061-b155-a6ee802bf9f6",
   "metadata": {},
   "outputs": [],
   "source": [
    "train_set_size = 45000\n",
    "val_set_size = 3000\n",
    "test_set_size = 5000\n",
    "\n",
    "x_train = x[:train_set_size]\n",
    "x_val = x[train_set_size:train_set_size+val_set_size]\n",
    "x_test = x[train_set_size+val_set_size:train_set_size+val_set_size+test_set_size]\n",
    "\n",
    "y_train = y[:train_set_size]\n",
    "y_val = y[train_set_size:train_set_size+val_set_size]\n",
    "y_test = y[train_set_size+val_set_size:train_set_size+val_set_size+test_set_size]"
   ]
  },
  {
   "cell_type": "markdown",
   "id": "613c1f0c-639a-4d43-8994-8e5e4020664e",
   "metadata": {},
   "source": [
    "## Tokenization"
   ]
  },
  {
   "cell_type": "code",
   "execution_count": 22,
   "id": "18604f3f-ef64-47a3-8f0a-ece2358dc21d",
   "metadata": {},
   "outputs": [],
   "source": [
    "num_words = 2**9\n",
    "max_len = 2**5\n",
    "\n",
    "tokenizer = Tokenizer(num_words=num_words, filters='!\"#$%&()*+,-./:;<=>?@[\\]^_`{|}~', lower=True)\n",
    "tokenizer.fit_on_texts(x_train)\n",
    "\n",
    "x_train = tokenizer.texts_to_sequences(x_train)\n",
    "x_train = pad_sequences(x_train, maxlen=max_len)\n",
    "\n",
    "x_val = tokenizer.texts_to_sequences(x_val)\n",
    "x_val = pad_sequences(x_val, maxlen=max_len)\n",
    "\n",
    "x_test = tokenizer.texts_to_sequences(x_test)\n",
    "x_test = pad_sequences(x_test, maxlen=max_len)"
   ]
  },
  {
   "cell_type": "markdown",
   "id": "ea9b83df-6297-4028-9867-13015e77c8d3",
   "metadata": {
    "tags": []
   },
   "source": [
    "## NN Training"
   ]
  },
  {
   "cell_type": "code",
   "execution_count": 23,
   "id": "60c5fd39-9263-4f8c-b14e-1a7b33fa3d53",
   "metadata": {},
   "outputs": [],
   "source": [
    "# model = load_model('../models/nn_model')\n",
    "model = Sequential()\n",
    "model.add(Dense(128))\n",
    "model.add(Dropout(0.1))\n",
    "model.add(Dense(256))\n",
    "model.add(Dropout(0.1))\n",
    "model.add(Dense(256))\n",
    "model.add(Dropout(0.1))\n",
    "model.add(Dense(128))\n",
    "model.add(Dropout(0.1))\n",
    "model.add(Dense(num_labels, activation='softmax'))\n",
    "model.compile(loss='categorical_crossentropy', optimizer='adam', metrics=['accuracy'])"
   ]
  },
  {
   "cell_type": "code",
   "execution_count": 24,
   "id": "210e306e-8bc7-4898-995e-ae52e2525b43",
   "metadata": {},
   "outputs": [
    {
     "name": "stdout",
     "output_type": "stream",
     "text": [
      "Epoch 1/50\n",
      "   1/1407 [..............................] - ETA: 11:17 - loss: 299.9420 - accuracy: 0.0312"
     ]
    },
    {
     "name": "stderr",
     "output_type": "stream",
     "text": [
      "2022-11-05 12:03:24.718551: I tensorflow/core/grappler/optimizers/custom_graph_optimizer_registry.cc:114] Plugin optimizer for device_type GPU is enabled.\n"
     ]
    },
    {
     "name": "stdout",
     "output_type": "stream",
     "text": [
      "1407/1407 [==============================] - ETA: 0s - loss: 24.5915 - accuracy: 0.1484"
     ]
    },
    {
     "name": "stderr",
     "output_type": "stream",
     "text": [
      "2022-11-05 12:03:38.863642: I tensorflow/core/grappler/optimizers/custom_graph_optimizer_registry.cc:114] Plugin optimizer for device_type GPU is enabled.\n"
     ]
    },
    {
     "name": "stdout",
     "output_type": "stream",
     "text": [
      "1407/1407 [==============================] - 15s 10ms/step - loss: 24.5915 - accuracy: 0.1484 - val_loss: 3.3133 - val_accuracy: 0.2287\n",
      "Epoch 2/50\n",
      "1407/1407 [==============================] - 15s 10ms/step - loss: 3.7648 - accuracy: 0.1769 - val_loss: 2.4794 - val_accuracy: 0.2590\n",
      "Epoch 3/50\n",
      "1407/1407 [==============================] - 14s 10ms/step - loss: 2.8107 - accuracy: 0.2081 - val_loss: 2.3694 - val_accuracy: 0.2710\n",
      "Epoch 4/50\n",
      "1407/1407 [==============================] - 15s 10ms/step - loss: 2.5571 - accuracy: 0.2352 - val_loss: 2.3593 - val_accuracy: 0.2600\n",
      "Epoch 5/50\n",
      "1407/1407 [==============================] - 15s 11ms/step - loss: 2.4695 - accuracy: 0.2444 - val_loss: 2.3724 - val_accuracy: 0.2693\n",
      "Epoch 6/50\n",
      "1407/1407 [==============================] - 14s 10ms/step - loss: 2.4341 - accuracy: 0.2485 - val_loss: 2.3805 - val_accuracy: 0.2670\n",
      "Epoch 7/50\n",
      "1407/1407 [==============================] - 14s 10ms/step - loss: 2.4157 - accuracy: 0.2456 - val_loss: 2.3625 - val_accuracy: 0.2550\n",
      "Epoch 8/50\n",
      "1407/1407 [==============================] - 14s 10ms/step - loss: 2.3993 - accuracy: 0.2460 - val_loss: 2.3443 - val_accuracy: 0.2700\n",
      "Epoch 9/50\n",
      "1407/1407 [==============================] - 14s 10ms/step - loss: 2.3826 - accuracy: 0.2485 - val_loss: 2.3284 - val_accuracy: 0.2630\n",
      "Epoch 10/50\n",
      "1407/1407 [==============================] - 14s 10ms/step - loss: 2.3720 - accuracy: 0.2533 - val_loss: 2.3154 - val_accuracy: 0.2537\n",
      "Epoch 11/50\n",
      "1407/1407 [==============================] - 14s 10ms/step - loss: 2.3656 - accuracy: 0.2528 - val_loss: 2.3142 - val_accuracy: 0.2477\n",
      "Epoch 12/50\n",
      "1407/1407 [==============================] - 14s 10ms/step - loss: 2.3628 - accuracy: 0.2515 - val_loss: 2.3140 - val_accuracy: 0.2613\n",
      "Epoch 13/50\n",
      "1407/1407 [==============================] - 14s 10ms/step - loss: 2.3582 - accuracy: 0.2483 - val_loss: 2.3170 - val_accuracy: 0.2617\n",
      "Epoch 14/50\n",
      "1407/1407 [==============================] - 14s 10ms/step - loss: 2.3598 - accuracy: 0.2482 - val_loss: 2.3324 - val_accuracy: 0.2620\n",
      "Epoch 15/50\n",
      "1407/1407 [==============================] - 14s 10ms/step - loss: 2.3580 - accuracy: 0.2504 - val_loss: 2.3171 - val_accuracy: 0.2620\n",
      "Epoch 16/50\n",
      "1407/1407 [==============================] - 14s 10ms/step - loss: 2.3566 - accuracy: 0.2522 - val_loss: 2.3216 - val_accuracy: 0.2570\n",
      "Epoch 17/50\n",
      "1407/1407 [==============================] - 15s 11ms/step - loss: 2.3587 - accuracy: 0.2529 - val_loss: 2.3224 - val_accuracy: 0.2613\n"
     ]
    }
   ],
   "source": [
    "my_callbacks  = [EarlyStopping(monitor='val_loss',\n",
    "                              min_delta=0,\n",
    "                              patience=5,\n",
    "                              mode='auto')]\n",
    "\n",
    "history = model.fit(x_train, y_train,\n",
    "                    epochs=50, batch_size=32,\n",
    "                    validation_data=(x_val, y_val),\n",
    "                    callbacks=my_callbacks,\n",
    "                    verbose=1\n",
    "                   )"
   ]
  },
  {
   "cell_type": "markdown",
   "id": "cdefc411-e534-472f-bad8-809842980b04",
   "metadata": {
    "tags": []
   },
   "source": [
    "## NN Evaluation"
   ]
  },
  {
   "cell_type": "code",
   "execution_count": 25,
   "id": "124155d6-3b04-4bcf-984f-b57240047044",
   "metadata": {},
   "outputs": [
    {
     "name": "stdout",
     "output_type": "stream",
     "text": [
      "157/157 [==============================] - 1s 7ms/step - loss: 2.3810 - accuracy: 0.2396\n"
     ]
    },
    {
     "data": {
      "text/plain": [
       "[2.3809874057769775, 0.2396000176668167]"
      ]
     },
     "execution_count": 25,
     "metadata": {},
     "output_type": "execute_result"
    }
   ],
   "source": [
    "model.evaluate(x_test, y_test)"
   ]
  },
  {
   "cell_type": "code",
   "execution_count": 26,
   "id": "f19bf30e-fbe3-494a-bf2c-09c03894abda",
   "metadata": {},
   "outputs": [
    {
     "name": "stdout",
     "output_type": "stream",
     "text": [
      "INFO:tensorflow:Assets written to: ../models/nn_model/assets\n"
     ]
    }
   ],
   "source": [
    "model.save('../models/nn_model')"
   ]
  },
  {
   "cell_type": "markdown",
   "id": "c4f717d2-41c2-4ca6-8e75-a862d6c85f04",
   "metadata": {
    "tags": []
   },
   "source": [
    "## GRU Training"
   ]
  },
  {
   "cell_type": "code",
   "execution_count": 27,
   "id": "0b1c06b1-f06b-4ed0-b105-1c10fe4f6aed",
   "metadata": {},
   "outputs": [],
   "source": [
    "EMBEDDING_DIM = 2**5\n",
    "\n",
    "# model = load_model('../models/gru_model')\n",
    "model = Sequential()\n",
    "model.add(Embedding(num_words, EMBEDDING_DIM, input_length=x_train.shape[1]))\n",
    "model.add(GRU(256, dropout=0.1))\n",
    "model.add(Dense(num_labels, activation='softmax'))\n",
    "model.compile(loss='categorical_crossentropy', optimizer='adam', metrics=['accuracy'])"
   ]
  },
  {
   "cell_type": "code",
   "execution_count": 28,
   "id": "93151ace-c098-4b88-a5e3-d30e0200d34a",
   "metadata": {},
   "outputs": [
    {
     "name": "stdout",
     "output_type": "stream",
     "text": [
      "Epoch 1/20\n"
     ]
    },
    {
     "name": "stderr",
     "output_type": "stream",
     "text": [
      "2022-11-05 12:07:31.553806: I tensorflow/core/grappler/optimizers/custom_graph_optimizer_registry.cc:114] Plugin optimizer for device_type GPU is enabled.\n",
      "2022-11-05 12:07:31.724471: I tensorflow/core/grappler/optimizers/custom_graph_optimizer_registry.cc:114] Plugin optimizer for device_type GPU is enabled.\n"
     ]
    },
    {
     "name": "stdout",
     "output_type": "stream",
     "text": [
      "   1/1407 [..............................] - ETA: 31:15 - loss: 3.2947 - accuracy: 0.0938"
     ]
    },
    {
     "name": "stderr",
     "output_type": "stream",
     "text": [
      "2022-11-05 12:07:31.879906: I tensorflow/core/grappler/optimizers/custom_graph_optimizer_registry.cc:114] Plugin optimizer for device_type GPU is enabled.\n"
     ]
    },
    {
     "name": "stdout",
     "output_type": "stream",
     "text": [
      "1407/1407 [==============================] - ETA: 0s - loss: 2.0639 - accuracy: 0.3910"
     ]
    },
    {
     "name": "stderr",
     "output_type": "stream",
     "text": [
      "2022-11-05 12:08:02.621399: I tensorflow/core/grappler/optimizers/custom_graph_optimizer_registry.cc:114] Plugin optimizer for device_type GPU is enabled.\n",
      "2022-11-05 12:08:02.674566: I tensorflow/core/grappler/optimizers/custom_graph_optimizer_registry.cc:114] Plugin optimizer for device_type GPU is enabled.\n"
     ]
    },
    {
     "name": "stdout",
     "output_type": "stream",
     "text": [
      "1407/1407 [==============================] - 33s 23ms/step - loss: 2.0639 - accuracy: 0.3910 - val_loss: 1.8599 - val_accuracy: 0.4590\n",
      "Epoch 2/20\n",
      "1407/1407 [==============================] - 30s 21ms/step - loss: 1.8284 - accuracy: 0.4681 - val_loss: 1.7831 - val_accuracy: 0.4700\n",
      "Epoch 3/20\n",
      "1407/1407 [==============================] - 30s 22ms/step - loss: 1.7671 - accuracy: 0.4787 - val_loss: 1.7424 - val_accuracy: 0.4877\n",
      "Epoch 4/20\n",
      "1407/1407 [==============================] - 30s 22ms/step - loss: 1.7137 - accuracy: 0.4918 - val_loss: 1.7167 - val_accuracy: 0.4920\n",
      "Epoch 5/20\n",
      "1407/1407 [==============================] - 29s 21ms/step - loss: 1.6650 - accuracy: 0.5027 - val_loss: 1.6750 - val_accuracy: 0.4980\n",
      "Epoch 6/20\n",
      "1407/1407 [==============================] - 29s 21ms/step - loss: 1.6490 - accuracy: 0.5066 - val_loss: 1.6525 - val_accuracy: 0.5060\n",
      "Epoch 7/20\n",
      "1407/1407 [==============================] - 29s 21ms/step - loss: 1.6097 - accuracy: 0.5127 - val_loss: 1.6383 - val_accuracy: 0.5070\n",
      "Epoch 8/20\n",
      "1407/1407 [==============================] - 29s 21ms/step - loss: 1.5908 - accuracy: 0.5172 - val_loss: 1.6464 - val_accuracy: 0.5027\n",
      "Epoch 9/20\n",
      "1407/1407 [==============================] - 30s 21ms/step - loss: 1.5679 - accuracy: 0.5225 - val_loss: 1.6539 - val_accuracy: 0.5020\n",
      "Epoch 10/20\n",
      "1407/1407 [==============================] - 29s 21ms/step - loss: 1.5529 - accuracy: 0.5246 - val_loss: 1.6459 - val_accuracy: 0.5110\n",
      "Epoch 11/20\n",
      "1407/1407 [==============================] - 29s 21ms/step - loss: 1.5239 - accuracy: 0.5322 - val_loss: 1.6564 - val_accuracy: 0.4977\n",
      "Epoch 12/20\n",
      "1407/1407 [==============================] - 29s 21ms/step - loss: 1.4998 - accuracy: 0.5375 - val_loss: 1.6944 - val_accuracy: 0.4970\n"
     ]
    }
   ],
   "source": [
    "my_callbacks  = [EarlyStopping(monitor='val_loss',\n",
    "                              min_delta=0,\n",
    "                              patience=5,\n",
    "                              mode='auto')]\n",
    "\n",
    "history = model.fit(x_train, y_train,\n",
    "                    epochs=20, batch_size=32,\n",
    "                    validation_data=(x_val, y_val),\n",
    "                    callbacks=my_callbacks,\n",
    "                    verbose=1\n",
    "                   )"
   ]
  },
  {
   "cell_type": "markdown",
   "id": "488a18af-7552-4b75-ae6c-79ab0fbe355a",
   "metadata": {
    "tags": []
   },
   "source": [
    "## GRU Evaluation"
   ]
  },
  {
   "cell_type": "code",
   "execution_count": 29,
   "id": "a344ab72-728b-4a5f-929f-0ab55c350ccf",
   "metadata": {},
   "outputs": [
    {
     "name": "stdout",
     "output_type": "stream",
     "text": [
      "157/157 [==============================] - 2s 11ms/step - loss: 1.7046 - accuracy: 0.4936\n"
     ]
    },
    {
     "data": {
      "text/plain": [
       "[1.7046022415161133, 0.4936000108718872]"
      ]
     },
     "execution_count": 29,
     "metadata": {},
     "output_type": "execute_result"
    }
   ],
   "source": [
    "model.evaluate(x_test, y_test)"
   ]
  },
  {
   "cell_type": "code",
   "execution_count": 30,
   "id": "075d9669-d3b6-467f-8128-1faccf2daf40",
   "metadata": {},
   "outputs": [
    {
     "name": "stderr",
     "output_type": "stream",
     "text": [
      "WARNING:absl:Found untraced functions such as gru_cell_layer_call_fn, gru_cell_layer_call_and_return_conditional_losses while saving (showing 2 of 2). These functions will not be directly callable after loading.\n"
     ]
    },
    {
     "name": "stdout",
     "output_type": "stream",
     "text": [
      "INFO:tensorflow:Assets written to: ../models/gru_model/assets\n"
     ]
    },
    {
     "name": "stderr",
     "output_type": "stream",
     "text": [
      "INFO:tensorflow:Assets written to: ../models/gru_model/assets\n"
     ]
    }
   ],
   "source": [
    "model.save('../models/gru_model')"
   ]
  },
  {
   "cell_type": "markdown",
   "id": "ce3f6b6a-7209-4ddb-900c-db9eca5878fe",
   "metadata": {
    "tags": []
   },
   "source": [
    "## LSTM Training"
   ]
  },
  {
   "cell_type": "code",
   "execution_count": 31,
   "id": "36526f8a-ee11-4206-9b79-df208ef193f4",
   "metadata": {},
   "outputs": [],
   "source": [
    "EMBEDDING_DIM = 2**5\n",
    "\n",
    "# model = load_model('../models/lstm_model')\n",
    "model = Sequential()\n",
    "model.add(Embedding(num_words, EMBEDDING_DIM, input_length=x_train.shape[1]))\n",
    "model.add(LSTM(64, dropout=0.1))\n",
    "model.add(Dense(num_labels, activation='softmax'))\n",
    "model.compile(loss='categorical_crossentropy', optimizer='adam', metrics=['accuracy'])"
   ]
  },
  {
   "cell_type": "code",
   "execution_count": 32,
   "id": "057cbd29-de46-4520-a226-b664a7183d7a",
   "metadata": {},
   "outputs": [
    {
     "name": "stdout",
     "output_type": "stream",
     "text": [
      "Epoch 1/10\n"
     ]
    },
    {
     "name": "stderr",
     "output_type": "stream",
     "text": [
      "2022-11-05 12:13:35.971314: I tensorflow/core/grappler/optimizers/custom_graph_optimizer_registry.cc:114] Plugin optimizer for device_type GPU is enabled.\n",
      "2022-11-05 12:13:36.112186: I tensorflow/core/grappler/optimizers/custom_graph_optimizer_registry.cc:114] Plugin optimizer for device_type GPU is enabled.\n"
     ]
    },
    {
     "name": "stdout",
     "output_type": "stream",
     "text": [
      "   1/1407 [..............................] - ETA: 34:08 - loss: 3.2961 - accuracy: 0.0625"
     ]
    },
    {
     "name": "stderr",
     "output_type": "stream",
     "text": [
      "2022-11-05 12:13:36.241207: I tensorflow/core/grappler/optimizers/custom_graph_optimizer_registry.cc:114] Plugin optimizer for device_type GPU is enabled.\n"
     ]
    },
    {
     "name": "stdout",
     "output_type": "stream",
     "text": [
      "1407/1407 [==============================] - ETA: 0s - loss: 2.0526 - accuracy: 0.4076"
     ]
    },
    {
     "name": "stderr",
     "output_type": "stream",
     "text": [
      "2022-11-05 12:14:04.328096: I tensorflow/core/grappler/optimizers/custom_graph_optimizer_registry.cc:114] Plugin optimizer for device_type GPU is enabled.\n",
      "2022-11-05 12:14:04.385657: I tensorflow/core/grappler/optimizers/custom_graph_optimizer_registry.cc:114] Plugin optimizer for device_type GPU is enabled.\n"
     ]
    },
    {
     "name": "stdout",
     "output_type": "stream",
     "text": [
      "1407/1407 [==============================] - 31s 21ms/step - loss: 2.0526 - accuracy: 0.4076 - val_loss: 1.8295 - val_accuracy: 0.4683\n",
      "Epoch 2/10\n",
      "1407/1407 [==============================] - 28s 20ms/step - loss: 1.8058 - accuracy: 0.4716 - val_loss: 1.7713 - val_accuracy: 0.4780\n",
      "Epoch 3/10\n",
      "1407/1407 [==============================] - 28s 20ms/step - loss: 1.7547 - accuracy: 0.4837 - val_loss: 1.7258 - val_accuracy: 0.4917\n",
      "Epoch 4/10\n",
      "1407/1407 [==============================] - 29s 20ms/step - loss: 1.6882 - accuracy: 0.4982 - val_loss: 1.6715 - val_accuracy: 0.5047\n",
      "Epoch 5/10\n",
      "1407/1407 [==============================] - 28s 20ms/step - loss: 1.6373 - accuracy: 0.5088 - val_loss: 1.6511 - val_accuracy: 0.5080\n",
      "Epoch 6/10\n",
      "1407/1407 [==============================] - 28s 20ms/step - loss: 1.6070 - accuracy: 0.5168 - val_loss: 1.6356 - val_accuracy: 0.5080\n",
      "Epoch 7/10\n",
      "1407/1407 [==============================] - 28s 20ms/step - loss: 1.5839 - accuracy: 0.5186 - val_loss: 1.6272 - val_accuracy: 0.5110\n",
      "Epoch 8/10\n",
      "1407/1407 [==============================] - 28s 20ms/step - loss: 1.5588 - accuracy: 0.5266 - val_loss: 1.6327 - val_accuracy: 0.5220\n",
      "Epoch 9/10\n",
      "1407/1407 [==============================] - 29s 20ms/step - loss: 1.5373 - accuracy: 0.5322 - val_loss: 1.6211 - val_accuracy: 0.5167\n",
      "Epoch 10/10\n",
      "1407/1407 [==============================] - 28s 20ms/step - loss: 1.5179 - accuracy: 0.5323 - val_loss: 1.6074 - val_accuracy: 0.5147\n"
     ]
    }
   ],
   "source": [
    "my_callbacks  = [EarlyStopping(monitor='val_loss',\n",
    "                              min_delta=0,\n",
    "                              patience=3,\n",
    "                              mode='auto')]\n",
    "\n",
    "history = model.fit(x_train, y_train,\n",
    "                    epochs=10, batch_size=32,\n",
    "                    validation_data=(x_val, y_val),\n",
    "                    callbacks=my_callbacks,\n",
    "                    verbose=1\n",
    "                   )"
   ]
  },
  {
   "cell_type": "markdown",
   "id": "28bfb1e0-4b89-4744-b76f-747b3bafba22",
   "metadata": {
    "tags": []
   },
   "source": [
    "## LSTM Evaluation"
   ]
  },
  {
   "cell_type": "code",
   "execution_count": 33,
   "id": "6877371f-f1e6-437a-8976-642caa31252c",
   "metadata": {},
   "outputs": [
    {
     "name": "stdout",
     "output_type": "stream",
     "text": [
      "157/157 [==============================] - 2s 12ms/step - loss: 1.6312 - accuracy: 0.5042\n"
     ]
    },
    {
     "data": {
      "text/plain": [
       "[1.6311513185501099, 0.5042000412940979]"
      ]
     },
     "execution_count": 33,
     "metadata": {},
     "output_type": "execute_result"
    }
   ],
   "source": [
    "model.evaluate(x_test, y_test)"
   ]
  },
  {
   "cell_type": "code",
   "execution_count": 34,
   "id": "85ef9f67-7a21-4f7b-9635-e49bd1a21d07",
   "metadata": {},
   "outputs": [
    {
     "name": "stderr",
     "output_type": "stream",
     "text": [
      "WARNING:absl:Found untraced functions such as lstm_cell_layer_call_fn, lstm_cell_layer_call_and_return_conditional_losses while saving (showing 2 of 2). These functions will not be directly callable after loading.\n"
     ]
    },
    {
     "name": "stdout",
     "output_type": "stream",
     "text": [
      "INFO:tensorflow:Assets written to: ../models/lstm_model/assets\n"
     ]
    },
    {
     "name": "stderr",
     "output_type": "stream",
     "text": [
      "INFO:tensorflow:Assets written to: ../models/lstm_model/assets\n"
     ]
    }
   ],
   "source": [
    "model.save('../models/lstm_model')"
   ]
  }
 ],
 "metadata": {
  "kernelspec": {
   "display_name": "Python 3 (ipykernel)",
   "language": "python",
   "name": "python3"
  },
  "language_info": {
   "codemirror_mode": {
    "name": "ipython",
    "version": 3
   },
   "file_extension": ".py",
   "mimetype": "text/x-python",
   "name": "python",
   "nbconvert_exporter": "python",
   "pygments_lexer": "ipython3",
   "version": "3.9.13"
  }
 },
 "nbformat": 4,
 "nbformat_minor": 5
}
