{
 "cells": [
  {
   "cell_type": "markdown",
   "id": "34c05ca4-57cc-44be-a18d-1b6dd034c1ab",
   "metadata": {},
   "source": [
    "## Imports"
   ]
  },
  {
   "cell_type": "code",
   "execution_count": 1,
   "id": "ef3c1d5c-e603-46b3-8b77-e1a32f015ea7",
   "metadata": {},
   "outputs": [],
   "source": [
    "import pandas as pd\n",
    "import numpy as np\n",
    "import matplotlib.pyplot as plt\n",
    "%matplotlib inline\n",
    "import seaborn as sns"
   ]
  },
  {
   "cell_type": "code",
   "execution_count": 2,
   "id": "3484e51e-2c6e-4c92-96d4-33d076b6dc17",
   "metadata": {},
   "outputs": [],
   "source": [
    "from tensorflow.keras.preprocessing.sequence import pad_sequences\n",
    "from tensorflow.keras.preprocessing.text import Tokenizer\n",
    "from tensorflow.keras.models import Sequential, load_model\n",
    "from tensorflow.keras.layers import Embedding, GRU, LSTM, Dense, Dropout\n",
    "from tensorflow.keras.callbacks import Callback, EarlyStopping"
   ]
  },
  {
   "cell_type": "code",
   "execution_count": 3,
   "id": "8a70c17e-0f51-48f2-b542-cdab3cbacd7a",
   "metadata": {},
   "outputs": [
    {
     "name": "stderr",
     "output_type": "stream",
     "text": [
      "2022-11-29 21:58:46.816980: I tensorflow/stream_executor/cuda/cuda_gpu_executor.cc:936] successful NUMA node read from SysFS had negative value (-1), but there must be at least one NUMA node, so returning NUMA node zero\n"
     ]
    }
   ],
   "source": [
    "import tensorflow as tf\n",
    "physical_devices = tf.config.list_physical_devices('GPU')\n",
    "tf.config.experimental.set_memory_growth(physical_devices[0], enable=True)"
   ]
  },
  {
   "cell_type": "markdown",
   "id": "9dce3f74-75c2-4b51-87c2-d8c1a7bd1764",
   "metadata": {},
   "source": [
    "## Data Loading"
   ]
  },
  {
   "cell_type": "code",
   "execution_count": 4,
   "id": "b208b334-9cde-44d5-b1e6-98f86c636735",
   "metadata": {
    "tags": []
   },
   "outputs": [
    {
     "data": {
      "text/html": [
       "<div>\n",
       "<style scoped>\n",
       "    .dataframe tbody tr th:only-of-type {\n",
       "        vertical-align: middle;\n",
       "    }\n",
       "\n",
       "    .dataframe tbody tr th {\n",
       "        vertical-align: top;\n",
       "    }\n",
       "\n",
       "    .dataframe thead th {\n",
       "        text-align: right;\n",
       "    }\n",
       "</style>\n",
       "<table border=\"1\" class=\"dataframe\">\n",
       "  <thead>\n",
       "    <tr style=\"text-align: right;\">\n",
       "      <th></th>\n",
       "      <th>title</th>\n",
       "      <th>genre</th>\n",
       "      <th>description</th>\n",
       "      <th>year</th>\n",
       "      <th>processed_description</th>\n",
       "      <th>processed_description_string</th>\n",
       "      <th>language</th>\n",
       "    </tr>\n",
       "    <tr>\n",
       "      <th>id</th>\n",
       "      <th></th>\n",
       "      <th></th>\n",
       "      <th></th>\n",
       "      <th></th>\n",
       "      <th></th>\n",
       "      <th></th>\n",
       "      <th></th>\n",
       "    </tr>\n",
       "  </thead>\n",
       "  <tbody>\n",
       "    <tr>\n",
       "      <th>1</th>\n",
       "      <td>Oscar et la dame rose</td>\n",
       "      <td>drama</td>\n",
       "      <td>Listening in to a conversation between his do...</td>\n",
       "      <td>2009</td>\n",
       "      <td>['listen', 'convers', 'doctor', 'parent', '10-...</td>\n",
       "      <td>listen convers doctor parent 10-year-old oscar...</td>\n",
       "      <td>English</td>\n",
       "    </tr>\n",
       "    <tr>\n",
       "      <th>2</th>\n",
       "      <td>Cupid</td>\n",
       "      <td>thriller</td>\n",
       "      <td>A brother and sister with a past incestuous r...</td>\n",
       "      <td>1997</td>\n",
       "      <td>['brother', 'sister', 'past', 'incestu', 'rela...</td>\n",
       "      <td>brother sister past incestu relationship curre...</td>\n",
       "      <td>English</td>\n",
       "    </tr>\n",
       "    <tr>\n",
       "      <th>3</th>\n",
       "      <td>Young, Wild and Wonderful</td>\n",
       "      <td>adult</td>\n",
       "      <td>As the bus empties the students for their fie...</td>\n",
       "      <td>1980</td>\n",
       "      <td>['bu', 'empti', 'student', 'field', 'trip', 'm...</td>\n",
       "      <td>bu empti student field trip museum natur histo...</td>\n",
       "      <td>English</td>\n",
       "    </tr>\n",
       "    <tr>\n",
       "      <th>4</th>\n",
       "      <td>The Secret Sin</td>\n",
       "      <td>drama</td>\n",
       "      <td>To help their unemployed father make ends mee...</td>\n",
       "      <td>1915</td>\n",
       "      <td>['help', 'unemploy', 'father', 'make', 'end', ...</td>\n",
       "      <td>help unemploy father make end meet edith twin ...</td>\n",
       "      <td>English</td>\n",
       "    </tr>\n",
       "    <tr>\n",
       "      <th>5</th>\n",
       "      <td>The Unrecovered</td>\n",
       "      <td>drama</td>\n",
       "      <td>The film's title refers not only to the un-re...</td>\n",
       "      <td>2007</td>\n",
       "      <td>['film', 'titl', 'refer', 'un-recov', 'bodi', ...</td>\n",
       "      <td>film titl refer un-recov bodi ground zero also...</td>\n",
       "      <td>English</td>\n",
       "    </tr>\n",
       "  </tbody>\n",
       "</table>\n",
       "</div>"
      ],
      "text/plain": [
       "                          title     genre  \\\n",
       "id                                          \n",
       "1        Oscar et la dame rose      drama   \n",
       "2                        Cupid   thriller   \n",
       "3    Young, Wild and Wonderful      adult   \n",
       "4               The Secret Sin      drama   \n",
       "5              The Unrecovered      drama   \n",
       "\n",
       "                                          description  year  \\\n",
       "id                                                            \n",
       "1    Listening in to a conversation between his do...  2009   \n",
       "2    A brother and sister with a past incestuous r...  1997   \n",
       "3    As the bus empties the students for their fie...  1980   \n",
       "4    To help their unemployed father make ends mee...  1915   \n",
       "5    The film's title refers not only to the un-re...  2007   \n",
       "\n",
       "                                processed_description  \\\n",
       "id                                                      \n",
       "1   ['listen', 'convers', 'doctor', 'parent', '10-...   \n",
       "2   ['brother', 'sister', 'past', 'incestu', 'rela...   \n",
       "3   ['bu', 'empti', 'student', 'field', 'trip', 'm...   \n",
       "4   ['help', 'unemploy', 'father', 'make', 'end', ...   \n",
       "5   ['film', 'titl', 'refer', 'un-recov', 'bodi', ...   \n",
       "\n",
       "                         processed_description_string language  \n",
       "id                                                              \n",
       "1   listen convers doctor parent 10-year-old oscar...  English  \n",
       "2   brother sister past incestu relationship curre...  English  \n",
       "3   bu empti student field trip museum natur histo...  English  \n",
       "4   help unemploy father make end meet edith twin ...  English  \n",
       "5   film titl refer un-recov bodi ground zero also...  English  "
      ]
     },
     "execution_count": 4,
     "metadata": {},
     "output_type": "execute_result"
    }
   ],
   "source": [
    "train_df = pd.read_csv('../data/processed/train_data_processed.csv', index_col='id')\n",
    "train_df.head()"
   ]
  },
  {
   "cell_type": "code",
   "execution_count": 5,
   "id": "def9e374-23dd-438a-b7ee-8948cc85b737",
   "metadata": {},
   "outputs": [
    {
     "name": "stdout",
     "output_type": "stream",
     "text": [
      "(54214, 7)\n",
      "(53831, 7)\n"
     ]
    }
   ],
   "source": [
    "# Filter out non-English languages\n",
    "print(train_df.shape)\n",
    "train_df = train_df[train_df['language'] == 'English'].reset_index(drop=True)\n",
    "print(train_df.shape)"
   ]
  },
  {
   "cell_type": "code",
   "execution_count": 6,
   "id": "e8fd8b16-f747-44dd-8bc9-ff44b7801fe5",
   "metadata": {},
   "outputs": [
    {
     "data": {
      "text/html": [
       "<div>\n",
       "<style scoped>\n",
       "    .dataframe tbody tr th:only-of-type {\n",
       "        vertical-align: middle;\n",
       "    }\n",
       "\n",
       "    .dataframe tbody tr th {\n",
       "        vertical-align: top;\n",
       "    }\n",
       "\n",
       "    .dataframe thead th {\n",
       "        text-align: right;\n",
       "    }\n",
       "</style>\n",
       "<table border=\"1\" class=\"dataframe\">\n",
       "  <thead>\n",
       "    <tr style=\"text-align: right;\">\n",
       "      <th></th>\n",
       "      <th>title</th>\n",
       "      <th>genre</th>\n",
       "      <th>description</th>\n",
       "      <th>year</th>\n",
       "      <th>processed_description</th>\n",
       "      <th>processed_description_string</th>\n",
       "      <th>language</th>\n",
       "    </tr>\n",
       "  </thead>\n",
       "  <tbody>\n",
       "    <tr>\n",
       "      <th>27882</th>\n",
       "      <td>Hee</td>\n",
       "      <td>12</td>\n",
       "      <td>HEE is a short experimental and subjective fi...</td>\n",
       "      <td>2009</td>\n",
       "      <td>['hee', 'short', 'experiment', 'subject', 'fil...</td>\n",
       "      <td>hee short experiment subject film explor creat...</td>\n",
       "      <td>English</td>\n",
       "    </tr>\n",
       "    <tr>\n",
       "      <th>358</th>\n",
       "      <td>Hit (20</td>\n",
       "      <td>0</td>\n",
       "      <td>Baji is a top notch underground fighting dire...</td>\n",
       "      <td>1/II</td>\n",
       "      <td>['baji', 'top', 'notch', 'underground', 'fight...</td>\n",
       "      <td>baji top notch underground fight director know...</td>\n",
       "      <td>English</td>\n",
       "    </tr>\n",
       "    <tr>\n",
       "      <th>51765</th>\n",
       "      <td>A1C: Agents 1st Class</td>\n",
       "      <td>10</td>\n",
       "      <td>Charlize is a world-class scientist in charge...</td>\n",
       "      <td>2016</td>\n",
       "      <td>['charliz', 'world-class', 'scientist', 'charg...</td>\n",
       "      <td>charliz world-class scientist charg three worl...</td>\n",
       "      <td>English</td>\n",
       "    </tr>\n",
       "    <tr>\n",
       "      <th>20198</th>\n",
       "      <td>La fleur d'oranger</td>\n",
       "      <td>4</td>\n",
       "      <td>Not content to be an austere judge, M. de Mér...</td>\n",
       "      <td>1932</td>\n",
       "      <td>['content', 'auster', 'judg', 'de', 'méricourt...</td>\n",
       "      <td>content auster judg de méricourt also domest t...</td>\n",
       "      <td>English</td>\n",
       "    </tr>\n",
       "    <tr>\n",
       "      <th>7736</th>\n",
       "      <td>Morning Echo</td>\n",
       "      <td>12</td>\n",
       "      <td>The Moffatts are in trouble. Their sick young...</td>\n",
       "      <td>2010</td>\n",
       "      <td>['moffatt', 'troubl', 'sick', 'young', 'daught...</td>\n",
       "      <td>moffatt troubl sick young daughter franni almo...</td>\n",
       "      <td>English</td>\n",
       "    </tr>\n",
       "    <tr>\n",
       "      <th>...</th>\n",
       "      <td>...</td>\n",
       "      <td>...</td>\n",
       "      <td>...</td>\n",
       "      <td>...</td>\n",
       "      <td>...</td>\n",
       "      <td>...</td>\n",
       "      <td>...</td>\n",
       "    </tr>\n",
       "    <tr>\n",
       "      <th>14009</th>\n",
       "      <td>Lake Placid: An Olympic History</td>\n",
       "      <td>3</td>\n",
       "      <td>Twenty-six years after the U.S. Hockey Team s...</td>\n",
       "      <td>2006</td>\n",
       "      <td>['twenty-six', 'year', 'us', 'hockey', 'team',...</td>\n",
       "      <td>twenty-six year us hockey team shock heavily-f...</td>\n",
       "      <td>English</td>\n",
       "    </tr>\n",
       "    <tr>\n",
       "      <th>31857</th>\n",
       "      <td>Townhouse</td>\n",
       "      <td>4</td>\n",
       "      <td>Jack Madigan is, by many accounts, blessed. H...</td>\n",
       "      <td>????</td>\n",
       "      <td>['jack', 'madigan', 'mani', 'account', 'bless'...</td>\n",
       "      <td>jack madigan mani account bless still effortle...</td>\n",
       "      <td>English</td>\n",
       "    </tr>\n",
       "    <tr>\n",
       "      <th>42845</th>\n",
       "      <td>Agnee</td>\n",
       "      <td>10</td>\n",
       "      <td>Tanisha (Played by Mahiya Mahi) is a incognit...</td>\n",
       "      <td>2014</td>\n",
       "      <td>['tanisha', 'play', 'mahiya', 'mahi', 'incogni...</td>\n",
       "      <td>tanisha play mahiya mahi incognito serial kill...</td>\n",
       "      <td>English</td>\n",
       "    </tr>\n",
       "    <tr>\n",
       "      <th>45895</th>\n",
       "      <td>\"4Jim\"</td>\n",
       "      <td>0</td>\n",
       "      <td>The 19 year old dutch Jim has been diagnosed ...</td>\n",
       "      <td>2015</td>\n",
       "      <td>['19', 'year', 'old', 'dutch', 'jim', 'diagnos...</td>\n",
       "      <td>19 year old dutch jim diagnos cancer undergon ...</td>\n",
       "      <td>English</td>\n",
       "    </tr>\n",
       "    <tr>\n",
       "      <th>51987</th>\n",
       "      <td>Kanika</td>\n",
       "      <td>7</td>\n",
       "      <td>One renowned and reputed doctor encounters un...</td>\n",
       "      <td>2017</td>\n",
       "      <td>['one', 'renown', 'reput', 'doctor', 'encount'...</td>\n",
       "      <td>one renown reput doctor encount unusu paranorm...</td>\n",
       "      <td>English</td>\n",
       "    </tr>\n",
       "  </tbody>\n",
       "</table>\n",
       "<p>53831 rows × 7 columns</p>\n",
       "</div>"
      ],
      "text/plain": [
       "                                   title  genre  \\\n",
       "27882                               Hee      12   \n",
       "358                              Hit (20      0   \n",
       "51765             A1C: Agents 1st Class      10   \n",
       "20198                La fleur d'oranger       4   \n",
       "7736                       Morning Echo      12   \n",
       "...                                  ...    ...   \n",
       "14009   Lake Placid: An Olympic History       3   \n",
       "31857                         Townhouse       4   \n",
       "42845                             Agnee      10   \n",
       "45895                            \"4Jim\"       0   \n",
       "51987                            Kanika       7   \n",
       "\n",
       "                                             description  year  \\\n",
       "27882   HEE is a short experimental and subjective fi...  2009   \n",
       "358     Baji is a top notch underground fighting dire...  1/II   \n",
       "51765   Charlize is a world-class scientist in charge...  2016   \n",
       "20198   Not content to be an austere judge, M. de Mér...  1932   \n",
       "7736    The Moffatts are in trouble. Their sick young...  2010   \n",
       "...                                                  ...   ...   \n",
       "14009   Twenty-six years after the U.S. Hockey Team s...  2006   \n",
       "31857   Jack Madigan is, by many accounts, blessed. H...  ????   \n",
       "42845   Tanisha (Played by Mahiya Mahi) is a incognit...  2014   \n",
       "45895   The 19 year old dutch Jim has been diagnosed ...  2015   \n",
       "51987   One renowned and reputed doctor encounters un...  2017   \n",
       "\n",
       "                                   processed_description  \\\n",
       "27882  ['hee', 'short', 'experiment', 'subject', 'fil...   \n",
       "358    ['baji', 'top', 'notch', 'underground', 'fight...   \n",
       "51765  ['charliz', 'world-class', 'scientist', 'charg...   \n",
       "20198  ['content', 'auster', 'judg', 'de', 'méricourt...   \n",
       "7736   ['moffatt', 'troubl', 'sick', 'young', 'daught...   \n",
       "...                                                  ...   \n",
       "14009  ['twenty-six', 'year', 'us', 'hockey', 'team',...   \n",
       "31857  ['jack', 'madigan', 'mani', 'account', 'bless'...   \n",
       "42845  ['tanisha', 'play', 'mahiya', 'mahi', 'incogni...   \n",
       "45895  ['19', 'year', 'old', 'dutch', 'jim', 'diagnos...   \n",
       "51987  ['one', 'renown', 'reput', 'doctor', 'encount'...   \n",
       "\n",
       "                            processed_description_string language  \n",
       "27882  hee short experiment subject film explor creat...  English  \n",
       "358    baji top notch underground fight director know...  English  \n",
       "51765  charliz world-class scientist charg three worl...  English  \n",
       "20198  content auster judg de méricourt also domest t...  English  \n",
       "7736   moffatt troubl sick young daughter franni almo...  English  \n",
       "...                                                  ...      ...  \n",
       "14009  twenty-six year us hockey team shock heavily-f...  English  \n",
       "31857  jack madigan mani account bless still effortle...  English  \n",
       "42845  tanisha play mahiya mahi incognito serial kill...  English  \n",
       "45895  19 year old dutch jim diagnos cancer undergon ...  English  \n",
       "51987  one renown reput doctor encount unusu paranorm...  English  \n",
       "\n",
       "[53831 rows x 7 columns]"
      ]
     },
     "execution_count": 6,
     "metadata": {},
     "output_type": "execute_result"
    }
   ],
   "source": [
    "unique_genres = train_df['genre'].unique()\n",
    "genre_encoding = dict([(unique_genres[i], i) for i in range(unique_genres.shape[0])])\n",
    "train_df['genre'] = train_df['genre'].map(genre_encoding)\n",
    "train_df = train_df.sample(frac=1)\n",
    "train_df"
   ]
  },
  {
   "cell_type": "code",
   "execution_count": 7,
   "id": "94b741d1-8175-4b7c-91c8-ff151d4d0e55",
   "metadata": {},
   "outputs": [
    {
     "data": {
      "text/plain": [
       "27"
      ]
     },
     "execution_count": 7,
     "metadata": {},
     "output_type": "execute_result"
    }
   ],
   "source": [
    "num_labels = train_df['genre'].nunique()\n",
    "num_labels"
   ]
  },
  {
   "cell_type": "code",
   "execution_count": 8,
   "id": "6170baee-9fe2-41e0-8694-40ce00bb3d45",
   "metadata": {},
   "outputs": [],
   "source": [
    "x = train_df['processed_description_string'].values\n",
    "y = pd.get_dummies(train_df['genre']).values"
   ]
  },
  {
   "cell_type": "code",
   "execution_count": 9,
   "id": "c66f6cd8-8b38-4061-b155-a6ee802bf9f6",
   "metadata": {},
   "outputs": [],
   "source": [
    "train_set_size = 45000\n",
    "val_set_size = 3000\n",
    "test_set_size = 5000\n",
    "\n",
    "x_train = x[:train_set_size]\n",
    "x_val = x[train_set_size:train_set_size+val_set_size]\n",
    "x_test = x[train_set_size+val_set_size:train_set_size+val_set_size+test_set_size]\n",
    "\n",
    "y_train = y[:train_set_size]\n",
    "y_val = y[train_set_size:train_set_size+val_set_size]\n",
    "y_test = y[train_set_size+val_set_size:train_set_size+val_set_size+test_set_size]"
   ]
  },
  {
   "cell_type": "markdown",
   "id": "613c1f0c-639a-4d43-8994-8e5e4020664e",
   "metadata": {},
   "source": [
    "## Tokenization"
   ]
  },
  {
   "cell_type": "code",
   "execution_count": 10,
   "id": "18604f3f-ef64-47a3-8f0a-ece2358dc21d",
   "metadata": {},
   "outputs": [],
   "source": [
    "num_words = 2**8\n",
    "max_len = 2**4\n",
    "\n",
    "tokenizer = Tokenizer(num_words=num_words, filters='!\"#$%&()*+,-./:;<=>?@[\\]^_`{|}~', lower=True)\n",
    "tokenizer.fit_on_texts(x_train)\n",
    "\n",
    "x_train = tokenizer.texts_to_sequences(x_train)\n",
    "x_train = pad_sequences(x_train, maxlen=max_len)\n",
    "\n",
    "x_val = tokenizer.texts_to_sequences(x_val)\n",
    "x_val = pad_sequences(x_val, maxlen=max_len)\n",
    "\n",
    "x_test = tokenizer.texts_to_sequences(x_test)\n",
    "x_test = pad_sequences(x_test, maxlen=max_len)"
   ]
  },
  {
   "cell_type": "markdown",
   "id": "ea9b83df-6297-4028-9867-13015e77c8d3",
   "metadata": {
    "tags": []
   },
   "source": [
    "## NN Training"
   ]
  },
  {
   "cell_type": "code",
   "execution_count": 11,
   "id": "60c5fd39-9263-4f8c-b14e-1a7b33fa3d53",
   "metadata": {},
   "outputs": [],
   "source": [
    "# model = load_model('../models/nn_model')\n",
    "model = Sequential()\n",
    "model.add(Dense(128))\n",
    "model.add(Dropout(0.1))\n",
    "model.add(Dense(256))\n",
    "model.add(Dropout(0.1))\n",
    "model.add(Dense(256))\n",
    "model.add(Dropout(0.1))\n",
    "model.add(Dense(128))\n",
    "model.add(Dropout(0.1))\n",
    "model.add(Dense(num_labels, activation='softmax'))\n",
    "model.compile(loss='categorical_crossentropy', optimizer='adam', metrics=['accuracy'])"
   ]
  },
  {
   "cell_type": "code",
   "execution_count": 12,
   "id": "210e306e-8bc7-4898-995e-ae52e2525b43",
   "metadata": {},
   "outputs": [
    {
     "name": "stdout",
     "output_type": "stream",
     "text": [
      "Epoch 1/50\n",
      "1407/1407 [==============================] - 3s 2ms/step - loss: 11.3854 - accuracy: 0.1559 - val_loss: 2.5834 - val_accuracy: 0.2430\n",
      "Epoch 2/50\n",
      "1407/1407 [==============================] - 2s 2ms/step - loss: 2.8158 - accuracy: 0.2089 - val_loss: 2.3989 - val_accuracy: 0.2540\n",
      "Epoch 3/50\n",
      "1407/1407 [==============================] - 2s 2ms/step - loss: 2.5018 - accuracy: 0.2414 - val_loss: 2.3709 - val_accuracy: 0.2527\n",
      "Epoch 4/50\n",
      "1407/1407 [==============================] - 2s 2ms/step - loss: 2.4325 - accuracy: 0.2494 - val_loss: 2.3939 - val_accuracy: 0.2387\n",
      "Epoch 5/50\n",
      "1407/1407 [==============================] - 2s 2ms/step - loss: 2.4035 - accuracy: 0.2502 - val_loss: 2.3888 - val_accuracy: 0.2503\n",
      "Epoch 6/50\n",
      "1407/1407 [==============================] - 2s 2ms/step - loss: 2.3880 - accuracy: 0.2496 - val_loss: 2.3732 - val_accuracy: 0.2417\n",
      "Epoch 7/50\n",
      "1407/1407 [==============================] - 2s 2ms/step - loss: 2.3767 - accuracy: 0.2509 - val_loss: 2.3682 - val_accuracy: 0.2473\n",
      "Epoch 8/50\n",
      "1407/1407 [==============================] - 2s 2ms/step - loss: 2.3695 - accuracy: 0.2504 - val_loss: 2.3766 - val_accuracy: 0.2517\n",
      "Epoch 9/50\n",
      "1407/1407 [==============================] - 2s 2ms/step - loss: 2.3655 - accuracy: 0.2527 - val_loss: 2.3600 - val_accuracy: 0.2447\n",
      "Epoch 10/50\n",
      "1407/1407 [==============================] - 2s 2ms/step - loss: 2.3611 - accuracy: 0.2530 - val_loss: 2.3587 - val_accuracy: 0.2483\n",
      "Epoch 11/50\n",
      "1407/1407 [==============================] - 2s 2ms/step - loss: 2.3589 - accuracy: 0.2523 - val_loss: 2.3534 - val_accuracy: 0.2590\n",
      "Epoch 12/50\n",
      "1407/1407 [==============================] - 2s 2ms/step - loss: 2.3570 - accuracy: 0.2507 - val_loss: 2.3510 - val_accuracy: 0.2580\n",
      "Epoch 13/50\n",
      "1407/1407 [==============================] - 2s 2ms/step - loss: 2.3561 - accuracy: 0.2503 - val_loss: 2.3477 - val_accuracy: 0.2337\n",
      "Epoch 14/50\n",
      "1407/1407 [==============================] - 2s 2ms/step - loss: 2.3554 - accuracy: 0.2491 - val_loss: 2.3505 - val_accuracy: 0.2530\n",
      "Epoch 15/50\n",
      "1407/1407 [==============================] - 2s 2ms/step - loss: 2.3566 - accuracy: 0.2471 - val_loss: 2.3520 - val_accuracy: 0.2580\n",
      "Epoch 16/50\n",
      "1407/1407 [==============================] - 2s 2ms/step - loss: 2.3543 - accuracy: 0.2478 - val_loss: 2.3559 - val_accuracy: 0.2500\n",
      "Epoch 17/50\n",
      "1407/1407 [==============================] - 2s 2ms/step - loss: 2.3546 - accuracy: 0.2504 - val_loss: 2.3541 - val_accuracy: 0.2517\n",
      "Epoch 18/50\n",
      "1407/1407 [==============================] - 2s 2ms/step - loss: 2.3534 - accuracy: 0.2501 - val_loss: 2.3680 - val_accuracy: 0.2417\n"
     ]
    }
   ],
   "source": [
    "my_callbacks  = [EarlyStopping(monitor='val_loss',\n",
    "                              min_delta=0,\n",
    "                              patience=5,\n",
    "                              mode='auto')]\n",
    "\n",
    "history = model.fit(x_train, y_train,\n",
    "                    epochs=50, batch_size=32,\n",
    "                    validation_data=(x_val, y_val),\n",
    "                    callbacks=my_callbacks,\n",
    "                    verbose=1\n",
    "                   )"
   ]
  },
  {
   "cell_type": "markdown",
   "id": "cdefc411-e534-472f-bad8-809842980b04",
   "metadata": {
    "tags": []
   },
   "source": [
    "## NN Evaluation"
   ]
  },
  {
   "cell_type": "code",
   "execution_count": 13,
   "id": "124155d6-3b04-4bcf-984f-b57240047044",
   "metadata": {},
   "outputs": [
    {
     "name": "stdout",
     "output_type": "stream",
     "text": [
      "157/157 [==============================] - 0s 1ms/step - loss: 2.3520 - accuracy: 0.2458\n"
     ]
    },
    {
     "data": {
      "text/plain": [
       "[2.351977825164795, 0.24580000340938568]"
      ]
     },
     "execution_count": 13,
     "metadata": {},
     "output_type": "execute_result"
    }
   ],
   "source": [
    "model.evaluate(x_test, y_test)"
   ]
  },
  {
   "cell_type": "code",
   "execution_count": 14,
   "id": "f19bf30e-fbe3-494a-bf2c-09c03894abda",
   "metadata": {},
   "outputs": [
    {
     "name": "stdout",
     "output_type": "stream",
     "text": [
      "INFO:tensorflow:Assets written to: ../models/nn_model/assets\n"
     ]
    }
   ],
   "source": [
    "model.save('../models/nn_model')"
   ]
  },
  {
   "cell_type": "markdown",
   "id": "c4f717d2-41c2-4ca6-8e75-a862d6c85f04",
   "metadata": {
    "tags": []
   },
   "source": [
    "## GRU Training"
   ]
  },
  {
   "cell_type": "code",
   "execution_count": 15,
   "id": "0b1c06b1-f06b-4ed0-b105-1c10fe4f6aed",
   "metadata": {},
   "outputs": [],
   "source": [
    "EMBEDDING_DIM = 2**4\n",
    "\n",
    "# model = load_model('../models/gru_model')\n",
    "model = Sequential()\n",
    "model.add(Embedding(num_words, EMBEDDING_DIM, input_length=x_train.shape[1]))\n",
    "model.add(GRU(256, dropout=0.1))\n",
    "model.add(Dense(num_labels, activation='softmax'))\n",
    "model.compile(loss='categorical_crossentropy', optimizer='adam', metrics=['accuracy'])"
   ]
  },
  {
   "cell_type": "code",
   "execution_count": 16,
   "id": "93151ace-c098-4b88-a5e3-d30e0200d34a",
   "metadata": {},
   "outputs": [
    {
     "name": "stdout",
     "output_type": "stream",
     "text": [
      "Epoch 1/20\n",
      "1407/1407 [==============================] - 6s 3ms/step - loss: 2.0908 - accuracy: 0.3908 - val_loss: 1.9788 - val_accuracy: 0.4123\n",
      "Epoch 2/20\n",
      "1407/1407 [==============================] - 4s 3ms/step - loss: 1.9360 - accuracy: 0.4313 - val_loss: 1.8918 - val_accuracy: 0.4397\n",
      "Epoch 3/20\n",
      "1407/1407 [==============================] - 4s 3ms/step - loss: 1.8748 - accuracy: 0.4420 - val_loss: 1.8610 - val_accuracy: 0.4470\n",
      "Epoch 4/20\n",
      "1407/1407 [==============================] - 4s 3ms/step - loss: 1.8382 - accuracy: 0.4486 - val_loss: 1.8286 - val_accuracy: 0.4587\n",
      "Epoch 5/20\n",
      "1407/1407 [==============================] - 4s 3ms/step - loss: 1.8158 - accuracy: 0.4539 - val_loss: 1.8163 - val_accuracy: 0.4537\n",
      "Epoch 6/20\n",
      "1407/1407 [==============================] - 4s 3ms/step - loss: 1.7965 - accuracy: 0.4567 - val_loss: 1.8053 - val_accuracy: 0.4520\n",
      "Epoch 7/20\n",
      "1407/1407 [==============================] - 4s 3ms/step - loss: 1.7767 - accuracy: 0.4592 - val_loss: 1.7891 - val_accuracy: 0.4563\n",
      "Epoch 8/20\n",
      "1407/1407 [==============================] - 4s 3ms/step - loss: 1.7563 - accuracy: 0.4644 - val_loss: 1.7838 - val_accuracy: 0.4547\n",
      "Epoch 9/20\n",
      "1407/1407 [==============================] - 4s 3ms/step - loss: 1.7362 - accuracy: 0.4689 - val_loss: 1.7865 - val_accuracy: 0.4507\n",
      "Epoch 10/20\n",
      "1407/1407 [==============================] - 4s 3ms/step - loss: 1.7163 - accuracy: 0.4723 - val_loss: 1.7764 - val_accuracy: 0.4573\n",
      "Epoch 11/20\n",
      "1407/1407 [==============================] - 4s 3ms/step - loss: 1.6936 - accuracy: 0.4750 - val_loss: 1.7846 - val_accuracy: 0.4510\n",
      "Epoch 12/20\n",
      "1407/1407 [==============================] - 4s 3ms/step - loss: 1.6661 - accuracy: 0.4838 - val_loss: 1.7915 - val_accuracy: 0.4500\n",
      "Epoch 13/20\n",
      "1407/1407 [==============================] - 4s 3ms/step - loss: 1.6344 - accuracy: 0.4906 - val_loss: 1.8083 - val_accuracy: 0.4453\n",
      "Epoch 14/20\n",
      "1407/1407 [==============================] - 4s 3ms/step - loss: 1.6000 - accuracy: 0.4989 - val_loss: 1.8070 - val_accuracy: 0.4500\n",
      "Epoch 15/20\n",
      "1407/1407 [==============================] - 4s 3ms/step - loss: 1.5653 - accuracy: 0.5073 - val_loss: 1.8431 - val_accuracy: 0.4453\n"
     ]
    }
   ],
   "source": [
    "my_callbacks  = [EarlyStopping(monitor='val_loss',\n",
    "                              min_delta=0,\n",
    "                              patience=5,\n",
    "                              mode='auto')]\n",
    "\n",
    "history = model.fit(x_train, y_train,\n",
    "                    epochs=20, batch_size=32,\n",
    "                    validation_data=(x_val, y_val),\n",
    "                    callbacks=my_callbacks,\n",
    "                    verbose=1\n",
    "                   )"
   ]
  },
  {
   "cell_type": "markdown",
   "id": "488a18af-7552-4b75-ae6c-79ab0fbe355a",
   "metadata": {
    "tags": []
   },
   "source": [
    "## GRU Evaluation"
   ]
  },
  {
   "cell_type": "code",
   "execution_count": 17,
   "id": "a344ab72-728b-4a5f-929f-0ab55c350ccf",
   "metadata": {},
   "outputs": [
    {
     "name": "stdout",
     "output_type": "stream",
     "text": [
      "157/157 [==============================] - 0s 2ms/step - loss: 1.8584 - accuracy: 0.4474\n"
     ]
    },
    {
     "data": {
      "text/plain": [
       "[1.858354091644287, 0.4474000036716461]"
      ]
     },
     "execution_count": 17,
     "metadata": {},
     "output_type": "execute_result"
    }
   ],
   "source": [
    "model.evaluate(x_test, y_test)"
   ]
  },
  {
   "cell_type": "code",
   "execution_count": 18,
   "id": "075d9669-d3b6-467f-8128-1faccf2daf40",
   "metadata": {},
   "outputs": [
    {
     "name": "stderr",
     "output_type": "stream",
     "text": [
      "WARNING:absl:Found untraced functions such as gru_cell_layer_call_fn, gru_cell_layer_call_and_return_conditional_losses while saving (showing 2 of 2). These functions will not be directly callable after loading.\n"
     ]
    },
    {
     "name": "stdout",
     "output_type": "stream",
     "text": [
      "INFO:tensorflow:Assets written to: ../models/gru_model/assets\n"
     ]
    },
    {
     "name": "stderr",
     "output_type": "stream",
     "text": [
      "INFO:tensorflow:Assets written to: ../models/gru_model/assets\n",
      "WARNING:absl:<keras.layers.recurrent.GRUCell object at 0x7ff434031520> has the same name 'GRUCell' as a built-in Keras object. Consider renaming <class 'keras.layers.recurrent.GRUCell'> to avoid naming conflicts when loading with `tf.keras.models.load_model`. If renaming is not possible, pass the object in the `custom_objects` parameter of the load function.\n"
     ]
    }
   ],
   "source": [
    "model.save('../models/gru_model')"
   ]
  },
  {
   "cell_type": "markdown",
   "id": "ce3f6b6a-7209-4ddb-900c-db9eca5878fe",
   "metadata": {
    "tags": []
   },
   "source": [
    "## LSTM Training"
   ]
  },
  {
   "cell_type": "code",
   "execution_count": 19,
   "id": "36526f8a-ee11-4206-9b79-df208ef193f4",
   "metadata": {},
   "outputs": [],
   "source": [
    "EMBEDDING_DIM = 2**5\n",
    "\n",
    "# model = load_model('../models/lstm_model')\n",
    "model = Sequential()\n",
    "model.add(Embedding(num_words, EMBEDDING_DIM, input_length=x_train.shape[1]))\n",
    "model.add(LSTM(64, dropout=0.1))\n",
    "model.add(Dense(num_labels, activation='softmax'))\n",
    "model.compile(loss='categorical_crossentropy', optimizer='adam', metrics=['accuracy'])"
   ]
  },
  {
   "cell_type": "code",
   "execution_count": 20,
   "id": "057cbd29-de46-4520-a226-b664a7183d7a",
   "metadata": {},
   "outputs": [
    {
     "name": "stdout",
     "output_type": "stream",
     "text": [
      "Epoch 1/10\n",
      "1407/1407 [==============================] - 5s 3ms/step - loss: 2.0834 - accuracy: 0.3967 - val_loss: 1.9598 - val_accuracy: 0.4333\n",
      "Epoch 2/10\n",
      "1407/1407 [==============================] - 4s 3ms/step - loss: 1.9156 - accuracy: 0.4371 - val_loss: 1.8795 - val_accuracy: 0.4373\n",
      "Epoch 3/10\n",
      "1407/1407 [==============================] - 4s 2ms/step - loss: 1.8611 - accuracy: 0.4453 - val_loss: 1.8456 - val_accuracy: 0.4507\n",
      "Epoch 4/10\n",
      "1407/1407 [==============================] - 4s 3ms/step - loss: 1.8272 - accuracy: 0.4520 - val_loss: 1.8268 - val_accuracy: 0.4523\n",
      "Epoch 5/10\n",
      "1407/1407 [==============================] - 4s 3ms/step - loss: 1.8061 - accuracy: 0.4574 - val_loss: 1.8049 - val_accuracy: 0.4550\n",
      "Epoch 6/10\n",
      "1407/1407 [==============================] - 4s 3ms/step - loss: 1.7886 - accuracy: 0.4590 - val_loss: 1.8017 - val_accuracy: 0.4507\n",
      "Epoch 7/10\n",
      "1407/1407 [==============================] - 4s 3ms/step - loss: 1.7736 - accuracy: 0.4608 - val_loss: 1.7889 - val_accuracy: 0.4620\n",
      "Epoch 8/10\n",
      "1407/1407 [==============================] - 4s 3ms/step - loss: 1.7572 - accuracy: 0.4646 - val_loss: 1.7831 - val_accuracy: 0.4577\n",
      "Epoch 9/10\n",
      "1407/1407 [==============================] - 4s 2ms/step - loss: 1.7415 - accuracy: 0.4676 - val_loss: 1.7855 - val_accuracy: 0.4597\n",
      "Epoch 10/10\n",
      "1407/1407 [==============================] - 4s 3ms/step - loss: 1.7277 - accuracy: 0.4707 - val_loss: 1.7896 - val_accuracy: 0.4513\n"
     ]
    }
   ],
   "source": [
    "my_callbacks  = [EarlyStopping(monitor='val_loss',\n",
    "                              min_delta=0,\n",
    "                              patience=3,\n",
    "                              mode='auto')]\n",
    "\n",
    "history = model.fit(x_train, y_train,\n",
    "                    epochs=10, batch_size=32,\n",
    "                    validation_data=(x_val, y_val),\n",
    "                    callbacks=my_callbacks,\n",
    "                    verbose=1\n",
    "                   )"
   ]
  },
  {
   "cell_type": "markdown",
   "id": "28bfb1e0-4b89-4744-b76f-747b3bafba22",
   "metadata": {
    "tags": []
   },
   "source": [
    "## LSTM Evaluation"
   ]
  },
  {
   "cell_type": "code",
   "execution_count": 21,
   "id": "6877371f-f1e6-437a-8976-642caa31252c",
   "metadata": {},
   "outputs": [
    {
     "name": "stdout",
     "output_type": "stream",
     "text": [
      "157/157 [==============================] - 0s 2ms/step - loss: 1.7835 - accuracy: 0.4640\n"
     ]
    },
    {
     "data": {
      "text/plain": [
       "[1.7835195064544678, 0.46399998664855957]"
      ]
     },
     "execution_count": 21,
     "metadata": {},
     "output_type": "execute_result"
    }
   ],
   "source": [
    "model.evaluate(x_test, y_test)"
   ]
  },
  {
   "cell_type": "code",
   "execution_count": 22,
   "id": "85ef9f67-7a21-4f7b-9635-e49bd1a21d07",
   "metadata": {},
   "outputs": [
    {
     "name": "stderr",
     "output_type": "stream",
     "text": [
      "WARNING:absl:Found untraced functions such as lstm_cell_layer_call_fn, lstm_cell_layer_call_and_return_conditional_losses while saving (showing 2 of 2). These functions will not be directly callable after loading.\n"
     ]
    },
    {
     "name": "stdout",
     "output_type": "stream",
     "text": [
      "INFO:tensorflow:Assets written to: ../models/lstm_model/assets\n"
     ]
    },
    {
     "name": "stderr",
     "output_type": "stream",
     "text": [
      "INFO:tensorflow:Assets written to: ../models/lstm_model/assets\n",
      "WARNING:absl:<keras.layers.recurrent.LSTMCell object at 0x7ff4184b18e0> has the same name 'LSTMCell' as a built-in Keras object. Consider renaming <class 'keras.layers.recurrent.LSTMCell'> to avoid naming conflicts when loading with `tf.keras.models.load_model`. If renaming is not possible, pass the object in the `custom_objects` parameter of the load function.\n"
     ]
    }
   ],
   "source": [
    "model.save('../models/lstm_model')"
   ]
  }
 ],
 "metadata": {
  "kernelspec": {
   "display_name": "Python 3 (ipykernel)",
   "language": "python",
   "name": "python3"
  },
  "language_info": {
   "codemirror_mode": {
    "name": "ipython",
    "version": 3
   },
   "file_extension": ".py",
   "mimetype": "text/x-python",
   "name": "python",
   "nbconvert_exporter": "python",
   "pygments_lexer": "ipython3",
   "version": "3.9.13"
  }
 },
 "nbformat": 4,
 "nbformat_minor": 5
}
